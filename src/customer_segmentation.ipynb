{
 "cells": [
  {
   "cell_type": "code",
   "id": "initial_id",
   "metadata": {
    "collapsed": true,
    "ExecuteTime": {
     "end_time": "2025-04-20T13:06:26.510398700Z",
     "start_time": "2025-04-20T12:21:07.190417Z"
    }
   },
   "source": [
    "import warnings\n",
    "\n",
    "import pandas as pd\n",
    "import plotly.express as px\n",
    "from sklearn.cluster import KMeans\n",
    "from sklearn.decomposition import PCA\n",
    "from sklearn.metrics import silhouette_score\n",
    "\n",
    "from src.files_io import download_and_extract_raw_datasets\n",
    "from src.preprocessing import preprocess_data"
   ],
   "outputs": [],
   "execution_count": 23
  },
  {
   "metadata": {
    "ExecuteTime": {
     "end_time": "2025-04-20T11:41:00.342620Z",
     "start_time": "2025-04-20T11:41:00.337367Z"
    }
   },
   "cell_type": "code",
   "source": "download_and_extract_raw_datasets()",
   "id": "931767af1f026bdb",
   "outputs": [
    {
     "name": "stdout",
     "output_type": "stream",
     "text": [
      "Raw Datasets already exists.\n"
     ]
    }
   ],
   "execution_count": 8
  },
  {
   "metadata": {
    "ExecuteTime": {
     "end_time": "2025-04-20T11:41:57.922653Z",
     "start_time": "2025-04-20T11:41:01.458148Z"
    }
   },
   "cell_type": "code",
   "source": [
    "warnings.simplefilter(action=\"ignore\", category=pd.errors.DtypeWarning)\n",
    "\n",
    "population = pd.read_csv(\"../data/Udacity_AZDIAS_052018.csv\", sep=\";\")\n",
    "population.columns = population.columns.str.lower()\n",
    "\n",
    "customer = pd.read_csv(\"../data/Udacity_CUSTOMERS_052018.csv\", sep=\";\")\n",
    "customer.columns = customer.columns.str.lower()\n",
    "\n",
    "warnings.resetwarnings()"
   ],
   "id": "a21df1d7e868f6e",
   "outputs": [],
   "execution_count": 9
  },
  {
   "metadata": {
    "ExecuteTime": {
     "end_time": "2025-04-20T11:45:45.777013Z",
     "start_time": "2025-04-20T11:45:17.260742Z"
    }
   },
   "cell_type": "code",
   "source": "population, customer = preprocess_data(population, customer, names=(\"population\", \"customer\"))",
   "id": "41e90d13956dfc07",
   "outputs": [
    {
     "name": "stdout",
     "output_type": "stream",
     "text": [
      "Metadata loaded.\n",
      "Metadata rectified.\n",
      "Feature config loaded.\n",
      "\n",
      "Start cleaning population dataset...\n",
      "Removed 3 irrelevant features.\n",
      "Converted 324 unknown values from the meta information to null in the dataset.\n",
      "Converted 8 invalid values to null in the dataset.\n",
      "Removed 105801 records with over 33.0% missing feature values.\n",
      "Removed 16 features with over 20.0% missing values:\n",
      "alter_hh, alter_kind3, alter_kind4, alterskategorie_fein, d19_banken_online_quote_12, d19_gesamt_online_quote_12, d19_konsumtyp, d19_lotto, d19_soziales, d19_telko_online_quote_12, d19_versand_online_quote_12, d19_versi_online_quote_12, extsel992, geburtsjahr, kba05_baumax, kk_kundentyp\n",
      "Replaced missing values in 129 features.\n",
      "Extracted decade and cultural orientation as separate features.\n",
      "Extracted wealth and life phase as separate features.\n",
      "Removed 51 redundant features.\n",
      "Removed 24 uncertain features.\n",
      "\n",
      "Start cleaning customer dataset...\n",
      "Removed 6 irrelevant features.\n",
      "Converted 324 unknown values from the meta information to null in the dataset.\n",
      "Converted 7 invalid values to null in the dataset.\n",
      "Removed 51281 records with over 33.0% missing feature values.\n",
      "Removed 6 features with over 20.0% missing values:\n",
      "alter_kind3, alter_kind4, extsel992, geburtsjahr, kba05_baumax, kk_kundentyp\n",
      "Replaced missing values in 136 features.\n",
      "Extracted decade and cultural orientation as separate features.\n",
      "Extracted wealth and life phase as separate features.\n",
      "Removed 51 redundant features.\n",
      "Removed 24 uncertain features.\n",
      "\n",
      "Start encoding population dataset...\n",
      "Encoded 10 binary features.\n",
      "One-hot encoded 12 categorical features into 100 dummy variables.\n",
      "\n",
      "Start encoding customer dataset...\n",
      "Encoded 10 binary features.\n",
      "One-hot encoded 12 categorical features into 99 dummy variables.\n",
      "\n",
      "Aligned categorical features after one-hot encoding.\n",
      "Aligned numerical features.\n",
      "\n",
      "Start scaling datasets...\n",
      "Scaled 252 numeric features from population dataset.\n",
      "Scaled 252 numeric features from customer dataset.\n",
      "Finish preprocessing for both datasets.\n"
     ]
    }
   ],
   "execution_count": 11
  },
  {
   "metadata": {
    "ExecuteTime": {
     "end_time": "2025-04-20T11:48:02.070546Z",
     "start_time": "2025-04-20T11:48:02.062588Z"
    }
   },
   "cell_type": "code",
   "source": [
    "population[\"is_customer\"] = False\n",
    "customer[\"is_customer\"] = True"
   ],
   "id": "b3f91ec9baa048b9",
   "outputs": [],
   "execution_count": 12
  },
  {
   "metadata": {
    "ExecuteTime": {
     "end_time": "2025-04-20T12:18:54.963975Z",
     "start_time": "2025-04-20T12:18:53.168033Z"
    }
   },
   "cell_type": "code",
   "source": "df = pd.concat([population, customer], ignore_index=True)",
   "id": "c9557e746312cdbc",
   "outputs": [],
   "execution_count": 21
  },
  {
   "metadata": {
    "ExecuteTime": {
     "end_time": "2025-04-20T13:07:28.371987Z",
     "start_time": "2025-04-20T13:07:19.999056Z"
    }
   },
   "cell_type": "code",
   "source": [
    "explained_variance = 0.8\n",
    "pca = PCA(n_components=explained_variance, random_state=42)\n",
    "\n",
    "pca_data = pca.fit_transform(df.drop(columns=[\"is_customer\"]))\n",
    "print(f\"Number of PCA components retained: {pca.n_components_}\")\n",
    "\n",
    "pca_df = pd.DataFrame(\n",
    "    data=pca_data,\n",
    "    columns=[f\"principal_component_{i+1}\" for i in range(pca.n_components_)]\n",
    ")\n",
    "\n",
    "combined_pca_df = pd.concat([pca_df, df[\"is_customer\"]], axis=1)"
   ],
   "id": "94ba905351400eec",
   "outputs": [
    {
     "name": "stdout",
     "output_type": "stream",
     "text": [
      "Number of PCA components retained: 110\n"
     ]
    }
   ],
   "execution_count": 25
  },
  {
   "metadata": {
    "ExecuteTime": {
     "end_time": "2025-04-20T13:07:45.933049Z",
     "start_time": "2025-04-20T13:07:32.288987Z"
    }
   },
   "cell_type": "code",
   "source": [
    "pca_features = combined_pca_df.drop(columns=[\"is_customer\"])\n",
    "kmeans = KMeans(n_clusters=6, init=\"k-means++\", random_state=42)\n",
    "cluster_labels = kmeans.fit_predict(pca_features)"
   ],
   "id": "24b6de6b0b25b47e",
   "outputs": [],
   "execution_count": 26
  }
 ],
 "metadata": {
  "kernelspec": {
   "display_name": "Python 3",
   "language": "python",
   "name": "python3"
  },
  "language_info": {
   "codemirror_mode": {
    "name": "ipython",
    "version": 2
   },
   "file_extension": ".py",
   "mimetype": "text/x-python",
   "name": "python",
   "nbconvert_exporter": "python",
   "pygments_lexer": "ipython2",
   "version": "2.7.6"
  }
 },
 "nbformat": 4,
 "nbformat_minor": 5
}
