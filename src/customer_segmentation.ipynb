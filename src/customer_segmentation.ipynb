{
 "cells": [
  {
   "cell_type": "code",
   "id": "initial_id",
   "metadata": {
    "collapsed": true,
    "ExecuteTime": {
     "end_time": "2025-04-25T20:44:34.919460Z",
     "start_time": "2025-04-25T20:44:32.878177Z"
    }
   },
   "source": [
    "import json\n",
    "from typing import List\n",
    "\n",
    "import matplotlib.pyplot as plt\n",
    "import numpy as np\n",
    "import pandas as pd\n",
    "from sklearn.cluster import KMeans\n",
    "from sklearn.decomposition import PCA\n",
    "from sklearn.metrics import silhouette_score\n",
    "from tqdm import tqdm\n",
    "\n",
    "from src.files_io import download_and_extract_raw_datasets, load_raw_population_datasets\n",
    "from src.preprocessing import preprocess_data"
   ],
   "outputs": [],
   "execution_count": 1
  },
  {
   "metadata": {},
   "cell_type": "markdown",
   "source": [
    "# Load & Preprocess Data\n",
    "We start by loading the datasets with the demographic data and preprocess them with the developed processing rules from the data exploration notebook."
   ],
   "id": "ee2e3ec192ab260e"
  },
  {
   "metadata": {
    "ExecuteTime": {
     "end_time": "2025-04-25T20:44:35.059668Z",
     "start_time": "2025-04-25T20:44:35.055730Z"
    }
   },
   "cell_type": "code",
   "source": "download_and_extract_raw_datasets()",
   "id": "931767af1f026bdb",
   "outputs": [
    {
     "name": "stdout",
     "output_type": "stream",
     "text": [
      "Raw Datasets already exists.\n"
     ]
    }
   ],
   "execution_count": 2
  },
  {
   "metadata": {
    "ExecuteTime": {
     "end_time": "2025-04-25T20:45:10.547035Z",
     "start_time": "2025-04-25T20:44:35.126345Z"
    }
   },
   "cell_type": "code",
   "source": "population_raw, customer_raw = load_raw_population_datasets()",
   "id": "a21df1d7e868f6e",
   "outputs": [
    {
     "name": "stdout",
     "output_type": "stream",
     "text": [
      "Population datasets loaded.\n"
     ]
    }
   ],
   "execution_count": 3
  },
  {
   "metadata": {
    "ExecuteTime": {
     "end_time": "2025-04-25T20:45:43.318111Z",
     "start_time": "2025-04-25T20:45:10.660801Z"
    }
   },
   "cell_type": "code",
   "source": "population, customer = preprocess_data(population_raw, customer_raw, names=(\"population\", \"customer\"))",
   "id": "41e90d13956dfc07",
   "outputs": [
    {
     "name": "stdout",
     "output_type": "stream",
     "text": [
      "Metadata loaded.\n",
      "Metadata rectified.\n",
      "Feature config loaded.\n",
      "\n",
      "Start cleaning population dataset...\n",
      "Removed 3 irrelevant features.\n",
      "Converted 324 unknown values from the meta information to null in the dataset.\n",
      "Converted 8 invalid values to null in the dataset.\n",
      "Removed 105801 records with over 33.0% missing feature values.\n",
      "Removed 16 features with over 20.0% missing values:\n",
      "alter_hh, alter_kind3, alter_kind4, alterskategorie_fein, d19_banken_online_quote_12, d19_gesamt_online_quote_12, d19_konsumtyp, d19_lotto, d19_soziales, d19_telko_online_quote_12, d19_versand_online_quote_12, d19_versi_online_quote_12, extsel992, geburtsjahr, kba05_baumax, kk_kundentyp\n",
      "Replaced missing values in 129 features.\n",
      "Extracted decade and cultural orientation as separate features.\n",
      "Extracted wealth and life phase as separate features.\n",
      "Removed 51 redundant features.\n",
      "Removed 24 uncertain features.\n",
      "\n",
      "Start cleaning customer dataset...\n",
      "Removed 6 irrelevant features.\n",
      "Converted 324 unknown values from the meta information to null in the dataset.\n",
      "Converted 7 invalid values to null in the dataset.\n",
      "Removed 51281 records with over 33.0% missing feature values.\n",
      "Removed 6 features with over 20.0% missing values:\n",
      "alter_kind3, alter_kind4, extsel992, geburtsjahr, kba05_baumax, kk_kundentyp\n",
      "Replaced missing values in 136 features.\n",
      "Extracted decade and cultural orientation as separate features.\n",
      "Extracted wealth and life phase as separate features.\n",
      "Removed 51 redundant features.\n",
      "Removed 24 uncertain features.\n",
      "\n",
      "Start encoding population dataset...\n",
      "Encoded 10 binary features.\n",
      "One-hot encoded 11 categorical features into 95 dummy variables.\n",
      "\n",
      "Start encoding customer dataset...\n",
      "Encoded 10 binary features.\n",
      "One-hot encoded 11 categorical features into 94 dummy variables.\n",
      "\n",
      "Aligned categorical features after one-hot encoding.\n",
      "Aligned numerical features.\n",
      "\n",
      "Start scaling datasets...\n",
      "Scaled 253 numeric features from population dataset.\n",
      "Scaled 253 numeric features from customer dataset.\n",
      "Finish preprocessing for both datasets.\n"
     ]
    }
   ],
   "execution_count": 4
  },
  {
   "metadata": {},
   "cell_type": "markdown",
   "source": [
    "For the upcoming PCA and K-Means clustering we need to combine both preprocessed datasets.\n",
    "\n",
    "To be able to distinguish between customers and general population, we add a column `is_customer`."
   ],
   "id": "c090250d30d4cae1"
  },
  {
   "metadata": {
    "ExecuteTime": {
     "end_time": "2025-04-25T20:45:43.383037Z",
     "start_time": "2025-04-25T20:45:43.377773Z"
    }
   },
   "cell_type": "code",
   "source": [
    "population[\"is_customer\"] = False\n",
    "customer[\"is_customer\"] = True"
   ],
   "id": "b3f91ec9baa048b9",
   "outputs": [],
   "execution_count": 5
  },
  {
   "metadata": {
    "ExecuteTime": {
     "end_time": "2025-04-25T20:45:43.935484Z",
     "start_time": "2025-04-25T20:45:43.430161Z"
    }
   },
   "cell_type": "code",
   "source": "preprocessed_df = pd.concat([population, customer], ignore_index=True)",
   "id": "c9557e746312cdbc",
   "outputs": [],
   "execution_count": 6
  },
  {
   "metadata": {},
   "cell_type": "markdown",
   "source": "The first clustering approach with the envisaged processing rules has shown, that there is too much noise in the data, so the clustering results were unreliable. Better results were achieved by removing the `kba` and `d19` features, which heavily decreases the dimensionality. More details are below in the silhouette score section.",
   "id": "77a213091f211898"
  },
  {
   "metadata": {
    "ExecuteTime": {
     "end_time": "2025-04-25T20:45:44.424Z",
     "start_time": "2025-04-25T20:45:44.010796Z"
    }
   },
   "cell_type": "code",
   "source": "preprocessed_df = preprocessed_df.drop(columns=[col for col in preprocessed_df.columns if col.startswith(\"kba\") or col.startswith(\"d19\")])",
   "id": "30af590d101b1a73",
   "outputs": [],
   "execution_count": 7
  },
  {
   "metadata": {},
   "cell_type": "markdown",
   "source": [
    "# Principal Component Analysis\n",
    "Principal Component Analysis (PCA) is a dimensionality reduction technique that transforms high-dimensional data into a lower-dimensional form while preserving as much variance as possible.\n",
    "\n",
    "PCA is essential for K-Means clustering, because it helps eliminate noise and irrelevant features that can mislead the clustering process. This is why PCA can improve the accuracy and stability of K-Means clustering results.\n",
    "\n",
    "The explained variance in PCA refers to the amount of the total variance in the data that is captured by each principal component. It indicates how much information from the original data is preserved by that component.\n",
    "\n",
    "I initially used 90% explained variance, but this resulted in poor cluster quality, as indicated by a low silhouette score. For our customer segmentation it is essential to have a reliable cluster quality, so I prioritized well-separated, interpretable clusters over preserving variance. Therefore, I gradually reduced the explained variance until the silhouette score improved sufficiently. An explained variance of 50% yielded 7 principal components, which proved effective for the customer segmentation."
   ],
   "id": "f39686aada22a46f"
  },
  {
   "metadata": {
    "ExecuteTime": {
     "end_time": "2025-04-25T20:45:45.824791Z",
     "start_time": "2025-04-25T20:45:44.507901Z"
    }
   },
   "cell_type": "code",
   "source": [
    "explained_variance = 0.5\n",
    "pca = PCA(n_components=explained_variance, random_state=42)\n",
    "\n",
    "pca_data = pca.fit_transform(preprocessed_df.drop(columns=[\"is_customer\"]))\n",
    "print(f\"Number of PCA components retained: {pca.n_components_}\")\n",
    "\n",
    "pca_df = pd.DataFrame(\n",
    "    data=pca_data,\n",
    "    columns=[f\"principal_component_{i+1}\" for i in range(pca.n_components_)]\n",
    ")\n",
    "\n",
    "pca_df = pd.concat([pca_df, preprocessed_df[\"is_customer\"]], axis=1)"
   ],
   "id": "94ba905351400eec",
   "outputs": [
    {
     "name": "stdout",
     "output_type": "stream",
     "text": [
      "Number of PCA components retained: 7\n"
     ]
    }
   ],
   "execution_count": 8
  },
  {
   "metadata": {
    "ExecuteTime": {
     "end_time": "2025-04-25T20:45:47.332565Z",
     "start_time": "2025-04-25T20:45:45.975432Z"
    }
   },
   "cell_type": "code",
   "source": [
    "def plot_principal_components_by_explained_variance(df: pd.DataFrame) -> None:\n",
    "    \"\"\"\n",
    "    Plots principal components by explained variance\n",
    "\n",
    "    :param df: Preprocessed dataset before applying PCA\n",
    "    \"\"\"\n",
    "    pca_plot = PCA(random_state=42)\n",
    "    pca_plot.fit(df.drop(columns=[\"is_customer\"]))\n",
    "\n",
    "    fig_df = pd.DataFrame({\n",
    "        \"Principal Component\": range(1, len(pca_plot.explained_variance_ratio_) + 1),\n",
    "        \"Cumulative Variance\": np.cumsum(pca_plot.explained_variance_ratio_)\n",
    "    })\n",
    "\n",
    "    plt.figure(figsize=(15, 4))\n",
    "    plt.plot(fig_df[\"Principal Component\"], fig_df[\"Cumulative Variance\"], color=\"royalblue\", linewidth=2)\n",
    "\n",
    "    plt.title(\"Cumulative Explained Variance\")\n",
    "    plt.xlabel(\"# Principal Components\")\n",
    "    plt.ylabel(\"Explained Variance\")\n",
    "\n",
    "    plt.show()\n",
    "\n",
    "\n",
    "plot_principal_components_by_explained_variance(preprocessed_df)"
   ],
   "id": "1c3846a861c6682d",
   "outputs": [
    {
     "data": {
      "text/plain": [
       "<Figure size 1500x400 with 1 Axes>"
      ],
      "image/png": "[encoded data removed]"
     },
     "metadata": {},
     "output_type": "display_data"
    }
   ],
   "execution_count": 9
  },
  {
   "metadata": {},
   "cell_type": "markdown",
   "source": [
    "# K-Means Clustering\n",
    "For the clustering we will use K-Means, which partitions data into a predefined number of clusters by minimizing the distance between data points and their respective cluster centroids. It iteratively updates the centroids and reassigns points until the clusters stabilize. K-Means is a good choice for our customer segmentation because it is simple, efficient on large datasets, and often produces well-separated, interpretable clusters.\n",
    "\n",
    "## Find Optimal K\n",
    "Since K-Means requires a predefined number of clusters, it is important to determine the optimal number for our dataset.\n",
    "\n",
    "Common techniques for this are the elbow method and the silhouette score. To apply these techniques, we first have to test different numbers of clusters and collect the corresponding results.\n",
    "\n",
    "The computation of the silhouette score is computationally expensive, so we have to take a sample of 5000 individuals."
   ],
   "id": "cb82402e6fb4c86c"
  },
  {
   "metadata": {
    "ExecuteTime": {
     "end_time": "2025-04-25T20:45:47.446079Z",
     "start_time": "2025-04-25T20:45:47.432949Z"
    }
   },
   "cell_type": "code",
   "source": "pca_features = pca_df.drop(columns=[\"is_customer\"])",
   "id": "5b2ec5d61b41b28",
   "outputs": [],
   "execution_count": 10
  },
  {
   "metadata": {
    "ExecuteTime": {
     "end_time": "2025-04-25T20:46:09.645351Z",
     "start_time": "2025-04-25T20:45:47.531186Z"
    }
   },
   "cell_type": "code",
   "source": [
    "inertia = []\n",
    "silhouette_scores = []\n",
    "n_clusters_range = range(2, 16, 2)\n",
    "\n",
    "for n_clusters in tqdm(n_clusters_range):\n",
    "    kmeans = KMeans(n_clusters=n_clusters, init=\"k-means++\", random_state=42)\n",
    "    cluster_labels = kmeans.fit_predict(pca_features)\n",
    "    inertia.append(kmeans.inertia_)\n",
    "    silhouette_avg = silhouette_score(pca_features, cluster_labels, sample_size=5000)\n",
    "    silhouette_scores.append(silhouette_avg)"
   ],
   "id": "24b6de6b0b25b47e",
   "outputs": [
    {
     "name": "stderr",
     "output_type": "stream",
     "text": [
      "100%|██████████| 7/7 [00:22<00:00,  3.16s/it]\n"
     ]
    }
   ],
   "execution_count": 11
  },
  {
   "metadata": {},
   "cell_type": "markdown",
   "source": [
    "### Elbow Method\n",
    "For the elbow method we have to plot the within-cluster sum of squares (WCSS or Inertia) against the number of clusters and identifying the \"elbow point\".\n",
    "\n",
    "In our case the \"elbow point\" was hardly distinguishable."
   ],
   "id": "1ad4f049315671bd"
  },
  {
   "metadata": {
    "ExecuteTime": {
     "end_time": "2025-04-25T20:46:09.932326Z",
     "start_time": "2025-04-25T20:46:09.759090Z"
    }
   },
   "cell_type": "code",
   "source": [
    "def plot_n_clusters_curve(n_clusters_range: range, measure_data: List[float], measure_name: str) -> None:\n",
    "    \"\"\"\n",
    "    Plots specified measure for each computed number of clusters\n",
    "\n",
    "    :param n_clusters_range: Range of computed number of clusters\n",
    "    :param measure_data: Data of the measure\n",
    "    :param measure_name: Name of the measure\n",
    "    \"\"\"\n",
    "    data = pd.DataFrame({\n",
    "        \"Number of Clusters\": n_clusters_range,\n",
    "        measure_name: measure_data\n",
    "    })\n",
    "\n",
    "    plt.figure(figsize=(15, 4))\n",
    "    plt.plot(data[\"Number of Clusters\"], data[measure_name], color=\"royalblue\", linewidth=2, marker=\"o\", markersize=5)\n",
    "\n",
    "    plt.title(f\"{measure_name} for Optimal K\")\n",
    "    plt.xlabel(\"Number of Clusters\")\n",
    "    plt.ylabel(measure_name)\n",
    "\n",
    "    plt.show()\n",
    "\n",
    "plot_n_clusters_curve(n_clusters_range, inertia, \"Inertia\")"
   ],
   "id": "3196896ff5edd3c0",
   "outputs": [
    {
     "data": {
      "text/plain": [
       "<Figure size 1500x400 with 1 Axes>"
      ],
      "image/png": "[encoded data removed]"
     },
     "metadata": {},
     "output_type": "display_data"
    }
   ],
   "execution_count": 12
  },
  {
   "metadata": {},
   "cell_type": "markdown",
   "source": [
    "### Silhouette Score\n",
    "The silhouette score measures how similar a data point is to its own cluster compared to other clusters. Higher scores indicating better-defined and more separated clusters."
   ],
   "id": "3202c18b9e8b8dbd"
  },
  {
   "metadata": {
    "ExecuteTime": {
     "end_time": "2025-04-25T20:46:10.191658Z",
     "start_time": "2025-04-25T20:46:10.036663Z"
    }
   },
   "cell_type": "code",
   "source": "plot_n_clusters_curve(n_clusters_range, silhouette_scores, \"Silhouette Score\")",
   "id": "b97d7ac19f375ab6",
   "outputs": [
    {
     "data": {
      "text/plain": [
       "<Figure size 1500x400 with 1 Axes>"
      ],
      "image/png": "[encoded data removed]"
     },
     "metadata": {},
     "output_type": "display_data"
    }
   ],
   "execution_count": 13
  },
  {
   "metadata": {},
   "cell_type": "markdown",
   "source": [
    "We reached the highest scores for 2 and 8 clusters. For our customer segmentation we take the more granular clusters.\n",
    "\n",
    "After finally training the K-Means model with 8 clusters, we assign the labels to our combined dataset.\n",
    "\n"
   ],
   "id": "6e569285be7d887"
  },
  {
   "metadata": {
    "ExecuteTime": {
     "end_time": "2025-04-25T20:46:10.288248Z",
     "start_time": "2025-04-25T20:46:10.284446Z"
    }
   },
   "cell_type": "code",
   "source": "optimal_k = 8",
   "id": "c62be39f11dbfd91",
   "outputs": [],
   "execution_count": 14
  },
  {
   "metadata": {
    "ExecuteTime": {
     "end_time": "2025-04-25T20:46:11.781294Z",
     "start_time": "2025-04-25T20:46:10.386889Z"
    }
   },
   "cell_type": "code",
   "source": [
    "kmeans = KMeans(n_clusters=optimal_k, init=\"k-means++\", random_state=42)\n",
    "cluster_labels = kmeans.fit_predict(pca_features)\n",
    "\n",
    "pca_df[\"cluster\"] = cluster_labels"
   ],
   "id": "358e6d2bf3706439",
   "outputs": [],
   "execution_count": 15
  },
  {
   "metadata": {},
   "cell_type": "markdown",
   "source": [
    "# Cluster Analysis\n",
    "## Customer Proportions\n",
    "We have to identify which clusters have a high proportion of customers to gain insights about the customer characteristics based on these customer-heavy clusters.\n",
    "\n",
    "If we look at the distribution of our clusters, we notice that the cluster number 4 stands out with a proportion of 37%."
   ],
   "id": "7e34128a111d4004"
  },
  {
   "metadata": {
    "ExecuteTime": {
     "end_time": "2025-04-25T20:46:12.301446Z",
     "start_time": "2025-04-25T20:46:11.896295Z"
    }
   },
   "cell_type": "code",
   "source": [
    "def plot_customer_distribution_by_cluster(pca_df: pd.DataFrame) -> None:\n",
    "    \"\"\"\n",
    "    Plots the customer distribution by each cluster\n",
    "\n",
    "    :param pca_df: Dataset after PCA applied\n",
    "    \"\"\"\n",
    "    cluster_counts = pca_df.groupby([\"cluster\", \"is_customer\"]).size().reset_index(name=\"count\")\n",
    "\n",
    "    cluster_counts = cluster_counts.pivot(index=\"cluster\", columns=\"is_customer\", values=\"count\").fillna(0)\n",
    "\n",
    "    ax = cluster_counts.plot(kind=\"bar\", stacked=True, figsize=(15, 4), color=[\"royalblue\", \"indianred\"])\n",
    "\n",
    "    plt.title(\"Customer vs Non-Customer Distribution by Cluster\")\n",
    "    plt.xlabel(\"Cluster\")\n",
    "    plt.ylabel(\"Number of Individuals\")\n",
    "    plt.xticks(rotation=0)\n",
    "\n",
    "    plt.legend(title=\"Is Customer\", labels=cluster_counts.columns)\n",
    "\n",
    "    plt.show()\n",
    "\n",
    "\n",
    "plot_customer_distribution_by_cluster(pca_df)"
   ],
   "id": "a0223208db56118e",
   "outputs": [
    {
     "data": {
      "text/plain": [
       "<Figure size 1500x400 with 1 Axes>"
      ],
      "image/png": "[encoded data removed]"
     },
     "metadata": {},
     "output_type": "display_data"
    }
   ],
   "execution_count": 16
  },
  {
   "metadata": {
    "ExecuteTime": {
     "end_time": "2025-04-25T20:46:12.536552Z",
     "start_time": "2025-04-25T20:46:12.470513Z"
    }
   },
   "cell_type": "code",
   "source": [
    "customer_cluster_ratios = pca_df.groupby(\"cluster\", as_index=False)[\"is_customer\"].agg([\"count\", \"sum\"])\n",
    "customer_cluster_ratios[\"customer_ratio\"] = round(customer_cluster_ratios[\"sum\"] / customer_cluster_ratios[\"count\"], 2)\n",
    "customer_cluster_ratios.sort_values(\"customer_ratio\", ascending=False).head()"
   ],
   "id": "aa8bab201b18ed8f",
   "outputs": [
    {
     "data": {
      "text/plain": [
       "   cluster   count    sum  customer_ratio\n",
       "4        4  180039  66722            0.37\n",
       "0        0  153387  26444            0.17\n",
       "2        2  117098  16987            0.15\n",
       "1        1   58758   8649            0.15\n",
       "5        5  111920  14245            0.13"
      ],
      "text/html": [
       "<div>\n",
       "<style scoped>\n",
       "    .dataframe tbody tr th:only-of-type {\n",
       "        vertical-align: middle;\n",
       "    }\n",
       "\n",
       "    .dataframe tbody tr th {\n",
       "        vertical-align: top;\n",
       "    }\n",
       "\n",
       "    .dataframe thead th {\n",
       "        text-align: right;\n",
       "    }\n",
       "</style>\n",
       "<table border=\"1\" class=\"dataframe\">\n",
       "  <thead>\n",
       "    <tr style=\"text-align: right;\">\n",
       "      <th></th>\n",
       "      <th>cluster</th>\n",
       "      <th>count</th>\n",
       "      <th>sum</th>\n",
       "      <th>customer_ratio</th>\n",
       "    </tr>\n",
       "  </thead>\n",
       "  <tbody>\n",
       "    <tr>\n",
       "      <th>4</th>\n",
       "      <td>4</td>\n",
       "      <td>180039</td>\n",
       "      <td>66722</td>\n",
       "      <td>0.37</td>\n",
       "    </tr>\n",
       "    <tr>\n",
       "      <th>0</th>\n",
       "      <td>0</td>\n",
       "      <td>153387</td>\n",
       "      <td>26444</td>\n",
       "      <td>0.17</td>\n",
       "    </tr>\n",
       "    <tr>\n",
       "      <th>2</th>\n",
       "      <td>2</td>\n",
       "      <td>117098</td>\n",
       "      <td>16987</td>\n",
       "      <td>0.15</td>\n",
       "    </tr>\n",
       "    <tr>\n",
       "      <th>1</th>\n",
       "      <td>1</td>\n",
       "      <td>58758</td>\n",
       "      <td>8649</td>\n",
       "      <td>0.15</td>\n",
       "    </tr>\n",
       "    <tr>\n",
       "      <th>5</th>\n",
       "      <td>5</td>\n",
       "      <td>111920</td>\n",
       "      <td>14245</td>\n",
       "      <td>0.13</td>\n",
       "    </tr>\n",
       "  </tbody>\n",
       "</table>\n",
       "</div>"
      ]
     },
     "execution_count": 17,
     "metadata": {},
     "output_type": "execute_result"
    }
   ],
   "execution_count": 17
  },
  {
   "metadata": {
    "ExecuteTime": {
     "end_time": "2025-04-23T15:50:02.022333Z",
     "start_time": "2025-04-23T15:50:01.986451Z"
    }
   },
   "cell_type": "markdown",
   "source": [
    "## Principal Components\n",
    "First, we examine the customer-heavy cluster by its principal components to get an idea of how the cluster is positioned along each principal component.\n",
    "\n",
    "Component #1 is clearly above the average, while component #3 is noticeably below. We will focus on these two components."
   ],
   "id": "1498079a8149a66c"
  },
  {
   "metadata": {
    "ExecuteTime": {
     "end_time": "2025-04-25T20:46:12.773564Z",
     "start_time": "2025-04-25T20:46:12.735470Z"
    }
   },
   "cell_type": "code",
   "source": [
    "cluster_id = 4\n",
    "cluster_df = pca_df[pca_df[\"cluster\"] == cluster_id]\n",
    "\n",
    "pc_means = cluster_df[[col for col in cluster_df.columns if col.startswith(\"principal_component\")]].mean()\n",
    "pc_means.sort_values(ascending=False)"
   ],
   "id": "725970144c10f60b",
   "outputs": [
    {
     "data": {
      "text/plain": [
       "principal_component_1    3.292379\n",
       "principal_component_7    0.126126\n",
       "principal_component_4   -0.013939\n",
       "principal_component_6   -0.162057\n",
       "principal_component_5   -0.257828\n",
       "principal_component_2   -0.297350\n",
       "principal_component_3   -1.991794\n",
       "dtype: float64"
      ]
     },
     "execution_count": 18,
     "metadata": {},
     "output_type": "execute_result"
    }
   ],
   "execution_count": 18
  },
  {
   "metadata": {},
   "cell_type": "markdown",
   "source": [
    "Each principal component is a linear combination of the original variables. The loadings indicate how much each original variable contributes to each principal component. The sign of the loading (positive or negative) indicates the direction of the relationship.\n",
    "\n",
    "The loadings of component #1 indicates relationships to these features:\n",
    "- `lp_status_fein` - higher social status\n",
    "- `finanz_minimalist` - higher financial interest\n",
    "- `mobi_regio` - lower mobility\n",
    "- `plz8_antg1` - higher share of 1-2 family houses\n",
    "- `plz8_antg2` - less share of 3-5 family houses\n",
    "- `konsumnaehe` - higher distance from building to Point of Sale\n",
    "- `innenstadt` - higher distance to city center\n",
    "- `zabeotyp` - consume more smart and green energy\n",
    "\n",
    "This cluster of individuals could possibly be described as affluent, stable homeowners who live in rural or suburban areas. They exhibit higher social status through homeownership and top earnings, demonstrate a strong financial awareness, and prefer single-family homes. With lower mobility and greater distances from urban centers and points of sale, they value a quieter lifestyle. Additionally, they show a commitment to sustainability by consuming more smart and green energy, reflecting their environmentally conscious mindset."
   ],
   "id": "7af0428b25731e4"
  },
  {
   "metadata": {
    "ExecuteTime": {
     "end_time": "2025-04-25T20:46:13.593285Z",
     "start_time": "2025-04-25T20:46:13.007834Z"
    }
   },
   "cell_type": "code",
   "source": [
    "original_feature_names = preprocessed_df.drop(columns=\"is_customer\").columns\n",
    "\n",
    "loadings_pc_1 = pd.Series(pca.components_[0], index=original_feature_names)\n",
    "loadings_pc_1[abs(loadings_pc_1) > 0.15].sort_values(ascending=False)"
   ],
   "id": "5e086af77d099979",
   "outputs": [
    {
     "data": {
      "text/plain": [
       "lp_status_fein        0.244576\n",
       "finanz_minimalist     0.242410\n",
       "mobi_regio            0.240086\n",
       "plz8_antg1            0.232154\n",
       "konsumnaehe           0.178109\n",
       "plz8_gbz              0.165440\n",
       "innenstadt            0.161343\n",
       "firmendichte          0.161011\n",
       "plz8_antg2           -0.159213\n",
       "zabeotyp             -0.164315\n",
       "finanz_hausbauer     -0.172783\n",
       "ortsgr_kls9          -0.191947\n",
       "cameo_deug_2015      -0.217746\n",
       "plz8_baumax          -0.219953\n",
       "plz8_antg4           -0.221000\n",
       "hh_einkommen_score   -0.223824\n",
       "plz8_antg3           -0.228013\n",
       "dtype: float64"
      ]
     },
     "execution_count": 19,
     "metadata": {},
     "output_type": "execute_result"
    }
   ],
   "execution_count": 19
  },
  {
   "metadata": {},
   "cell_type": "markdown",
   "source": [
    "The `semio` features dominate component #3, which describes different personal affinities:\n",
    "- `semio_kaem` - less fightful attitude\n",
    "- `semio_dom` - less dominant minded\n",
    "- `semio_krit` - less critical minded\n",
    "- `semio_erl` - less eventful orientated\n",
    "- `semio_rat` - less rational minded\n",
    "- `semio_kult` - more cultural minded\n",
    "- `semio_soz` - more social minded\n",
    "- `semio_fam` - more familiar minded\n",
    "- `semio_vert` - more dreamily\n",
    "\n",
    "This cluster of individuals could possibly be characterized as more gentle and community-oriented, exhibiting a softer approach to life. They tend to have a less confrontational and dominant attitude, preferring harmony over conflict. With a lower emphasis on critical thinking and rationality, they are more inclined towards cultural appreciation and social connections. Their focus on family and relationships suggests a strong sense of familiarity and belonging."
   ],
   "id": "f8a9b7ba9d5729ff"
  },
  {
   "metadata": {
    "ExecuteTime": {
     "end_time": "2025-04-25T20:46:14.187392Z",
     "start_time": "2025-04-25T20:46:14.171187Z"
    }
   },
   "cell_type": "code",
   "source": [
    "loadings_pc_3 = pd.Series(pca.components_[2], index=original_feature_names)\n",
    "loadings_pc_3[abs(loadings_pc_3) > 0.15].sort_values(ascending=False)"
   ],
   "id": "10cf1e07d1462885",
   "outputs": [
    {
     "data": {
      "text/plain": [
       "semio_kaem        0.351897\n",
       "semio_dom         0.315852\n",
       "semio_krit        0.304208\n",
       "semio_erl         0.220262\n",
       "anrede_kz         0.187897\n",
       "semio_rat         0.185826\n",
       "finanz_anleger    0.181347\n",
       "semio_kult       -0.265564\n",
       "semio_soz        -0.272971\n",
       "semio_fam        -0.275055\n",
       "semio_vert       -0.350240\n",
       "dtype: float64"
      ]
     },
     "execution_count": 20,
     "metadata": {},
     "output_type": "execute_result"
    }
   ],
   "execution_count": 20
  },
  {
   "metadata": {
    "ExecuteTime": {
     "end_time": "2025-04-23T15:34:23.141434Z",
     "start_time": "2025-04-23T15:34:23.131734Z"
    }
   },
   "cell_type": "markdown",
   "source": [
    "## Original Data\n",
    "Another possibility to gain insights is to analyze the original data values. We can compare the values of the customer-heavy cluster with the total data to discover specific traits of that cluster.\n",
    "\n",
    "To interpret the values correctly, we need the cleaned original data, but not scaled or encoded."
   ],
   "id": "fda5ceb73c6d6727"
  },
  {
   "metadata": {
    "ExecuteTime": {
     "end_time": "2025-04-25T20:46:44.586171Z",
     "start_time": "2025-04-25T20:46:14.740096Z"
    }
   },
   "cell_type": "code",
   "source": "population_cleaned, customer_cleaned = preprocess_data(population_raw, customer_raw, names=(\"population\", \"customer\"), clean_only=True)",
   "id": "cb04ee32a68401d7",
   "outputs": [
    {
     "name": "stdout",
     "output_type": "stream",
     "text": [
      "Metadata loaded.\n",
      "Metadata rectified.\n",
      "Feature config loaded.\n",
      "\n",
      "Start cleaning population dataset...\n",
      "Removed 3 irrelevant features.\n",
      "Converted 324 unknown values from the meta information to null in the dataset.\n",
      "Converted 8 invalid values to null in the dataset.\n",
      "Removed 105801 records with over 33.0% missing feature values.\n",
      "Removed 16 features with over 20.0% missing values:\n",
      "alter_hh, alter_kind3, alter_kind4, alterskategorie_fein, d19_banken_online_quote_12, d19_gesamt_online_quote_12, d19_konsumtyp, d19_lotto, d19_soziales, d19_telko_online_quote_12, d19_versand_online_quote_12, d19_versi_online_quote_12, extsel992, geburtsjahr, kba05_baumax, kk_kundentyp\n",
      "Replaced missing values in 129 features.\n",
      "Extracted decade and cultural orientation as separate features.\n",
      "Extracted wealth and life phase as separate features.\n",
      "Removed 51 redundant features.\n",
      "Removed 24 uncertain features.\n",
      "\n",
      "Start cleaning customer dataset...\n",
      "Removed 6 irrelevant features.\n",
      "Converted 324 unknown values from the meta information to null in the dataset.\n",
      "Converted 7 invalid values to null in the dataset.\n",
      "Removed 51281 records with over 33.0% missing feature values.\n",
      "Removed 6 features with over 20.0% missing values:\n",
      "alter_kind3, alter_kind4, extsel992, geburtsjahr, kba05_baumax, kk_kundentyp\n",
      "Replaced missing values in 136 features.\n",
      "Extracted decade and cultural orientation as separate features.\n",
      "Extracted wealth and life phase as separate features.\n",
      "Removed 51 redundant features.\n",
      "Removed 24 uncertain features.\n",
      "Aligned numerical features.\n"
     ]
    }
   ],
   "execution_count": 21
  },
  {
   "metadata": {},
   "cell_type": "markdown",
   "source": [
    "We also have to add the `cluster` labels to the original data and remove `kba` and `d19` features, that were not used for clustering.\n",
    "\n",
    "With the added `cluster` label we can select the individuals from the customer-heavy cluster."
   ],
   "id": "e0fe172ea078ec92"
  },
  {
   "metadata": {
    "ExecuteTime": {
     "end_time": "2025-04-25T20:46:46.327335Z",
     "start_time": "2025-04-25T20:46:45.073122Z"
    }
   },
   "cell_type": "code",
   "source": [
    "original_df = pd.concat([population_cleaned, customer_cleaned], ignore_index=True)\n",
    "original_df = original_df.drop(columns=[col for col in original_df.columns if col.startswith(\"kba\")])\n",
    "original_df = original_df.drop(columns=[col for col in original_df.columns if col.startswith(\"d19\")])\n",
    "\n",
    "original_df[\"cluster\"] = pca_df[\"cluster\"]\n",
    "\n",
    "cluster_df = original_df[original_df[\"cluster\"] == 4].copy()"
   ],
   "id": "4fc0caa4eb5569f2",
   "outputs": [],
   "execution_count": 22
  },
  {
   "metadata": {},
   "cell_type": "markdown",
   "source": [
    "### Numerical Values\n",
    "\n",
    "To evaluate the numeric features, we can calculate and compare the means for the customer-heavy cluster and total dataset.\n",
    "\n",
    "Some of the largest differences (relative deviation >30%) we can observe fits well to the findings of the analyzed principal components, but there are also some additional characteristics revealed:\n",
    "\n",
    "| Feature             | Compared to Average Population              | Cluster Average Value       |\n",
    "|---------------------|---------------------------------------------|-----------------------------|\n",
    "| anz_haushalte_aktiv | less households per building                | 1-2 households per building |\n",
    "| anz_kinder          | less children                               | 0.022                       |\n",
    "| anz_titel           | more individuals with academic title        | no academic title           |\n",
    "| cameo_deug_2015     | higher social status                        | established middleclass     |\n",
    "| finanz_anleger      | more financial investors                    | high to very high           |\n",
    "| finanz_minimalist   | higher financial interest                   | low interest = very low     |\n",
    "| finanz_hausbauer    | higher financial main focus on an own house | high focus                  |\n",
    "| hh_einkommen_score  | higher income                               | high income                 |\n",
    "| lp_status_fein      | higher social status                        | (new) houseowners           |\n",
    "| mobi_regio          | lower mobility                              | low mobility                |\n",
    "| plz8_antg3          | less 6-10 family houses                     | low share                   |\n",
    "| plz8_antg4          | less >10 family houses                      | none                        |\n",
    "| plz8_baumax         | more 1-2 family houses                      | mainly 1-2 family homes     |\n",
    "| semio_kaem          | less >10 family houses                      | none                        |\n",
    "| semio_vert          | lower dreamily affinity                     | very low affinity           |\n",
    "| zabeotyp            | smarter energy consumption                  | smart                       |\n",
    "\n",
    "An interesting observation is, that we saw an inverse relationship between a dreamy affinity and the principal component #3 before, but the analysis of the original values cleary show that that assumption was misleading."
   ],
   "id": "cf7e3dd5881180a3"
  },
  {
   "metadata": {
    "ExecuteTime": {
     "end_time": "2025-04-25T20:46:47.135264Z",
     "start_time": "2025-04-25T20:46:46.810787Z"
    }
   },
   "cell_type": "code",
   "source": [
    "with open(\"./src/feature_config.json\", \"r\") as f:\n",
    "    feature_config = json.load(f)\n",
    "\n",
    "non_numeric_features = feature_config[\"categorical\"] + feature_config[\"binary\"] + [\"is_customer\", \"cluster\"]\n",
    "numeric_features = [col for col in original_df.columns if col not in non_numeric_features]\n",
    "\n",
    "cluster_means = cluster_df[numeric_features].mean().T\n",
    "total_means = original_df[numeric_features].mean().T\n",
    "\n",
    "means = pd.concat([cluster_means, total_means], axis=1)\n",
    "means.columns = [\"cluster\", \"total\"]\n",
    "\n",
    "means[\"rel_diff\"] = round((means[\"cluster\"] / means[\"total\"] - 1) * 100, 1)\n",
    "means[(abs(means[\"rel_diff\"]) > 30)].sort_values([\"rel_diff\"], ascending=False)"
   ],
   "id": "4d64a486a5557b72",
   "outputs": [
    {
     "data": {
      "text/plain": [
       "                      cluster     total  rel_diff\n",
       "anz_titel            0.013764  0.006578     109.2\n",
       "lp_status_fein       8.424119  5.148061      63.6\n",
       "finanz_minimalist    4.754342  3.240081      46.7\n",
       "semio_vert           6.143691  4.412237      39.2\n",
       "mobi_regio           4.117336  3.071584      34.0\n",
       "finanz_hausbauer     2.131299  3.064491     -30.5\n",
       "cameo_deug_2015      3.694238  5.356322     -31.0\n",
       "hh_einkommen_score   2.907809  4.242474     -31.5\n",
       "zabeotyp             2.132588  3.233908     -34.1\n",
       "plz8_antg3           1.009903  1.568689     -35.6\n",
       "semio_kaem           2.569038  4.189735     -38.7\n",
       "plz8_baumax          1.078372  1.872358     -42.4\n",
       "finanz_anleger       1.512328  2.654046     -43.0\n",
       "plz8_antg4           0.283083  0.677883     -58.2\n",
       "anz_hh_titel         0.017807  0.043417     -59.0\n",
       "anz_haushalte_aktiv  1.895506  7.772136     -75.6\n",
       "alter_kind1          0.172813  1.144862     -84.9\n",
       "anz_kinder           0.022634  0.151877     -85.1\n",
       "alter_kind2          0.000789  0.486114     -99.8"
      ],
      "text/html": [
       "<div>\n",
       "<style scoped>\n",
       "    .dataframe tbody tr th:only-of-type {\n",
       "        vertical-align: middle;\n",
       "    }\n",
       "\n",
       "    .dataframe tbody tr th {\n",
       "        vertical-align: top;\n",
       "    }\n",
       "\n",
       "    .dataframe thead th {\n",
       "        text-align: right;\n",
       "    }\n",
       "</style>\n",
       "<table border=\"1\" class=\"dataframe\">\n",
       "  <thead>\n",
       "    <tr style=\"text-align: right;\">\n",
       "      <th></th>\n",
       "      <th>cluster</th>\n",
       "      <th>total</th>\n",
       "      <th>rel_diff</th>\n",
       "    </tr>\n",
       "  </thead>\n",
       "  <tbody>\n",
       "    <tr>\n",
       "      <th>anz_titel</th>\n",
       "      <td>0.013764</td>\n",
       "      <td>0.006578</td>\n",
       "      <td>109.2</td>\n",
       "    </tr>\n",
       "    <tr>\n",
       "      <th>lp_status_fein</th>\n",
       "      <td>8.424119</td>\n",
       "      <td>5.148061</td>\n",
       "      <td>63.6</td>\n",
       "    </tr>\n",
       "    <tr>\n",
       "      <th>finanz_minimalist</th>\n",
       "      <td>4.754342</td>\n",
       "      <td>3.240081</td>\n",
       "      <td>46.7</td>\n",
       "    </tr>\n",
       "    <tr>\n",
       "      <th>semio_vert</th>\n",
       "      <td>6.143691</td>\n",
       "      <td>4.412237</td>\n",
       "      <td>39.2</td>\n",
       "    </tr>\n",
       "    <tr>\n",
       "      <th>mobi_regio</th>\n",
       "      <td>4.117336</td>\n",
       "      <td>3.071584</td>\n",
       "      <td>34.0</td>\n",
       "    </tr>\n",
       "    <tr>\n",
       "      <th>finanz_hausbauer</th>\n",
       "      <td>2.131299</td>\n",
       "      <td>3.064491</td>\n",
       "      <td>-30.5</td>\n",
       "    </tr>\n",
       "    <tr>\n",
       "      <th>cameo_deug_2015</th>\n",
       "      <td>3.694238</td>\n",
       "      <td>5.356322</td>\n",
       "      <td>-31.0</td>\n",
       "    </tr>\n",
       "    <tr>\n",
       "      <th>hh_einkommen_score</th>\n",
       "      <td>2.907809</td>\n",
       "      <td>4.242474</td>\n",
       "      <td>-31.5</td>\n",
       "    </tr>\n",
       "    <tr>\n",
       "      <th>zabeotyp</th>\n",
       "      <td>2.132588</td>\n",
       "      <td>3.233908</td>\n",
       "      <td>-34.1</td>\n",
       "    </tr>\n",
       "    <tr>\n",
       "      <th>plz8_antg3</th>\n",
       "      <td>1.009903</td>\n",
       "      <td>1.568689</td>\n",
       "      <td>-35.6</td>\n",
       "    </tr>\n",
       "    <tr>\n",
       "      <th>semio_kaem</th>\n",
       "      <td>2.569038</td>\n",
       "      <td>4.189735</td>\n",
       "      <td>-38.7</td>\n",
       "    </tr>\n",
       "    <tr>\n",
       "      <th>plz8_baumax</th>\n",
       "      <td>1.078372</td>\n",
       "      <td>1.872358</td>\n",
       "      <td>-42.4</td>\n",
       "    </tr>\n",
       "    <tr>\n",
       "      <th>finanz_anleger</th>\n",
       "      <td>1.512328</td>\n",
       "      <td>2.654046</td>\n",
       "      <td>-43.0</td>\n",
       "    </tr>\n",
       "    <tr>\n",
       "      <th>plz8_antg4</th>\n",
       "      <td>0.283083</td>\n",
       "      <td>0.677883</td>\n",
       "      <td>-58.2</td>\n",
       "    </tr>\n",
       "    <tr>\n",
       "      <th>anz_hh_titel</th>\n",
       "      <td>0.017807</td>\n",
       "      <td>0.043417</td>\n",
       "      <td>-59.0</td>\n",
       "    </tr>\n",
       "    <tr>\n",
       "      <th>anz_haushalte_aktiv</th>\n",
       "      <td>1.895506</td>\n",
       "      <td>7.772136</td>\n",
       "      <td>-75.6</td>\n",
       "    </tr>\n",
       "    <tr>\n",
       "      <th>alter_kind1</th>\n",
       "      <td>0.172813</td>\n",
       "      <td>1.144862</td>\n",
       "      <td>-84.9</td>\n",
       "    </tr>\n",
       "    <tr>\n",
       "      <th>anz_kinder</th>\n",
       "      <td>0.022634</td>\n",
       "      <td>0.151877</td>\n",
       "      <td>-85.1</td>\n",
       "    </tr>\n",
       "    <tr>\n",
       "      <th>alter_kind2</th>\n",
       "      <td>0.000789</td>\n",
       "      <td>0.486114</td>\n",
       "      <td>-99.8</td>\n",
       "    </tr>\n",
       "  </tbody>\n",
       "</table>\n",
       "</div>"
      ]
     },
     "execution_count": 23,
     "metadata": {},
     "output_type": "execute_result"
    }
   ],
   "execution_count": 23
  },
  {
   "metadata": {},
   "cell_type": "markdown",
   "source": [
    "### Categorical Values\n",
    "\n",
    "To assess the categorical variables, we count each categorical value in the cluster as well as in the total data with all individuals.\n",
    "\n",
    "We order that value counts by its relative share of the cluster count versus the corresponding value count in the total data."
   ],
   "id": "504b0fa290c4f466"
  },
  {
   "metadata": {
    "ExecuteTime": {
     "end_time": "2025-04-25T20:52:09.016733Z",
     "start_time": "2025-04-25T20:52:09.003597Z"
    }
   },
   "cell_type": "code",
   "source": [
    "cluster_df[\"type\"] = \"cluster\"\n",
    "original_df[\"type\"] = \"total\"\n",
    "\n",
    "\n",
    "def list_categorical_diffs(\n",
    "    feature: str,\n",
    "    cluster_df: pd.DataFrame = cluster_df,\n",
    "    original_df: pd.DataFrame = original_df\n",
    ") -> pd.DataFrame:\n",
    "    df = pd.concat([cluster_df, original_df], ignore_index=True)\n",
    "\n",
    "    ct = pd.crosstab(df[feature], df[\"type\"], normalize=\"index\")\n",
    "    ct = ct.reset_index()\n",
    "    ct.columns.name = None\n",
    "\n",
    "    ct = ct.rename(columns={feature: \"value\"})\n",
    "    ct[\"feature\"] = feature\n",
    "\n",
    "    ct = ct.sort_values(\"cluster\", ascending=False)\n",
    "\n",
    "    return ct"
   ],
   "id": "91e5a4bf5f6e40f7",
   "outputs": [],
   "execution_count": 32
  },
  {
   "metadata": {},
   "cell_type": "markdown",
   "source": [
    "The Top20 values with the highest share compared to the average population reveals some interesting customer traits:\n",
    "- `titel_kz` - higher share of academic titles\n",
    "- `cameo_deu_2015` - most of the upper class and upper middle class typologies are represented in the Top20 values with the highest share\n",
    "- `anrede_kz` - more male customers\n",
    "- `ager_typ` - more best-ager customers\n",
    "- `gebaeudetyp` - higher share of buildings without actually known households\n",
    "- `gfk_urlaubertyp` - more hiker and golden ager regarding the vacation habits\n",
    "- `finanztyp` - more money savers as well as investors\n",
    "- `shopping_type` - more individuals who seek pleasure and enjoyment from their shopping experiences\n",
    "- `alterskategorie_grob` - higher share of >60 years old\n",
    "\n",
    "Some of them were already uncovered in the previous analyses (higher social class, investors), but emphasize these insights."
   ],
   "id": "f1e1a7cb94051dec"
  },
  {
   "metadata": {
    "ExecuteTime": {
     "end_time": "2025-04-25T20:52:49.749870Z",
     "start_time": "2025-04-25T20:52:45.642785Z"
    }
   },
   "cell_type": "code",
   "source": [
    "value_cluster_share = []\n",
    "for categorical_feature in tqdm(feature_config[\"categorical\"] + feature_config[\"binary\"]):\n",
    "    value_cluster_share.append(list_categorical_diffs(categorical_feature))\n",
    "\n",
    "value_cluster_share = pd.concat(value_cluster_share, ignore_index=True)\n",
    "\n",
    "value_cluster_share.sort_values(\"cluster\", ascending=False).head(20)"
   ],
   "id": "189a3b8eab7a4e8f",
   "outputs": [
    {
     "name": "stderr",
     "output_type": "stream",
     "text": [
      "100%|██████████| 21/21 [00:04<00:00,  5.13it/s]\n"
     ]
    },
    {
     "data": {
      "text/plain": [
       "    value   cluster     total               feature\n",
       "120     1  0.325673  0.674327              titel_kz\n",
       "10     1D  0.322861  0.677139        cameo_deu_2015\n",
       "0     0.0  0.321949  0.678051              ager_typ\n",
       "66    2.0  0.316928  0.683072           gebaeudetyp\n",
       "11     1E  0.311389  0.688611        cameo_deu_2015\n",
       "1     1.0  0.310066  0.689934              ager_typ\n",
       "67    4.0  0.284704  0.715296           gebaeudetyp\n",
       "12     2D  0.277291  0.722709        cameo_deu_2015\n",
       "106     1  0.276806  0.723194             anrede_kz\n",
       "13     2C  0.273515  0.726485        cameo_deu_2015\n",
       "14     1C  0.270951  0.729049        cameo_deu_2015\n",
       "73    7.0  0.269117  0.730883       gfk_urlaubertyp\n",
       "60      5  0.266779  0.733221             finanztyp\n",
       "102   0.0  0.264777  0.735223           shopper_typ\n",
       "74    6.0  0.263667  0.736333       gfk_urlaubertyp\n",
       "5       4  0.256921  0.743079  alterskategorie_grob\n",
       "15     2B  0.256700  0.743300        cameo_deu_2015\n",
       "68    6.0  0.256256  0.743744           gebaeudetyp\n",
       "61      2  0.255737  0.744263             finanztyp\n",
       "16     1A  0.251770  0.748230        cameo_deu_2015"
      ],
      "text/html": [
       "<div>\n",
       "<style scoped>\n",
       "    .dataframe tbody tr th:only-of-type {\n",
       "        vertical-align: middle;\n",
       "    }\n",
       "\n",
       "    .dataframe tbody tr th {\n",
       "        vertical-align: top;\n",
       "    }\n",
       "\n",
       "    .dataframe thead th {\n",
       "        text-align: right;\n",
       "    }\n",
       "</style>\n",
       "<table border=\"1\" class=\"dataframe\">\n",
       "  <thead>\n",
       "    <tr style=\"text-align: right;\">\n",
       "      <th></th>\n",
       "      <th>value</th>\n",
       "      <th>cluster</th>\n",
       "      <th>total</th>\n",
       "      <th>feature</th>\n",
       "    </tr>\n",
       "  </thead>\n",
       "  <tbody>\n",
       "    <tr>\n",
       "      <th>120</th>\n",
       "      <td>1</td>\n",
       "      <td>0.325673</td>\n",
       "      <td>0.674327</td>\n",
       "      <td>titel_kz</td>\n",
       "    </tr>\n",
       "    <tr>\n",
       "      <th>10</th>\n",
       "      <td>1D</td>\n",
       "      <td>0.322861</td>\n",
       "      <td>0.677139</td>\n",
       "      <td>cameo_deu_2015</td>\n",
       "    </tr>\n",
       "    <tr>\n",
       "      <th>0</th>\n",
       "      <td>0.0</td>\n",
       "      <td>0.321949</td>\n",
       "      <td>0.678051</td>\n",
       "      <td>ager_typ</td>\n",
       "    </tr>\n",
       "    <tr>\n",
       "      <th>66</th>\n",
       "      <td>2.0</td>\n",
       "      <td>0.316928</td>\n",
       "      <td>0.683072</td>\n",
       "      <td>gebaeudetyp</td>\n",
       "    </tr>\n",
       "    <tr>\n",
       "      <th>11</th>\n",
       "      <td>1E</td>\n",
       "      <td>0.311389</td>\n",
       "      <td>0.688611</td>\n",
       "      <td>cameo_deu_2015</td>\n",
       "    </tr>\n",
       "    <tr>\n",
       "      <th>1</th>\n",
       "      <td>1.0</td>\n",
       "      <td>0.310066</td>\n",
       "      <td>0.689934</td>\n",
       "      <td>ager_typ</td>\n",
       "    </tr>\n",
       "    <tr>\n",
       "      <th>67</th>\n",
       "      <td>4.0</td>\n",
       "      <td>0.284704</td>\n",
       "      <td>0.715296</td>\n",
       "      <td>gebaeudetyp</td>\n",
       "    </tr>\n",
       "    <tr>\n",
       "      <th>12</th>\n",
       "      <td>2D</td>\n",
       "      <td>0.277291</td>\n",
       "      <td>0.722709</td>\n",
       "      <td>cameo_deu_2015</td>\n",
       "    </tr>\n",
       "    <tr>\n",
       "      <th>106</th>\n",
       "      <td>1</td>\n",
       "      <td>0.276806</td>\n",
       "      <td>0.723194</td>\n",
       "      <td>anrede_kz</td>\n",
       "    </tr>\n",
       "    <tr>\n",
       "      <th>13</th>\n",
       "      <td>2C</td>\n",
       "      <td>0.273515</td>\n",
       "      <td>0.726485</td>\n",
       "      <td>cameo_deu_2015</td>\n",
       "    </tr>\n",
       "    <tr>\n",
       "      <th>14</th>\n",
       "      <td>1C</td>\n",
       "      <td>0.270951</td>\n",
       "      <td>0.729049</td>\n",
       "      <td>cameo_deu_2015</td>\n",
       "    </tr>\n",
       "    <tr>\n",
       "      <th>73</th>\n",
       "      <td>7.0</td>\n",
       "      <td>0.269117</td>\n",
       "      <td>0.730883</td>\n",
       "      <td>gfk_urlaubertyp</td>\n",
       "    </tr>\n",
       "    <tr>\n",
       "      <th>60</th>\n",
       "      <td>5</td>\n",
       "      <td>0.266779</td>\n",
       "      <td>0.733221</td>\n",
       "      <td>finanztyp</td>\n",
       "    </tr>\n",
       "    <tr>\n",
       "      <th>102</th>\n",
       "      <td>0.0</td>\n",
       "      <td>0.264777</td>\n",
       "      <td>0.735223</td>\n",
       "      <td>shopper_typ</td>\n",
       "    </tr>\n",
       "    <tr>\n",
       "      <th>74</th>\n",
       "      <td>6.0</td>\n",
       "      <td>0.263667</td>\n",
       "      <td>0.736333</td>\n",
       "      <td>gfk_urlaubertyp</td>\n",
       "    </tr>\n",
       "    <tr>\n",
       "      <th>5</th>\n",
       "      <td>4</td>\n",
       "      <td>0.256921</td>\n",
       "      <td>0.743079</td>\n",
       "      <td>alterskategorie_grob</td>\n",
       "    </tr>\n",
       "    <tr>\n",
       "      <th>15</th>\n",
       "      <td>2B</td>\n",
       "      <td>0.256700</td>\n",
       "      <td>0.743300</td>\n",
       "      <td>cameo_deu_2015</td>\n",
       "    </tr>\n",
       "    <tr>\n",
       "      <th>68</th>\n",
       "      <td>6.0</td>\n",
       "      <td>0.256256</td>\n",
       "      <td>0.743744</td>\n",
       "      <td>gebaeudetyp</td>\n",
       "    </tr>\n",
       "    <tr>\n",
       "      <th>61</th>\n",
       "      <td>2</td>\n",
       "      <td>0.255737</td>\n",
       "      <td>0.744263</td>\n",
       "      <td>finanztyp</td>\n",
       "    </tr>\n",
       "    <tr>\n",
       "      <th>16</th>\n",
       "      <td>1A</td>\n",
       "      <td>0.251770</td>\n",
       "      <td>0.748230</td>\n",
       "      <td>cameo_deu_2015</td>\n",
       "    </tr>\n",
       "  </tbody>\n",
       "</table>\n",
       "</div>"
      ]
     },
     "execution_count": 34,
     "metadata": {},
     "output_type": "execute_result"
    }
   ],
   "execution_count": 34
  },
  {
   "metadata": {},
   "cell_type": "markdown",
   "source": [
    "## Cluster Profile\n",
    "- Demographic Characteristics:\n",
    "  - Social Status: The cluster is predominantly composed of individuals with a higher social status, categorized as established middle class and upper class. A significant share of the population holds academic titles, indicating a well-educated demographic.\n",
    "  - Age Distribution: There is a notable presence of \"best-ager\" customers, with a higher concentration of individuals aged 60 and above.\n",
    "  - Gender Composition: The cluster has a higher proportion of male customers.\n",
    "\n",
    "- Housing and Living Situation:\n",
    "  - Residential Characteristics: The cluster is characterized by a preference for 1-2 family houses, with a low share of multi-family housing. Many residents live in areas with fewer households per building, indicating a more spacious living environment.\n",
    "  - Mobility: Residents exhibit lower mobility, with a higher distance from Points of Sale and city centers, suggesting a more suburban lifestyle.\n",
    "\n",
    "- Financial Behavior:\n",
    "  - Financial Interests: The cluster shows a strong inclination towards financial investments, with many individuals categorized as financial investors and money savers. There is a significant focus on home ownership, reflecting a preference for investing in personal property.\n",
    "  - Income Levels: The average income within this cluster is higher than the general population, indicating a financially stable group.\n",
    "\n",
    "- Consumption Patterns:\n",
    "  - Energy Consumption: Customers in this segment are inclined towards smart and green energy solutions, reflecting a commitment to sustainability.\n",
    "  - Shopping Preferences: The cluster members derive pleasure and enjoyment from shopping experiences, indicating a preference for leisure-oriented purchasing behavior.\n",
    "\n",
    "- Personal Affinities:\n",
    "  - Mindset and Attitudes: The cluster is characterized by less dominant, critical and rational thinking. Instead, members display a more cultural, social and familial mindset with a tendency towards a less eventful orientation."
   ],
   "id": "ef0c2ecdbd5500cd"
  },
  {
   "metadata": {},
   "cell_type": "code",
   "outputs": [],
   "execution_count": null,
   "source": "",
   "id": "74d726bee80edad8"
  }
 ],
 "metadata": {
  "kernelspec": {
   "display_name": "Python 3",
   "language": "python",
   "name": "python3"
  },
  "language_info": {
   "codemirror_mode": {
    "name": "ipython",
    "version": 2
   },
   "file_extension": ".py",
   "mimetype": "text/x-python",
   "name": "python",
   "nbconvert_exporter": "python",
   "pygments_lexer": "ipython2",
   "version": "2.7.6"
  }
 },
 "nbformat": 4,
 "nbformat_minor": 5
}
