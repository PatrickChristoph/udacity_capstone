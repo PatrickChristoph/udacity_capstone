{
 "cells": [
  {
   "cell_type": "code",
   "id": "initial_id",
   "metadata": {
    "collapsed": true,
    "ExecuteTime": {
     "end_time": "2025-04-20T11:27:38.130368Z",
     "start_time": "2025-04-20T11:27:36.945440Z"
    }
   },
   "source": [
    "import pandas as pd\n",
    "\n",
    "from src.files_io import download_and_extract_raw_datasets\n",
    "from src.preprocessing import preprocess_data"
   ],
   "outputs": [],
   "execution_count": 1
  },
  {
   "metadata": {
    "ExecuteTime": {
     "end_time": "2025-04-20T11:28:23.786587Z",
     "start_time": "2025-04-20T11:27:39.576144Z"
    }
   },
   "cell_type": "code",
   "source": "download_and_extract_raw_datasets()",
   "id": "931767af1f026bdb",
   "outputs": [
    {
     "name": "stdout",
     "output_type": "stream",
     "text": [
      "Downloading raw datasets...\n",
      "Download completed.\n",
      "Extracting the file...\n",
      "Extraction completed.\n",
      "Downloaded tar.gz file removed.\n"
     ]
    }
   ],
   "execution_count": 2
  }
 ],
 "metadata": {
  "kernelspec": {
   "display_name": "Python 3",
   "language": "python",
   "name": "python3"
  },
  "language_info": {
   "codemirror_mode": {
    "name": "ipython",
    "version": 2
   },
   "file_extension": ".py",
   "mimetype": "text/x-python",
   "name": "python",
   "nbconvert_exporter": "python",
   "pygments_lexer": "ipython2",
   "version": "2.7.6"
  }
 },
 "nbformat": 4,
 "nbformat_minor": 5
}
