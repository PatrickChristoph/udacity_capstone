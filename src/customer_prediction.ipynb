{
 "cells": [
  {
   "cell_type": "code",
   "id": "initial_id",
   "metadata": {
    "collapsed": true,
    "ExecuteTime": {
     "end_time": "2025-04-26T10:21:21.438841Z",
     "start_time": "2025-04-26T10:21:10.245021Z"
    }
   },
   "source": [
    "import pandas as pd\n",
    "import xgboost as xgb\n",
    "from sklearn.model_selection import train_test_split\n",
    "\n",
    "from src.files_io import load_raw_mailout_datasets\n",
    "from src.preprocessing import preprocess_data"
   ],
   "outputs": [],
   "execution_count": 1
  },
  {
   "metadata": {},
   "cell_type": "code",
   "source": [
    "\"\"\"\n",
    "Load & Preprocess Data\n",
    "- to prevent naming irritations, we name the provided test dataset \"competition\", because it is used to compete with the model results\n",
    "\"\"\""
   ],
   "id": "84d407c91be5c371",
   "outputs": [],
   "execution_count": null
  },
  {
   "metadata": {
    "ExecuteTime": {
     "end_time": "2025-04-26T10:21:46.751583Z",
     "start_time": "2025-04-26T10:21:44.867774Z"
    }
   },
   "cell_type": "code",
   "source": "train_raw, competition_raw = load_raw_mailout_datasets()",
   "id": "86ff0677b4a628b7",
   "outputs": [
    {
     "name": "stdout",
     "output_type": "stream",
     "text": [
      "Mailout datasets loaded.\n"
     ]
    }
   ],
   "execution_count": 2
  },
  {
   "metadata": {
    "ExecuteTime": {
     "end_time": "2025-04-26T10:21:47.697536Z",
     "start_time": "2025-04-26T10:21:47.692807Z"
    }
   },
   "cell_type": "code",
   "source": "train_response = train_raw[\"response\"]",
   "id": "77b481c7ab48f8af",
   "outputs": [],
   "execution_count": 3
  },
  {
   "metadata": {
    "ExecuteTime": {
     "end_time": "2025-04-26T10:21:52.017918Z",
     "start_time": "2025-04-26T10:21:48.358911Z"
    }
   },
   "cell_type": "code",
   "source": "train_preprocessed, competition_preprocessed = preprocess_data(train_raw, competition_raw, (\"train\", \"competition_test\"))",
   "id": "9f0e3f858927a1d3",
   "outputs": [
    {
     "name": "stdout",
     "output_type": "stream",
     "text": [
      "Metadata loaded.\n",
      "Metadata rectified.\n",
      "Feature config loaded.\n",
      "\n",
      "Start cleaning train dataset...\n",
      "Removed 3 irrelevant features.\n",
      "Converted 324 unknown values from the meta information to null in the dataset.\n",
      "Converted 8 invalid values to null in the dataset.\n",
      "Removed 7962 records with over 33.0% missing feature values.\n",
      "Removed 6 features with over 20.0% missing values:\n",
      "alter_kind3, alter_kind4, extsel992, geburtsjahr, kba05_baumax, kk_kundentyp\n",
      "Replaced missing values in 136 features.\n",
      "Extracted decade and cultural orientation as separate features.\n",
      "Extracted wealth and life phase as separate features.\n",
      "Removed 51 redundant features.\n",
      "Removed 24 uncertain features.\n",
      "\n",
      "Start cleaning competition_test dataset...\n",
      "Removed 3 irrelevant features.\n",
      "Converted 324 unknown values from the meta information to null in the dataset.\n",
      "Converted 8 invalid values to null in the dataset.\n",
      "Removed 7841 records with over 33.0% missing feature values.\n",
      "Removed 6 features with over 20.0% missing values:\n",
      "alter_kind3, alter_kind4, extsel992, geburtsjahr, kba05_baumax, kk_kundentyp\n",
      "Replaced missing values in 136 features.\n",
      "Extracted decade and cultural orientation as separate features.\n",
      "Extracted wealth and life phase as separate features.\n",
      "Removed 51 redundant features.\n",
      "Removed 24 uncertain features.\n",
      "\n",
      "Start encoding train dataset...\n",
      "Encoded 10 binary features.\n",
      "One-hot encoded 11 categorical features into 94 dummy variables.\n",
      "\n",
      "Start encoding competition_test dataset...\n",
      "Encoded 10 binary features.\n",
      "One-hot encoded 11 categorical features into 94 dummy variables.\n",
      "\n",
      "Aligned categorical features after one-hot encoding.\n",
      "Aligned numerical features.\n",
      "\n",
      "Start scaling datasets...\n",
      "Scaled 263 numeric features from train dataset.\n",
      "Scaled 263 numeric features from competition_test dataset.\n",
      "Finish preprocessing for both datasets.\n"
     ]
    }
   ],
   "execution_count": 4
  },
  {
   "metadata": {
    "ExecuteTime": {
     "end_time": "2025-04-26T10:21:53.943928Z",
     "start_time": "2025-04-26T10:21:53.909278Z"
    }
   },
   "cell_type": "code",
   "source": [
    "train_preprocessed = train_preprocessed.join(train_response, how=\"left\")\n",
    "\n",
    "assert train_preprocessed[\"response\"].isnull().sum() == 0"
   ],
   "id": "3aaf407b0eaa54eb",
   "outputs": [],
   "execution_count": 5
  },
  {
   "metadata": {},
   "cell_type": "code",
   "source": [
    "\"\"\"\n",
    "Class Imbalance\n",
    "- high imbalance (just 1% are responders)\n",
    "\"\"\""
   ],
   "id": "59f5fdc3e8b7384d",
   "outputs": [],
   "execution_count": null
  },
  {
   "metadata": {
    "ExecuteTime": {
     "end_time": "2025-04-26T10:22:09.414629Z",
     "start_time": "2025-04-26T10:22:09.405273Z"
    }
   },
   "cell_type": "code",
   "source": "train_preprocessed[\"response\"].value_counts(normalize=True)",
   "id": "17cbeb40d5c49f65",
   "outputs": [
    {
     "data": {
      "text/plain": [
       "response\n",
       "0    0.987571\n",
       "1    0.012429\n",
       "Name: proportion, dtype: float64"
      ]
     },
     "execution_count": 6,
     "metadata": {},
     "output_type": "execute_result"
    }
   ],
   "execution_count": 6
  },
  {
   "metadata": {},
   "cell_type": "code",
   "source": [
    "\"\"\"\n",
    "Preprocess Data\n",
    "\"\"\""
   ],
   "id": "fbfb3e2c67191235",
   "outputs": [],
   "execution_count": null
  },
  {
   "metadata": {},
   "cell_type": "code",
   "source": [
    "\"\"\"\n",
    "Split Dataset\n",
    "- stratified sampling due to class imbalance\n",
    "- additional split between validation and test data because a validation set is necessary for early stopping in xgboost as well as hyperparameter tuning and the test data needs to be completely separated from the training process\n",
    "\"\"\""
   ],
   "id": "d2194f60cf30cd4a",
   "outputs": [],
   "execution_count": null
  },
  {
   "metadata": {
    "ExecuteTime": {
     "end_time": "2025-04-26T10:22:14.544278Z",
     "start_time": "2025-04-26T10:22:14.458648Z"
    }
   },
   "cell_type": "code",
   "source": [
    "train, validation_test = train_test_split(train_preprocessed, test_size=0.3, random_state=42, stratify=train_preprocessed[\"response\"])\n",
    "\n",
    "validation, test = train_test_split(validation_test, test_size=0.5, random_state=42, stratify=validation_test[\"response\"])\n",
    "\n",
    "del validation_test"
   ],
   "id": "70aa14eddff5330a",
   "outputs": [],
   "execution_count": 7
  },
  {
   "metadata": {},
   "cell_type": "code",
   "outputs": [],
   "execution_count": null,
   "source": [
    "\"\"\"\n",
    "Train XGBoost Classification Model\n",
    "- binary classification model (person will respond: yes or no)\n",
    "- gradient boosting decision trees are highly effective and very successful in solving various ml problems\n",
    "- XGBoost can appropriately handle class imbalance with the `scale_pos_weigth` parameter\n",
    "- evaluation metric: precision recall auc\n",
    "  - focuses only on the performance for the positive class (responders), ignoring the abundance of negatives, making it much more informative than ROC AUC when dealing with highly imbalanced datasets\n",
    "  - summarizes the model\"s performance across all possible thresholds (unlike the f1 score)\n",
    "  - highlights how well the model identifies true positives without being overwhelmed by the majority class\n",
    "  - mail costs are not that much, so our focus is not to miss a potential customer\n",
    "\"\"\""
   ],
   "id": "6ead01e4fb3eb7ac"
  },
  {
   "metadata": {
    "ExecuteTime": {
     "end_time": "2025-04-26T10:22:36.436864Z",
     "start_time": "2025-04-26T10:22:36.276050Z"
    }
   },
   "cell_type": "code",
   "source": [
    "y_train = train[\"response\"]\n",
    "X_train = train.drop(columns=[\"response\"])\n",
    "dtrain = xgb.DMatrix(data=X_train, label=y_train)\n",
    "\n",
    "y_validation = validation[\"response\"]\n",
    "X_validation = validation.drop(columns=[\"response\"])\n",
    "dvalidation = xgb.DMatrix(data=X_validation, label=y_validation)"
   ],
   "id": "c2ebea2b099dafa3",
   "outputs": [],
   "execution_count": 8
  },
  {
   "metadata": {
    "ExecuteTime": {
     "end_time": "2025-04-26T10:37:16.806475Z",
     "start_time": "2025-04-26T10:37:13.979560Z"
    }
   },
   "cell_type": "code",
   "source": [
    "sum_negatives = len(y_train) - sum(y_train)\n",
    "sum_positives = sum(y_train)\n",
    "scale_pos_weight = sum_negatives / sum_positives\n",
    "\n",
    "hyperparameters = {\n",
    "    \"objective\": \"binary:logistic\",\n",
    "    \"eval_metric\": \"aucpr\",\n",
    "    \"scale_pos_weight\": scale_pos_weight,\n",
    "    \"eta\": 0.1,\n",
    "    \"max_depth\": 6,\n",
    "    \"subsample\": 0.8,\n",
    "    \"colsample_bytree\": 0.8,\n",
    "    \"random_state\": 42,\n",
    "}\n",
    "\n",
    "model = xgb.train(\n",
    "    params=hyperparameters,\n",
    "    dtrain=dtrain,\n",
    "    evals=[(dtrain, \"train\"), (dvalidation, \"validation\")],\n",
    "    early_stopping_rounds=20,\n",
    "    num_boost_round=1000,\n",
    ")"
   ],
   "id": "1052a8b58bec5486",
   "outputs": [
    {
     "name": "stdout",
     "output_type": "stream",
     "text": [
      "[0]\ttrain-aucpr:0.05243\tvalidation-aucpr:0.02831\n",
      "[1]\ttrain-aucpr:0.10830\tvalidation-aucpr:0.02494\n",
      "[2]\ttrain-aucpr:0.12460\tvalidation-aucpr:0.02388\n",
      "[3]\ttrain-aucpr:0.17031\tvalidation-aucpr:0.02481\n",
      "[4]\ttrain-aucpr:0.20522\tvalidation-aucpr:0.02750\n",
      "[5]\ttrain-aucpr:0.20039\tvalidation-aucpr:0.02664\n",
      "[6]\ttrain-aucpr:0.20754\tvalidation-aucpr:0.02567\n",
      "[7]\ttrain-aucpr:0.21526\tvalidation-aucpr:0.02560\n",
      "[8]\ttrain-aucpr:0.22511\tvalidation-aucpr:0.02446\n",
      "[9]\ttrain-aucpr:0.22082\tvalidation-aucpr:0.02570\n",
      "[10]\ttrain-aucpr:0.26471\tvalidation-aucpr:0.02563\n",
      "[11]\ttrain-aucpr:0.27044\tvalidation-aucpr:0.02619\n",
      "[12]\ttrain-aucpr:0.30762\tvalidation-aucpr:0.02771\n",
      "[13]\ttrain-aucpr:0.31792\tvalidation-aucpr:0.02769\n",
      "[14]\ttrain-aucpr:0.32524\tvalidation-aucpr:0.02838\n",
      "[15]\ttrain-aucpr:0.33094\tvalidation-aucpr:0.02980\n",
      "[16]\ttrain-aucpr:0.33703\tvalidation-aucpr:0.03054\n",
      "[17]\ttrain-aucpr:0.34362\tvalidation-aucpr:0.03281\n",
      "[18]\ttrain-aucpr:0.34977\tvalidation-aucpr:0.03319\n",
      "[19]\ttrain-aucpr:0.36961\tvalidation-aucpr:0.03190\n",
      "[20]\ttrain-aucpr:0.38410\tvalidation-aucpr:0.03197\n",
      "[21]\ttrain-aucpr:0.38485\tvalidation-aucpr:0.03225\n",
      "[22]\ttrain-aucpr:0.38704\tvalidation-aucpr:0.03212\n",
      "[23]\ttrain-aucpr:0.40653\tvalidation-aucpr:0.03522\n",
      "[24]\ttrain-aucpr:0.40530\tvalidation-aucpr:0.03554\n",
      "[25]\ttrain-aucpr:0.43735\tvalidation-aucpr:0.03430\n",
      "[26]\ttrain-aucpr:0.44672\tvalidation-aucpr:0.03320\n",
      "[27]\ttrain-aucpr:0.45566\tvalidation-aucpr:0.03387\n",
      "[28]\ttrain-aucpr:0.46312\tvalidation-aucpr:0.03321\n",
      "[29]\ttrain-aucpr:0.51620\tvalidation-aucpr:0.03473\n",
      "[30]\ttrain-aucpr:0.53689\tvalidation-aucpr:0.03392\n",
      "[31]\ttrain-aucpr:0.57517\tvalidation-aucpr:0.04039\n",
      "[32]\ttrain-aucpr:0.63326\tvalidation-aucpr:0.05411\n",
      "[33]\ttrain-aucpr:0.65970\tvalidation-aucpr:0.05739\n",
      "[34]\ttrain-aucpr:0.67642\tvalidation-aucpr:0.05607\n",
      "[35]\ttrain-aucpr:0.68018\tvalidation-aucpr:0.05094\n",
      "[36]\ttrain-aucpr:0.69215\tvalidation-aucpr:0.05171\n",
      "[37]\ttrain-aucpr:0.71452\tvalidation-aucpr:0.04411\n",
      "[38]\ttrain-aucpr:0.73289\tvalidation-aucpr:0.05521\n",
      "[39]\ttrain-aucpr:0.73630\tvalidation-aucpr:0.05759\n",
      "[40]\ttrain-aucpr:0.74673\tvalidation-aucpr:0.05810\n",
      "[41]\ttrain-aucpr:0.78260\tvalidation-aucpr:0.04087\n",
      "[42]\ttrain-aucpr:0.78709\tvalidation-aucpr:0.04118\n",
      "[43]\ttrain-aucpr:0.80077\tvalidation-aucpr:0.04291\n",
      "[44]\ttrain-aucpr:0.81943\tvalidation-aucpr:0.04019\n",
      "[45]\ttrain-aucpr:0.84344\tvalidation-aucpr:0.04178\n",
      "[46]\ttrain-aucpr:0.85211\tvalidation-aucpr:0.04237\n",
      "[47]\ttrain-aucpr:0.85453\tvalidation-aucpr:0.04408\n",
      "[48]\ttrain-aucpr:0.86427\tvalidation-aucpr:0.04739\n",
      "[49]\ttrain-aucpr:0.87350\tvalidation-aucpr:0.05744\n",
      "[50]\ttrain-aucpr:0.88114\tvalidation-aucpr:0.04706\n",
      "[51]\ttrain-aucpr:0.88990\tvalidation-aucpr:0.04284\n",
      "[52]\ttrain-aucpr:0.89943\tvalidation-aucpr:0.05440\n",
      "[53]\ttrain-aucpr:0.91204\tvalidation-aucpr:0.04486\n",
      "[54]\ttrain-aucpr:0.92357\tvalidation-aucpr:0.04600\n",
      "[55]\ttrain-aucpr:0.93281\tvalidation-aucpr:0.04368\n",
      "[56]\ttrain-aucpr:0.93969\tvalidation-aucpr:0.05434\n",
      "[57]\ttrain-aucpr:0.94536\tvalidation-aucpr:0.05474\n",
      "[58]\ttrain-aucpr:0.94944\tvalidation-aucpr:0.05389\n",
      "[59]\ttrain-aucpr:0.95910\tvalidation-aucpr:0.04742\n"
     ]
    }
   ],
   "execution_count": 19
  },
  {
   "metadata": {
    "ExecuteTime": {
     "end_time": "2025-04-26T10:35:05.852205Z",
     "start_time": "2025-04-26T10:35:05.844967Z"
    }
   },
   "cell_type": "code",
   "source": [
    "best_iteration = model.best_iteration\n",
    "print(f\"Best iteration: {best_iteration}\")\n",
    "\n",
    "# model.save_model(\"best_model.xgb\")"
   ],
   "id": "b751328c7effc42",
   "outputs": [
    {
     "name": "stdout",
     "output_type": "stream",
     "text": [
      "Best iteration: 40\n"
     ]
    }
   ],
   "execution_count": 18
  }
 ],
 "metadata": {
  "kernelspec": {
   "display_name": "Python 3",
   "language": "python",
   "name": "python3"
  },
  "language_info": {
   "codemirror_mode": {
    "name": "ipython",
    "version": 2
   },
   "file_extension": ".py",
   "mimetype": "text/x-python",
   "name": "python",
   "nbconvert_exporter": "python",
   "pygments_lexer": "ipython2",
   "version": "2.7.6"
  }
 },
 "nbformat": 4,
 "nbformat_minor": 5
}
