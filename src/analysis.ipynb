{
 "cells": [
  {
   "metadata": {
    "ExecuteTime": {
     "end_time": "2025-04-07T19:55:51.592884Z",
     "start_time": "2025-04-07T19:55:51.584477Z"
    }
   },
   "cell_type": "code",
   "source": [
    "import requests\n",
    "import tarfile\n",
    "import os\n",
    "\n",
    "import numpy as np\n",
    "import pandas as pd"
   ],
   "outputs": [],
   "execution_count": 32
  },
  {
   "metadata": {
    "ExecuteTime": {
     "end_time": "2025-04-05T11:05:37.659192Z",
     "start_time": "2025-04-05T11:05:07.248484Z"
    }
   },
   "cell_type": "code",
   "source": [
    "def download_and_extract(url: str, extract_to: str):\n",
    "    \"\"\"\n",
    "    Downloads a tar.gz file from a URL and extracts it to a directory.\n",
    "    Args:\n",
    "    - url (str): URL of the tar.gz file to download.\n",
    "    - extract_to (str): Directory path to extract the contents of the tar.gz file.\n",
    "    \"\"\"\n",
    "    # Get the filename from the URL\n",
    "    filename = url.split('/')[-1]\n",
    "\n",
    "    # Download the file\n",
    "    print(\"Downloading the file...\")\n",
    "    response = requests.get(url, stream=True)\n",
    "    if response.status_code == 200:\n",
    "        with open(filename, 'wb') as file:\n",
    "            file.write(response.raw.read())\n",
    "        print(\"Download completed.\")\n",
    "    else:\n",
    "        print(\"Failed to download the file.\")\n",
    "        return\n",
    "\n",
    "    # Extract the tar.gz file\n",
    "    print(\"Extracting the file...\")\n",
    "    try:\n",
    "        with tarfile.open(filename, 'r:gz') as tar:\n",
    "            tar.extractall(path=extract_to)\n",
    "        print(\"Extraction completed.\")\n",
    "    except Exception as e:\n",
    "        print(f\"Failed to extract the file: {e}\")\n",
    "    finally:\n",
    "        # Optionally remove the tar.gz file after extraction\n",
    "        os.remove(filename)\n",
    "        print(\"Downloaded tar.gz file removed.\")\n",
    "\n",
    "# URL of the tar.gz file\n",
    "url = \"https://video.udacity-data.com/topher/2024/August/66b9ba05_arvato_data.tar/arvato_data.tar.gz\"\n",
    "\n",
    "# Call the function with the URL\n",
    "download_and_extract(url, extract_to=\".\")"
   ],
   "outputs": [
    {
     "name": "stdout",
     "output_type": "stream",
     "text": [
      "Downloading the file...\n",
      "Download completed.\n",
      "Extracting the file...\n",
      "Extraction completed.\n",
      "Downloaded tar.gz file removed.\n"
     ]
    }
   ],
   "execution_count": 5
  },
  {
   "cell_type": "markdown",
   "metadata": {},
   "source": "# Part 0: Get to Know the Data"
  },
  {
   "cell_type": "code",
   "metadata": {
    "ExecuteTime": {
     "end_time": "2025-04-07T21:20:53.959902Z",
     "start_time": "2025-04-07T21:20:53.134180Z"
    }
   },
   "source": [
    "population = pd.read_csv(\"../data/Udacity_AZDIAS_052018.csv\", sep=\";\", nrows=10000)\n",
    "customers = pd.read_csv(\"../data/Udacity_CUSTOMERS_052018.csv\", sep=\";\", nrows=10000)"
   ],
   "outputs": [
    {
     "name": "stderr",
     "output_type": "stream",
     "text": [
      "/tmp/ipykernel_91124/1933059167.py:1: DtypeWarning: Columns (18,19) have mixed types. Specify dtype option on import or set low_memory=False.\n",
      "  population = pd.read_csv(\"data/Udacity_AZDIAS_052018.csv\", sep=\";\", nrows=10000)\n",
      "/tmp/ipykernel_91124/1933059167.py:2: DtypeWarning: Columns (18,19) have mixed types. Specify dtype option on import or set low_memory=False.\n",
      "  customers = pd.read_csv(\"data/Udacity_CUSTOMERS_052018.csv\", sep=\";\", nrows=10000)\n"
     ]
    }
   ],
   "execution_count": 58
  },
  {
   "metadata": {
    "ExecuteTime": {
     "end_time": "2025-04-07T22:19:42.666117Z",
     "start_time": "2025-04-07T22:19:42.532613Z"
    }
   },
   "cell_type": "code",
   "source": [
    "meta = pd.read_excel(\"../data/meta/dias_values.xlsx\", header=1)\n",
    "meta.columns = meta.columns.str.lower()\n",
    "meta.drop(columns=\"unnamed: 0\", inplace=True)\n",
    "\n",
    "meta[[\"attribute\", \"description\"]] = meta[[\"attribute\", \"description\"]].ffill()\n",
    "\n",
    "meta[\"value\"] = [v.split(\", \") if type(v) == str and \",\" in v else v for v in meta[\"value\"]]\n",
    "meta = meta.explode(\"value\")"
   ],
   "outputs": [],
   "execution_count": 97
  },
  {
   "metadata": {},
   "cell_type": "markdown",
   "source": [
    "## Data Types\n",
    "Besides numeric values there are strings in the datasets which need a separate preprocessing:\n",
    "- `CAMEO_DEU_2015`, `CAMEO_DEUG_2015` and `CAMEO_INTL_2015`\n",
    "  - have `X` or `XX` values that should be treated as null values\n",
    "  - partially have numeric values as strings that should be unified\n",
    "  - are classifications that should be one-hot-encoded\n",
    "    - `CAMEO_INTL_2015` values are a composition of household and family type and should be separated\n",
    "- `D19_LETZTER_KAUF_BRANCHE` shows the sector of the last purchase which is ineligible for our segmentation report and model\n",
    "- `EINGEFUEGT_AM` is the timestamp where the data was created in the database and also unnecessary\n",
    "- `OST_WEST_KZ` is a flag labeled as `W` or `O` that should be one-hot-encoded"
   ]
  },
  {
   "cell_type": "code",
   "metadata": {
    "ExecuteTime": {
     "end_time": "2025-04-07T21:23:21.182489Z",
     "start_time": "2025-04-07T21:23:21.172132Z"
    }
   },
   "source": "population.dtypes.value_counts()",
   "outputs": [
    {
     "data": {
      "text/plain": [
       "float64    269\n",
       "int64       93\n",
       "object       2\n",
       "Name: count, dtype: int64"
      ]
     },
     "execution_count": 72,
     "metadata": {},
     "output_type": "execute_result"
    }
   ],
   "execution_count": 72
  },
  {
   "metadata": {
    "ExecuteTime": {
     "end_time": "2025-04-07T21:23:24.726128Z",
     "start_time": "2025-04-07T21:23:24.715190Z"
    }
   },
   "cell_type": "code",
   "source": "population.select_dtypes(include='object').head()",
   "outputs": [
    {
     "data": {
      "text/plain": [
       "  CAMEO_DEU_2015 OST_WEST_KZ\n",
       "0            NaN         NaN\n",
       "1             8A           W\n",
       "2             4C           W\n",
       "3             2A           W\n",
       "4             6B           W"
      ],
      "text/html": [
       "<div>\n",
       "<style scoped>\n",
       "    .dataframe tbody tr th:only-of-type {\n",
       "        vertical-align: middle;\n",
       "    }\n",
       "\n",
       "    .dataframe tbody tr th {\n",
       "        vertical-align: top;\n",
       "    }\n",
       "\n",
       "    .dataframe thead th {\n",
       "        text-align: right;\n",
       "    }\n",
       "</style>\n",
       "<table border=\"1\" class=\"dataframe\">\n",
       "  <thead>\n",
       "    <tr style=\"text-align: right;\">\n",
       "      <th></th>\n",
       "      <th>CAMEO_DEU_2015</th>\n",
       "      <th>OST_WEST_KZ</th>\n",
       "    </tr>\n",
       "  </thead>\n",
       "  <tbody>\n",
       "    <tr>\n",
       "      <th>0</th>\n",
       "      <td>NaN</td>\n",
       "      <td>NaN</td>\n",
       "    </tr>\n",
       "    <tr>\n",
       "      <th>1</th>\n",
       "      <td>8A</td>\n",
       "      <td>W</td>\n",
       "    </tr>\n",
       "    <tr>\n",
       "      <th>2</th>\n",
       "      <td>4C</td>\n",
       "      <td>W</td>\n",
       "    </tr>\n",
       "    <tr>\n",
       "      <th>3</th>\n",
       "      <td>2A</td>\n",
       "      <td>W</td>\n",
       "    </tr>\n",
       "    <tr>\n",
       "      <th>4</th>\n",
       "      <td>6B</td>\n",
       "      <td>W</td>\n",
       "    </tr>\n",
       "  </tbody>\n",
       "</table>\n",
       "</div>"
      ]
     },
     "execution_count": 73,
     "metadata": {},
     "output_type": "execute_result"
    }
   ],
   "execution_count": 73
  },
  {
   "metadata": {
    "ExecuteTime": {
     "end_time": "2025-04-07T21:22:54.660056Z",
     "start_time": "2025-04-07T21:22:54.648024Z"
    }
   },
   "cell_type": "code",
   "source": "population[\"CAMEO_DEU_2015\"].unique()",
   "outputs": [
    {
     "data": {
      "text/plain": [
       "array([nan, '8A', '4C', '2A', '6B', '8C', '4A', '2D', '1A', '1E', '9D',\n",
       "       '5C', '8B', '7A', '5D', '9E', '9B', '1B', '3D', '4E', '4B', '3C',\n",
       "       '5A', '7B', '9A', '6D', '6E', '2C', '7C', '9C', '7D', '5E', '1D',\n",
       "       '8D', '6C', '6A', '5B', '4D', '3A', '2B', '7E', '3B', '6F', '5F',\n",
       "       '1C'], dtype=object)"
      ]
     },
     "execution_count": 68,
     "metadata": {},
     "output_type": "execute_result"
    }
   ],
   "execution_count": 68
  },
  {
   "metadata": {
    "ExecuteTime": {
     "end_time": "2025-04-07T21:22:57.331199Z",
     "start_time": "2025-04-07T21:22:57.323007Z"
    }
   },
   "cell_type": "code",
   "source": "population[\"CAMEO_DEUG_2015\"].unique()",
   "outputs": [
    {
     "data": {
      "text/plain": [
       "array([nan,  8.,  4.,  2.,  6.,  1.,  9.,  5.,  7.,  3.])"
      ]
     },
     "execution_count": 69,
     "metadata": {},
     "output_type": "execute_result"
    }
   ],
   "execution_count": 69
  },
  {
   "metadata": {
    "ExecuteTime": {
     "end_time": "2025-04-07T21:22:59.745994Z",
     "start_time": "2025-04-07T21:22:59.732591Z"
    }
   },
   "cell_type": "code",
   "source": "population[\"CAMEO_INTL_2015\"].unique()",
   "outputs": [
    {
     "data": {
      "text/plain": [
       "array([nan, 51., 24., 12., 43., 54., 22., 14., 13., 15., 33., 41., 34.,\n",
       "       55., 25., 23., 31., 52., 35., 45., 44., 32.])"
      ]
     },
     "execution_count": 70,
     "metadata": {},
     "output_type": "execute_result"
    }
   ],
   "execution_count": 70
  },
  {
   "metadata": {
    "ExecuteTime": {
     "end_time": "2025-04-07T22:20:03.880203Z",
     "start_time": "2025-04-07T22:20:03.870115Z"
    }
   },
   "cell_type": "code",
   "source": "meta[meta[\"attribute\"] == \"CAMEO_INTL_2015\"].head(10)",
   "outputs": [
    {
     "data": {
      "text/plain": [
       "           attribute                                        description value  \\\n",
       "105  CAMEO_INTL_2015  CAMEO classification 2015 - international typo...    -1   \n",
       "106  CAMEO_INTL_2015  (each German CAMEO code belongs to one interna...    11   \n",
       "107  CAMEO_INTL_2015  (each German CAMEO code belongs to one interna...    12   \n",
       "108  CAMEO_INTL_2015  (each German CAMEO code belongs to one interna...    13   \n",
       "109  CAMEO_INTL_2015  (each German CAMEO code belongs to one interna...    14   \n",
       "110  CAMEO_INTL_2015  (each German CAMEO code belongs to one interna...    15   \n",
       "111  CAMEO_INTL_2015  (each German CAMEO code belongs to one interna...    21   \n",
       "112  CAMEO_INTL_2015  (each German CAMEO code belongs to one interna...    22   \n",
       "113  CAMEO_INTL_2015  (each German CAMEO code belongs to one interna...    23   \n",
       "114  CAMEO_INTL_2015  (each German CAMEO code belongs to one interna...    24   \n",
       "\n",
       "                                               meaning  \n",
       "105                                            unknown  \n",
       "106    Wealthy Households-Pre-Family Couples & Singles  \n",
       "107     Wealthy Households-Young Couples With Children  \n",
       "108  Wealthy Households-Families With School Age Ch...  \n",
       "109  Wealthy Households-Older Families &  Mature Co...  \n",
       "110            Wealthy Households-Elders In Retirement  \n",
       "111  Prosperous Households-Pre-Family Couples & Sin...  \n",
       "112  Prosperous Households-Young Couples With Children  \n",
       "113  Prosperous Households-Families With School Age...  \n",
       "114  Prosperous Households-Older Families & Mature ...  "
      ],
      "text/html": [
       "<div>\n",
       "<style scoped>\n",
       "    .dataframe tbody tr th:only-of-type {\n",
       "        vertical-align: middle;\n",
       "    }\n",
       "\n",
       "    .dataframe tbody tr th {\n",
       "        vertical-align: top;\n",
       "    }\n",
       "\n",
       "    .dataframe thead th {\n",
       "        text-align: right;\n",
       "    }\n",
       "</style>\n",
       "<table border=\"1\" class=\"dataframe\">\n",
       "  <thead>\n",
       "    <tr style=\"text-align: right;\">\n",
       "      <th></th>\n",
       "      <th>attribute</th>\n",
       "      <th>description</th>\n",
       "      <th>value</th>\n",
       "      <th>meaning</th>\n",
       "    </tr>\n",
       "  </thead>\n",
       "  <tbody>\n",
       "    <tr>\n",
       "      <th>105</th>\n",
       "      <td>CAMEO_INTL_2015</td>\n",
       "      <td>CAMEO classification 2015 - international typo...</td>\n",
       "      <td>-1</td>\n",
       "      <td>unknown</td>\n",
       "    </tr>\n",
       "    <tr>\n",
       "      <th>106</th>\n",
       "      <td>CAMEO_INTL_2015</td>\n",
       "      <td>(each German CAMEO code belongs to one interna...</td>\n",
       "      <td>11</td>\n",
       "      <td>Wealthy Households-Pre-Family Couples &amp; Singles</td>\n",
       "    </tr>\n",
       "    <tr>\n",
       "      <th>107</th>\n",
       "      <td>CAMEO_INTL_2015</td>\n",
       "      <td>(each German CAMEO code belongs to one interna...</td>\n",
       "      <td>12</td>\n",
       "      <td>Wealthy Households-Young Couples With Children</td>\n",
       "    </tr>\n",
       "    <tr>\n",
       "      <th>108</th>\n",
       "      <td>CAMEO_INTL_2015</td>\n",
       "      <td>(each German CAMEO code belongs to one interna...</td>\n",
       "      <td>13</td>\n",
       "      <td>Wealthy Households-Families With School Age Ch...</td>\n",
       "    </tr>\n",
       "    <tr>\n",
       "      <th>109</th>\n",
       "      <td>CAMEO_INTL_2015</td>\n",
       "      <td>(each German CAMEO code belongs to one interna...</td>\n",
       "      <td>14</td>\n",
       "      <td>Wealthy Households-Older Families &amp;  Mature Co...</td>\n",
       "    </tr>\n",
       "    <tr>\n",
       "      <th>110</th>\n",
       "      <td>CAMEO_INTL_2015</td>\n",
       "      <td>(each German CAMEO code belongs to one interna...</td>\n",
       "      <td>15</td>\n",
       "      <td>Wealthy Households-Elders In Retirement</td>\n",
       "    </tr>\n",
       "    <tr>\n",
       "      <th>111</th>\n",
       "      <td>CAMEO_INTL_2015</td>\n",
       "      <td>(each German CAMEO code belongs to one interna...</td>\n",
       "      <td>21</td>\n",
       "      <td>Prosperous Households-Pre-Family Couples &amp; Sin...</td>\n",
       "    </tr>\n",
       "    <tr>\n",
       "      <th>112</th>\n",
       "      <td>CAMEO_INTL_2015</td>\n",
       "      <td>(each German CAMEO code belongs to one interna...</td>\n",
       "      <td>22</td>\n",
       "      <td>Prosperous Households-Young Couples With Children</td>\n",
       "    </tr>\n",
       "    <tr>\n",
       "      <th>113</th>\n",
       "      <td>CAMEO_INTL_2015</td>\n",
       "      <td>(each German CAMEO code belongs to one interna...</td>\n",
       "      <td>23</td>\n",
       "      <td>Prosperous Households-Families With School Age...</td>\n",
       "    </tr>\n",
       "    <tr>\n",
       "      <th>114</th>\n",
       "      <td>CAMEO_INTL_2015</td>\n",
       "      <td>(each German CAMEO code belongs to one interna...</td>\n",
       "      <td>24</td>\n",
       "      <td>Prosperous Households-Older Families &amp; Mature ...</td>\n",
       "    </tr>\n",
       "  </tbody>\n",
       "</table>\n",
       "</div>"
      ]
     },
     "execution_count": 100,
     "metadata": {},
     "output_type": "execute_result"
    }
   ],
   "execution_count": 100
  },
  {
   "metadata": {
    "ExecuteTime": {
     "end_time": "2025-04-07T21:23:08.541855Z",
     "start_time": "2025-04-07T21:23:08.536808Z"
    }
   },
   "cell_type": "code",
   "source": "population[\"OST_WEST_KZ\"].unique()",
   "outputs": [
    {
     "data": {
      "text/plain": [
       "array([nan, 'W', 'O'], dtype=object)"
      ]
     },
     "execution_count": 71,
     "metadata": {},
     "output_type": "execute_result"
    }
   ],
   "execution_count": 71
  },
  {
   "metadata": {
    "ExecuteTime": {
     "end_time": "2025-04-07T21:21:09.363993Z",
     "start_time": "2025-04-07T21:21:09.351165Z"
    }
   },
   "cell_type": "code",
   "source": "population = population.drop(columns=[\"D19_LETZTER_KAUF_BRANCHE\", \"EINGEFUEGT_AM\"])",
   "outputs": [],
   "execution_count": 65
  },
  {
   "metadata": {
    "ExecuteTime": {
     "end_time": "2025-04-07T22:43:05.207426Z",
     "start_time": "2025-04-07T22:43:05.182199Z"
    }
   },
   "cell_type": "code",
   "source": [
    "def prepare_cameo_classifications(df: pd.DataFrame) -> pd.DataFrame:\n",
    "\n",
    "    cameo_columns = df.columns[df.columns.str.startswith(\"CAMEO\")]\n",
    "    df[cameo_columns] = df[cameo_columns].replace([\"X\", \"XX\"], np.nan)\n",
    "\n",
    "    for cameo_column in cameo_columns:\n",
    "        if cameo_column != \"CAMEO_DEU_2015\":\n",
    "            df[cameo_column] = df[cameo_column].astype(float)\n",
    "\n",
    "    df[\"CAMEO_INTL_2015_HOUSEHOLD\"] = [v // 10 if v != -1 else v for v in df[\"CAMEO_INTL_2015\"]]\n",
    "    df[\"CAMEO_INTL_2015_FAMILY\"] = [v % 10 if v != -1 else v for v in df[\"CAMEO_INTL_2015\"]]\n",
    "    df = df.drop(columns=[\"CAMEO_INTL_2015\"])\n",
    "\n",
    "    return df\n",
    "\n",
    "population = prepare_cameo_classifications(population)"
   ],
   "outputs": [],
   "execution_count": 120
  }
 ],
 "metadata": {
  "kernelspec": {
   "display_name": "Python 3 (ipykernel)",
   "language": "python",
   "name": "python3"
  },
  "language_info": {
   "codemirror_mode": {
    "name": "ipython",
    "version": 3
   },
   "file_extension": ".py",
   "mimetype": "text/x-python",
   "name": "python",
   "nbconvert_exporter": "python",
   "pygments_lexer": "ipython3",
   "version": "3.10.13"
  }
 },
 "nbformat": 4,
 "nbformat_minor": 2
}
