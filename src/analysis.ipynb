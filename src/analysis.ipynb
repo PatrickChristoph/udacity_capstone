{
 "cells": [
  {
   "metadata": {
    "ExecuteTime": {
     "end_time": "2025-04-11T13:08:05.010193Z",
     "start_time": "2025-04-11T13:08:05.005453Z"
    }
   },
   "cell_type": "code",
   "source": [
    "import requests\n",
    "import tarfile\n",
    "import os\n",
    "\n",
    "import numpy as np\n",
    "import pandas as pd\n",
    "import plotly.express as px\n",
    "from openpyxl.utils.units import points_to_pixels"
   ],
   "outputs": [],
   "execution_count": 36
  },
  {
   "metadata": {
    "ExecuteTime": {
     "end_time": "2025-04-11T13:08:05.066030Z",
     "start_time": "2025-04-11T13:08:05.057834Z"
    }
   },
   "cell_type": "code",
   "source": [
    "def download_and_extract(url: str, extract_to: str):\n",
    "    \"\"\"\n",
    "    Downloads a tar.gz file from a URL and extracts it to a directory.\n",
    "    Args:\n",
    "    - url (str): URL of the tar.gz file to download.\n",
    "    - extract_to (str): Directory path to extract the contents of the tar.gz file.\n",
    "    \"\"\"\n",
    "    # Get the filename from the URL\n",
    "    filename = url.split('/')[-1]\n",
    "\n",
    "    # Download the file\n",
    "    print(\"Downloading the file...\")\n",
    "    response = requests.get(url, stream=True)\n",
    "    if response.status_code == 200:\n",
    "        with open(filename, 'wb') as file:\n",
    "            file.write(response.raw.read())\n",
    "        print(\"Download completed.\")\n",
    "    else:\n",
    "        print(\"Failed to download the file.\")\n",
    "        return\n",
    "\n",
    "    # Extract the tar.gz file\n",
    "    print(\"Extracting the file...\")\n",
    "    try:\n",
    "        with tarfile.open(filename, 'r:gz') as tar:\n",
    "            tar.extractall(path=extract_to)\n",
    "        print(\"Extraction completed.\")\n",
    "    except Exception as e:\n",
    "        print(f\"Failed to extract the file: {e}\")\n",
    "    finally:\n",
    "        # Optionally remove the tar.gz file after extraction\n",
    "        os.remove(filename)\n",
    "        print(\"Downloaded tar.gz file removed.\")\n",
    "\n",
    "# URL of the tar.gz file\n",
    "url = \"https://video.udacity-data.com/topher/2024/August/66b9ba05_arvato_data.tar/arvato_data.tar.gz\"\n",
    "\n",
    "# Call the function with the URL\n",
    "# download_and_extract(url, extract_to=\".\")"
   ],
   "outputs": [],
   "execution_count": 37
  },
  {
   "cell_type": "markdown",
   "metadata": {},
   "source": "# Part 0: Get to Know the Data"
  },
  {
   "cell_type": "code",
   "metadata": {
    "ExecuteTime": {
     "end_time": "2025-04-11T13:08:08.108411Z",
     "start_time": "2025-04-11T13:08:05.116662Z"
    }
   },
   "source": [
    "population = pd.read_csv(\"../data/Udacity_AZDIAS_052018.csv\", sep=\";\", nrows=100000)\n",
    "customers = pd.read_csv(\"../data/Udacity_CUSTOMERS_052018.csv\", sep=\";\", nrows=10000)\n",
    "\n",
    "population.columns = population.columns.str.lower()\n",
    "customers.columns = customers.columns.str.lower()"
   ],
   "outputs": [
    {
     "name": "stderr",
     "output_type": "stream",
     "text": [
      "/tmp/ipykernel_62336/2617753861.py:1: DtypeWarning: Columns (18,19) have mixed types. Specify dtype option on import or set low_memory=False.\n",
      "  population = pd.read_csv(\"../data/Udacity_AZDIAS_052018.csv\", sep=\";\", nrows=100000)\n",
      "/tmp/ipykernel_62336/2617753861.py:2: DtypeWarning: Columns (18,19) have mixed types. Specify dtype option on import or set low_memory=False.\n",
      "  customers = pd.read_csv(\"../data/Udacity_CUSTOMERS_052018.csv\", sep=\";\", nrows=10000)\n"
     ]
    }
   ],
   "execution_count": 38
  },
  {
   "metadata": {
    "ExecuteTime": {
     "end_time": "2025-04-11T13:08:08.329498Z",
     "start_time": "2025-04-11T13:08:08.137186Z"
    }
   },
   "cell_type": "code",
   "source": [
    "meta = pd.read_excel(\"../data/meta/dias_values.xlsx\", header=1)\n",
    "meta.columns = meta.columns.str.lower()\n",
    "meta.drop(columns=\"unnamed: 0\", inplace=True)\n",
    "\n",
    "meta[[\"attribute\", \"description\"]] = meta[[\"attribute\", \"description\"]].ffill()\n",
    "meta[\"attribute\"] = meta[\"attribute\"].str.lower()\n",
    "\n",
    "meta[\"meaning\"] = meta[\"meaning\"].ffill()\n",
    "\n",
    "meta[\"value\"] = [v.split(\", \") if type(v) == str and \",\" in v else v for v in meta[\"value\"]]\n",
    "meta = meta.explode(\"value\")"
   ],
   "outputs": [],
   "execution_count": 39
  },
  {
   "metadata": {},
   "cell_type": "markdown",
   "source": "## Data Types"
  },
  {
   "cell_type": "code",
   "metadata": {
    "ExecuteTime": {
     "end_time": "2025-04-11T13:08:08.375788Z",
     "start_time": "2025-04-11T13:08:08.364578Z"
    }
   },
   "source": "population.dtypes.value_counts()",
   "outputs": [
    {
     "data": {
      "text/plain": [
       "float64    267\n",
       "int64       93\n",
       "object       6\n",
       "Name: count, dtype: int64"
      ]
     },
     "execution_count": 40,
     "metadata": {},
     "output_type": "execute_result"
    }
   ],
   "execution_count": 40
  },
  {
   "metadata": {},
   "cell_type": "markdown",
   "source": [
    "### Strings\n",
    "Besides numeric values there are strings in the datasets which need a separate preprocessing:\n",
    "- `CAMEO_DEU_2015`, `CAMEO_DEUG_2015` and `CAMEO_INTL_2015`\n",
    "  - have `X` or `XX` values that should be treated as null values\n",
    "  - partially have numeric values as strings that should be unified\n",
    "  - are classifications that should be one-hot-encoded\n",
    "    - `CAMEO_INTL_2015` values are a composition of household and family type and should be separated\n",
    "- `D19_LETZTER_KAUF_BRANCHE` shows the sector of the last purchase which is ineligible for our segmentation report and model\n",
    "- `EINGEFUEGT_AM` is the timestamp where the data was created in the database and also unnecessary\n",
    "- `OST_WEST_KZ` is a flag labeled as `W` or `O` that should be one-hot-encoded"
   ]
  },
  {
   "metadata": {
    "ExecuteTime": {
     "end_time": "2025-04-11T13:08:08.552800Z",
     "start_time": "2025-04-11T13:08:08.530379Z"
    }
   },
   "cell_type": "code",
   "source": "population.select_dtypes(include=\"object\").head()",
   "outputs": [
    {
     "data": {
      "text/plain": [
       "  cameo_deu_2015 cameo_deug_2015 cameo_intl_2015 d19_letzter_kauf_branche  \\\n",
       "0            NaN             NaN             NaN                      NaN   \n",
       "1             8A             8.0            51.0                      NaN   \n",
       "2             4C             4.0            24.0            D19_UNBEKANNT   \n",
       "3             2A             2.0            12.0            D19_UNBEKANNT   \n",
       "4             6B             6.0            43.0               D19_SCHUHE   \n",
       "\n",
       "         eingefuegt_am ost_west_kz  \n",
       "0                  NaN         NaN  \n",
       "1  1992-02-10 00:00:00           W  \n",
       "2  1992-02-12 00:00:00           W  \n",
       "3  1997-04-21 00:00:00           W  \n",
       "4  1992-02-12 00:00:00           W  "
      ],
      "text/html": [
       "<div>\n",
       "<style scoped>\n",
       "    .dataframe tbody tr th:only-of-type {\n",
       "        vertical-align: middle;\n",
       "    }\n",
       "\n",
       "    .dataframe tbody tr th {\n",
       "        vertical-align: top;\n",
       "    }\n",
       "\n",
       "    .dataframe thead th {\n",
       "        text-align: right;\n",
       "    }\n",
       "</style>\n",
       "<table border=\"1\" class=\"dataframe\">\n",
       "  <thead>\n",
       "    <tr style=\"text-align: right;\">\n",
       "      <th></th>\n",
       "      <th>cameo_deu_2015</th>\n",
       "      <th>cameo_deug_2015</th>\n",
       "      <th>cameo_intl_2015</th>\n",
       "      <th>d19_letzter_kauf_branche</th>\n",
       "      <th>eingefuegt_am</th>\n",
       "      <th>ost_west_kz</th>\n",
       "    </tr>\n",
       "  </thead>\n",
       "  <tbody>\n",
       "    <tr>\n",
       "      <th>0</th>\n",
       "      <td>NaN</td>\n",
       "      <td>NaN</td>\n",
       "      <td>NaN</td>\n",
       "      <td>NaN</td>\n",
       "      <td>NaN</td>\n",
       "      <td>NaN</td>\n",
       "    </tr>\n",
       "    <tr>\n",
       "      <th>1</th>\n",
       "      <td>8A</td>\n",
       "      <td>8.0</td>\n",
       "      <td>51.0</td>\n",
       "      <td>NaN</td>\n",
       "      <td>1992-02-10 00:00:00</td>\n",
       "      <td>W</td>\n",
       "    </tr>\n",
       "    <tr>\n",
       "      <th>2</th>\n",
       "      <td>4C</td>\n",
       "      <td>4.0</td>\n",
       "      <td>24.0</td>\n",
       "      <td>D19_UNBEKANNT</td>\n",
       "      <td>1992-02-12 00:00:00</td>\n",
       "      <td>W</td>\n",
       "    </tr>\n",
       "    <tr>\n",
       "      <th>3</th>\n",
       "      <td>2A</td>\n",
       "      <td>2.0</td>\n",
       "      <td>12.0</td>\n",
       "      <td>D19_UNBEKANNT</td>\n",
       "      <td>1997-04-21 00:00:00</td>\n",
       "      <td>W</td>\n",
       "    </tr>\n",
       "    <tr>\n",
       "      <th>4</th>\n",
       "      <td>6B</td>\n",
       "      <td>6.0</td>\n",
       "      <td>43.0</td>\n",
       "      <td>D19_SCHUHE</td>\n",
       "      <td>1992-02-12 00:00:00</td>\n",
       "      <td>W</td>\n",
       "    </tr>\n",
       "  </tbody>\n",
       "</table>\n",
       "</div>"
      ]
     },
     "execution_count": 41,
     "metadata": {},
     "output_type": "execute_result"
    }
   ],
   "execution_count": 41
  },
  {
   "metadata": {
    "ExecuteTime": {
     "end_time": "2025-04-11T13:08:08.639923Z",
     "start_time": "2025-04-11T13:08:08.626419Z"
    }
   },
   "cell_type": "code",
   "source": "population[\"cameo_deu_2015\"].unique()",
   "outputs": [
    {
     "data": {
      "text/plain": [
       "array([nan, '8A', '4C', '2A', '6B', '8C', '4A', '2D', '1A', '1E', '9D',\n",
       "       '5C', '8B', '7A', '5D', '9E', '9B', '1B', '3D', '4E', '4B', '3C',\n",
       "       '5A', '7B', '9A', '6D', '6E', '2C', '7C', '9C', '7D', '5E', '1D',\n",
       "       '8D', '6C', '6A', '5B', '4D', '3A', '2B', '7E', '3B', '6F', '5F',\n",
       "       '1C', 'XX'], dtype=object)"
      ]
     },
     "execution_count": 42,
     "metadata": {},
     "output_type": "execute_result"
    }
   ],
   "execution_count": 42
  },
  {
   "metadata": {
    "ExecuteTime": {
     "end_time": "2025-04-11T13:08:08.746246Z",
     "start_time": "2025-04-11T13:08:08.732430Z"
    }
   },
   "cell_type": "code",
   "source": "population[\"cameo_deug_2015\"].unique()",
   "outputs": [
    {
     "data": {
      "text/plain": [
       "array([nan, 8.0, 4.0, 2.0, 6.0, 1.0, 9.0, 5.0, 7.0, 3.0, '4', '3', '7',\n",
       "       '2', '8', '9', '6', '5', '1', 'X'], dtype=object)"
      ]
     },
     "execution_count": 43,
     "metadata": {},
     "output_type": "execute_result"
    }
   ],
   "execution_count": 43
  },
  {
   "metadata": {
    "ExecuteTime": {
     "end_time": "2025-04-11T13:08:08.963581Z",
     "start_time": "2025-04-11T13:08:08.939222Z"
    }
   },
   "cell_type": "code",
   "source": "population[\"cameo_intl_2015\"].unique()",
   "outputs": [
    {
     "data": {
      "text/plain": [
       "array([nan, 51.0, 24.0, 12.0, 43.0, 54.0, 22.0, 14.0, 13.0, 15.0, 33.0,\n",
       "       41.0, 34.0, 55.0, 25.0, 23.0, 31.0, 52.0, 35.0, 45.0, 44.0, 32.0,\n",
       "       '22', '24', '41', '12', '54', '51', '44', '35', '23', '25', '14',\n",
       "       '34', '52', '55', '31', '32', '15', '13', '43', '33', '45', 'XX'],\n",
       "      dtype=object)"
      ]
     },
     "execution_count": 44,
     "metadata": {},
     "output_type": "execute_result"
    }
   ],
   "execution_count": 44
  },
  {
   "metadata": {
    "ExecuteTime": {
     "end_time": "2025-04-11T13:08:09.173215Z",
     "start_time": "2025-04-11T13:08:09.157116Z"
    }
   },
   "cell_type": "code",
   "source": "meta[meta[\"attribute\"] == \"cameo_intl_2015\"].head(10)",
   "outputs": [
    {
     "data": {
      "text/plain": [
       "           attribute                                        description value  \\\n",
       "105  cameo_intl_2015  CAMEO classification 2015 - international typo...    -1   \n",
       "106  cameo_intl_2015  (each German CAMEO code belongs to one interna...    11   \n",
       "107  cameo_intl_2015  (each German CAMEO code belongs to one interna...    12   \n",
       "108  cameo_intl_2015  (each German CAMEO code belongs to one interna...    13   \n",
       "109  cameo_intl_2015  (each German CAMEO code belongs to one interna...    14   \n",
       "110  cameo_intl_2015  (each German CAMEO code belongs to one interna...    15   \n",
       "111  cameo_intl_2015  (each German CAMEO code belongs to one interna...    21   \n",
       "112  cameo_intl_2015  (each German CAMEO code belongs to one interna...    22   \n",
       "113  cameo_intl_2015  (each German CAMEO code belongs to one interna...    23   \n",
       "114  cameo_intl_2015  (each German CAMEO code belongs to one interna...    24   \n",
       "\n",
       "                                               meaning  \n",
       "105                                            unknown  \n",
       "106    Wealthy Households-Pre-Family Couples & Singles  \n",
       "107     Wealthy Households-Young Couples With Children  \n",
       "108  Wealthy Households-Families With School Age Ch...  \n",
       "109  Wealthy Households-Older Families &  Mature Co...  \n",
       "110            Wealthy Households-Elders In Retirement  \n",
       "111  Prosperous Households-Pre-Family Couples & Sin...  \n",
       "112  Prosperous Households-Young Couples With Children  \n",
       "113  Prosperous Households-Families With School Age...  \n",
       "114  Prosperous Households-Older Families & Mature ...  "
      ],
      "text/html": [
       "<div>\n",
       "<style scoped>\n",
       "    .dataframe tbody tr th:only-of-type {\n",
       "        vertical-align: middle;\n",
       "    }\n",
       "\n",
       "    .dataframe tbody tr th {\n",
       "        vertical-align: top;\n",
       "    }\n",
       "\n",
       "    .dataframe thead th {\n",
       "        text-align: right;\n",
       "    }\n",
       "</style>\n",
       "<table border=\"1\" class=\"dataframe\">\n",
       "  <thead>\n",
       "    <tr style=\"text-align: right;\">\n",
       "      <th></th>\n",
       "      <th>attribute</th>\n",
       "      <th>description</th>\n",
       "      <th>value</th>\n",
       "      <th>meaning</th>\n",
       "    </tr>\n",
       "  </thead>\n",
       "  <tbody>\n",
       "    <tr>\n",
       "      <th>105</th>\n",
       "      <td>cameo_intl_2015</td>\n",
       "      <td>CAMEO classification 2015 - international typo...</td>\n",
       "      <td>-1</td>\n",
       "      <td>unknown</td>\n",
       "    </tr>\n",
       "    <tr>\n",
       "      <th>106</th>\n",
       "      <td>cameo_intl_2015</td>\n",
       "      <td>(each German CAMEO code belongs to one interna...</td>\n",
       "      <td>11</td>\n",
       "      <td>Wealthy Households-Pre-Family Couples &amp; Singles</td>\n",
       "    </tr>\n",
       "    <tr>\n",
       "      <th>107</th>\n",
       "      <td>cameo_intl_2015</td>\n",
       "      <td>(each German CAMEO code belongs to one interna...</td>\n",
       "      <td>12</td>\n",
       "      <td>Wealthy Households-Young Couples With Children</td>\n",
       "    </tr>\n",
       "    <tr>\n",
       "      <th>108</th>\n",
       "      <td>cameo_intl_2015</td>\n",
       "      <td>(each German CAMEO code belongs to one interna...</td>\n",
       "      <td>13</td>\n",
       "      <td>Wealthy Households-Families With School Age Ch...</td>\n",
       "    </tr>\n",
       "    <tr>\n",
       "      <th>109</th>\n",
       "      <td>cameo_intl_2015</td>\n",
       "      <td>(each German CAMEO code belongs to one interna...</td>\n",
       "      <td>14</td>\n",
       "      <td>Wealthy Households-Older Families &amp;  Mature Co...</td>\n",
       "    </tr>\n",
       "    <tr>\n",
       "      <th>110</th>\n",
       "      <td>cameo_intl_2015</td>\n",
       "      <td>(each German CAMEO code belongs to one interna...</td>\n",
       "      <td>15</td>\n",
       "      <td>Wealthy Households-Elders In Retirement</td>\n",
       "    </tr>\n",
       "    <tr>\n",
       "      <th>111</th>\n",
       "      <td>cameo_intl_2015</td>\n",
       "      <td>(each German CAMEO code belongs to one interna...</td>\n",
       "      <td>21</td>\n",
       "      <td>Prosperous Households-Pre-Family Couples &amp; Sin...</td>\n",
       "    </tr>\n",
       "    <tr>\n",
       "      <th>112</th>\n",
       "      <td>cameo_intl_2015</td>\n",
       "      <td>(each German CAMEO code belongs to one interna...</td>\n",
       "      <td>22</td>\n",
       "      <td>Prosperous Households-Young Couples With Children</td>\n",
       "    </tr>\n",
       "    <tr>\n",
       "      <th>113</th>\n",
       "      <td>cameo_intl_2015</td>\n",
       "      <td>(each German CAMEO code belongs to one interna...</td>\n",
       "      <td>23</td>\n",
       "      <td>Prosperous Households-Families With School Age...</td>\n",
       "    </tr>\n",
       "    <tr>\n",
       "      <th>114</th>\n",
       "      <td>cameo_intl_2015</td>\n",
       "      <td>(each German CAMEO code belongs to one interna...</td>\n",
       "      <td>24</td>\n",
       "      <td>Prosperous Households-Older Families &amp; Mature ...</td>\n",
       "    </tr>\n",
       "  </tbody>\n",
       "</table>\n",
       "</div>"
      ]
     },
     "execution_count": 45,
     "metadata": {},
     "output_type": "execute_result"
    }
   ],
   "execution_count": 45
  },
  {
   "metadata": {
    "ExecuteTime": {
     "end_time": "2025-04-11T13:08:09.390252Z",
     "start_time": "2025-04-11T13:08:09.378993Z"
    }
   },
   "cell_type": "code",
   "source": "population[\"ost_west_kz\"].unique()",
   "outputs": [
    {
     "data": {
      "text/plain": [
       "array([nan, 'W', 'O'], dtype=object)"
      ]
     },
     "execution_count": 46,
     "metadata": {},
     "output_type": "execute_result"
    }
   ],
   "execution_count": 46
  },
  {
   "metadata": {
    "ExecuteTime": {
     "end_time": "2025-04-11T13:08:09.567792Z",
     "start_time": "2025-04-11T13:08:09.502128Z"
    }
   },
   "cell_type": "code",
   "source": "population = population.drop(columns=[\"d19_letzter_kauf_branche\", \"eingefuegt_am\"])",
   "outputs": [],
   "execution_count": 47
  },
  {
   "metadata": {
    "ExecuteTime": {
     "end_time": "2025-04-11T13:08:10.109044Z",
     "start_time": "2025-04-11T13:08:09.666773Z"
    }
   },
   "cell_type": "code",
   "source": [
    "def prepare_cameo_classifications(df: pd.DataFrame) -> pd.DataFrame:\n",
    "\n",
    "    cameo_columns = df.columns[df.columns.str.startswith(\"cameo\")]\n",
    "    df[cameo_columns] = df[cameo_columns].replace([\"X\", \"XX\"], np.nan)\n",
    "\n",
    "    for cameo_column in cameo_columns:\n",
    "        if cameo_column != \"cameo_deu_2015\":\n",
    "            df[cameo_column] = df[cameo_column].astype(float)\n",
    "\n",
    "    df[\"cameo_intl_2015_household\"] = [str(v)[0] if v != -1 and pd.notnull(v) else v for v in df[\"cameo_intl_2015\"]]\n",
    "    df[\"cameo_intl_2015_family\"] = [str(v)[1] if v != -1 and pd.notnull(v) else v for v in df[\"cameo_intl_2015\"]]\n",
    "    df = df.drop(columns=[\"cameo_intl_2015\"])\n",
    "\n",
    "    return df\n",
    "\n",
    "population = prepare_cameo_classifications(population)"
   ],
   "outputs": [],
   "execution_count": 48
  },
  {
   "metadata": {},
   "cell_type": "markdown",
   "source": [
    "### Unified Numerical Types\n",
    "All numerical values in the dataset are actually integers, but Pandas converted most of them to float to be able to handle null values.\n",
    "\n",
    "Furthermore, most of the numerical columns are actually categorical variables, which will be addressed with one-hot-encoding at the end of the pre-processing. However, we will start by converting all integer values to floats, because it simplifies the initial preprocessing."
   ]
  },
  {
   "metadata": {
    "ExecuteTime": {
     "end_time": "2025-04-11T13:08:10.189224Z",
     "start_time": "2025-04-11T13:08:10.116987Z"
    }
   },
   "cell_type": "code",
   "source": [
    "int_cols = population.select_dtypes(include=int).columns\n",
    "population[int_cols] = population[int_cols].astype(float)"
   ],
   "outputs": [],
   "execution_count": 49
  },
  {
   "metadata": {},
   "cell_type": "markdown",
   "source": [
    "## Missing Values\n",
    "Before analyzing the missing values we start by converting unknown and invalid values to null in order to be able to handle them as missing data.\n",
    "\n",
    "### Unknown Values\n",
    "The provided list that explains the meanings of the numeric attribute values can be used to identify unknown values.\n",
    "\n",
    "#### Missing Meta Attributes\n",
    "- some attribute names have to be rectified to map them with the population dataset\n",
    "- but these attributes from the meta list couldn't be assigned/found in the population dataset: `bip_flag`, `geoscore_kls7`, `haushaltsstruktur`, `wachstumsgebiet_nb`\n"
   ]
  },
  {
   "metadata": {
    "ExecuteTime": {
     "end_time": "2025-04-11T13:08:10.253007Z",
     "start_time": "2025-04-11T13:08:10.233257Z"
    }
   },
   "cell_type": "code",
   "source": "meta[meta[\"meaning\"].str.contains(\"unknown\") | meta[\"meaning\"].str.startswith(\"no transaction\")]",
   "outputs": [
    {
     "data": {
      "text/plain": [
       "                 attribute                                        description  \\\n",
       "0                 ager_typ                                 best-ager typology   \n",
       "5     alterskategorie_grob       age classification through prename analysis    \n",
       "5     alterskategorie_grob       age classification through prename analysis    \n",
       "11                alter_hh                      main age within the household   \n",
       "33               anrede_kz                                             gender   \n",
       "...                    ...                                                ...   \n",
       "2238    wachstumsgebiet_nb  growing area (population growth in the last 5 ...   \n",
       "2244        w_keit_kind_hh    likelihood of a child present in this household   \n",
       "2244        w_keit_kind_hh    likelihood of a child present in this household   \n",
       "2251              zabeotyp                   typification of energy consumers   \n",
       "2251              zabeotyp                   typification of energy consumers   \n",
       "\n",
       "     value                           meaning  \n",
       "0       -1                           unknown  \n",
       "5       -1                           unknown  \n",
       "5        0                           unknown  \n",
       "11       0  unknown / no main age detectable  \n",
       "33      -1                           unknown  \n",
       "...    ...                               ...  \n",
       "2238     0                           unknown  \n",
       "2244    -1                           unknown  \n",
       "2244     0                           unknown  \n",
       "2251    -1                           unknown  \n",
       "2251     9                           unknown  \n",
       "\n",
       "[380 rows x 4 columns]"
      ],
      "text/html": [
       "<div>\n",
       "<style scoped>\n",
       "    .dataframe tbody tr th:only-of-type {\n",
       "        vertical-align: middle;\n",
       "    }\n",
       "\n",
       "    .dataframe tbody tr th {\n",
       "        vertical-align: top;\n",
       "    }\n",
       "\n",
       "    .dataframe thead th {\n",
       "        text-align: right;\n",
       "    }\n",
       "</style>\n",
       "<table border=\"1\" class=\"dataframe\">\n",
       "  <thead>\n",
       "    <tr style=\"text-align: right;\">\n",
       "      <th></th>\n",
       "      <th>attribute</th>\n",
       "      <th>description</th>\n",
       "      <th>value</th>\n",
       "      <th>meaning</th>\n",
       "    </tr>\n",
       "  </thead>\n",
       "  <tbody>\n",
       "    <tr>\n",
       "      <th>0</th>\n",
       "      <td>ager_typ</td>\n",
       "      <td>best-ager typology</td>\n",
       "      <td>-1</td>\n",
       "      <td>unknown</td>\n",
       "    </tr>\n",
       "    <tr>\n",
       "      <th>5</th>\n",
       "      <td>alterskategorie_grob</td>\n",
       "      <td>age classification through prename analysis</td>\n",
       "      <td>-1</td>\n",
       "      <td>unknown</td>\n",
       "    </tr>\n",
       "    <tr>\n",
       "      <th>5</th>\n",
       "      <td>alterskategorie_grob</td>\n",
       "      <td>age classification through prename analysis</td>\n",
       "      <td>0</td>\n",
       "      <td>unknown</td>\n",
       "    </tr>\n",
       "    <tr>\n",
       "      <th>11</th>\n",
       "      <td>alter_hh</td>\n",
       "      <td>main age within the household</td>\n",
       "      <td>0</td>\n",
       "      <td>unknown / no main age detectable</td>\n",
       "    </tr>\n",
       "    <tr>\n",
       "      <th>33</th>\n",
       "      <td>anrede_kz</td>\n",
       "      <td>gender</td>\n",
       "      <td>-1</td>\n",
       "      <td>unknown</td>\n",
       "    </tr>\n",
       "    <tr>\n",
       "      <th>...</th>\n",
       "      <td>...</td>\n",
       "      <td>...</td>\n",
       "      <td>...</td>\n",
       "      <td>...</td>\n",
       "    </tr>\n",
       "    <tr>\n",
       "      <th>2238</th>\n",
       "      <td>wachstumsgebiet_nb</td>\n",
       "      <td>growing area (population growth in the last 5 ...</td>\n",
       "      <td>0</td>\n",
       "      <td>unknown</td>\n",
       "    </tr>\n",
       "    <tr>\n",
       "      <th>2244</th>\n",
       "      <td>w_keit_kind_hh</td>\n",
       "      <td>likelihood of a child present in this household</td>\n",
       "      <td>-1</td>\n",
       "      <td>unknown</td>\n",
       "    </tr>\n",
       "    <tr>\n",
       "      <th>2244</th>\n",
       "      <td>w_keit_kind_hh</td>\n",
       "      <td>likelihood of a child present in this household</td>\n",
       "      <td>0</td>\n",
       "      <td>unknown</td>\n",
       "    </tr>\n",
       "    <tr>\n",
       "      <th>2251</th>\n",
       "      <td>zabeotyp</td>\n",
       "      <td>typification of energy consumers</td>\n",
       "      <td>-1</td>\n",
       "      <td>unknown</td>\n",
       "    </tr>\n",
       "    <tr>\n",
       "      <th>2251</th>\n",
       "      <td>zabeotyp</td>\n",
       "      <td>typification of energy consumers</td>\n",
       "      <td>9</td>\n",
       "      <td>unknown</td>\n",
       "    </tr>\n",
       "  </tbody>\n",
       "</table>\n",
       "<p>380 rows × 4 columns</p>\n",
       "</div>"
      ]
     },
     "execution_count": 50,
     "metadata": {},
     "output_type": "execute_result"
    }
   ],
   "execution_count": 50
  },
  {
   "metadata": {
    "ExecuteTime": {
     "end_time": "2025-04-11T13:08:10.357940Z",
     "start_time": "2025-04-11T13:08:10.348552Z"
    }
   },
   "cell_type": "code",
   "source": [
    "def identify_missing_meta_attributes(meta: pd.DataFrame, df: pd.DataFrame) -> pd.DataFrame:\n",
    "    missing_meta_attributes = list(set(meta[\"attribute\"].unique()).difference(df.columns))\n",
    "    missing_meta_attributes.sort()\n",
    "    missing_meta_attributes.remove(\"cameo_intl_2015\")\n",
    "    return missing_meta_attributes"
   ],
   "outputs": [],
   "execution_count": 51
  },
  {
   "metadata": {
    "ExecuteTime": {
     "end_time": "2025-04-11T13:08:10.523893Z",
     "start_time": "2025-04-11T13:08:10.515517Z"
    }
   },
   "cell_type": "code",
   "source": "identify_missing_meta_attributes(meta, population)",
   "outputs": [
    {
     "data": {
      "text/plain": [
       "['bip_flag',\n",
       " 'd19_banken_direkt_rz',\n",
       " 'd19_banken_gross_rz',\n",
       " 'd19_banken_lokal_rz',\n",
       " 'd19_banken_rest_rz',\n",
       " 'd19_bekleidung_geh_rz',\n",
       " 'd19_bekleidung_rest_rz',\n",
       " 'd19_bildung_rz',\n",
       " 'd19_bio_oeko_rz',\n",
       " 'd19_buch_rz',\n",
       " 'd19_digit_serv_rz',\n",
       " 'd19_drogerieartikel_rz',\n",
       " 'd19_energie_rz',\n",
       " 'd19_freizeit_rz',\n",
       " 'd19_garten_rz',\n",
       " 'd19_handwerk_rz',\n",
       " 'd19_haus_deko_rz',\n",
       " 'd19_kinderartikel_rz',\n",
       " 'd19_kk_kundentyp',\n",
       " 'd19_kosmetik_rz',\n",
       " 'd19_lebensmittel_rz',\n",
       " 'd19_lotto_rz',\n",
       " 'd19_nahrungsergaenzung_rz',\n",
       " 'd19_ratgeber_rz',\n",
       " 'd19_reisen_rz',\n",
       " 'd19_sammelartikel_rz',\n",
       " 'd19_schuhe_rz',\n",
       " 'd19_sonstige_rz',\n",
       " 'd19_technik_rz',\n",
       " 'd19_telko_mobile_rz',\n",
       " 'd19_telko_rest_rz',\n",
       " 'd19_tierartikel_rz',\n",
       " 'd19_versand_rest_rz',\n",
       " 'd19_versicherungen_rz',\n",
       " 'd19_vollsortiment_rz',\n",
       " 'd19_wein_feinkost_rz',\n",
       " 'geoscore_kls7',\n",
       " 'haushaltsstruktur',\n",
       " 'kba13_ccm_1400_2500',\n",
       " 'soho_flag',\n",
       " 'wachstumsgebiet_nb']"
      ]
     },
     "execution_count": 52,
     "metadata": {},
     "output_type": "execute_result"
    }
   ],
   "execution_count": 52
  },
  {
   "metadata": {
    "ExecuteTime": {
     "end_time": "2025-04-11T13:08:10.738559Z",
     "start_time": "2025-04-11T13:08:10.723154Z"
    }
   },
   "cell_type": "code",
   "source": [
    "def rectify_meta_attributes(meta: pd.DataFrame) -> pd.DataFrame:\n",
    "    meta[\"attribute\"] = meta[\"attribute\"].replace(r\"_rz$\", \"\", regex=True)\n",
    "\n",
    "    attribute_renaming = {\n",
    "        \"d19_buch\": \"d19_buch_cd\",\n",
    "        \"d19_kk_kundentyp\": \"kk_kundentyp\",\n",
    "        \"kba13_ccm_1400_2500\": \"kba13_ccm_1401_2500\",\n",
    "        \"soho_flag\": \"soho_kz\"\n",
    "    }\n",
    "\n",
    "    meta[\"attribute\"] = meta[\"attribute\"].replace(attribute_renaming)\n",
    "\n",
    "    return meta\n",
    "\n",
    "meta = rectify_meta_attributes(meta)"
   ],
   "outputs": [],
   "execution_count": 53
  },
  {
   "metadata": {
    "ExecuteTime": {
     "end_time": "2025-04-11T13:19:40.843991Z",
     "start_time": "2025-04-11T13:19:40.837917Z"
    }
   },
   "cell_type": "code",
   "source": "identify_missing_meta_attributes(meta, population)",
   "outputs": [
    {
     "data": {
      "text/plain": [
       "['bip_flag', 'geoscore_kls7', 'haushaltsstruktur', 'wachstumsgebiet_nb']"
      ]
     },
     "execution_count": 73,
     "metadata": {},
     "output_type": "execute_result"
    }
   ],
   "execution_count": 73
  },
  {
   "metadata": {
    "ExecuteTime": {
     "end_time": "2025-04-11T13:08:10.839215Z",
     "start_time": "2025-04-11T13:08:10.826170Z"
    }
   },
   "cell_type": "code",
   "source": "unknown_values = meta[meta[\"meaning\"].str.contains(\"unknown\") | meta[\"meaning\"].str.startswith(\"no transaction\")]",
   "outputs": [],
   "execution_count": 54
  },
  {
   "metadata": {
    "ExecuteTime": {
     "end_time": "2025-04-11T13:08:11.372727Z",
     "start_time": "2025-04-11T13:08:10.963970Z"
    }
   },
   "cell_type": "code",
   "source": [
    "def convert_unknown_values_to_null(df: pd.DataFrame, meta: pd.DataFrame) -> pd.DataFrame:\n",
    "    unknown_values = meta[meta[\"meaning\"].str.contains(\"unknown\") | meta[\"meaning\"].str.startswith(\"no transaction\")]\n",
    "\n",
    "    for attribute, unknown_value in zip(unknown_values[\"attribute\"], unknown_values[\"value\"]):\n",
    "        if attribute in df:\n",
    "            df[attribute] = df[attribute].replace(float(unknown_value), np.nan)\n",
    "\n",
    "    return df\n",
    "\n",
    "population = convert_unknown_values_to_null(population, meta)"
   ],
   "outputs": [],
   "execution_count": 55
  },
  {
   "metadata": {},
   "cell_type": "markdown",
   "source": [
    "#### Population Attributes without Meta Information\n",
    "- 54 columns from the population dataset are not included in the provided meta information\n",
    "  - xxx\n",
    "  - we will keep them anyway to see if they are valueable insights for the clustering or predictive model\n",
    "- the additional `d19` columns will be handled like the other ones, so 0 and 10 will be assumed as null values\n",
    "- there are no remaining -1 values found, where the chance is high that they represent unknown values\n",
    "- `lnr` is an identifier for the dataset records and should be removed"
   ]
  },
  {
   "metadata": {
    "ExecuteTime": {
     "end_time": "2025-04-11T13:08:11.858363Z",
     "start_time": "2025-04-11T13:08:11.381656Z"
    }
   },
   "cell_type": "code",
   "source": [
    "missing_population_attributes = list(set(population.columns).difference(meta[\"attribute\"].unique()))\n",
    "missing_population_attributes.sort()\n",
    "missing_population_attributes.remove(\"cameo_intl_2015_household\")\n",
    "missing_population_attributes.remove(\"cameo_intl_2015_family\")\n",
    "\n",
    "population[missing_population_attributes].describe()"
   ],
   "outputs": [
    {
     "data": {
      "text/plain": [
       "         akt_dat_kl  alter_kind1  alter_kind2  alter_kind3  alter_kind4  \\\n",
       "count  91615.000000  9092.000000  3269.000000   690.000000   127.000000   \n",
       "mean       4.456170    11.771887    13.392781    14.455072    14.937008   \n",
       "std        3.644775     4.107494     3.289373     2.759101     2.653982   \n",
       "min        1.000000     2.000000     4.000000     5.000000     8.000000   \n",
       "25%        1.000000     8.000000    11.000000    13.000000    13.000000   \n",
       "50%        3.000000    12.000000    14.000000    15.000000    15.000000   \n",
       "75%        9.000000    15.000000    16.000000    17.000000    17.000000   \n",
       "max        9.000000    18.000000    18.000000    18.000000    18.000000   \n",
       "\n",
       "       alterskategorie_fein    anz_kinder  anz_statistische_haushalte  \\\n",
       "count          70204.000000  91615.000000                89474.000000   \n",
       "mean              13.720372      0.153785                    7.618604   \n",
       "std                5.068927      0.500315                   14.253304   \n",
       "min                0.000000      0.000000                    0.000000   \n",
       "25%               11.000000      0.000000                    1.000000   \n",
       "50%               14.000000      0.000000                    4.000000   \n",
       "75%               17.000000      0.000000                    9.000000   \n",
       "max               25.000000      9.000000                  367.000000   \n",
       "\n",
       "             arbeit  cjt_katalognutzer  ...   strukturtyp    umfeld_alt  \\\n",
       "count  89006.000000       99456.000000  ...  89004.000000  88973.000000   \n",
       "mean       3.163158           3.325782  ...      2.549897      3.228137   \n",
       "std        0.998052           1.497127  ...      0.748359      1.249616   \n",
       "min        1.000000           1.000000  ...      1.000000      1.000000   \n",
       "25%        3.000000           2.000000  ...      2.000000      2.000000   \n",
       "50%        3.000000           4.000000  ...      3.000000      3.000000   \n",
       "75%        4.000000           5.000000  ...      3.000000      4.000000   \n",
       "max        9.000000           5.000000  ...      3.000000      5.000000   \n",
       "\n",
       "        umfeld_jung  ungleichenn_flag  verdichtungsraum           vha  \\\n",
       "count  88973.000000      91615.000000      89004.000000  91615.000000   \n",
       "mean       4.007868          0.091361          4.653487      0.444894   \n",
       "std        1.115011          0.288123          8.531882      1.154330   \n",
       "min        1.000000          0.000000          0.000000      0.000000   \n",
       "25%        3.000000          0.000000          0.000000      0.000000   \n",
       "50%        4.000000          0.000000          1.000000      0.000000   \n",
       "75%        5.000000          0.000000          5.000000      0.000000   \n",
       "max        5.000000          1.000000         45.000000      5.000000   \n",
       "\n",
       "                vhn      vk_dht4a    vk_distanz       vk_zg11  \n",
       "count  86591.000000  91324.000000  91324.000000  91324.000000  \n",
       "mean       2.423612      6.022732      7.566357      5.977114  \n",
       "std        1.168891      2.854200      3.247799      2.775939  \n",
       "min        0.000000      1.000000      1.000000      1.000000  \n",
       "25%        2.000000      4.000000      6.000000      4.000000  \n",
       "50%        2.000000      6.000000      8.000000      6.000000  \n",
       "75%        3.000000      9.000000     10.000000      8.000000  \n",
       "max        4.000000     11.000000     13.000000     11.000000  \n",
       "\n",
       "[8 rows x 54 columns]"
      ],
      "text/html": [
       "<div>\n",
       "<style scoped>\n",
       "    .dataframe tbody tr th:only-of-type {\n",
       "        vertical-align: middle;\n",
       "    }\n",
       "\n",
       "    .dataframe tbody tr th {\n",
       "        vertical-align: top;\n",
       "    }\n",
       "\n",
       "    .dataframe thead th {\n",
       "        text-align: right;\n",
       "    }\n",
       "</style>\n",
       "<table border=\"1\" class=\"dataframe\">\n",
       "  <thead>\n",
       "    <tr style=\"text-align: right;\">\n",
       "      <th></th>\n",
       "      <th>akt_dat_kl</th>\n",
       "      <th>alter_kind1</th>\n",
       "      <th>alter_kind2</th>\n",
       "      <th>alter_kind3</th>\n",
       "      <th>alter_kind4</th>\n",
       "      <th>alterskategorie_fein</th>\n",
       "      <th>anz_kinder</th>\n",
       "      <th>anz_statistische_haushalte</th>\n",
       "      <th>arbeit</th>\n",
       "      <th>cjt_katalognutzer</th>\n",
       "      <th>...</th>\n",
       "      <th>strukturtyp</th>\n",
       "      <th>umfeld_alt</th>\n",
       "      <th>umfeld_jung</th>\n",
       "      <th>ungleichenn_flag</th>\n",
       "      <th>verdichtungsraum</th>\n",
       "      <th>vha</th>\n",
       "      <th>vhn</th>\n",
       "      <th>vk_dht4a</th>\n",
       "      <th>vk_distanz</th>\n",
       "      <th>vk_zg11</th>\n",
       "    </tr>\n",
       "  </thead>\n",
       "  <tbody>\n",
       "    <tr>\n",
       "      <th>count</th>\n",
       "      <td>91615.000000</td>\n",
       "      <td>9092.000000</td>\n",
       "      <td>3269.000000</td>\n",
       "      <td>690.000000</td>\n",
       "      <td>127.000000</td>\n",
       "      <td>70204.000000</td>\n",
       "      <td>91615.000000</td>\n",
       "      <td>89474.000000</td>\n",
       "      <td>89006.000000</td>\n",
       "      <td>99456.000000</td>\n",
       "      <td>...</td>\n",
       "      <td>89004.000000</td>\n",
       "      <td>88973.000000</td>\n",
       "      <td>88973.000000</td>\n",
       "      <td>91615.000000</td>\n",
       "      <td>89004.000000</td>\n",
       "      <td>91615.000000</td>\n",
       "      <td>86591.000000</td>\n",
       "      <td>91324.000000</td>\n",
       "      <td>91324.000000</td>\n",
       "      <td>91324.000000</td>\n",
       "    </tr>\n",
       "    <tr>\n",
       "      <th>mean</th>\n",
       "      <td>4.456170</td>\n",
       "      <td>11.771887</td>\n",
       "      <td>13.392781</td>\n",
       "      <td>14.455072</td>\n",
       "      <td>14.937008</td>\n",
       "      <td>13.720372</td>\n",
       "      <td>0.153785</td>\n",
       "      <td>7.618604</td>\n",
       "      <td>3.163158</td>\n",
       "      <td>3.325782</td>\n",
       "      <td>...</td>\n",
       "      <td>2.549897</td>\n",
       "      <td>3.228137</td>\n",
       "      <td>4.007868</td>\n",
       "      <td>0.091361</td>\n",
       "      <td>4.653487</td>\n",
       "      <td>0.444894</td>\n",
       "      <td>2.423612</td>\n",
       "      <td>6.022732</td>\n",
       "      <td>7.566357</td>\n",
       "      <td>5.977114</td>\n",
       "    </tr>\n",
       "    <tr>\n",
       "      <th>std</th>\n",
       "      <td>3.644775</td>\n",
       "      <td>4.107494</td>\n",
       "      <td>3.289373</td>\n",
       "      <td>2.759101</td>\n",
       "      <td>2.653982</td>\n",
       "      <td>5.068927</td>\n",
       "      <td>0.500315</td>\n",
       "      <td>14.253304</td>\n",
       "      <td>0.998052</td>\n",
       "      <td>1.497127</td>\n",
       "      <td>...</td>\n",
       "      <td>0.748359</td>\n",
       "      <td>1.249616</td>\n",
       "      <td>1.115011</td>\n",
       "      <td>0.288123</td>\n",
       "      <td>8.531882</td>\n",
       "      <td>1.154330</td>\n",
       "      <td>1.168891</td>\n",
       "      <td>2.854200</td>\n",
       "      <td>3.247799</td>\n",
       "      <td>2.775939</td>\n",
       "    </tr>\n",
       "    <tr>\n",
       "      <th>min</th>\n",
       "      <td>1.000000</td>\n",
       "      <td>2.000000</td>\n",
       "      <td>4.000000</td>\n",
       "      <td>5.000000</td>\n",
       "      <td>8.000000</td>\n",
       "      <td>0.000000</td>\n",
       "      <td>0.000000</td>\n",
       "      <td>0.000000</td>\n",
       "      <td>1.000000</td>\n",
       "      <td>1.000000</td>\n",
       "      <td>...</td>\n",
       "      <td>1.000000</td>\n",
       "      <td>1.000000</td>\n",
       "      <td>1.000000</td>\n",
       "      <td>0.000000</td>\n",
       "      <td>0.000000</td>\n",
       "      <td>0.000000</td>\n",
       "      <td>0.000000</td>\n",
       "      <td>1.000000</td>\n",
       "      <td>1.000000</td>\n",
       "      <td>1.000000</td>\n",
       "    </tr>\n",
       "    <tr>\n",
       "      <th>25%</th>\n",
       "      <td>1.000000</td>\n",
       "      <td>8.000000</td>\n",
       "      <td>11.000000</td>\n",
       "      <td>13.000000</td>\n",
       "      <td>13.000000</td>\n",
       "      <td>11.000000</td>\n",
       "      <td>0.000000</td>\n",
       "      <td>1.000000</td>\n",
       "      <td>3.000000</td>\n",
       "      <td>2.000000</td>\n",
       "      <td>...</td>\n",
       "      <td>2.000000</td>\n",
       "      <td>2.000000</td>\n",
       "      <td>3.000000</td>\n",
       "      <td>0.000000</td>\n",
       "      <td>0.000000</td>\n",
       "      <td>0.000000</td>\n",
       "      <td>2.000000</td>\n",
       "      <td>4.000000</td>\n",
       "      <td>6.000000</td>\n",
       "      <td>4.000000</td>\n",
       "    </tr>\n",
       "    <tr>\n",
       "      <th>50%</th>\n",
       "      <td>3.000000</td>\n",
       "      <td>12.000000</td>\n",
       "      <td>14.000000</td>\n",
       "      <td>15.000000</td>\n",
       "      <td>15.000000</td>\n",
       "      <td>14.000000</td>\n",
       "      <td>0.000000</td>\n",
       "      <td>4.000000</td>\n",
       "      <td>3.000000</td>\n",
       "      <td>4.000000</td>\n",
       "      <td>...</td>\n",
       "      <td>3.000000</td>\n",
       "      <td>3.000000</td>\n",
       "      <td>4.000000</td>\n",
       "      <td>0.000000</td>\n",
       "      <td>1.000000</td>\n",
       "      <td>0.000000</td>\n",
       "      <td>2.000000</td>\n",
       "      <td>6.000000</td>\n",
       "      <td>8.000000</td>\n",
       "      <td>6.000000</td>\n",
       "    </tr>\n",
       "    <tr>\n",
       "      <th>75%</th>\n",
       "      <td>9.000000</td>\n",
       "      <td>15.000000</td>\n",
       "      <td>16.000000</td>\n",
       "      <td>17.000000</td>\n",
       "      <td>17.000000</td>\n",
       "      <td>17.000000</td>\n",
       "      <td>0.000000</td>\n",
       "      <td>9.000000</td>\n",
       "      <td>4.000000</td>\n",
       "      <td>5.000000</td>\n",
       "      <td>...</td>\n",
       "      <td>3.000000</td>\n",
       "      <td>4.000000</td>\n",
       "      <td>5.000000</td>\n",
       "      <td>0.000000</td>\n",
       "      <td>5.000000</td>\n",
       "      <td>0.000000</td>\n",
       "      <td>3.000000</td>\n",
       "      <td>9.000000</td>\n",
       "      <td>10.000000</td>\n",
       "      <td>8.000000</td>\n",
       "    </tr>\n",
       "    <tr>\n",
       "      <th>max</th>\n",
       "      <td>9.000000</td>\n",
       "      <td>18.000000</td>\n",
       "      <td>18.000000</td>\n",
       "      <td>18.000000</td>\n",
       "      <td>18.000000</td>\n",
       "      <td>25.000000</td>\n",
       "      <td>9.000000</td>\n",
       "      <td>367.000000</td>\n",
       "      <td>9.000000</td>\n",
       "      <td>5.000000</td>\n",
       "      <td>...</td>\n",
       "      <td>3.000000</td>\n",
       "      <td>5.000000</td>\n",
       "      <td>5.000000</td>\n",
       "      <td>1.000000</td>\n",
       "      <td>45.000000</td>\n",
       "      <td>5.000000</td>\n",
       "      <td>4.000000</td>\n",
       "      <td>11.000000</td>\n",
       "      <td>13.000000</td>\n",
       "      <td>11.000000</td>\n",
       "    </tr>\n",
       "  </tbody>\n",
       "</table>\n",
       "<p>8 rows × 54 columns</p>\n",
       "</div>"
      ]
     },
     "execution_count": 56,
     "metadata": {},
     "output_type": "execute_result"
    }
   ],
   "execution_count": 56
  },
  {
   "metadata": {
    "ExecuteTime": {
     "end_time": "2025-04-11T13:08:12.316822Z",
     "start_time": "2025-04-11T13:08:11.998316Z"
    }
   },
   "cell_type": "code",
   "source": "population = population.drop(columns=[\"lnr\"])",
   "outputs": [],
   "execution_count": 57
  },
  {
   "metadata": {
    "ExecuteTime": {
     "end_time": "2025-04-11T13:08:12.555167Z",
     "start_time": "2025-04-11T13:08:12.381958Z"
    }
   },
   "cell_type": "code",
   "source": [
    "def convert_unknown_d19_values_to_null(df: pd.DataFrame) -> pd.DataFrame:\n",
    "    d19_columns = df.columns[df.columns.str.startswith(\"d19_\")]\n",
    "    df[d19_columns] = df[d19_columns].replace([0.0, 10.0], np.nan)\n",
    "    return df\n",
    "\n",
    "population = convert_unknown_d19_values_to_null(population)"
   ],
   "outputs": [],
   "execution_count": 58
  },
  {
   "metadata": {},
   "cell_type": "markdown",
   "source": [
    "### Invalid Values\n",
    "#### Counts & Dates\n",
    "Some counts and dates are logically invalid and should be replaced with null values:\n",
    "- `geburtsjahr` is the year of birth and has invalid 0 values\n",
    "- `anz_personen` are the number of adult persons in the household and has invalid 0 values although e.g. the year of birth shows that there are indeed adults"
   ]
  },
  {
   "metadata": {
    "ExecuteTime": {
     "end_time": "2025-04-11T13:08:12.741183Z",
     "start_time": "2025-04-11T13:08:12.721715Z"
    }
   },
   "cell_type": "code",
   "source": "meta[meta[\"meaning\"].str.contains(\"numeric\")]",
   "outputs": [
    {
     "data": {
      "text/plain": [
       "                attribute                                        description  \\\n",
       "36    anz_haushalte_aktiv               number of households in the building   \n",
       "37           anz_hh_titel        number of academic title holder in building   \n",
       "38           anz_personen           number of adult persons in the household   \n",
       "39              anz_titel  number of professional title holder in household    \n",
       "711           geburtsjahr                                      year of birth   \n",
       "1167     kba13_anzahl_pkw                         number of cars in the PLZ8   \n",
       "1986     min_gebaeudejahr  year the building was first mentioned in our d...   \n",
       "\n",
       "     value                                    meaning  \n",
       "36       …  numeric value (typically coded from 1-10)  \n",
       "37       …  numeric value (typically coded from 1-10)  \n",
       "38       …   numeric value (typically coded from 1-3)  \n",
       "39       …  numeric value (typically coded from 1-10)  \n",
       "711      …                              numeric value  \n",
       "1167     …                              numeric value  \n",
       "1986     …                              numeric value  "
      ],
      "text/html": [
       "<div>\n",
       "<style scoped>\n",
       "    .dataframe tbody tr th:only-of-type {\n",
       "        vertical-align: middle;\n",
       "    }\n",
       "\n",
       "    .dataframe tbody tr th {\n",
       "        vertical-align: top;\n",
       "    }\n",
       "\n",
       "    .dataframe thead th {\n",
       "        text-align: right;\n",
       "    }\n",
       "</style>\n",
       "<table border=\"1\" class=\"dataframe\">\n",
       "  <thead>\n",
       "    <tr style=\"text-align: right;\">\n",
       "      <th></th>\n",
       "      <th>attribute</th>\n",
       "      <th>description</th>\n",
       "      <th>value</th>\n",
       "      <th>meaning</th>\n",
       "    </tr>\n",
       "  </thead>\n",
       "  <tbody>\n",
       "    <tr>\n",
       "      <th>36</th>\n",
       "      <td>anz_haushalte_aktiv</td>\n",
       "      <td>number of households in the building</td>\n",
       "      <td>…</td>\n",
       "      <td>numeric value (typically coded from 1-10)</td>\n",
       "    </tr>\n",
       "    <tr>\n",
       "      <th>37</th>\n",
       "      <td>anz_hh_titel</td>\n",
       "      <td>number of academic title holder in building</td>\n",
       "      <td>…</td>\n",
       "      <td>numeric value (typically coded from 1-10)</td>\n",
       "    </tr>\n",
       "    <tr>\n",
       "      <th>38</th>\n",
       "      <td>anz_personen</td>\n",
       "      <td>number of adult persons in the household</td>\n",
       "      <td>…</td>\n",
       "      <td>numeric value (typically coded from 1-3)</td>\n",
       "    </tr>\n",
       "    <tr>\n",
       "      <th>39</th>\n",
       "      <td>anz_titel</td>\n",
       "      <td>number of professional title holder in household</td>\n",
       "      <td>…</td>\n",
       "      <td>numeric value (typically coded from 1-10)</td>\n",
       "    </tr>\n",
       "    <tr>\n",
       "      <th>711</th>\n",
       "      <td>geburtsjahr</td>\n",
       "      <td>year of birth</td>\n",
       "      <td>…</td>\n",
       "      <td>numeric value</td>\n",
       "    </tr>\n",
       "    <tr>\n",
       "      <th>1167</th>\n",
       "      <td>kba13_anzahl_pkw</td>\n",
       "      <td>number of cars in the PLZ8</td>\n",
       "      <td>…</td>\n",
       "      <td>numeric value</td>\n",
       "    </tr>\n",
       "    <tr>\n",
       "      <th>1986</th>\n",
       "      <td>min_gebaeudejahr</td>\n",
       "      <td>year the building was first mentioned in our d...</td>\n",
       "      <td>…</td>\n",
       "      <td>numeric value</td>\n",
       "    </tr>\n",
       "  </tbody>\n",
       "</table>\n",
       "</div>"
      ]
     },
     "execution_count": 59,
     "metadata": {},
     "output_type": "execute_result"
    }
   ],
   "execution_count": 59
  },
  {
   "metadata": {
    "ExecuteTime": {
     "end_time": "2025-04-11T13:08:13.118807Z",
     "start_time": "2025-04-11T13:08:13.032044Z"
    }
   },
   "cell_type": "code",
   "source": [
    "year_columns = population.columns[population.columns.str.contains(\"jahr\")]\n",
    "\n",
    "population[year_columns].describe()"
   ],
   "outputs": [
    {
     "data": {
      "text/plain": [
       "       eingezogenam_hh_jahr    geburtsjahr  min_gebaeudejahr  \\\n",
       "count          91615.000000  100000.000000      89474.000000   \n",
       "mean            2003.723386    1095.000700       1993.180242   \n",
       "std                7.055596     977.344266          3.151232   \n",
       "min             1986.000000       0.000000       1985.000000   \n",
       "25%             1997.000000       0.000000       1992.000000   \n",
       "50%             2003.000000    1943.000000       1992.000000   \n",
       "75%             2010.000000    1970.000000       1993.000000   \n",
       "max             2018.000000    2017.000000       2016.000000   \n",
       "\n",
       "       praegende_jugendjahre  \n",
       "count           87688.000000  \n",
       "mean                9.286812  \n",
       "std                 4.017162  \n",
       "min                 1.000000  \n",
       "25%                 6.000000  \n",
       "50%                 9.000000  \n",
       "75%                14.000000  \n",
       "max                15.000000  "
      ],
      "text/html": [
       "<div>\n",
       "<style scoped>\n",
       "    .dataframe tbody tr th:only-of-type {\n",
       "        vertical-align: middle;\n",
       "    }\n",
       "\n",
       "    .dataframe tbody tr th {\n",
       "        vertical-align: top;\n",
       "    }\n",
       "\n",
       "    .dataframe thead th {\n",
       "        text-align: right;\n",
       "    }\n",
       "</style>\n",
       "<table border=\"1\" class=\"dataframe\">\n",
       "  <thead>\n",
       "    <tr style=\"text-align: right;\">\n",
       "      <th></th>\n",
       "      <th>eingezogenam_hh_jahr</th>\n",
       "      <th>geburtsjahr</th>\n",
       "      <th>min_gebaeudejahr</th>\n",
       "      <th>praegende_jugendjahre</th>\n",
       "    </tr>\n",
       "  </thead>\n",
       "  <tbody>\n",
       "    <tr>\n",
       "      <th>count</th>\n",
       "      <td>91615.000000</td>\n",
       "      <td>100000.000000</td>\n",
       "      <td>89474.000000</td>\n",
       "      <td>87688.000000</td>\n",
       "    </tr>\n",
       "    <tr>\n",
       "      <th>mean</th>\n",
       "      <td>2003.723386</td>\n",
       "      <td>1095.000700</td>\n",
       "      <td>1993.180242</td>\n",
       "      <td>9.286812</td>\n",
       "    </tr>\n",
       "    <tr>\n",
       "      <th>std</th>\n",
       "      <td>7.055596</td>\n",
       "      <td>977.344266</td>\n",
       "      <td>3.151232</td>\n",
       "      <td>4.017162</td>\n",
       "    </tr>\n",
       "    <tr>\n",
       "      <th>min</th>\n",
       "      <td>1986.000000</td>\n",
       "      <td>0.000000</td>\n",
       "      <td>1985.000000</td>\n",
       "      <td>1.000000</td>\n",
       "    </tr>\n",
       "    <tr>\n",
       "      <th>25%</th>\n",
       "      <td>1997.000000</td>\n",
       "      <td>0.000000</td>\n",
       "      <td>1992.000000</td>\n",
       "      <td>6.000000</td>\n",
       "    </tr>\n",
       "    <tr>\n",
       "      <th>50%</th>\n",
       "      <td>2003.000000</td>\n",
       "      <td>1943.000000</td>\n",
       "      <td>1992.000000</td>\n",
       "      <td>9.000000</td>\n",
       "    </tr>\n",
       "    <tr>\n",
       "      <th>75%</th>\n",
       "      <td>2010.000000</td>\n",
       "      <td>1970.000000</td>\n",
       "      <td>1993.000000</td>\n",
       "      <td>14.000000</td>\n",
       "    </tr>\n",
       "    <tr>\n",
       "      <th>max</th>\n",
       "      <td>2018.000000</td>\n",
       "      <td>2017.000000</td>\n",
       "      <td>2016.000000</td>\n",
       "      <td>15.000000</td>\n",
       "    </tr>\n",
       "  </tbody>\n",
       "</table>\n",
       "</div>"
      ]
     },
     "execution_count": 60,
     "metadata": {},
     "output_type": "execute_result"
    }
   ],
   "execution_count": 60
  },
  {
   "metadata": {
    "ExecuteTime": {
     "end_time": "2025-04-11T13:08:13.294984Z",
     "start_time": "2025-04-11T13:08:13.276124Z"
    }
   },
   "cell_type": "code",
   "source": "population[\"geburtsjahr\"].value_counts()",
   "outputs": [
    {
     "data": {
      "text/plain": [
       "geburtsjahr\n",
       "0.0       44336\n",
       "1965.0     1283\n",
       "1967.0     1252\n",
       "1968.0     1220\n",
       "1970.0     1212\n",
       "          ...  \n",
       "1911.0        3\n",
       "1912.0        3\n",
       "1908.0        1\n",
       "1904.0        1\n",
       "1906.0        1\n",
       "Name: count, Length: 113, dtype: int64"
      ]
     },
     "execution_count": 61,
     "metadata": {},
     "output_type": "execute_result"
    }
   ],
   "execution_count": 61
  },
  {
   "metadata": {
    "ExecuteTime": {
     "end_time": "2025-04-11T13:08:13.706109Z",
     "start_time": "2025-04-11T13:08:13.601699Z"
    }
   },
   "cell_type": "code",
   "source": [
    "count_columns = population.columns[population.columns.str.startswith(\"anz_\") | population.columns.str.contains(\"anzahl\")]\n",
    "\n",
    "population[count_columns].describe()"
   ],
   "outputs": [
    {
     "data": {
      "text/plain": [
       "       anz_haushalte_aktiv  anz_hh_titel    anz_kinder  anz_personen  \\\n",
       "count         89474.000000  89088.000000  91615.000000  91615.000000   \n",
       "mean              8.293918      0.040252      0.153785      1.728483   \n",
       "std              15.220064      0.305668      0.500315      1.169732   \n",
       "min               0.000000      0.000000      0.000000      0.000000   \n",
       "25%               2.000000      0.000000      0.000000      1.000000   \n",
       "50%               4.000000      0.000000      0.000000      1.000000   \n",
       "75%              10.000000      0.000000      0.000000      2.000000   \n",
       "max             377.000000     15.000000      9.000000     45.000000   \n",
       "\n",
       "       anz_statistische_haushalte     anz_titel  kba13_anzahl_pkw  \n",
       "count                89474.000000  91615.000000      88133.000000  \n",
       "mean                     7.618604      0.004333        621.744670  \n",
       "std                     14.253304      0.068771        339.952138  \n",
       "min                      0.000000      0.000000          0.000000  \n",
       "25%                      1.000000      0.000000        386.000000  \n",
       "50%                      4.000000      0.000000        551.000000  \n",
       "75%                      9.000000      0.000000        780.000000  \n",
       "max                    367.000000      2.000000       2300.000000  "
      ],
      "text/html": [
       "<div>\n",
       "<style scoped>\n",
       "    .dataframe tbody tr th:only-of-type {\n",
       "        vertical-align: middle;\n",
       "    }\n",
       "\n",
       "    .dataframe tbody tr th {\n",
       "        vertical-align: top;\n",
       "    }\n",
       "\n",
       "    .dataframe thead th {\n",
       "        text-align: right;\n",
       "    }\n",
       "</style>\n",
       "<table border=\"1\" class=\"dataframe\">\n",
       "  <thead>\n",
       "    <tr style=\"text-align: right;\">\n",
       "      <th></th>\n",
       "      <th>anz_haushalte_aktiv</th>\n",
       "      <th>anz_hh_titel</th>\n",
       "      <th>anz_kinder</th>\n",
       "      <th>anz_personen</th>\n",
       "      <th>anz_statistische_haushalte</th>\n",
       "      <th>anz_titel</th>\n",
       "      <th>kba13_anzahl_pkw</th>\n",
       "    </tr>\n",
       "  </thead>\n",
       "  <tbody>\n",
       "    <tr>\n",
       "      <th>count</th>\n",
       "      <td>89474.000000</td>\n",
       "      <td>89088.000000</td>\n",
       "      <td>91615.000000</td>\n",
       "      <td>91615.000000</td>\n",
       "      <td>89474.000000</td>\n",
       "      <td>91615.000000</td>\n",
       "      <td>88133.000000</td>\n",
       "    </tr>\n",
       "    <tr>\n",
       "      <th>mean</th>\n",
       "      <td>8.293918</td>\n",
       "      <td>0.040252</td>\n",
       "      <td>0.153785</td>\n",
       "      <td>1.728483</td>\n",
       "      <td>7.618604</td>\n",
       "      <td>0.004333</td>\n",
       "      <td>621.744670</td>\n",
       "    </tr>\n",
       "    <tr>\n",
       "      <th>std</th>\n",
       "      <td>15.220064</td>\n",
       "      <td>0.305668</td>\n",
       "      <td>0.500315</td>\n",
       "      <td>1.169732</td>\n",
       "      <td>14.253304</td>\n",
       "      <td>0.068771</td>\n",
       "      <td>339.952138</td>\n",
       "    </tr>\n",
       "    <tr>\n",
       "      <th>min</th>\n",
       "      <td>0.000000</td>\n",
       "      <td>0.000000</td>\n",
       "      <td>0.000000</td>\n",
       "      <td>0.000000</td>\n",
       "      <td>0.000000</td>\n",
       "      <td>0.000000</td>\n",
       "      <td>0.000000</td>\n",
       "    </tr>\n",
       "    <tr>\n",
       "      <th>25%</th>\n",
       "      <td>2.000000</td>\n",
       "      <td>0.000000</td>\n",
       "      <td>0.000000</td>\n",
       "      <td>1.000000</td>\n",
       "      <td>1.000000</td>\n",
       "      <td>0.000000</td>\n",
       "      <td>386.000000</td>\n",
       "    </tr>\n",
       "    <tr>\n",
       "      <th>50%</th>\n",
       "      <td>4.000000</td>\n",
       "      <td>0.000000</td>\n",
       "      <td>0.000000</td>\n",
       "      <td>1.000000</td>\n",
       "      <td>4.000000</td>\n",
       "      <td>0.000000</td>\n",
       "      <td>551.000000</td>\n",
       "    </tr>\n",
       "    <tr>\n",
       "      <th>75%</th>\n",
       "      <td>10.000000</td>\n",
       "      <td>0.000000</td>\n",
       "      <td>0.000000</td>\n",
       "      <td>2.000000</td>\n",
       "      <td>9.000000</td>\n",
       "      <td>0.000000</td>\n",
       "      <td>780.000000</td>\n",
       "    </tr>\n",
       "    <tr>\n",
       "      <th>max</th>\n",
       "      <td>377.000000</td>\n",
       "      <td>15.000000</td>\n",
       "      <td>9.000000</td>\n",
       "      <td>45.000000</td>\n",
       "      <td>367.000000</td>\n",
       "      <td>2.000000</td>\n",
       "      <td>2300.000000</td>\n",
       "    </tr>\n",
       "  </tbody>\n",
       "</table>\n",
       "</div>"
      ]
     },
     "execution_count": 62,
     "metadata": {},
     "output_type": "execute_result"
    }
   ],
   "execution_count": 62
  },
  {
   "metadata": {
    "ExecuteTime": {
     "end_time": "2025-04-11T13:08:13.956460Z",
     "start_time": "2025-04-11T13:08:13.911373Z"
    }
   },
   "cell_type": "code",
   "source": "population[population[\"anz_personen\"] == 0][\"geburtsjahr\"]",
   "outputs": [
    {
     "data": {
      "text/plain": [
       "3        1957.0\n",
       "16       1988.0\n",
       "25       1991.0\n",
       "64       1975.0\n",
       "80       1974.0\n",
       "          ...  \n",
       "99864    1981.0\n",
       "99895    1923.0\n",
       "99929    1967.0\n",
       "99934    1936.0\n",
       "99943    1949.0\n",
       "Name: geburtsjahr, Length: 3817, dtype: float64"
      ]
     },
     "execution_count": 63,
     "metadata": {},
     "output_type": "execute_result"
    }
   ],
   "execution_count": 63
  },
  {
   "metadata": {},
   "cell_type": "markdown",
   "source": [
    "#### Out of Meta Data Range\n",
    "Some values are not included in the ranges from the given meta information, we will therefore handle them as null values."
   ]
  },
  {
   "metadata": {
    "ExecuteTime": {
     "end_time": "2025-04-11T13:08:15.767138Z",
     "start_time": "2025-04-11T13:08:14.127850Z"
    }
   },
   "cell_type": "code",
   "source": [
    "def identify_invalid_oor_values(meta: pd.DataFrame, df: pd.DataFrame, log: bool = False) -> pd.DataFrame:\n",
    "    categorical_values = meta[meta[\"value\"] != \"…\"][[\"attribute\", \"value\"]]\n",
    "    categorical_values = categorical_values.rename(columns={\"value\": \"meta_value\"})\n",
    "\n",
    "    invalid_oor_values = []\n",
    "\n",
    "    for attribute in categorical_values[\"attribute\"].unique():\n",
    "        if attribute in df:\n",
    "            pop_vc = df[attribute].value_counts().reset_index()\n",
    "            pop_vc = pop_vc.merge(\n",
    "                categorical_values[categorical_values[\"attribute\"] == attribute][\"meta_value\"],\n",
    "                left_on=attribute,\n",
    "                right_on=\"meta_value\",\n",
    "                how=\"left\",\n",
    "            )\n",
    "\n",
    "            if sum(pop_vc[\"meta_value\"].isnull()) > 0:\n",
    "                for out_of_range_value in pop_vc[pop_vc[\"meta_value\"].isnull()].itertuples():\n",
    "                    if log:\n",
    "                        print(f\"attribute: {attribute}, invalid value: {out_of_range_value[1]}, affected rows: {out_of_range_value.count}\")\n",
    "                    invalid_oor_values.append([attribute, out_of_range_value[1]])\n",
    "\n",
    "    return pd.DataFrame(data=invalid_oor_values, columns=[\"attribute\", \"value\"])\n",
    "\n",
    "\n",
    "_ = identify_invalid_oor_values(meta, population, log=True)"
   ],
   "outputs": [
    {
     "name": "stdout",
     "output_type": "stream",
     "text": [
      "attribute: kba05_modtemp, invalid value: 6.0, affected rows: 1077\n",
      "attribute: lp_familie_fein, invalid value: 0.0, affected rows: 8329\n",
      "attribute: lp_familie_grob, invalid value: 0.0, affected rows: 8329\n",
      "attribute: lp_lebensphase_fein, invalid value: 0.0, affected rows: 10650\n",
      "attribute: lp_lebensphase_grob, invalid value: 0.0, affected rows: 10307\n",
      "attribute: ortsgr_kls9, invalid value: 0.0, affected rows: 2\n"
     ]
    }
   ],
   "execution_count": 64
  },
  {
   "metadata": {
    "ExecuteTime": {
     "end_time": "2025-04-11T13:08:17.154624Z",
     "start_time": "2025-04-11T13:08:15.817141Z"
    }
   },
   "cell_type": "code",
   "source": [
    "def convert_invalid_values_to_null(df: pd.DataFrame) -> pd.DataFrame:\n",
    "    df.loc[df[\"geburtsjahr\"] == 0, \"geburtsjahr\"] = np.nan\n",
    "    df.loc[df[\"anz_personen\"] == 0, \"anz_personen\"] = np.nan\n",
    "\n",
    "    invalid_oor_values = identify_invalid_oor_values(meta, population)\n",
    "    for attribute, invalid_oor_value in zip(invalid_oor_values[\"attribute\"], invalid_oor_values[\"value\"]):\n",
    "        if attribute in df:\n",
    "            df[attribute] = df[attribute].replace(invalid_oor_value, np.nan)\n",
    "\n",
    "    return df\n",
    "\n",
    "population = convert_invalid_values_to_null(population)"
   ],
   "outputs": [],
   "execution_count": 65
  },
  {
   "metadata": {},
   "cell_type": "markdown",
   "source": "### Remove Rows\n"
  },
  {
   "metadata": {
    "ExecuteTime": {
     "end_time": "2025-04-11T13:08:17.293011Z",
     "start_time": "2025-04-11T13:08:17.187577Z"
    }
   },
   "cell_type": "code",
   "source": "population.isnull().sum(axis=1).sort_values(ascending=False)",
   "outputs": [
    {
     "data": {
      "text/plain": [
       "54       321\n",
       "48       321\n",
       "14       321\n",
       "77134    321\n",
       "24       321\n",
       "        ... \n",
       "35249     18\n",
       "74262     17\n",
       "41931     17\n",
       "88395     17\n",
       "96909     15\n",
       "Length: 100000, dtype: int64"
      ]
     },
     "execution_count": 66,
     "metadata": {},
     "output_type": "execute_result"
    }
   ],
   "execution_count": 66
  },
  {
   "metadata": {
    "ExecuteTime": {
     "end_time": "2025-04-11T13:09:04.151020Z",
     "start_time": "2025-04-11T13:09:04.140686Z"
    }
   },
   "cell_type": "code",
   "source": "population.loc[54]",
   "outputs": [
    {
     "data": {
      "text/plain": [
       "ager_typ                     NaN\n",
       "akt_dat_kl                   NaN\n",
       "alter_hh                     NaN\n",
       "alter_kind1                  NaN\n",
       "alter_kind2                  NaN\n",
       "                            ... \n",
       "zabeotyp                     3.0\n",
       "anrede_kz                    1.0\n",
       "alterskategorie_grob         3.0\n",
       "cameo_intl_2015_household    NaN\n",
       "cameo_intl_2015_family       NaN\n",
       "Name: 54, Length: 364, dtype: object"
      ]
     },
     "execution_count": 70,
     "metadata": {},
     "output_type": "execute_result"
    }
   ],
   "execution_count": 70
  },
  {
   "metadata": {},
   "cell_type": "markdown",
   "source": [
    "### Impute or Remove Columns\n",
    "- `alter_kind1` to `alter_kind4` are largely null because most of the persons in the dataset haven't kids"
   ]
  },
  {
   "metadata": {
    "ExecuteTime": {
     "end_time": "2025-04-11T13:08:17.660967Z",
     "start_time": "2025-04-11T13:08:17.555592Z"
    }
   },
   "cell_type": "code",
   "source": "missing_values_share = pd.Series(round(population.isnull().sum() / len(population) * 100, 1).sort_values(ascending=False), name=\"missing_values_share\")",
   "outputs": [],
   "execution_count": 68
  },
  {
   "metadata": {
    "ExecuteTime": {
     "end_time": "2025-04-11T13:08:17.779634Z",
     "start_time": "2025-04-11T13:08:17.766387Z"
    }
   },
   "cell_type": "code",
   "source": "missing_values_share[missing_values_share > 0]",
   "outputs": [
    {
     "data": {
      "text/plain": [
       "d19_versi_online_quote_12     100.0\n",
       "d19_telko_online_quote_12     100.0\n",
       "d19_banken_online_quote_12     99.9\n",
       "alter_kind4                    99.9\n",
       "titel_kz                       99.8\n",
       "                              ...  \n",
       "cjt_typ_2                       0.5\n",
       "cjt_typ_6                       0.5\n",
       "cjt_typ_5                       0.5\n",
       "cjt_typ_1                       0.5\n",
       "cjt_typ_4                       0.5\n",
       "Name: missing_values_share, Length: 337, dtype: float64"
      ]
     },
     "execution_count": 69,
     "metadata": {},
     "output_type": "execute_result"
    }
   ],
   "execution_count": 69
  }
 ],
 "metadata": {
  "kernelspec": {
   "display_name": "Python 3 (ipykernel)",
   "language": "python",
   "name": "python3"
  },
  "language_info": {
   "codemirror_mode": {
    "name": "ipython",
    "version": 3
   },
   "file_extension": ".py",
   "mimetype": "text/x-python",
   "name": "python",
   "nbconvert_exporter": "python",
   "pygments_lexer": "ipython3",
   "version": "3.10.13"
  }
 },
 "nbformat": 4,
 "nbformat_minor": 2
}
