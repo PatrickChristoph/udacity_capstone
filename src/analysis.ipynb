{
 "cells": [
  {
   "metadata": {
    "ExecuteTime": {
     "end_time": "2025-04-08T21:26:28.107801Z",
     "start_time": "2025-04-08T21:26:27.487939Z"
    }
   },
   "cell_type": "code",
   "source": [
    "import requests\n",
    "import tarfile\n",
    "import os\n",
    "\n",
    "import numpy as np\n",
    "import pandas as pd\n",
    "from pandas import notna"
   ],
   "outputs": [],
   "execution_count": 1
  },
  {
   "metadata": {
    "ExecuteTime": {
     "end_time": "2025-04-05T11:05:37.659192Z",
     "start_time": "2025-04-05T11:05:07.248484Z"
    }
   },
   "cell_type": "code",
   "source": [
    "def download_and_extract(url: str, extract_to: str):\n",
    "    \"\"\"\n",
    "    Downloads a tar.gz file from a URL and extracts it to a directory.\n",
    "    Args:\n",
    "    - url (str): URL of the tar.gz file to download.\n",
    "    - extract_to (str): Directory path to extract the contents of the tar.gz file.\n",
    "    \"\"\"\n",
    "    # Get the filename from the URL\n",
    "    filename = url.split('/')[-1]\n",
    "\n",
    "    # Download the file\n",
    "    print(\"Downloading the file...\")\n",
    "    response = requests.get(url, stream=True)\n",
    "    if response.status_code == 200:\n",
    "        with open(filename, 'wb') as file:\n",
    "            file.write(response.raw.read())\n",
    "        print(\"Download completed.\")\n",
    "    else:\n",
    "        print(\"Failed to download the file.\")\n",
    "        return\n",
    "\n",
    "    # Extract the tar.gz file\n",
    "    print(\"Extracting the file...\")\n",
    "    try:\n",
    "        with tarfile.open(filename, 'r:gz') as tar:\n",
    "            tar.extractall(path=extract_to)\n",
    "        print(\"Extraction completed.\")\n",
    "    except Exception as e:\n",
    "        print(f\"Failed to extract the file: {e}\")\n",
    "    finally:\n",
    "        # Optionally remove the tar.gz file after extraction\n",
    "        os.remove(filename)\n",
    "        print(\"Downloaded tar.gz file removed.\")\n",
    "\n",
    "# URL of the tar.gz file\n",
    "url = \"https://video.udacity-data.com/topher/2024/August/66b9ba05_arvato_data.tar/arvato_data.tar.gz\"\n",
    "\n",
    "# Call the function with the URL\n",
    "download_and_extract(url, extract_to=\".\")"
   ],
   "outputs": [
    {
     "name": "stdout",
     "output_type": "stream",
     "text": [
      "Downloading the file...\n",
      "Download completed.\n",
      "Extracting the file...\n",
      "Extraction completed.\n",
      "Downloaded tar.gz file removed.\n"
     ]
    }
   ],
   "execution_count": 5
  },
  {
   "cell_type": "markdown",
   "metadata": {},
   "source": "# Part 0: Get to Know the Data"
  },
  {
   "cell_type": "code",
   "metadata": {
    "ExecuteTime": {
     "end_time": "2025-04-08T21:37:51.953415Z",
     "start_time": "2025-04-08T21:37:51.868778Z"
    }
   },
   "source": [
    "population = pd.read_csv(\"../data/Udacity_AZDIAS_052018.csv\", sep=\";\", nrows=10000)\n",
    "customers = pd.read_csv(\"../data/Udacity_CUSTOMERS_052018.csv\", sep=\";\", nrows=10000)\n",
    "\n",
    "population.columns = population.columns.str.lower()\n",
    "customers.columns = customers.columns.str.lower()"
   ],
   "outputs": [
    {
     "name": "stderr",
     "output_type": "stream",
     "text": [
      "/tmp/ipykernel_31375/863829815.py:1: DtypeWarning: Columns (18,19) have mixed types. Specify dtype option on import or set low_memory=False.\n",
      "  population = pd.read_csv(\"../data/Udacity_AZDIAS_052018.csv\", sep=\";\", nrows=10000)\n",
      "/tmp/ipykernel_31375/863829815.py:2: DtypeWarning: Columns (18,19) have mixed types. Specify dtype option on import or set low_memory=False.\n",
      "  customers = pd.read_csv(\"../data/Udacity_CUSTOMERS_052018.csv\", sep=\";\", nrows=10000)\n"
     ]
    }
   ],
   "execution_count": 28
  },
  {
   "metadata": {
    "ExecuteTime": {
     "end_time": "2025-04-08T21:49:01.866596Z",
     "start_time": "2025-04-08T21:49:01.742282Z"
    }
   },
   "cell_type": "code",
   "source": [
    "meta = pd.read_excel(\"../data/meta/dias_values.xlsx\", header=1)\n",
    "meta.columns = meta.columns.str.lower()\n",
    "meta.drop(columns=\"unnamed: 0\", inplace=True)\n",
    "\n",
    "meta[[\"attribute\", \"description\"]] = meta[[\"attribute\", \"description\"]].ffill()\n",
    "meta[\"attribute\"] = meta[\"attribute\"].str.lower()\n",
    "\n",
    "meta[\"meaning\"] = meta[\"meaning\"].ffill()\n",
    "\n",
    "meta[\"value\"] = [v.split(\", \") if type(v) == str and \",\" in v else v for v in meta[\"value\"]]\n",
    "meta = meta.explode(\"value\")"
   ],
   "outputs": [],
   "execution_count": 38
  },
  {
   "metadata": {},
   "cell_type": "markdown",
   "source": [
    "## Data Types\n",
    "Besides numeric values there are strings in the datasets which need a separate preprocessing:\n",
    "- `CAMEO_DEU_2015`, `CAMEO_DEUG_2015` and `CAMEO_INTL_2015`\n",
    "  - have `X` or `XX` values that should be treated as null values\n",
    "  - partially have numeric values as strings that should be unified\n",
    "  - are classifications that should be one-hot-encoded\n",
    "    - `CAMEO_INTL_2015` values are a composition of household and family type and should be separated\n",
    "- `D19_LETZTER_KAUF_BRANCHE` shows the sector of the last purchase which is ineligible for our segmentation report and model\n",
    "- `EINGEFUEGT_AM` is the timestamp where the data was created in the database and also unnecessary\n",
    "- `OST_WEST_KZ` is a flag labeled as `W` or `O` that should be one-hot-encoded"
   ]
  },
  {
   "cell_type": "code",
   "metadata": {
    "ExecuteTime": {
     "end_time": "2025-04-08T21:27:37.652544Z",
     "start_time": "2025-04-08T21:27:37.641934Z"
    }
   },
   "source": "population.dtypes.value_counts()",
   "outputs": [
    {
     "data": {
      "text/plain": [
       "float64    267\n",
       "int64       93\n",
       "object       6\n",
       "Name: count, dtype: int64"
      ]
     },
     "execution_count": 4,
     "metadata": {},
     "output_type": "execute_result"
    }
   ],
   "execution_count": 4
  },
  {
   "metadata": {
    "ExecuteTime": {
     "end_time": "2025-04-08T21:27:39.423380Z",
     "start_time": "2025-04-08T21:27:39.412118Z"
    }
   },
   "cell_type": "code",
   "source": "population.select_dtypes(include=\"object\").head()",
   "outputs": [
    {
     "data": {
      "text/plain": [
       "  cameo_deu_2015 cameo_deug_2015 cameo_intl_2015 d19_letzter_kauf_branche  \\\n",
       "0            NaN             NaN             NaN                      NaN   \n",
       "1             8A             8.0            51.0                      NaN   \n",
       "2             4C             4.0            24.0            D19_UNBEKANNT   \n",
       "3             2A             2.0            12.0            D19_UNBEKANNT   \n",
       "4             6B             6.0            43.0               D19_SCHUHE   \n",
       "\n",
       "         eingefuegt_am ost_west_kz  \n",
       "0                  NaN         NaN  \n",
       "1  1992-02-10 00:00:00           W  \n",
       "2  1992-02-12 00:00:00           W  \n",
       "3  1997-04-21 00:00:00           W  \n",
       "4  1992-02-12 00:00:00           W  "
      ],
      "text/html": [
       "<div>\n",
       "<style scoped>\n",
       "    .dataframe tbody tr th:only-of-type {\n",
       "        vertical-align: middle;\n",
       "    }\n",
       "\n",
       "    .dataframe tbody tr th {\n",
       "        vertical-align: top;\n",
       "    }\n",
       "\n",
       "    .dataframe thead th {\n",
       "        text-align: right;\n",
       "    }\n",
       "</style>\n",
       "<table border=\"1\" class=\"dataframe\">\n",
       "  <thead>\n",
       "    <tr style=\"text-align: right;\">\n",
       "      <th></th>\n",
       "      <th>cameo_deu_2015</th>\n",
       "      <th>cameo_deug_2015</th>\n",
       "      <th>cameo_intl_2015</th>\n",
       "      <th>d19_letzter_kauf_branche</th>\n",
       "      <th>eingefuegt_am</th>\n",
       "      <th>ost_west_kz</th>\n",
       "    </tr>\n",
       "  </thead>\n",
       "  <tbody>\n",
       "    <tr>\n",
       "      <th>0</th>\n",
       "      <td>NaN</td>\n",
       "      <td>NaN</td>\n",
       "      <td>NaN</td>\n",
       "      <td>NaN</td>\n",
       "      <td>NaN</td>\n",
       "      <td>NaN</td>\n",
       "    </tr>\n",
       "    <tr>\n",
       "      <th>1</th>\n",
       "      <td>8A</td>\n",
       "      <td>8.0</td>\n",
       "      <td>51.0</td>\n",
       "      <td>NaN</td>\n",
       "      <td>1992-02-10 00:00:00</td>\n",
       "      <td>W</td>\n",
       "    </tr>\n",
       "    <tr>\n",
       "      <th>2</th>\n",
       "      <td>4C</td>\n",
       "      <td>4.0</td>\n",
       "      <td>24.0</td>\n",
       "      <td>D19_UNBEKANNT</td>\n",
       "      <td>1992-02-12 00:00:00</td>\n",
       "      <td>W</td>\n",
       "    </tr>\n",
       "    <tr>\n",
       "      <th>3</th>\n",
       "      <td>2A</td>\n",
       "      <td>2.0</td>\n",
       "      <td>12.0</td>\n",
       "      <td>D19_UNBEKANNT</td>\n",
       "      <td>1997-04-21 00:00:00</td>\n",
       "      <td>W</td>\n",
       "    </tr>\n",
       "    <tr>\n",
       "      <th>4</th>\n",
       "      <td>6B</td>\n",
       "      <td>6.0</td>\n",
       "      <td>43.0</td>\n",
       "      <td>D19_SCHUHE</td>\n",
       "      <td>1992-02-12 00:00:00</td>\n",
       "      <td>W</td>\n",
       "    </tr>\n",
       "  </tbody>\n",
       "</table>\n",
       "</div>"
      ]
     },
     "execution_count": 5,
     "metadata": {},
     "output_type": "execute_result"
    }
   ],
   "execution_count": 5
  },
  {
   "metadata": {
    "ExecuteTime": {
     "end_time": "2025-04-08T21:27:42.881969Z",
     "start_time": "2025-04-08T21:27:42.876638Z"
    }
   },
   "cell_type": "code",
   "source": "population[\"cameo_deu_2015\"].unique()",
   "outputs": [
    {
     "data": {
      "text/plain": [
       "array([nan, '8A', '4C', '2A', '6B', '8C', '4A', '2D', '1A', '1E', '9D',\n",
       "       '5C', '8B', '7A', '5D', '9E', '9B', '1B', '3D', '4E', '4B', '3C',\n",
       "       '5A', '7B', '9A', '6D', '6E', '2C', '7C', '9C', '7D', '5E', '1D',\n",
       "       '8D', '6C', '6A', '5B', '4D', '3A', '2B', '7E', '3B', '6F', '5F',\n",
       "       '1C', 'XX'], dtype=object)"
      ]
     },
     "execution_count": 6,
     "metadata": {},
     "output_type": "execute_result"
    }
   ],
   "execution_count": 6
  },
  {
   "metadata": {
    "ExecuteTime": {
     "end_time": "2025-04-08T21:27:45.490341Z",
     "start_time": "2025-04-08T21:27:45.481130Z"
    }
   },
   "cell_type": "code",
   "source": "population[\"cameo_deug_2015\"].unique()",
   "outputs": [
    {
     "data": {
      "text/plain": [
       "array([nan, 8.0, 4.0, 2.0, 6.0, 1.0, 9.0, 5.0, 7.0, 3.0, '4', '3', '7',\n",
       "       '2', '8', '9', '6', '5', '1', 'X'], dtype=object)"
      ]
     },
     "execution_count": 7,
     "metadata": {},
     "output_type": "execute_result"
    }
   ],
   "execution_count": 7
  },
  {
   "metadata": {
    "ExecuteTime": {
     "end_time": "2025-04-08T21:27:53.710192Z",
     "start_time": "2025-04-08T21:27:53.703653Z"
    }
   },
   "cell_type": "code",
   "source": "population[\"cameo_intl_2015\"].unique()",
   "outputs": [
    {
     "data": {
      "text/plain": [
       "array([nan, 51.0, 24.0, 12.0, 43.0, 54.0, 22.0, 14.0, 13.0, 15.0, 33.0,\n",
       "       41.0, 34.0, 55.0, 25.0, 23.0, 31.0, 52.0, 35.0, 45.0, 44.0, 32.0,\n",
       "       '22', '24', '41', '12', '54', '51', '44', '35', '23', '25', '14',\n",
       "       '34', '52', '55', '31', '32', '15', '13', '43', '33', '45', 'XX'],\n",
       "      dtype=object)"
      ]
     },
     "execution_count": 8,
     "metadata": {},
     "output_type": "execute_result"
    }
   ],
   "execution_count": 8
  },
  {
   "metadata": {
    "ExecuteTime": {
     "end_time": "2025-04-08T21:28:58.038694Z",
     "start_time": "2025-04-08T21:28:58.025489Z"
    }
   },
   "cell_type": "code",
   "source": "meta[meta[\"attribute\"] == \"cameo_intl_2015\"].head(10)",
   "outputs": [
    {
     "data": {
      "text/plain": [
       "           attribute                                        description value  \\\n",
       "105  cameo_intl_2015  CAMEO classification 2015 - international typo...    -1   \n",
       "106  cameo_intl_2015  (each German CAMEO code belongs to one interna...    11   \n",
       "107  cameo_intl_2015  (each German CAMEO code belongs to one interna...    12   \n",
       "108  cameo_intl_2015  (each German CAMEO code belongs to one interna...    13   \n",
       "109  cameo_intl_2015  (each German CAMEO code belongs to one interna...    14   \n",
       "110  cameo_intl_2015  (each German CAMEO code belongs to one interna...    15   \n",
       "111  cameo_intl_2015  (each German CAMEO code belongs to one interna...    21   \n",
       "112  cameo_intl_2015  (each German CAMEO code belongs to one interna...    22   \n",
       "113  cameo_intl_2015  (each German CAMEO code belongs to one interna...    23   \n",
       "114  cameo_intl_2015  (each German CAMEO code belongs to one interna...    24   \n",
       "\n",
       "                                               meaning  \n",
       "105                                            unknown  \n",
       "106    Wealthy Households-Pre-Family Couples & Singles  \n",
       "107     Wealthy Households-Young Couples With Children  \n",
       "108  Wealthy Households-Families With School Age Ch...  \n",
       "109  Wealthy Households-Older Families &  Mature Co...  \n",
       "110            Wealthy Households-Elders In Retirement  \n",
       "111  Prosperous Households-Pre-Family Couples & Sin...  \n",
       "112  Prosperous Households-Young Couples With Children  \n",
       "113  Prosperous Households-Families With School Age...  \n",
       "114  Prosperous Households-Older Families & Mature ...  "
      ],
      "text/html": [
       "<div>\n",
       "<style scoped>\n",
       "    .dataframe tbody tr th:only-of-type {\n",
       "        vertical-align: middle;\n",
       "    }\n",
       "\n",
       "    .dataframe tbody tr th {\n",
       "        vertical-align: top;\n",
       "    }\n",
       "\n",
       "    .dataframe thead th {\n",
       "        text-align: right;\n",
       "    }\n",
       "</style>\n",
       "<table border=\"1\" class=\"dataframe\">\n",
       "  <thead>\n",
       "    <tr style=\"text-align: right;\">\n",
       "      <th></th>\n",
       "      <th>attribute</th>\n",
       "      <th>description</th>\n",
       "      <th>value</th>\n",
       "      <th>meaning</th>\n",
       "    </tr>\n",
       "  </thead>\n",
       "  <tbody>\n",
       "    <tr>\n",
       "      <th>105</th>\n",
       "      <td>cameo_intl_2015</td>\n",
       "      <td>CAMEO classification 2015 - international typo...</td>\n",
       "      <td>-1</td>\n",
       "      <td>unknown</td>\n",
       "    </tr>\n",
       "    <tr>\n",
       "      <th>106</th>\n",
       "      <td>cameo_intl_2015</td>\n",
       "      <td>(each German CAMEO code belongs to one interna...</td>\n",
       "      <td>11</td>\n",
       "      <td>Wealthy Households-Pre-Family Couples &amp; Singles</td>\n",
       "    </tr>\n",
       "    <tr>\n",
       "      <th>107</th>\n",
       "      <td>cameo_intl_2015</td>\n",
       "      <td>(each German CAMEO code belongs to one interna...</td>\n",
       "      <td>12</td>\n",
       "      <td>Wealthy Households-Young Couples With Children</td>\n",
       "    </tr>\n",
       "    <tr>\n",
       "      <th>108</th>\n",
       "      <td>cameo_intl_2015</td>\n",
       "      <td>(each German CAMEO code belongs to one interna...</td>\n",
       "      <td>13</td>\n",
       "      <td>Wealthy Households-Families With School Age Ch...</td>\n",
       "    </tr>\n",
       "    <tr>\n",
       "      <th>109</th>\n",
       "      <td>cameo_intl_2015</td>\n",
       "      <td>(each German CAMEO code belongs to one interna...</td>\n",
       "      <td>14</td>\n",
       "      <td>Wealthy Households-Older Families &amp;  Mature Co...</td>\n",
       "    </tr>\n",
       "    <tr>\n",
       "      <th>110</th>\n",
       "      <td>cameo_intl_2015</td>\n",
       "      <td>(each German CAMEO code belongs to one interna...</td>\n",
       "      <td>15</td>\n",
       "      <td>Wealthy Households-Elders In Retirement</td>\n",
       "    </tr>\n",
       "    <tr>\n",
       "      <th>111</th>\n",
       "      <td>cameo_intl_2015</td>\n",
       "      <td>(each German CAMEO code belongs to one interna...</td>\n",
       "      <td>21</td>\n",
       "      <td>Prosperous Households-Pre-Family Couples &amp; Sin...</td>\n",
       "    </tr>\n",
       "    <tr>\n",
       "      <th>112</th>\n",
       "      <td>cameo_intl_2015</td>\n",
       "      <td>(each German CAMEO code belongs to one interna...</td>\n",
       "      <td>22</td>\n",
       "      <td>Prosperous Households-Young Couples With Children</td>\n",
       "    </tr>\n",
       "    <tr>\n",
       "      <th>113</th>\n",
       "      <td>cameo_intl_2015</td>\n",
       "      <td>(each German CAMEO code belongs to one interna...</td>\n",
       "      <td>23</td>\n",
       "      <td>Prosperous Households-Families With School Age...</td>\n",
       "    </tr>\n",
       "    <tr>\n",
       "      <th>114</th>\n",
       "      <td>cameo_intl_2015</td>\n",
       "      <td>(each German CAMEO code belongs to one interna...</td>\n",
       "      <td>24</td>\n",
       "      <td>Prosperous Households-Older Families &amp; Mature ...</td>\n",
       "    </tr>\n",
       "  </tbody>\n",
       "</table>\n",
       "</div>"
      ]
     },
     "execution_count": 11,
     "metadata": {},
     "output_type": "execute_result"
    }
   ],
   "execution_count": 11
  },
  {
   "metadata": {
    "ExecuteTime": {
     "end_time": "2025-04-08T21:29:06.568155Z",
     "start_time": "2025-04-08T21:29:06.561667Z"
    }
   },
   "cell_type": "code",
   "source": "population[\"ost_west_kz\"].unique()",
   "outputs": [
    {
     "data": {
      "text/plain": [
       "array([nan, 'W', 'O'], dtype=object)"
      ]
     },
     "execution_count": 12,
     "metadata": {},
     "output_type": "execute_result"
    }
   ],
   "execution_count": 12
  },
  {
   "metadata": {
    "ExecuteTime": {
     "end_time": "2025-04-08T21:29:25.962982Z",
     "start_time": "2025-04-08T21:29:25.947897Z"
    }
   },
   "cell_type": "code",
   "source": "population = population.drop(columns=[\"d19_letzter_kauf_branche\", \"eingefuegt_am\"])",
   "outputs": [],
   "execution_count": 13
  },
  {
   "metadata": {
    "ExecuteTime": {
     "end_time": "2025-04-08T21:38:47.794Z",
     "start_time": "2025-04-08T21:38:47.764997Z"
    }
   },
   "cell_type": "code",
   "source": [
    "def prepare_cameo_classifications(df: pd.DataFrame) -> pd.DataFrame:\n",
    "\n",
    "    cameo_columns = df.columns[df.columns.str.startswith(\"cameo\")]\n",
    "    df[cameo_columns] = df[cameo_columns].replace([\"X\", \"XX\"], np.nan)\n",
    "\n",
    "    for cameo_column in cameo_columns:\n",
    "        if cameo_column != \"cameo_deu_2015\":\n",
    "            df[cameo_column] = df[cameo_column].astype(float)\n",
    "\n",
    "    df[\"cameo_intl_2015_household\"] = [str(v)[0] if v != -1 and pd.notnull(v) else v for v in df[\"cameo_intl_2015\"]]\n",
    "    df[\"cameo_intl_2015_family\"] = [str(v)[1] if v != -1 and pd.notnull(v) else v for v in df[\"cameo_intl_2015\"]]\n",
    "    df = df.drop(columns=[\"cameo_intl_2015\"])\n",
    "\n",
    "    return df\n",
    "\n",
    "population = prepare_cameo_classifications(population)"
   ],
   "outputs": [],
   "execution_count": 31
  },
  {
   "metadata": {},
   "cell_type": "markdown",
   "source": "## Unknown Values"
  },
  {
   "metadata": {
    "ExecuteTime": {
     "end_time": "2025-04-08T21:51:34.559093Z",
     "start_time": "2025-04-08T21:51:34.548928Z"
    }
   },
   "cell_type": "code",
   "source": "meta[meta[\"meaning\"].str.contains(\"unknown\")].head()",
   "outputs": [
    {
     "data": {
      "text/plain": [
       "               attribute                                   description value  \\\n",
       "0               ager_typ                            best-ager typology    -1   \n",
       "5   alterskategorie_grob  age classification through prename analysis     -1   \n",
       "5   alterskategorie_grob  age classification through prename analysis      0   \n",
       "11              alter_hh                 main age within the household     0   \n",
       "33             anrede_kz                                        gender    -1   \n",
       "\n",
       "                             meaning  \n",
       "0                            unknown  \n",
       "5                            unknown  \n",
       "5                            unknown  \n",
       "11  unknown / no main age detectable  \n",
       "33                           unknown  "
      ],
      "text/html": [
       "<div>\n",
       "<style scoped>\n",
       "    .dataframe tbody tr th:only-of-type {\n",
       "        vertical-align: middle;\n",
       "    }\n",
       "\n",
       "    .dataframe tbody tr th {\n",
       "        vertical-align: top;\n",
       "    }\n",
       "\n",
       "    .dataframe thead th {\n",
       "        text-align: right;\n",
       "    }\n",
       "</style>\n",
       "<table border=\"1\" class=\"dataframe\">\n",
       "  <thead>\n",
       "    <tr style=\"text-align: right;\">\n",
       "      <th></th>\n",
       "      <th>attribute</th>\n",
       "      <th>description</th>\n",
       "      <th>value</th>\n",
       "      <th>meaning</th>\n",
       "    </tr>\n",
       "  </thead>\n",
       "  <tbody>\n",
       "    <tr>\n",
       "      <th>0</th>\n",
       "      <td>ager_typ</td>\n",
       "      <td>best-ager typology</td>\n",
       "      <td>-1</td>\n",
       "      <td>unknown</td>\n",
       "    </tr>\n",
       "    <tr>\n",
       "      <th>5</th>\n",
       "      <td>alterskategorie_grob</td>\n",
       "      <td>age classification through prename analysis</td>\n",
       "      <td>-1</td>\n",
       "      <td>unknown</td>\n",
       "    </tr>\n",
       "    <tr>\n",
       "      <th>5</th>\n",
       "      <td>alterskategorie_grob</td>\n",
       "      <td>age classification through prename analysis</td>\n",
       "      <td>0</td>\n",
       "      <td>unknown</td>\n",
       "    </tr>\n",
       "    <tr>\n",
       "      <th>11</th>\n",
       "      <td>alter_hh</td>\n",
       "      <td>main age within the household</td>\n",
       "      <td>0</td>\n",
       "      <td>unknown / no main age detectable</td>\n",
       "    </tr>\n",
       "    <tr>\n",
       "      <th>33</th>\n",
       "      <td>anrede_kz</td>\n",
       "      <td>gender</td>\n",
       "      <td>-1</td>\n",
       "      <td>unknown</td>\n",
       "    </tr>\n",
       "  </tbody>\n",
       "</table>\n",
       "</div>"
      ]
     },
     "execution_count": 41,
     "metadata": {},
     "output_type": "execute_result"
    }
   ],
   "execution_count": 41
  },
  {
   "metadata": {
    "ExecuteTime": {
     "end_time": "2025-04-08T22:21:12.594761Z",
     "start_time": "2025-04-08T22:21:12.477431Z"
    }
   },
   "cell_type": "code",
   "source": [
    "def convert_unknown_values_to_null(df: pd.DataFrame, meta: pd.DataFrame) -> pd.DataFrame:\n",
    "    unknown_values = meta[meta[\"meaning\"].str.contains(\"unknown\")]\n",
    "\n",
    "    for attribute, unknown_value in zip(unknown_values.loc[:, \"attribute\"], unknown_values.loc[:, \"value\"]):\n",
    "        if attribute in df:\n",
    "            df[attribute] = df[attribute].replace(unknown_value, np.nan)\n",
    "\n",
    "    return df\n",
    "\n",
    "population = convert_unknown_values_to_null(population, meta)"
   ],
   "outputs": [],
   "execution_count": 63
  },
  {
   "metadata": {
    "ExecuteTime": {
     "end_time": "2025-04-08T22:24:50.610541Z",
     "start_time": "2025-04-08T22:24:50.423552Z"
    }
   },
   "cell_type": "code",
   "source": "assert not -1 in population.values",
   "outputs": [],
   "execution_count": 81
  }
 ],
 "metadata": {
  "kernelspec": {
   "display_name": "Python 3 (ipykernel)",
   "language": "python",
   "name": "python3"
  },
  "language_info": {
   "codemirror_mode": {
    "name": "ipython",
    "version": 3
   },
   "file_extension": ".py",
   "mimetype": "text/x-python",
   "name": "python",
   "nbconvert_exporter": "python",
   "pygments_lexer": "ipython3",
   "version": "3.10.13"
  }
 },
 "nbformat": 4,
 "nbformat_minor": 2
}
