{
 "cells": [
  {
   "metadata": {
    "ExecuteTime": {
     "end_time": "2025-04-10T07:01:42.108951Z",
     "start_time": "2025-04-10T07:01:42.104582Z"
    }
   },
   "cell_type": "code",
   "source": [
    "import requests\n",
    "import tarfile\n",
    "import os\n",
    "\n",
    "import numpy as np\n",
    "import pandas as pd\n",
    "import plotly.express as px\n",
    "from openpyxl.utils.units import points_to_pixels"
   ],
   "outputs": [],
   "execution_count": 2
  },
  {
   "metadata": {
    "ExecuteTime": {
     "end_time": "2025-04-10T07:01:42.177664Z",
     "start_time": "2025-04-10T07:01:42.170994Z"
    }
   },
   "cell_type": "code",
   "source": [
    "def download_and_extract(url: str, extract_to: str):\n",
    "    \"\"\"\n",
    "    Downloads a tar.gz file from a URL and extracts it to a directory.\n",
    "    Args:\n",
    "    - url (str): URL of the tar.gz file to download.\n",
    "    - extract_to (str): Directory path to extract the contents of the tar.gz file.\n",
    "    \"\"\"\n",
    "    # Get the filename from the URL\n",
    "    filename = url.split('/')[-1]\n",
    "\n",
    "    # Download the file\n",
    "    print(\"Downloading the file...\")\n",
    "    response = requests.get(url, stream=True)\n",
    "    if response.status_code == 200:\n",
    "        with open(filename, 'wb') as file:\n",
    "            file.write(response.raw.read())\n",
    "        print(\"Download completed.\")\n",
    "    else:\n",
    "        print(\"Failed to download the file.\")\n",
    "        return\n",
    "\n",
    "    # Extract the tar.gz file\n",
    "    print(\"Extracting the file...\")\n",
    "    try:\n",
    "        with tarfile.open(filename, 'r:gz') as tar:\n",
    "            tar.extractall(path=extract_to)\n",
    "        print(\"Extraction completed.\")\n",
    "    except Exception as e:\n",
    "        print(f\"Failed to extract the file: {e}\")\n",
    "    finally:\n",
    "        # Optionally remove the tar.gz file after extraction\n",
    "        os.remove(filename)\n",
    "        print(\"Downloaded tar.gz file removed.\")\n",
    "\n",
    "# URL of the tar.gz file\n",
    "url = \"https://video.udacity-data.com/topher/2024/August/66b9ba05_arvato_data.tar/arvato_data.tar.gz\"\n",
    "\n",
    "# Call the function with the URL\n",
    "# download_and_extract(url, extract_to=\".\")"
   ],
   "outputs": [],
   "execution_count": 3
  },
  {
   "cell_type": "markdown",
   "metadata": {},
   "source": "# Part 0: Get to Know the Data"
  },
  {
   "cell_type": "code",
   "metadata": {
    "ExecuteTime": {
     "end_time": "2025-04-10T07:01:42.707616Z",
     "start_time": "2025-04-10T07:01:42.227633Z"
    }
   },
   "source": [
    "population = pd.read_csv(\"../data/Udacity_AZDIAS_052018.csv\", sep=\";\", nrows=10000)\n",
    "customers = pd.read_csv(\"../data/Udacity_CUSTOMERS_052018.csv\", sep=\";\", nrows=10000)\n",
    "\n",
    "population.columns = population.columns.str.lower()\n",
    "customers.columns = customers.columns.str.lower()"
   ],
   "outputs": [
    {
     "name": "stderr",
     "output_type": "stream",
     "text": [
      "/tmp/ipykernel_6006/863829815.py:1: DtypeWarning: Columns (18,19) have mixed types. Specify dtype option on import or set low_memory=False.\n",
      "  population = pd.read_csv(\"../data/Udacity_AZDIAS_052018.csv\", sep=\";\", nrows=10000)\n",
      "/tmp/ipykernel_6006/863829815.py:2: DtypeWarning: Columns (18,19) have mixed types. Specify dtype option on import or set low_memory=False.\n",
      "  customers = pd.read_csv(\"../data/Udacity_CUSTOMERS_052018.csv\", sep=\";\", nrows=10000)\n"
     ]
    }
   ],
   "execution_count": 4
  },
  {
   "metadata": {
    "ExecuteTime": {
     "end_time": "2025-04-10T07:01:43.204580Z",
     "start_time": "2025-04-10T07:01:42.734556Z"
    }
   },
   "cell_type": "code",
   "source": [
    "meta = pd.read_excel(\"../data/meta/dias_values.xlsx\", header=1)\n",
    "meta.columns = meta.columns.str.lower()\n",
    "meta.drop(columns=\"unnamed: 0\", inplace=True)\n",
    "\n",
    "meta[[\"attribute\", \"description\"]] = meta[[\"attribute\", \"description\"]].ffill()\n",
    "meta[\"attribute\"] = meta[\"attribute\"].str.lower()\n",
    "\n",
    "meta[\"meaning\"] = meta[\"meaning\"].ffill()\n",
    "\n",
    "meta[\"value\"] = [v.split(\", \") if type(v) == str and \",\" in v else v for v in meta[\"value\"]]\n",
    "meta = meta.explode(\"value\")"
   ],
   "outputs": [],
   "execution_count": 5
  },
  {
   "metadata": {},
   "cell_type": "markdown",
   "source": [
    "## Data Types\n",
    "Besides numeric values there are strings in the datasets which need a separate preprocessing:\n",
    "- `CAMEO_DEU_2015`, `CAMEO_DEUG_2015` and `CAMEO_INTL_2015`\n",
    "  - have `X` or `XX` values that should be treated as null values\n",
    "  - partially have numeric values as strings that should be unified\n",
    "  - are classifications that should be one-hot-encoded\n",
    "    - `CAMEO_INTL_2015` values are a composition of household and family type and should be separated\n",
    "- `D19_LETZTER_KAUF_BRANCHE` shows the sector of the last purchase which is ineligible for our segmentation report and model\n",
    "- `EINGEFUEGT_AM` is the timestamp where the data was created in the database and also unnecessary\n",
    "- `OST_WEST_KZ` is a flag labeled as `W` or `O` that should be one-hot-encoded"
   ]
  },
  {
   "cell_type": "code",
   "metadata": {
    "ExecuteTime": {
     "end_time": "2025-04-10T07:01:43.238595Z",
     "start_time": "2025-04-10T07:01:43.227593Z"
    }
   },
   "source": "population.dtypes.value_counts()",
   "outputs": [
    {
     "data": {
      "text/plain": [
       "float64    267\n",
       "int64       93\n",
       "object       6\n",
       "Name: count, dtype: int64"
      ]
     },
     "execution_count": 6,
     "metadata": {},
     "output_type": "execute_result"
    }
   ],
   "execution_count": 6
  },
  {
   "metadata": {
    "ExecuteTime": {
     "end_time": "2025-04-10T07:01:43.363764Z",
     "start_time": "2025-04-10T07:01:43.350107Z"
    }
   },
   "cell_type": "code",
   "source": "population.select_dtypes(include=\"object\").head()",
   "outputs": [
    {
     "data": {
      "text/plain": [
       "  cameo_deu_2015 cameo_deug_2015 cameo_intl_2015 d19_letzter_kauf_branche  \\\n",
       "0            NaN             NaN             NaN                      NaN   \n",
       "1             8A             8.0            51.0                      NaN   \n",
       "2             4C             4.0            24.0            D19_UNBEKANNT   \n",
       "3             2A             2.0            12.0            D19_UNBEKANNT   \n",
       "4             6B             6.0            43.0               D19_SCHUHE   \n",
       "\n",
       "         eingefuegt_am ost_west_kz  \n",
       "0                  NaN         NaN  \n",
       "1  1992-02-10 00:00:00           W  \n",
       "2  1992-02-12 00:00:00           W  \n",
       "3  1997-04-21 00:00:00           W  \n",
       "4  1992-02-12 00:00:00           W  "
      ],
      "text/html": [
       "<div>\n",
       "<style scoped>\n",
       "    .dataframe tbody tr th:only-of-type {\n",
       "        vertical-align: middle;\n",
       "    }\n",
       "\n",
       "    .dataframe tbody tr th {\n",
       "        vertical-align: top;\n",
       "    }\n",
       "\n",
       "    .dataframe thead th {\n",
       "        text-align: right;\n",
       "    }\n",
       "</style>\n",
       "<table border=\"1\" class=\"dataframe\">\n",
       "  <thead>\n",
       "    <tr style=\"text-align: right;\">\n",
       "      <th></th>\n",
       "      <th>cameo_deu_2015</th>\n",
       "      <th>cameo_deug_2015</th>\n",
       "      <th>cameo_intl_2015</th>\n",
       "      <th>d19_letzter_kauf_branche</th>\n",
       "      <th>eingefuegt_am</th>\n",
       "      <th>ost_west_kz</th>\n",
       "    </tr>\n",
       "  </thead>\n",
       "  <tbody>\n",
       "    <tr>\n",
       "      <th>0</th>\n",
       "      <td>NaN</td>\n",
       "      <td>NaN</td>\n",
       "      <td>NaN</td>\n",
       "      <td>NaN</td>\n",
       "      <td>NaN</td>\n",
       "      <td>NaN</td>\n",
       "    </tr>\n",
       "    <tr>\n",
       "      <th>1</th>\n",
       "      <td>8A</td>\n",
       "      <td>8.0</td>\n",
       "      <td>51.0</td>\n",
       "      <td>NaN</td>\n",
       "      <td>1992-02-10 00:00:00</td>\n",
       "      <td>W</td>\n",
       "    </tr>\n",
       "    <tr>\n",
       "      <th>2</th>\n",
       "      <td>4C</td>\n",
       "      <td>4.0</td>\n",
       "      <td>24.0</td>\n",
       "      <td>D19_UNBEKANNT</td>\n",
       "      <td>1992-02-12 00:00:00</td>\n",
       "      <td>W</td>\n",
       "    </tr>\n",
       "    <tr>\n",
       "      <th>3</th>\n",
       "      <td>2A</td>\n",
       "      <td>2.0</td>\n",
       "      <td>12.0</td>\n",
       "      <td>D19_UNBEKANNT</td>\n",
       "      <td>1997-04-21 00:00:00</td>\n",
       "      <td>W</td>\n",
       "    </tr>\n",
       "    <tr>\n",
       "      <th>4</th>\n",
       "      <td>6B</td>\n",
       "      <td>6.0</td>\n",
       "      <td>43.0</td>\n",
       "      <td>D19_SCHUHE</td>\n",
       "      <td>1992-02-12 00:00:00</td>\n",
       "      <td>W</td>\n",
       "    </tr>\n",
       "  </tbody>\n",
       "</table>\n",
       "</div>"
      ]
     },
     "execution_count": 7,
     "metadata": {},
     "output_type": "execute_result"
    }
   ],
   "execution_count": 7
  },
  {
   "metadata": {
    "ExecuteTime": {
     "end_time": "2025-04-10T07:01:43.407052Z",
     "start_time": "2025-04-10T07:01:43.401670Z"
    }
   },
   "cell_type": "code",
   "source": "population[\"cameo_deu_2015\"].unique()",
   "outputs": [
    {
     "data": {
      "text/plain": [
       "array([nan, '8A', '4C', '2A', '6B', '8C', '4A', '2D', '1A', '1E', '9D',\n",
       "       '5C', '8B', '7A', '5D', '9E', '9B', '1B', '3D', '4E', '4B', '3C',\n",
       "       '5A', '7B', '9A', '6D', '6E', '2C', '7C', '9C', '7D', '5E', '1D',\n",
       "       '8D', '6C', '6A', '5B', '4D', '3A', '2B', '7E', '3B', '6F', '5F',\n",
       "       '1C', 'XX'], dtype=object)"
      ]
     },
     "execution_count": 8,
     "metadata": {},
     "output_type": "execute_result"
    }
   ],
   "execution_count": 8
  },
  {
   "metadata": {
    "ExecuteTime": {
     "end_time": "2025-04-10T07:01:43.552125Z",
     "start_time": "2025-04-10T07:01:43.543648Z"
    }
   },
   "cell_type": "code",
   "source": "population[\"cameo_deug_2015\"].unique()",
   "outputs": [
    {
     "data": {
      "text/plain": [
       "array([nan, 8.0, 4.0, 2.0, 6.0, 1.0, 9.0, 5.0, 7.0, 3.0, '4', '3', '7',\n",
       "       '2', '8', '9', '6', '5', '1', 'X'], dtype=object)"
      ]
     },
     "execution_count": 9,
     "metadata": {},
     "output_type": "execute_result"
    }
   ],
   "execution_count": 9
  },
  {
   "metadata": {
    "ExecuteTime": {
     "end_time": "2025-04-10T07:01:43.819800Z",
     "start_time": "2025-04-10T07:01:43.814089Z"
    }
   },
   "cell_type": "code",
   "source": "population[\"cameo_intl_2015\"].unique()",
   "outputs": [
    {
     "data": {
      "text/plain": [
       "array([nan, 51.0, 24.0, 12.0, 43.0, 54.0, 22.0, 14.0, 13.0, 15.0, 33.0,\n",
       "       41.0, 34.0, 55.0, 25.0, 23.0, 31.0, 52.0, 35.0, 45.0, 44.0, 32.0,\n",
       "       '22', '24', '41', '12', '54', '51', '44', '35', '23', '25', '14',\n",
       "       '34', '52', '55', '31', '32', '15', '13', '43', '33', '45', 'XX'],\n",
       "      dtype=object)"
      ]
     },
     "execution_count": 10,
     "metadata": {},
     "output_type": "execute_result"
    }
   ],
   "execution_count": 10
  },
  {
   "metadata": {
    "ExecuteTime": {
     "end_time": "2025-04-10T07:01:43.971371Z",
     "start_time": "2025-04-10T07:01:43.962797Z"
    }
   },
   "cell_type": "code",
   "source": "meta[meta[\"attribute\"] == \"cameo_intl_2015\"].head(10)",
   "outputs": [
    {
     "data": {
      "text/plain": [
       "           attribute                                        description value  \\\n",
       "105  cameo_intl_2015  CAMEO classification 2015 - international typo...    -1   \n",
       "106  cameo_intl_2015  (each German CAMEO code belongs to one interna...    11   \n",
       "107  cameo_intl_2015  (each German CAMEO code belongs to one interna...    12   \n",
       "108  cameo_intl_2015  (each German CAMEO code belongs to one interna...    13   \n",
       "109  cameo_intl_2015  (each German CAMEO code belongs to one interna...    14   \n",
       "110  cameo_intl_2015  (each German CAMEO code belongs to one interna...    15   \n",
       "111  cameo_intl_2015  (each German CAMEO code belongs to one interna...    21   \n",
       "112  cameo_intl_2015  (each German CAMEO code belongs to one interna...    22   \n",
       "113  cameo_intl_2015  (each German CAMEO code belongs to one interna...    23   \n",
       "114  cameo_intl_2015  (each German CAMEO code belongs to one interna...    24   \n",
       "\n",
       "                                               meaning  \n",
       "105                                            unknown  \n",
       "106    Wealthy Households-Pre-Family Couples & Singles  \n",
       "107     Wealthy Households-Young Couples With Children  \n",
       "108  Wealthy Households-Families With School Age Ch...  \n",
       "109  Wealthy Households-Older Families &  Mature Co...  \n",
       "110            Wealthy Households-Elders In Retirement  \n",
       "111  Prosperous Households-Pre-Family Couples & Sin...  \n",
       "112  Prosperous Households-Young Couples With Children  \n",
       "113  Prosperous Households-Families With School Age...  \n",
       "114  Prosperous Households-Older Families & Mature ...  "
      ],
      "text/html": [
       "<div>\n",
       "<style scoped>\n",
       "    .dataframe tbody tr th:only-of-type {\n",
       "        vertical-align: middle;\n",
       "    }\n",
       "\n",
       "    .dataframe tbody tr th {\n",
       "        vertical-align: top;\n",
       "    }\n",
       "\n",
       "    .dataframe thead th {\n",
       "        text-align: right;\n",
       "    }\n",
       "</style>\n",
       "<table border=\"1\" class=\"dataframe\">\n",
       "  <thead>\n",
       "    <tr style=\"text-align: right;\">\n",
       "      <th></th>\n",
       "      <th>attribute</th>\n",
       "      <th>description</th>\n",
       "      <th>value</th>\n",
       "      <th>meaning</th>\n",
       "    </tr>\n",
       "  </thead>\n",
       "  <tbody>\n",
       "    <tr>\n",
       "      <th>105</th>\n",
       "      <td>cameo_intl_2015</td>\n",
       "      <td>CAMEO classification 2015 - international typo...</td>\n",
       "      <td>-1</td>\n",
       "      <td>unknown</td>\n",
       "    </tr>\n",
       "    <tr>\n",
       "      <th>106</th>\n",
       "      <td>cameo_intl_2015</td>\n",
       "      <td>(each German CAMEO code belongs to one interna...</td>\n",
       "      <td>11</td>\n",
       "      <td>Wealthy Households-Pre-Family Couples &amp; Singles</td>\n",
       "    </tr>\n",
       "    <tr>\n",
       "      <th>107</th>\n",
       "      <td>cameo_intl_2015</td>\n",
       "      <td>(each German CAMEO code belongs to one interna...</td>\n",
       "      <td>12</td>\n",
       "      <td>Wealthy Households-Young Couples With Children</td>\n",
       "    </tr>\n",
       "    <tr>\n",
       "      <th>108</th>\n",
       "      <td>cameo_intl_2015</td>\n",
       "      <td>(each German CAMEO code belongs to one interna...</td>\n",
       "      <td>13</td>\n",
       "      <td>Wealthy Households-Families With School Age Ch...</td>\n",
       "    </tr>\n",
       "    <tr>\n",
       "      <th>109</th>\n",
       "      <td>cameo_intl_2015</td>\n",
       "      <td>(each German CAMEO code belongs to one interna...</td>\n",
       "      <td>14</td>\n",
       "      <td>Wealthy Households-Older Families &amp;  Mature Co...</td>\n",
       "    </tr>\n",
       "    <tr>\n",
       "      <th>110</th>\n",
       "      <td>cameo_intl_2015</td>\n",
       "      <td>(each German CAMEO code belongs to one interna...</td>\n",
       "      <td>15</td>\n",
       "      <td>Wealthy Households-Elders In Retirement</td>\n",
       "    </tr>\n",
       "    <tr>\n",
       "      <th>111</th>\n",
       "      <td>cameo_intl_2015</td>\n",
       "      <td>(each German CAMEO code belongs to one interna...</td>\n",
       "      <td>21</td>\n",
       "      <td>Prosperous Households-Pre-Family Couples &amp; Sin...</td>\n",
       "    </tr>\n",
       "    <tr>\n",
       "      <th>112</th>\n",
       "      <td>cameo_intl_2015</td>\n",
       "      <td>(each German CAMEO code belongs to one interna...</td>\n",
       "      <td>22</td>\n",
       "      <td>Prosperous Households-Young Couples With Children</td>\n",
       "    </tr>\n",
       "    <tr>\n",
       "      <th>113</th>\n",
       "      <td>cameo_intl_2015</td>\n",
       "      <td>(each German CAMEO code belongs to one interna...</td>\n",
       "      <td>23</td>\n",
       "      <td>Prosperous Households-Families With School Age...</td>\n",
       "    </tr>\n",
       "    <tr>\n",
       "      <th>114</th>\n",
       "      <td>cameo_intl_2015</td>\n",
       "      <td>(each German CAMEO code belongs to one interna...</td>\n",
       "      <td>24</td>\n",
       "      <td>Prosperous Households-Older Families &amp; Mature ...</td>\n",
       "    </tr>\n",
       "  </tbody>\n",
       "</table>\n",
       "</div>"
      ]
     },
     "execution_count": 11,
     "metadata": {},
     "output_type": "execute_result"
    }
   ],
   "execution_count": 11
  },
  {
   "metadata": {
    "ExecuteTime": {
     "end_time": "2025-04-10T07:01:44.166589Z",
     "start_time": "2025-04-10T07:01:44.158791Z"
    }
   },
   "cell_type": "code",
   "source": "population[\"ost_west_kz\"].unique()",
   "outputs": [
    {
     "data": {
      "text/plain": [
       "array([nan, 'W', 'O'], dtype=object)"
      ]
     },
     "execution_count": 12,
     "metadata": {},
     "output_type": "execute_result"
    }
   ],
   "execution_count": 12
  },
  {
   "metadata": {
    "ExecuteTime": {
     "end_time": "2025-04-10T07:01:44.353207Z",
     "start_time": "2025-04-10T07:01:44.336475Z"
    }
   },
   "cell_type": "code",
   "source": "population = population.drop(columns=[\"d19_letzter_kauf_branche\", \"eingefuegt_am\"])",
   "outputs": [],
   "execution_count": 13
  },
  {
   "metadata": {
    "ExecuteTime": {
     "end_time": "2025-04-10T07:01:44.501828Z",
     "start_time": "2025-04-10T07:01:44.466037Z"
    }
   },
   "cell_type": "code",
   "source": [
    "def prepare_cameo_classifications(df: pd.DataFrame) -> pd.DataFrame:\n",
    "\n",
    "    cameo_columns = df.columns[df.columns.str.startswith(\"cameo\")]\n",
    "    df[cameo_columns] = df[cameo_columns].replace([\"X\", \"XX\"], np.nan)\n",
    "\n",
    "    for cameo_column in cameo_columns:\n",
    "        if cameo_column != \"cameo_deu_2015\":\n",
    "            df[cameo_column] = df[cameo_column].astype(float)\n",
    "\n",
    "    df[\"cameo_intl_2015_household\"] = [str(v)[0] if v != -1 and pd.notnull(v) else v for v in df[\"cameo_intl_2015\"]]\n",
    "    df[\"cameo_intl_2015_family\"] = [str(v)[1] if v != -1 and pd.notnull(v) else v for v in df[\"cameo_intl_2015\"]]\n",
    "    df = df.drop(columns=[\"cameo_intl_2015\"])\n",
    "\n",
    "    return df\n",
    "\n",
    "population = prepare_cameo_classifications(population)"
   ],
   "outputs": [],
   "execution_count": 14
  },
  {
   "metadata": {},
   "cell_type": "markdown",
   "source": [
    "## Unknown Values\n",
    "The provided list that explains the meanings of the numeric attribute values can be used to identify unknown values and handle them as null values.\n",
    "\n",
    "### Missing Meta Attributes\n",
    "- some attribute names have to be rectified to map them with the population dataset\n",
    "- these attributes from the meta list couldn't be assigned: `bip_flag`, `geoscore_kls7`, `haushaltsstruktur`, `wachstumsgebiet_nb`\n"
   ]
  },
  {
   "metadata": {
    "ExecuteTime": {
     "end_time": "2025-04-10T07:01:44.611543Z",
     "start_time": "2025-04-10T07:01:44.600464Z"
    }
   },
   "cell_type": "code",
   "source": "meta[meta[\"meaning\"].str.contains(\"unknown\") | meta[\"meaning\"].str.startswith(\"no transaction\")]",
   "outputs": [
    {
     "data": {
      "text/plain": [
       "                 attribute                                        description  \\\n",
       "0                 ager_typ                                 best-ager typology   \n",
       "5     alterskategorie_grob       age classification through prename analysis    \n",
       "5     alterskategorie_grob       age classification through prename analysis    \n",
       "11                alter_hh                      main age within the household   \n",
       "33               anrede_kz                                             gender   \n",
       "...                    ...                                                ...   \n",
       "2238    wachstumsgebiet_nb  growing area (population growth in the last 5 ...   \n",
       "2244        w_keit_kind_hh    likelihood of a child present in this household   \n",
       "2244        w_keit_kind_hh    likelihood of a child present in this household   \n",
       "2251              zabeotyp                   typification of energy consumers   \n",
       "2251              zabeotyp                   typification of energy consumers   \n",
       "\n",
       "     value                           meaning  \n",
       "0       -1                           unknown  \n",
       "5       -1                           unknown  \n",
       "5        0                           unknown  \n",
       "11       0  unknown / no main age detectable  \n",
       "33      -1                           unknown  \n",
       "...    ...                               ...  \n",
       "2238     0                           unknown  \n",
       "2244    -1                           unknown  \n",
       "2244     0                           unknown  \n",
       "2251    -1                           unknown  \n",
       "2251     9                           unknown  \n",
       "\n",
       "[380 rows x 4 columns]"
      ],
      "text/html": [
       "<div>\n",
       "<style scoped>\n",
       "    .dataframe tbody tr th:only-of-type {\n",
       "        vertical-align: middle;\n",
       "    }\n",
       "\n",
       "    .dataframe tbody tr th {\n",
       "        vertical-align: top;\n",
       "    }\n",
       "\n",
       "    .dataframe thead th {\n",
       "        text-align: right;\n",
       "    }\n",
       "</style>\n",
       "<table border=\"1\" class=\"dataframe\">\n",
       "  <thead>\n",
       "    <tr style=\"text-align: right;\">\n",
       "      <th></th>\n",
       "      <th>attribute</th>\n",
       "      <th>description</th>\n",
       "      <th>value</th>\n",
       "      <th>meaning</th>\n",
       "    </tr>\n",
       "  </thead>\n",
       "  <tbody>\n",
       "    <tr>\n",
       "      <th>0</th>\n",
       "      <td>ager_typ</td>\n",
       "      <td>best-ager typology</td>\n",
       "      <td>-1</td>\n",
       "      <td>unknown</td>\n",
       "    </tr>\n",
       "    <tr>\n",
       "      <th>5</th>\n",
       "      <td>alterskategorie_grob</td>\n",
       "      <td>age classification through prename analysis</td>\n",
       "      <td>-1</td>\n",
       "      <td>unknown</td>\n",
       "    </tr>\n",
       "    <tr>\n",
       "      <th>5</th>\n",
       "      <td>alterskategorie_grob</td>\n",
       "      <td>age classification through prename analysis</td>\n",
       "      <td>0</td>\n",
       "      <td>unknown</td>\n",
       "    </tr>\n",
       "    <tr>\n",
       "      <th>11</th>\n",
       "      <td>alter_hh</td>\n",
       "      <td>main age within the household</td>\n",
       "      <td>0</td>\n",
       "      <td>unknown / no main age detectable</td>\n",
       "    </tr>\n",
       "    <tr>\n",
       "      <th>33</th>\n",
       "      <td>anrede_kz</td>\n",
       "      <td>gender</td>\n",
       "      <td>-1</td>\n",
       "      <td>unknown</td>\n",
       "    </tr>\n",
       "    <tr>\n",
       "      <th>...</th>\n",
       "      <td>...</td>\n",
       "      <td>...</td>\n",
       "      <td>...</td>\n",
       "      <td>...</td>\n",
       "    </tr>\n",
       "    <tr>\n",
       "      <th>2238</th>\n",
       "      <td>wachstumsgebiet_nb</td>\n",
       "      <td>growing area (population growth in the last 5 ...</td>\n",
       "      <td>0</td>\n",
       "      <td>unknown</td>\n",
       "    </tr>\n",
       "    <tr>\n",
       "      <th>2244</th>\n",
       "      <td>w_keit_kind_hh</td>\n",
       "      <td>likelihood of a child present in this household</td>\n",
       "      <td>-1</td>\n",
       "      <td>unknown</td>\n",
       "    </tr>\n",
       "    <tr>\n",
       "      <th>2244</th>\n",
       "      <td>w_keit_kind_hh</td>\n",
       "      <td>likelihood of a child present in this household</td>\n",
       "      <td>0</td>\n",
       "      <td>unknown</td>\n",
       "    </tr>\n",
       "    <tr>\n",
       "      <th>2251</th>\n",
       "      <td>zabeotyp</td>\n",
       "      <td>typification of energy consumers</td>\n",
       "      <td>-1</td>\n",
       "      <td>unknown</td>\n",
       "    </tr>\n",
       "    <tr>\n",
       "      <th>2251</th>\n",
       "      <td>zabeotyp</td>\n",
       "      <td>typification of energy consumers</td>\n",
       "      <td>9</td>\n",
       "      <td>unknown</td>\n",
       "    </tr>\n",
       "  </tbody>\n",
       "</table>\n",
       "<p>380 rows × 4 columns</p>\n",
       "</div>"
      ]
     },
     "execution_count": 15,
     "metadata": {},
     "output_type": "execute_result"
    }
   ],
   "execution_count": 15
  },
  {
   "metadata": {
    "ExecuteTime": {
     "end_time": "2025-04-10T07:01:44.733709Z",
     "start_time": "2025-04-10T07:01:44.727131Z"
    }
   },
   "cell_type": "code",
   "source": [
    "def identify_missing_meta_attributes(meta: pd.DataFrame, df: pd.DataFrame) -> pd.DataFrame:\n",
    "    missing_meta_attributes = list(set(meta[\"attribute\"].unique()).difference(df.columns))\n",
    "    missing_meta_attributes.sort()\n",
    "    missing_meta_attributes.remove(\"cameo_intl_2015\")\n",
    "    return missing_meta_attributes"
   ],
   "outputs": [],
   "execution_count": 16
  },
  {
   "metadata": {
    "ExecuteTime": {
     "end_time": "2025-04-10T07:01:44.783519Z",
     "start_time": "2025-04-10T07:01:44.776623Z"
    }
   },
   "cell_type": "code",
   "source": "identify_missing_meta_attributes(meta, population)",
   "outputs": [
    {
     "data": {
      "text/plain": [
       "['bip_flag',\n",
       " 'd19_banken_direkt_rz',\n",
       " 'd19_banken_gross_rz',\n",
       " 'd19_banken_lokal_rz',\n",
       " 'd19_banken_rest_rz',\n",
       " 'd19_bekleidung_geh_rz',\n",
       " 'd19_bekleidung_rest_rz',\n",
       " 'd19_bildung_rz',\n",
       " 'd19_bio_oeko_rz',\n",
       " 'd19_buch_rz',\n",
       " 'd19_digit_serv_rz',\n",
       " 'd19_drogerieartikel_rz',\n",
       " 'd19_energie_rz',\n",
       " 'd19_freizeit_rz',\n",
       " 'd19_garten_rz',\n",
       " 'd19_handwerk_rz',\n",
       " 'd19_haus_deko_rz',\n",
       " 'd19_kinderartikel_rz',\n",
       " 'd19_kk_kundentyp',\n",
       " 'd19_kosmetik_rz',\n",
       " 'd19_lebensmittel_rz',\n",
       " 'd19_lotto_rz',\n",
       " 'd19_nahrungsergaenzung_rz',\n",
       " 'd19_ratgeber_rz',\n",
       " 'd19_reisen_rz',\n",
       " 'd19_sammelartikel_rz',\n",
       " 'd19_schuhe_rz',\n",
       " 'd19_sonstige_rz',\n",
       " 'd19_technik_rz',\n",
       " 'd19_telko_mobile_rz',\n",
       " 'd19_telko_rest_rz',\n",
       " 'd19_tierartikel_rz',\n",
       " 'd19_versand_rest_rz',\n",
       " 'd19_versicherungen_rz',\n",
       " 'd19_vollsortiment_rz',\n",
       " 'd19_wein_feinkost_rz',\n",
       " 'geoscore_kls7',\n",
       " 'haushaltsstruktur',\n",
       " 'kba13_ccm_1400_2500',\n",
       " 'soho_flag',\n",
       " 'wachstumsgebiet_nb']"
      ]
     },
     "execution_count": 17,
     "metadata": {},
     "output_type": "execute_result"
    }
   ],
   "execution_count": 17
  },
  {
   "metadata": {
    "ExecuteTime": {
     "end_time": "2025-04-10T07:01:44.942521Z",
     "start_time": "2025-04-10T07:01:44.927377Z"
    }
   },
   "cell_type": "code",
   "source": [
    "def rectify_meta_attributes(meta: pd.DataFrame) -> pd.DataFrame:\n",
    "    meta[\"attribute\"] = meta[\"attribute\"].replace(r\"_rz$\", \"\", regex=True)\n",
    "\n",
    "    attribute_renaming = {\n",
    "        \"d19_buch\": \"d19_buch_cd\",\n",
    "        \"d19_kk_kundentyp\": \"kk_kundentyp\",\n",
    "        \"kba13_ccm_1400_2500\": \"kba13_ccm_1401_2500\",\n",
    "        \"soho_flag\": \"soho_kz\"\n",
    "    }\n",
    "\n",
    "    meta[\"attribute\"] = meta[\"attribute\"].replace(attribute_renaming)\n",
    "\n",
    "    return meta\n",
    "\n",
    "meta = rectify_meta_attributes(meta)"
   ],
   "outputs": [],
   "execution_count": 18
  },
  {
   "metadata": {
    "ExecuteTime": {
     "end_time": "2025-04-10T07:01:45.245853Z",
     "start_time": "2025-04-10T07:01:45.097643Z"
    }
   },
   "cell_type": "code",
   "source": [
    "def convert_unknown_values_to_null(df: pd.DataFrame, meta: pd.DataFrame) -> pd.DataFrame:\n",
    "    unknown_values = meta[meta[\"meaning\"].str.contains(\"unknown\") | meta[\"meaning\"].str.startswith(\"no transaction\")]\n",
    "\n",
    "    for attribute, unknown_value in zip(unknown_values.loc[:, \"attribute\"], unknown_values.loc[:, \"value\"]):\n",
    "        if attribute in df:\n",
    "            df[attribute] = df[attribute].replace(unknown_value, np.nan)\n",
    "\n",
    "    return df\n",
    "\n",
    "population = convert_unknown_values_to_null(population, meta)"
   ],
   "outputs": [],
   "execution_count": 19
  },
  {
   "metadata": {},
   "cell_type": "markdown",
   "source": [
    "### Population Attributes without Meta Information\n",
    "- the additional `d19` columns will be handled like the other ones, so 0 and 10 will be assumed as null values\n",
    "- there are no remaining -1 values found, where the chance is high that they represent unknown values\n",
    "- `lnr` is an identifier for the dataset records and should be removed"
   ]
  },
  {
   "metadata": {
    "ExecuteTime": {
     "end_time": "2025-04-10T07:01:45.474824Z",
     "start_time": "2025-04-10T07:01:45.305664Z"
    }
   },
   "cell_type": "code",
   "source": [
    "missing_population_attributes = list(set(population.columns).difference(meta[\"attribute\"].unique()))\n",
    "missing_population_attributes.sort()\n",
    "missing_population_attributes.remove(\"cameo_intl_2015_household\")\n",
    "missing_population_attributes.remove(\"cameo_intl_2015_family\")\n",
    "\n",
    "population[missing_population_attributes].describe()"
   ],
   "outputs": [
    {
     "data": {
      "text/plain": [
       "        akt_dat_kl  alter_kind1  alter_kind2  alter_kind3  alter_kind4  \\\n",
       "count  9003.000000   875.000000   291.000000     75.00000     9.000000   \n",
       "mean      4.429635    11.737143    13.542955     14.32000    12.444444   \n",
       "std       3.633788     4.239342     3.376497      2.88594     2.788867   \n",
       "min       1.000000     2.000000     5.000000      7.00000     9.000000   \n",
       "25%       1.000000     8.000000    11.000000     12.00000    10.000000   \n",
       "50%       3.000000    12.000000    14.000000     15.00000    13.000000   \n",
       "75%       9.000000    15.000000    17.000000     17.00000    14.000000   \n",
       "max       9.000000    18.000000    18.000000     18.00000    16.000000   \n",
       "\n",
       "       alterskategorie_fein   anz_kinder  anz_statistische_haushalte  \\\n",
       "count           6894.000000  9003.000000                 8778.000000   \n",
       "mean              13.756455     0.150172                    7.565619   \n",
       "std                5.056536     0.490406                   14.327056   \n",
       "min                0.000000     0.000000                    1.000000   \n",
       "25%               11.000000     0.000000                    1.000000   \n",
       "50%               14.000000     0.000000                    4.000000   \n",
       "75%               17.000000     0.000000                    9.000000   \n",
       "max               25.000000     5.000000                  292.000000   \n",
       "\n",
       "            arbeit  cjt_katalognutzer  ...  strukturtyp   umfeld_alt  \\\n",
       "count  8734.000000        9942.000000  ...  8733.000000  8711.000000   \n",
       "mean      3.163957           3.363810  ...     2.524562     3.222248   \n",
       "std       0.999210           1.491454  ...     0.759727     1.256155   \n",
       "min       1.000000           1.000000  ...     1.000000     1.000000   \n",
       "25%       3.000000           2.000000  ...     2.000000     2.000000   \n",
       "50%       3.000000           4.000000  ...     3.000000     3.000000   \n",
       "75%       4.000000           5.000000  ...     3.000000     4.000000   \n",
       "max       9.000000           5.000000  ...     3.000000     5.000000   \n",
       "\n",
       "       umfeld_jung  ungleichenn_flag  verdichtungsraum          vha  \\\n",
       "count  8711.000000       9003.000000       8733.000000  9003.000000   \n",
       "mean      4.005625          0.090525          4.631284     0.459180   \n",
       "std       1.115012          0.286949          8.541046     1.168143   \n",
       "min       1.000000          0.000000          0.000000     0.000000   \n",
       "25%       3.000000          0.000000          0.000000     0.000000   \n",
       "50%       4.000000          0.000000          1.000000     0.000000   \n",
       "75%       5.000000          0.000000          5.000000     0.000000   \n",
       "max       5.000000          1.000000         45.000000     5.000000   \n",
       "\n",
       "               vhn     vk_dht4a   vk_distanz      vk_zg11  \n",
       "count  8438.000000  8977.000000  8977.000000  8977.000000  \n",
       "mean      2.410287     5.990531     7.527682     5.951097  \n",
       "std       1.187305     2.856689     3.253193     2.774372  \n",
       "min       0.000000     1.000000     1.000000     1.000000  \n",
       "25%       2.000000     3.000000     6.000000     4.000000  \n",
       "50%       2.000000     6.000000     8.000000     6.000000  \n",
       "75%       3.000000     9.000000    10.000000     8.000000  \n",
       "max       4.000000    11.000000    13.000000    11.000000  \n",
       "\n",
       "[8 rows x 54 columns]"
      ],
      "text/html": [
       "<div>\n",
       "<style scoped>\n",
       "    .dataframe tbody tr th:only-of-type {\n",
       "        vertical-align: middle;\n",
       "    }\n",
       "\n",
       "    .dataframe tbody tr th {\n",
       "        vertical-align: top;\n",
       "    }\n",
       "\n",
       "    .dataframe thead th {\n",
       "        text-align: right;\n",
       "    }\n",
       "</style>\n",
       "<table border=\"1\" class=\"dataframe\">\n",
       "  <thead>\n",
       "    <tr style=\"text-align: right;\">\n",
       "      <th></th>\n",
       "      <th>akt_dat_kl</th>\n",
       "      <th>alter_kind1</th>\n",
       "      <th>alter_kind2</th>\n",
       "      <th>alter_kind3</th>\n",
       "      <th>alter_kind4</th>\n",
       "      <th>alterskategorie_fein</th>\n",
       "      <th>anz_kinder</th>\n",
       "      <th>anz_statistische_haushalte</th>\n",
       "      <th>arbeit</th>\n",
       "      <th>cjt_katalognutzer</th>\n",
       "      <th>...</th>\n",
       "      <th>strukturtyp</th>\n",
       "      <th>umfeld_alt</th>\n",
       "      <th>umfeld_jung</th>\n",
       "      <th>ungleichenn_flag</th>\n",
       "      <th>verdichtungsraum</th>\n",
       "      <th>vha</th>\n",
       "      <th>vhn</th>\n",
       "      <th>vk_dht4a</th>\n",
       "      <th>vk_distanz</th>\n",
       "      <th>vk_zg11</th>\n",
       "    </tr>\n",
       "  </thead>\n",
       "  <tbody>\n",
       "    <tr>\n",
       "      <th>count</th>\n",
       "      <td>9003.000000</td>\n",
       "      <td>875.000000</td>\n",
       "      <td>291.000000</td>\n",
       "      <td>75.00000</td>\n",
       "      <td>9.000000</td>\n",
       "      <td>6894.000000</td>\n",
       "      <td>9003.000000</td>\n",
       "      <td>8778.000000</td>\n",
       "      <td>8734.000000</td>\n",
       "      <td>9942.000000</td>\n",
       "      <td>...</td>\n",
       "      <td>8733.000000</td>\n",
       "      <td>8711.000000</td>\n",
       "      <td>8711.000000</td>\n",
       "      <td>9003.000000</td>\n",
       "      <td>8733.000000</td>\n",
       "      <td>9003.000000</td>\n",
       "      <td>8438.000000</td>\n",
       "      <td>8977.000000</td>\n",
       "      <td>8977.000000</td>\n",
       "      <td>8977.000000</td>\n",
       "    </tr>\n",
       "    <tr>\n",
       "      <th>mean</th>\n",
       "      <td>4.429635</td>\n",
       "      <td>11.737143</td>\n",
       "      <td>13.542955</td>\n",
       "      <td>14.32000</td>\n",
       "      <td>12.444444</td>\n",
       "      <td>13.756455</td>\n",
       "      <td>0.150172</td>\n",
       "      <td>7.565619</td>\n",
       "      <td>3.163957</td>\n",
       "      <td>3.363810</td>\n",
       "      <td>...</td>\n",
       "      <td>2.524562</td>\n",
       "      <td>3.222248</td>\n",
       "      <td>4.005625</td>\n",
       "      <td>0.090525</td>\n",
       "      <td>4.631284</td>\n",
       "      <td>0.459180</td>\n",
       "      <td>2.410287</td>\n",
       "      <td>5.990531</td>\n",
       "      <td>7.527682</td>\n",
       "      <td>5.951097</td>\n",
       "    </tr>\n",
       "    <tr>\n",
       "      <th>std</th>\n",
       "      <td>3.633788</td>\n",
       "      <td>4.239342</td>\n",
       "      <td>3.376497</td>\n",
       "      <td>2.88594</td>\n",
       "      <td>2.788867</td>\n",
       "      <td>5.056536</td>\n",
       "      <td>0.490406</td>\n",
       "      <td>14.327056</td>\n",
       "      <td>0.999210</td>\n",
       "      <td>1.491454</td>\n",
       "      <td>...</td>\n",
       "      <td>0.759727</td>\n",
       "      <td>1.256155</td>\n",
       "      <td>1.115012</td>\n",
       "      <td>0.286949</td>\n",
       "      <td>8.541046</td>\n",
       "      <td>1.168143</td>\n",
       "      <td>1.187305</td>\n",
       "      <td>2.856689</td>\n",
       "      <td>3.253193</td>\n",
       "      <td>2.774372</td>\n",
       "    </tr>\n",
       "    <tr>\n",
       "      <th>min</th>\n",
       "      <td>1.000000</td>\n",
       "      <td>2.000000</td>\n",
       "      <td>5.000000</td>\n",
       "      <td>7.00000</td>\n",
       "      <td>9.000000</td>\n",
       "      <td>0.000000</td>\n",
       "      <td>0.000000</td>\n",
       "      <td>1.000000</td>\n",
       "      <td>1.000000</td>\n",
       "      <td>1.000000</td>\n",
       "      <td>...</td>\n",
       "      <td>1.000000</td>\n",
       "      <td>1.000000</td>\n",
       "      <td>1.000000</td>\n",
       "      <td>0.000000</td>\n",
       "      <td>0.000000</td>\n",
       "      <td>0.000000</td>\n",
       "      <td>0.000000</td>\n",
       "      <td>1.000000</td>\n",
       "      <td>1.000000</td>\n",
       "      <td>1.000000</td>\n",
       "    </tr>\n",
       "    <tr>\n",
       "      <th>25%</th>\n",
       "      <td>1.000000</td>\n",
       "      <td>8.000000</td>\n",
       "      <td>11.000000</td>\n",
       "      <td>12.00000</td>\n",
       "      <td>10.000000</td>\n",
       "      <td>11.000000</td>\n",
       "      <td>0.000000</td>\n",
       "      <td>1.000000</td>\n",
       "      <td>3.000000</td>\n",
       "      <td>2.000000</td>\n",
       "      <td>...</td>\n",
       "      <td>2.000000</td>\n",
       "      <td>2.000000</td>\n",
       "      <td>3.000000</td>\n",
       "      <td>0.000000</td>\n",
       "      <td>0.000000</td>\n",
       "      <td>0.000000</td>\n",
       "      <td>2.000000</td>\n",
       "      <td>3.000000</td>\n",
       "      <td>6.000000</td>\n",
       "      <td>4.000000</td>\n",
       "    </tr>\n",
       "    <tr>\n",
       "      <th>50%</th>\n",
       "      <td>3.000000</td>\n",
       "      <td>12.000000</td>\n",
       "      <td>14.000000</td>\n",
       "      <td>15.00000</td>\n",
       "      <td>13.000000</td>\n",
       "      <td>14.000000</td>\n",
       "      <td>0.000000</td>\n",
       "      <td>4.000000</td>\n",
       "      <td>3.000000</td>\n",
       "      <td>4.000000</td>\n",
       "      <td>...</td>\n",
       "      <td>3.000000</td>\n",
       "      <td>3.000000</td>\n",
       "      <td>4.000000</td>\n",
       "      <td>0.000000</td>\n",
       "      <td>1.000000</td>\n",
       "      <td>0.000000</td>\n",
       "      <td>2.000000</td>\n",
       "      <td>6.000000</td>\n",
       "      <td>8.000000</td>\n",
       "      <td>6.000000</td>\n",
       "    </tr>\n",
       "    <tr>\n",
       "      <th>75%</th>\n",
       "      <td>9.000000</td>\n",
       "      <td>15.000000</td>\n",
       "      <td>17.000000</td>\n",
       "      <td>17.00000</td>\n",
       "      <td>14.000000</td>\n",
       "      <td>17.000000</td>\n",
       "      <td>0.000000</td>\n",
       "      <td>9.000000</td>\n",
       "      <td>4.000000</td>\n",
       "      <td>5.000000</td>\n",
       "      <td>...</td>\n",
       "      <td>3.000000</td>\n",
       "      <td>4.000000</td>\n",
       "      <td>5.000000</td>\n",
       "      <td>0.000000</td>\n",
       "      <td>5.000000</td>\n",
       "      <td>0.000000</td>\n",
       "      <td>3.000000</td>\n",
       "      <td>9.000000</td>\n",
       "      <td>10.000000</td>\n",
       "      <td>8.000000</td>\n",
       "    </tr>\n",
       "    <tr>\n",
       "      <th>max</th>\n",
       "      <td>9.000000</td>\n",
       "      <td>18.000000</td>\n",
       "      <td>18.000000</td>\n",
       "      <td>18.00000</td>\n",
       "      <td>16.000000</td>\n",
       "      <td>25.000000</td>\n",
       "      <td>5.000000</td>\n",
       "      <td>292.000000</td>\n",
       "      <td>9.000000</td>\n",
       "      <td>5.000000</td>\n",
       "      <td>...</td>\n",
       "      <td>3.000000</td>\n",
       "      <td>5.000000</td>\n",
       "      <td>5.000000</td>\n",
       "      <td>1.000000</td>\n",
       "      <td>45.000000</td>\n",
       "      <td>5.000000</td>\n",
       "      <td>4.000000</td>\n",
       "      <td>11.000000</td>\n",
       "      <td>13.000000</td>\n",
       "      <td>11.000000</td>\n",
       "    </tr>\n",
       "  </tbody>\n",
       "</table>\n",
       "<p>8 rows × 54 columns</p>\n",
       "</div>"
      ]
     },
     "execution_count": 20,
     "metadata": {},
     "output_type": "execute_result"
    }
   ],
   "execution_count": 20
  },
  {
   "metadata": {
    "ExecuteTime": {
     "end_time": "2025-04-10T07:01:45.573141Z",
     "start_time": "2025-04-10T07:01:45.547277Z"
    }
   },
   "cell_type": "code",
   "source": "population = population.drop(columns=[\"lnr\"])",
   "outputs": [],
   "execution_count": 21
  },
  {
   "metadata": {
    "ExecuteTime": {
     "end_time": "2025-04-10T07:01:45.635707Z",
     "start_time": "2025-04-10T07:01:45.603887Z"
    }
   },
   "cell_type": "code",
   "source": [
    "def convert_unknown_d19_values_to_null(df: pd.DataFrame) -> pd.DataFrame:\n",
    "    d19_columns = df.columns[df.columns.str.startswith(\"d19_\")]\n",
    "    df[d19_columns] = df[d19_columns].replace([0, 10], np.nan)\n",
    "    return df\n",
    "\n",
    "population = convert_unknown_d19_values_to_null(population)"
   ],
   "outputs": [],
   "execution_count": 22
  },
  {
   "metadata": {},
   "cell_type": "markdown",
   "source": [
    "## Invalid Values\n",
    "Some values are logically invalid and should be replaced with null values:\n",
    "- `geburtsjahr` is the year of birth and has invalid 0 values\n",
    "- `anz_personen` are the number of adult persons in the household and has invalid 0 values although e.g. the year of birth shows that there are indeed adults"
   ]
  },
  {
   "metadata": {
    "ExecuteTime": {
     "end_time": "2025-04-10T07:01:45.710725Z",
     "start_time": "2025-04-10T07:01:45.698623Z"
    }
   },
   "cell_type": "code",
   "source": "meta[meta[\"meaning\"].str.contains(\"numeric\")]",
   "outputs": [
    {
     "data": {
      "text/plain": [
       "                attribute                                        description  \\\n",
       "36    anz_haushalte_aktiv               number of households in the building   \n",
       "37           anz_hh_titel        number of academic title holder in building   \n",
       "38           anz_personen           number of adult persons in the household   \n",
       "39              anz_titel  number of professional title holder in household    \n",
       "711           geburtsjahr                                      year of birth   \n",
       "1167     kba13_anzahl_pkw                         number of cars in the PLZ8   \n",
       "1986     min_gebaeudejahr  year the building was first mentioned in our d...   \n",
       "\n",
       "     value                                    meaning  \n",
       "36       …  numeric value (typically coded from 1-10)  \n",
       "37       …  numeric value (typically coded from 1-10)  \n",
       "38       …   numeric value (typically coded from 1-3)  \n",
       "39       …  numeric value (typically coded from 1-10)  \n",
       "711      …                              numeric value  \n",
       "1167     …                              numeric value  \n",
       "1986     …                              numeric value  "
      ],
      "text/html": [
       "<div>\n",
       "<style scoped>\n",
       "    .dataframe tbody tr th:only-of-type {\n",
       "        vertical-align: middle;\n",
       "    }\n",
       "\n",
       "    .dataframe tbody tr th {\n",
       "        vertical-align: top;\n",
       "    }\n",
       "\n",
       "    .dataframe thead th {\n",
       "        text-align: right;\n",
       "    }\n",
       "</style>\n",
       "<table border=\"1\" class=\"dataframe\">\n",
       "  <thead>\n",
       "    <tr style=\"text-align: right;\">\n",
       "      <th></th>\n",
       "      <th>attribute</th>\n",
       "      <th>description</th>\n",
       "      <th>value</th>\n",
       "      <th>meaning</th>\n",
       "    </tr>\n",
       "  </thead>\n",
       "  <tbody>\n",
       "    <tr>\n",
       "      <th>36</th>\n",
       "      <td>anz_haushalte_aktiv</td>\n",
       "      <td>number of households in the building</td>\n",
       "      <td>…</td>\n",
       "      <td>numeric value (typically coded from 1-10)</td>\n",
       "    </tr>\n",
       "    <tr>\n",
       "      <th>37</th>\n",
       "      <td>anz_hh_titel</td>\n",
       "      <td>number of academic title holder in building</td>\n",
       "      <td>…</td>\n",
       "      <td>numeric value (typically coded from 1-10)</td>\n",
       "    </tr>\n",
       "    <tr>\n",
       "      <th>38</th>\n",
       "      <td>anz_personen</td>\n",
       "      <td>number of adult persons in the household</td>\n",
       "      <td>…</td>\n",
       "      <td>numeric value (typically coded from 1-3)</td>\n",
       "    </tr>\n",
       "    <tr>\n",
       "      <th>39</th>\n",
       "      <td>anz_titel</td>\n",
       "      <td>number of professional title holder in household</td>\n",
       "      <td>…</td>\n",
       "      <td>numeric value (typically coded from 1-10)</td>\n",
       "    </tr>\n",
       "    <tr>\n",
       "      <th>711</th>\n",
       "      <td>geburtsjahr</td>\n",
       "      <td>year of birth</td>\n",
       "      <td>…</td>\n",
       "      <td>numeric value</td>\n",
       "    </tr>\n",
       "    <tr>\n",
       "      <th>1167</th>\n",
       "      <td>kba13_anzahl_pkw</td>\n",
       "      <td>number of cars in the PLZ8</td>\n",
       "      <td>…</td>\n",
       "      <td>numeric value</td>\n",
       "    </tr>\n",
       "    <tr>\n",
       "      <th>1986</th>\n",
       "      <td>min_gebaeudejahr</td>\n",
       "      <td>year the building was first mentioned in our d...</td>\n",
       "      <td>…</td>\n",
       "      <td>numeric value</td>\n",
       "    </tr>\n",
       "  </tbody>\n",
       "</table>\n",
       "</div>"
      ]
     },
     "execution_count": 23,
     "metadata": {},
     "output_type": "execute_result"
    }
   ],
   "execution_count": 23
  },
  {
   "metadata": {
    "ExecuteTime": {
     "end_time": "2025-04-10T07:01:46.003558Z",
     "start_time": "2025-04-10T07:01:45.976103Z"
    }
   },
   "cell_type": "code",
   "source": [
    "year_columns = population.columns[population.columns.str.contains(\"jahr\")]\n",
    "\n",
    "population[year_columns].describe()"
   ],
   "outputs": [
    {
     "data": {
      "text/plain": [
       "       eingezogenam_hh_jahr   geburtsjahr  min_gebaeudejahr  \\\n",
       "count           9003.000000  10000.000000       8778.000000   \n",
       "mean            2004.073420   1088.982200       1993.326726   \n",
       "std                7.105534    978.018534          3.427714   \n",
       "min             1989.000000      0.000000       1985.000000   \n",
       "25%             1997.000000      0.000000       1992.000000   \n",
       "50%             2004.000000   1942.000000       1992.000000   \n",
       "75%             2011.000000   1970.000000       1993.000000   \n",
       "max             2018.000000   2017.000000       2015.000000   \n",
       "\n",
       "       praegende_jugendjahre  \n",
       "count           10000.000000  \n",
       "mean                7.996700  \n",
       "std                 4.955032  \n",
       "min                 0.000000  \n",
       "25%                 4.000000  \n",
       "50%                 8.000000  \n",
       "75%                14.000000  \n",
       "max                15.000000  "
      ],
      "text/html": [
       "<div>\n",
       "<style scoped>\n",
       "    .dataframe tbody tr th:only-of-type {\n",
       "        vertical-align: middle;\n",
       "    }\n",
       "\n",
       "    .dataframe tbody tr th {\n",
       "        vertical-align: top;\n",
       "    }\n",
       "\n",
       "    .dataframe thead th {\n",
       "        text-align: right;\n",
       "    }\n",
       "</style>\n",
       "<table border=\"1\" class=\"dataframe\">\n",
       "  <thead>\n",
       "    <tr style=\"text-align: right;\">\n",
       "      <th></th>\n",
       "      <th>eingezogenam_hh_jahr</th>\n",
       "      <th>geburtsjahr</th>\n",
       "      <th>min_gebaeudejahr</th>\n",
       "      <th>praegende_jugendjahre</th>\n",
       "    </tr>\n",
       "  </thead>\n",
       "  <tbody>\n",
       "    <tr>\n",
       "      <th>count</th>\n",
       "      <td>9003.000000</td>\n",
       "      <td>10000.000000</td>\n",
       "      <td>8778.000000</td>\n",
       "      <td>10000.000000</td>\n",
       "    </tr>\n",
       "    <tr>\n",
       "      <th>mean</th>\n",
       "      <td>2004.073420</td>\n",
       "      <td>1088.982200</td>\n",
       "      <td>1993.326726</td>\n",
       "      <td>7.996700</td>\n",
       "    </tr>\n",
       "    <tr>\n",
       "      <th>std</th>\n",
       "      <td>7.105534</td>\n",
       "      <td>978.018534</td>\n",
       "      <td>3.427714</td>\n",
       "      <td>4.955032</td>\n",
       "    </tr>\n",
       "    <tr>\n",
       "      <th>min</th>\n",
       "      <td>1989.000000</td>\n",
       "      <td>0.000000</td>\n",
       "      <td>1985.000000</td>\n",
       "      <td>0.000000</td>\n",
       "    </tr>\n",
       "    <tr>\n",
       "      <th>25%</th>\n",
       "      <td>1997.000000</td>\n",
       "      <td>0.000000</td>\n",
       "      <td>1992.000000</td>\n",
       "      <td>4.000000</td>\n",
       "    </tr>\n",
       "    <tr>\n",
       "      <th>50%</th>\n",
       "      <td>2004.000000</td>\n",
       "      <td>1942.000000</td>\n",
       "      <td>1992.000000</td>\n",
       "      <td>8.000000</td>\n",
       "    </tr>\n",
       "    <tr>\n",
       "      <th>75%</th>\n",
       "      <td>2011.000000</td>\n",
       "      <td>1970.000000</td>\n",
       "      <td>1993.000000</td>\n",
       "      <td>14.000000</td>\n",
       "    </tr>\n",
       "    <tr>\n",
       "      <th>max</th>\n",
       "      <td>2018.000000</td>\n",
       "      <td>2017.000000</td>\n",
       "      <td>2015.000000</td>\n",
       "      <td>15.000000</td>\n",
       "    </tr>\n",
       "  </tbody>\n",
       "</table>\n",
       "</div>"
      ]
     },
     "execution_count": 24,
     "metadata": {},
     "output_type": "execute_result"
    }
   ],
   "execution_count": 24
  },
  {
   "metadata": {
    "ExecuteTime": {
     "end_time": "2025-04-10T07:26:24.276776Z",
     "start_time": "2025-04-10T07:26:24.271468Z"
    }
   },
   "cell_type": "code",
   "source": "population[\"geburtsjahr\"].value_counts()",
   "outputs": [
    {
     "data": {
      "text/plain": [
       "geburtsjahr\n",
       "0       4464\n",
       "1962     131\n",
       "1970     123\n",
       "1980     121\n",
       "1964     118\n",
       "        ... \n",
       "2015       2\n",
       "1918       2\n",
       "2016       2\n",
       "1915       1\n",
       "1913       1\n",
       "Name: count, Length: 103, dtype: int64"
      ]
     },
     "execution_count": 44,
     "metadata": {},
     "output_type": "execute_result"
    }
   ],
   "execution_count": 44
  },
  {
   "metadata": {
    "ExecuteTime": {
     "end_time": "2025-04-10T07:10:22.212130Z",
     "start_time": "2025-04-10T07:10:22.184028Z"
    }
   },
   "cell_type": "code",
   "source": [
    "count_columns = population.columns[population.columns.str.startswith(\"anz_\") | population.columns.str.contains(\"anzahl\")]\n",
    "\n",
    "population[count_columns].describe()"
   ],
   "outputs": [
    {
     "data": {
      "text/plain": [
       "       anz_haushalte_aktiv  anz_hh_titel   anz_kinder  anz_personen  \\\n",
       "count          8778.000000   8729.000000  9003.000000   9003.000000   \n",
       "mean              8.194805      0.047772     0.150172      1.718983   \n",
       "std              15.052681      0.406055     0.490406      1.179842   \n",
       "min               0.000000      0.000000     0.000000      0.000000   \n",
       "25%               2.000000      0.000000     0.000000      1.000000   \n",
       "50%               4.000000      0.000000     0.000000      1.000000   \n",
       "75%              10.000000      0.000000     0.000000      2.000000   \n",
       "max             272.000000     15.000000     5.000000     21.000000   \n",
       "\n",
       "       anz_statistische_haushalte    anz_titel  kba13_anzahl_pkw  \n",
       "count                 8778.000000  9003.000000       8627.000000  \n",
       "mean                     7.565619     0.004887        621.763301  \n",
       "std                     14.327056     0.074367        345.457350  \n",
       "min                      1.000000     0.000000          0.000000  \n",
       "25%                      1.000000     0.000000        387.000000  \n",
       "50%                      4.000000     0.000000        552.000000  \n",
       "75%                      9.000000     0.000000        772.000000  \n",
       "max                    292.000000     2.000000       2300.000000  "
      ],
      "text/html": [
       "<div>\n",
       "<style scoped>\n",
       "    .dataframe tbody tr th:only-of-type {\n",
       "        vertical-align: middle;\n",
       "    }\n",
       "\n",
       "    .dataframe tbody tr th {\n",
       "        vertical-align: top;\n",
       "    }\n",
       "\n",
       "    .dataframe thead th {\n",
       "        text-align: right;\n",
       "    }\n",
       "</style>\n",
       "<table border=\"1\" class=\"dataframe\">\n",
       "  <thead>\n",
       "    <tr style=\"text-align: right;\">\n",
       "      <th></th>\n",
       "      <th>anz_haushalte_aktiv</th>\n",
       "      <th>anz_hh_titel</th>\n",
       "      <th>anz_kinder</th>\n",
       "      <th>anz_personen</th>\n",
       "      <th>anz_statistische_haushalte</th>\n",
       "      <th>anz_titel</th>\n",
       "      <th>kba13_anzahl_pkw</th>\n",
       "    </tr>\n",
       "  </thead>\n",
       "  <tbody>\n",
       "    <tr>\n",
       "      <th>count</th>\n",
       "      <td>8778.000000</td>\n",
       "      <td>8729.000000</td>\n",
       "      <td>9003.000000</td>\n",
       "      <td>9003.000000</td>\n",
       "      <td>8778.000000</td>\n",
       "      <td>9003.000000</td>\n",
       "      <td>8627.000000</td>\n",
       "    </tr>\n",
       "    <tr>\n",
       "      <th>mean</th>\n",
       "      <td>8.194805</td>\n",
       "      <td>0.047772</td>\n",
       "      <td>0.150172</td>\n",
       "      <td>1.718983</td>\n",
       "      <td>7.565619</td>\n",
       "      <td>0.004887</td>\n",
       "      <td>621.763301</td>\n",
       "    </tr>\n",
       "    <tr>\n",
       "      <th>std</th>\n",
       "      <td>15.052681</td>\n",
       "      <td>0.406055</td>\n",
       "      <td>0.490406</td>\n",
       "      <td>1.179842</td>\n",
       "      <td>14.327056</td>\n",
       "      <td>0.074367</td>\n",
       "      <td>345.457350</td>\n",
       "    </tr>\n",
       "    <tr>\n",
       "      <th>min</th>\n",
       "      <td>0.000000</td>\n",
       "      <td>0.000000</td>\n",
       "      <td>0.000000</td>\n",
       "      <td>0.000000</td>\n",
       "      <td>1.000000</td>\n",
       "      <td>0.000000</td>\n",
       "      <td>0.000000</td>\n",
       "    </tr>\n",
       "    <tr>\n",
       "      <th>25%</th>\n",
       "      <td>2.000000</td>\n",
       "      <td>0.000000</td>\n",
       "      <td>0.000000</td>\n",
       "      <td>1.000000</td>\n",
       "      <td>1.000000</td>\n",
       "      <td>0.000000</td>\n",
       "      <td>387.000000</td>\n",
       "    </tr>\n",
       "    <tr>\n",
       "      <th>50%</th>\n",
       "      <td>4.000000</td>\n",
       "      <td>0.000000</td>\n",
       "      <td>0.000000</td>\n",
       "      <td>1.000000</td>\n",
       "      <td>4.000000</td>\n",
       "      <td>0.000000</td>\n",
       "      <td>552.000000</td>\n",
       "    </tr>\n",
       "    <tr>\n",
       "      <th>75%</th>\n",
       "      <td>10.000000</td>\n",
       "      <td>0.000000</td>\n",
       "      <td>0.000000</td>\n",
       "      <td>2.000000</td>\n",
       "      <td>9.000000</td>\n",
       "      <td>0.000000</td>\n",
       "      <td>772.000000</td>\n",
       "    </tr>\n",
       "    <tr>\n",
       "      <th>max</th>\n",
       "      <td>272.000000</td>\n",
       "      <td>15.000000</td>\n",
       "      <td>5.000000</td>\n",
       "      <td>21.000000</td>\n",
       "      <td>292.000000</td>\n",
       "      <td>2.000000</td>\n",
       "      <td>2300.000000</td>\n",
       "    </tr>\n",
       "  </tbody>\n",
       "</table>\n",
       "</div>"
      ]
     },
     "execution_count": 31,
     "metadata": {},
     "output_type": "execute_result"
    }
   ],
   "execution_count": 31
  },
  {
   "metadata": {
    "ExecuteTime": {
     "end_time": "2025-04-10T08:00:46.648232Z",
     "start_time": "2025-04-10T08:00:46.629135Z"
    }
   },
   "cell_type": "code",
   "source": "population[population[\"anz_personen\"] == 0][\"geburtsjahr\"]",
   "outputs": [
    {
     "data": {
      "text/plain": [
       "Series([], Name: geburtsjahr, dtype: float64)"
      ]
     },
     "execution_count": 56,
     "metadata": {},
     "output_type": "execute_result"
    }
   ],
   "execution_count": 56
  },
  {
   "metadata": {
    "ExecuteTime": {
     "end_time": "2025-04-10T08:00:42.143869Z",
     "start_time": "2025-04-10T08:00:42.135846Z"
    }
   },
   "cell_type": "code",
   "source": [
    "def convert_invalid_values_to_null(df: pd.DataFrame) -> pd.DataFrame:\n",
    "    df.loc[df[\"geburtsjahr\"] == 0, \"geburtsjahr\"] = np.nan\n",
    "    df.loc[df[\"anz_personen\"] == 0, \"anz_personen\"] = np.nan\n",
    "    return df\n",
    "\n",
    "population = convert_invalid_values_to_null(population)"
   ],
   "outputs": [],
   "execution_count": 55
  },
  {
   "metadata": {},
   "cell_type": "markdown",
   "source": [
    "## Missing Values\n",
    "### Rows\n",
    "- `alter_kind1` to `alter_kind4` are largely null because most of the persons in the dataset haven't kids"
   ]
  },
  {
   "metadata": {
    "ExecuteTime": {
     "end_time": "2025-04-10T07:01:47.311250Z",
     "start_time": "2025-04-10T07:01:47.269469Z"
    }
   },
   "cell_type": "code",
   "outputs": [
    {
     "data": {
      "text/plain": [
       "5099    316\n",
       "784     314\n",
       "9159    314\n",
       "497     314\n",
       "7630    314\n",
       "       ... \n",
       "2083     22\n",
       "5190     21\n",
       "607      21\n",
       "9203     20\n",
       "6014     19\n",
       "Length: 10000, dtype: int64"
      ]
     },
     "execution_count": 28,
     "metadata": {},
     "output_type": "execute_result"
    }
   ],
   "execution_count": 28,
   "source": "population.isnull().sum(axis=1).sort_values(ascending=False)"
  },
  {
   "metadata": {},
   "cell_type": "markdown",
   "source": "### Columns"
  },
  {
   "metadata": {
    "ExecuteTime": {
     "end_time": "2025-04-10T07:01:46.683493Z",
     "start_time": "2025-04-10T07:01:46.640291Z"
    }
   },
   "cell_type": "code",
   "outputs": [],
   "execution_count": 26,
   "source": "missing_values_share = pd.Series(round(population.isnull().sum() / len(population) * 100, 1).sort_values(ascending=False), name=\"missing_values_share\")"
  },
  {
   "metadata": {
    "ExecuteTime": {
     "end_time": "2025-04-10T07:01:46.880115Z",
     "start_time": "2025-04-10T07:01:46.872199Z"
    }
   },
   "cell_type": "code",
   "outputs": [
    {
     "data": {
      "text/plain": [
       "d19_versi_online_quote_12     100.0\n",
       "d19_telko_online_quote_12     100.0\n",
       "d19_banken_online_quote_12     99.9\n",
       "alter_kind4                    99.9\n",
       "alter_kind3                    99.2\n",
       "                              ...  \n",
       "lp_lebensphase_fein             0.6\n",
       "lp_familie_fein                 0.6\n",
       "gfk_urlaubertyp                 0.6\n",
       "cjt_typ_2                       0.6\n",
       "cjt_typ_6                       0.6\n",
       "Name: missing_values_share, Length: 334, dtype: float64"
      ]
     },
     "execution_count": 27,
     "metadata": {},
     "output_type": "execute_result"
    }
   ],
   "execution_count": 27,
   "source": "missing_values_share[missing_values_share > 0]"
  }
 ],
 "metadata": {
  "kernelspec": {
   "display_name": "Python 3 (ipykernel)",
   "language": "python",
   "name": "python3"
  },
  "language_info": {
   "codemirror_mode": {
    "name": "ipython",
    "version": 3
   },
   "file_extension": ".py",
   "mimetype": "text/x-python",
   "name": "python",
   "nbconvert_exporter": "python",
   "pygments_lexer": "ipython3",
   "version": "3.10.13"
  }
 },
 "nbformat": 4,
 "nbformat_minor": 2
}
