{
 "cells": [
  {
   "metadata": {
    "ExecuteTime": {
     "end_time": "2025-04-27T22:20:19.010787Z",
     "start_time": "2025-04-27T22:20:15.112650Z"
    }
   },
   "cell_type": "code",
   "source": [
    "import json\n",
    "from typing import List, Dict\n",
    "\n",
    "import matplotlib.pyplot as plt\n",
    "import pandas as pd\n",
    "\n",
    "import src.preprocessing as preprocessing\n",
    "from src.files_io import download_and_extract_raw_datasets, load_raw_population_datasets"
   ],
   "outputs": [],
   "execution_count": 1
  },
  {
   "metadata": {},
   "cell_type": "code",
   "source": "download_and_extract_raw_datasets()",
   "outputs": [],
   "execution_count": null
  },
  {
   "cell_type": "markdown",
   "metadata": {},
   "source": [
    "# Population Data\n",
    "We start by analyzing the general population dataset and then apply the pre-processing on the customer dataset."
   ]
  },
  {
   "cell_type": "code",
   "metadata": {},
   "source": "population, _ = load_raw_population_datasets()",
   "outputs": [],
   "execution_count": null
  },
  {
   "metadata": {
    "ExecuteTime": {
     "end_time": "2025-04-27T22:22:01.685804Z",
     "start_time": "2025-04-27T22:22:01.188390Z"
    }
   },
   "cell_type": "code",
   "source": "meta = preprocessing.load_meta_data(raw_file_path=\"./data/meta/dias_values.xlsx\")",
   "outputs": [
    {
     "name": "stdout",
     "output_type": "stream",
     "text": [
      "Metadata loaded.\n"
     ]
    }
   ],
   "execution_count": 9
  },
  {
   "metadata": {},
   "cell_type": "markdown",
   "source": "## Data Types"
  },
  {
   "cell_type": "code",
   "metadata": {},
   "source": "population.dtypes.value_counts()",
   "outputs": [],
   "execution_count": null
  },
  {
   "metadata": {},
   "cell_type": "markdown",
   "source": [
    "### String Types\n",
    "Besides numeric values there are strings in the datasets which need a separate preprocessing:\n",
    "- `cameo_deu_2015`, `cameo_deug_2015` and `cameo_intl_2015`\n",
    "  - have `X` or `XX` values that should be treated as null values\n",
    "  - partially have numeric values as strings that should be unified\n",
    "- `d19_letzter_kauf_branche` shows the sector of the last purchase which is probably ineligible for our segmentation report and prediction model\n",
    "- `eingefuegt_am` is the timestamp where the data was created in the database and also unnecessary\n",
    "- `ost_west_kz` is a flag labeled as `W` or `O` that should be converted to a binary numeric value 0/1"
   ]
  },
  {
   "metadata": {},
   "cell_type": "code",
   "source": "population.select_dtypes(include=\"object\").head()",
   "outputs": [],
   "execution_count": null
  },
  {
   "metadata": {},
   "cell_type": "code",
   "source": "population[\"cameo_deu_2015\"].unique()",
   "outputs": [],
   "execution_count": null
  },
  {
   "metadata": {},
   "cell_type": "code",
   "source": "population[\"cameo_deug_2015\"].unique()",
   "outputs": [],
   "execution_count": null
  },
  {
   "metadata": {},
   "cell_type": "code",
   "source": "population[\"cameo_intl_2015\"].unique()",
   "outputs": [],
   "execution_count": null
  },
  {
   "metadata": {},
   "cell_type": "code",
   "source": "population[\"ost_west_kz\"].unique()",
   "outputs": [],
   "execution_count": null
  },
  {
   "metadata": {},
   "cell_type": "code",
   "source": "population = population.drop(columns=[\"d19_letzter_kauf_branche\", \"eingefuegt_am\"])",
   "outputs": [],
   "execution_count": null
  },
  {
   "metadata": {},
   "cell_type": "markdown",
   "source": [
    "### Unified Numerical Types\n",
    "All numerical values in the dataset are actually integers, but Pandas converted most of them to float to be able to handle null values.\n",
    "\n",
    "Furthermore, many of the numerical columns are actually categorical variables, which will be addressed with one-hot-encoding at the end of the pre-processing. However, we will start by converting all integer values to floats, because it simplifies the initial preprocessing."
   ]
  },
  {
   "metadata": {},
   "cell_type": "code",
   "source": [
    "int_cols = population.select_dtypes(include=int).columns\n",
    "population[int_cols] = population[int_cols].astype(float)"
   ],
   "outputs": [],
   "execution_count": null
  },
  {
   "metadata": {},
   "cell_type": "markdown",
   "source": [
    "## Missing Values\n",
    "Before analyzing the missing values we start by converting unknown and invalid values to null in order to be able to handle them as missing data.\n",
    "\n",
    "### Unknown Values\n",
    "The provided meta information list that explains the meanings of the numeric attribute values can be used to identify unknown values.\n",
    "\n",
    "#### Missing Population Attributes\n",
    "- some attribute names have to be rectified to map them with the population dataset\n",
    "- but these attributes from the meta list couldn't be assigned/found in the population dataset: `bip_flag`, `geoscore_kls7`, `haushaltsstruktur`, `wachstumsgebiet_nb`\n"
   ]
  },
  {
   "metadata": {},
   "cell_type": "code",
   "source": "meta[meta[\"meaning\"].str.contains(\"unknown\")]",
   "outputs": [],
   "execution_count": null
  },
  {
   "metadata": {},
   "cell_type": "code",
   "source": [
    "def identify_missing_population_attributes(meta: pd.DataFrame, df: pd.DataFrame) -> pd.DataFrame:\n",
    "    missing_population_attributes = list(set(meta[\"attribute\"].unique()).difference(df.columns))\n",
    "    missing_population_attributes.sort()\n",
    "    return missing_population_attributes\n",
    "\n",
    "identify_missing_population_attributes(meta, population)"
   ],
   "outputs": [],
   "execution_count": null
  },
  {
   "metadata": {},
   "cell_type": "code",
   "source": "meta = preprocessing.rectify_meta_attributes(meta)",
   "outputs": [],
   "execution_count": null
  },
  {
   "metadata": {},
   "cell_type": "code",
   "source": "identify_missing_population_attributes(meta, population)",
   "outputs": [],
   "execution_count": null
  },
  {
   "metadata": {},
   "cell_type": "code",
   "source": "population = preprocessing.convert_unknown_values_to_null(population, meta)",
   "outputs": [],
   "execution_count": null
  },
  {
   "metadata": {},
   "cell_type": "markdown",
   "source": [
    "#### Population Attributes without Meta Information\n",
    "- 54 columns from the population dataset are not included in the provided meta information\n",
    "- there are no remaining -1 values found, where the chance is high that they represent unknown values\n",
    "- `lnr` is an identifier for the dataset records and should be removed"
   ]
  },
  {
   "metadata": {},
   "cell_type": "code",
   "source": [
    "def identify_missing_meta_attributes(df: pd.DataFrame, meta: pd.DataFrame) -> pd.DataFrame:\n",
    "    missing_meta_attributes = list(set(df.columns).difference(meta[\"attribute\"].unique()))\n",
    "\n",
    "    missing_meta_attributes.sort()\n",
    "\n",
    "    excluded_attributes = [\n",
    "        \"cameo_wealth\",\n",
    "        \"cameo_life_phase\",\n",
    "        \"youth_decade\",\n",
    "        \"youth_orientation\",\n",
    "    ]\n",
    "\n",
    "    for exclude_attribute in excluded_attributes:\n",
    "        if exclude_attribute in missing_meta_attributes:\n",
    "            missing_meta_attributes.remove(exclude_attribute)\n",
    "\n",
    "    return missing_meta_attributes\n",
    "\n",
    "missing_meta_attributes = identify_missing_meta_attributes(population, meta)\n",
    "\n",
    "population[missing_meta_attributes].describe()"
   ],
   "outputs": [],
   "execution_count": null
  },
  {
   "metadata": {},
   "cell_type": "code",
   "source": "assert sum(sum(population.values == -1)) == 0",
   "outputs": [],
   "execution_count": null
  },
  {
   "metadata": {},
   "cell_type": "code",
   "source": "population = population.drop(columns=[\"lnr\"])",
   "outputs": [],
   "execution_count": null
  },
  {
   "metadata": {},
   "cell_type": "markdown",
   "source": [
    "### Invalid Values\n",
    "#### Counts & Dates\n",
    "Some counts and dates are logically invalid and should be replaced with null values:\n",
    "- `geburtsjahr` is the year of birth and has invalid 0 values\n",
    "- `anz_personen` are the number of adult persons in the household and has invalid 0 values although e.g. the year of birth shows that there are indeed adults"
   ]
  },
  {
   "metadata": {},
   "cell_type": "code",
   "source": "meta[meta[\"meaning\"].str.contains(\"numeric\")]",
   "outputs": [],
   "execution_count": null
  },
  {
   "metadata": {},
   "cell_type": "code",
   "source": [
    "year_columns = population.columns[population.columns.str.contains(\"jahr\")]\n",
    "\n",
    "population[year_columns].describe()"
   ],
   "outputs": [],
   "execution_count": null
  },
  {
   "metadata": {},
   "cell_type": "code",
   "source": "population[\"geburtsjahr\"].value_counts()",
   "outputs": [],
   "execution_count": null
  },
  {
   "metadata": {},
   "cell_type": "code",
   "source": [
    "count_columns = population.columns[population.columns.str.startswith(\"anz_\") | population.columns.str.contains(\"anzahl\")]\n",
    "\n",
    "population[count_columns].describe()"
   ],
   "outputs": [],
   "execution_count": null
  },
  {
   "metadata": {},
   "cell_type": "code",
   "source": "population[population[\"anz_personen\"] == 0][\"geburtsjahr\"]",
   "outputs": [],
   "execution_count": null
  },
  {
   "metadata": {},
   "cell_type": "markdown",
   "source": [
    "#### Out of Meta Information Range\n",
    "Some values are not included in the ranges from the given meta information, we will therefore handle them as null values."
   ]
  },
  {
   "metadata": {},
   "cell_type": "code",
   "source": "_ = preprocessing.identify_invalid_out_of_range_values(meta, population, log_details=True)",
   "outputs": [],
   "execution_count": null
  },
  {
   "metadata": {},
   "cell_type": "code",
   "source": "population = preprocessing.convert_invalid_values_to_null(population, meta)",
   "outputs": [],
   "execution_count": null
  },
  {
   "metadata": {},
   "cell_type": "markdown",
   "source": [
    "### Remove Rows\n",
    "Around 12% of all data records have more than 120 missing attributes (so over one third of the features), which will be removed due to the lack of information."
   ]
  },
  {
   "metadata": {},
   "cell_type": "code",
   "source": [
    "print(f\"Share of records with more than 33% missing data:\"\n",
    "      f\"\\nPopulation: {sum(population.isnull().sum(axis=1) / len(population.columns) >= .33) / len(population) * 100:.1f}%\")"
   ],
   "outputs": [],
   "execution_count": null
  },
  {
   "metadata": {
    "ExecuteTime": {
     "end_time": "2025-04-27T22:22:31.053864Z",
     "start_time": "2025-04-27T22:22:31.048759Z"
    }
   },
   "cell_type": "code",
   "source": [
    "def plot_histogram_missing_value_counts_per_record(df: pd.DataFrame) -> None:\n",
    "    \"\"\"\n",
    "    Plots histogram of missing value counts per record.\n",
    "\n",
    "    :param df: Dataset with missing value counts.\n",
    "    \"\"\"\n",
    "    missing_value_counts = df.isnull().sum(axis=1).value_counts().reset_index()\n",
    "    missing_value_counts.columns = [\"count_missing_values\", \"data_records\"]\n",
    "\n",
    "    plt.figure(figsize=(15, 4))\n",
    "    plt.bar(missing_value_counts[\"count_missing_values\"], missing_value_counts[\"data_records\"], width=0.8, color=\"royalblue\")\n",
    "\n",
    "    plt.title(\"Distribution of Missing Value Counts Per Record\")\n",
    "    plt.xlabel(\"Count of Missing Values\")\n",
    "    plt.ylabel(\"Data Records\")\n",
    "\n",
    "    plt.show()"
   ],
   "outputs": [],
   "execution_count": 13
  },
  {
   "metadata": {},
   "cell_type": "code",
   "source": "plot_histogram_missing_value_counts_per_record(population)",
   "outputs": [],
   "execution_count": null
  },
  {
   "metadata": {},
   "cell_type": "code",
   "source": "population = preprocessing.remove_records_with_insufficient_data(population)",
   "outputs": [],
   "execution_count": null
  },
  {
   "metadata": {},
   "cell_type": "markdown",
   "source": [
    "### Impute or Remove Columns\n",
    "- `alter_kind1` to `alter_kind4` are largely null because most of the persons in the dataset haven't kids\n",
    "  - nevertheless the age of the kids can provide useful information\n",
    "  - we will remove `alter_kind3` and `alter_kind4` which have over 99% missing values\n",
    "  - null values for `alter_kind1` and `alter_kind2` will be imputed with 0\n",
    "- `titel_kz` is a flag for an academic title, so the high ratio of over 99% missing values is probably correct\n",
    "  - the data differentiates between various academic titles, which we will simplify to a binary flag (academic title yes or no) to limit the dimensionality\n",
    "- `ager_typ` is a classification for older people, so the high ratio of missing values (~74%) is reasonable\n",
    "  - the max birth year for all records with an ager classification is 1959\n",
    "  - we impute all missing `ager_typ` with its median if the `geburtsjahr` is lower or equal 1959\n",
    "  - all other null values will be replaced with -1, which represents an own class in the one-hot-encoding\n",
    "- all attributes with a ratio over 20% missing values (14 attributes) will be completely dropped, because there is no logical reason for the missing data and an uncertain imputation for that amount of data will possibly create too much bias\n",
    "- the remaining attributes have a max ratio of 7.5%, which we will keep in the dataset and impute the null values with its median for numeric types and mode for strings"
   ]
  },
  {
   "metadata": {},
   "cell_type": "code",
   "source": [
    "missing_values_ratio = pd.Series(round(population.isnull().sum() / len(population) * 100, 1).sort_values(ascending=False), name=\"missing_values_ratio\")\n",
    "missing_values_ratio"
   ],
   "outputs": [],
   "execution_count": null
  },
  {
   "metadata": {},
   "cell_type": "code",
   "source": "population[missing_values_ratio[missing_values_ratio >= 20.0].index].describe()",
   "outputs": [],
   "execution_count": null
  },
  {
   "metadata": {},
   "cell_type": "code",
   "source": "population[population[\"ager_typ\"].notnull()][\"geburtsjahr\"].max()",
   "outputs": [],
   "execution_count": null
  },
  {
   "metadata": {},
   "cell_type": "code",
   "source": "population = preprocessing.impute_or_remove_features_with_missing_values(population)",
   "outputs": [],
   "execution_count": null
  },
  {
   "metadata": {},
   "cell_type": "markdown",
   "source": [
    "## Feature Extraction\n",
    "### Formative Youth Years\n",
    "The attribute `praegende_jungendjahre` (formative youth years) contains multiple information that could be worth to split into multiple youth features:\n",
    "- `youth_decade`: the decade represented as 40 for '40ies', 50 for '50ies' and so on\n",
    "- `youth_orientation`: mainstream or avantgarde"
   ]
  },
  {
   "metadata": {},
   "cell_type": "code",
   "source": "population = preprocessing.split_formative_youth_years(population, meta)",
   "outputs": [],
   "execution_count": null
  },
  {
   "metadata": {},
   "cell_type": "markdown",
   "source": [
    "### Wealth & Life Phase\n",
    "The attribute `cameo_intl_2015` is a composition of wealth and life phase and should be separated:\n",
    "- `cameo_wealth`: the first digit represents the wealth (from wealthy to poor households)\n",
    "- `cameo_life_phase`: the second digit stands for the life phase (from pre-family singles to elders in retirement)"
   ]
  },
  {
   "metadata": {},
   "cell_type": "code",
   "source": "population = preprocessing.split_international_cameo(population)",
   "outputs": [],
   "execution_count": null
  },
  {
   "metadata": {},
   "cell_type": "markdown",
   "source": [
    "## Dimensionality Reduction\n",
    "It is useful to drop redundant features to improve the model performance and reduce overfitting. We can identify them with a feature correlation analysis, where highly correlated features indicates that there is redundancy.\n",
    "\n",
    "These features have a strong correlation of over 0.9, so we will drop one of them:\n",
    "- `anz_haushalte_aktiv` and `anz_statistische_haushalte` have also quite similar names\n",
    "- `cameo_deug_2015` and the extracted wealth from `cameo_intl_2015`, whereby `cameo_deug_2015` have more detailed social classes\n",
    "- `gemeindetyp`, `ewdichte` and `ortsgr_kls9` - we only retain `ortsgr_kls9`\n",
    "- `lp_familie_fein`, `lp_familie_grob`, `lp_lebensphase_fein` and `lp_lebensphase_grob` are all correlated by each other - we will only keep `lp_familie_fein` (= accurate family type)\n",
    "- `lp_status_fein` and `lp_status_grob`, whereby `lp_status_fein` have a more detailed social\n",
    "- all `plz8_` features are already covered by `kba13_` (both representing data from postal area code 8xxxx)\n",
    "- between the transactional activities and actuality of the last transaction from the `d19_` attributes exists a redundancy\n",
    "  - we prefer the more general columns over specific ones, e.g. `gesamt` over `versand` or `telko`\n",
    "  - we prefer the 24-month over the 12-month features to have a more complete picture\n",
    "- there is a surprising correlation between the gender feature `anrede_kz` and `semio_kaem` (= affinity to fightfull attitude) as well as `semio_vert` (affinity to be dreamily) - but we will keep the gender feature anyway"
   ]
  },
  {
   "metadata": {},
   "cell_type": "code",
   "source": [
    "def identify_highly_correlated_features(df: pd.DataFrame, correlation_threshold: float) -> pd.DataFrame:\n",
    "    corr_matrix = df.select_dtypes([float, int]).corr().abs()\n",
    "\n",
    "    highly_correlated_features = []\n",
    "\n",
    "    for f1 in range(corr_matrix.shape[1]):\n",
    "        for f2 in range(f1 + 1, corr_matrix.shape[1]):\n",
    "            if corr_matrix.iloc[f1, f2] >= correlation_threshold:\n",
    "                feature_1 = corr_matrix.columns[f1]\n",
    "                feature_2 = corr_matrix.columns[f2]\n",
    "                highly_correlated_features.append((feature_1, feature_2, corr_matrix.iloc[f1, f2]))\n",
    "\n",
    "    if highly_correlated_features:\n",
    "        print(f\"Feature pairs with a correlation of {correlation_threshold} or higher:\")\n",
    "        for pair in highly_correlated_features:\n",
    "            print(f\"({pair[0]}, {pair[1]}): {pair[2]:.2f}\")\n",
    "    else:\n",
    "        print(f\"No feature pairs found with a correlation of {correlation_threshold} or higher.\")\n",
    "\n",
    "    return corr_matrix\n",
    "\n",
    "\n",
    "corr_matrix = identify_highly_correlated_features(population, correlation_threshold=0.8)"
   ],
   "outputs": [],
   "execution_count": null
  },
  {
   "metadata": {
    "ExecuteTime": {
     "end_time": "2025-04-27T22:21:35.305590Z",
     "start_time": "2025-04-27T22:21:35.299745Z"
    }
   },
   "cell_type": "code",
   "source": [
    "with open(\"./src/feature_config.json\", \"r\") as f:\n",
    "    feature_config = json.load(f)"
   ],
   "outputs": [],
   "execution_count": 6
  },
  {
   "metadata": {},
   "cell_type": "code",
   "source": "feature_config[\"redundant\"]",
   "outputs": [],
   "execution_count": null
  },
  {
   "metadata": {},
   "cell_type": "code",
   "source": [
    "# for demonstration purposes we remove \"green_avantgarde\" from the config, because we identified that redundant feature later\n",
    "feature_config[\"redundant\"].remove(\"green_avantgarde\")"
   ],
   "outputs": [],
   "execution_count": null
  },
  {
   "metadata": {},
   "cell_type": "code",
   "source": "population = preprocessing.remove_features(population, feature_config, [\"redundant\"])",
   "outputs": [],
   "execution_count": null
  },
  {
   "metadata": {
    "ExecuteTime": {
     "end_time": "2025-04-15T20:38:44.395531Z",
     "start_time": "2025-04-15T20:38:44.390495Z"
    }
   },
   "cell_type": "markdown",
   "source": [
    "## Feature Transformation\n",
    "### Classification based on Meta Information\n",
    "\n",
    "The meta information to each attributes value is crucial to decide how to handle and transform a feature.\n",
    "\n",
    "- if the values are not ordinal (no perceived order), we will classify it as a categorical feature, e.g. `finanztyp` or `gfk_urlaubertyp`\n",
    "  - except binary features, because one-hot-encoding would only add a dimension without adding new information, e.g. `soho_kz`\n",
    "  - so binary features only need to be converted if they are not yet present as 0 and 1, e.g. `ost_west_kz`\n",
    "- if the values are obviously ordinal but the distances between are not perfectly equal or not clearly assessable, we will retain it as a numerical feature to limit the dimensionality, e.g. `regiotyp` or `cameo_deug_2015`\n",
    "- unambiguous numerical features will of course be retained as they are, e.g. `anz_personen` or `min_gebaeudejahr`\n",
    "meta[meta[\"attribute\"] == \"gfk_urlaubertyp\"]"
   ]
  },
  {
   "metadata": {},
   "cell_type": "code",
   "source": "meta[meta[\"attribute\"] == \"soho_kz\"]",
   "outputs": [],
   "execution_count": null
  },
  {
   "metadata": {},
   "cell_type": "code",
   "source": "meta[meta[\"attribute\"] == \"regiotyp\"]",
   "outputs": [],
   "execution_count": null
  },
  {
   "metadata": {
    "ExecuteTime": {
     "end_time": "2025-04-15T20:38:44.679042Z",
     "start_time": "2025-04-15T20:38:44.667428Z"
    }
   },
   "cell_type": "markdown",
   "source": [
    "### Classification without Meta Information\n",
    "\n",
    "Attributes without meta information are more difficult to decide how to appropriately handle them. These rules have been applied:\n",
    "- if an attribute has only two values then it is handled as a binary categorical feature\n",
    "  - 3 of 4 have the suffix \"flag\" and they have only 0/1 values, which supports the assumption\n",
    "- attributes with \"anz_\" (= count) or \"alter_\" (= age) prefix a clearly numeric features\n",
    "- `eingezogenam_hh_jahr` has year values and also clearly numeric\n",
    "- `cjt_` attributes are subtypes of `cjt_gesamttyp` (= total type of customer journey typology)\n",
    "  - because of the uncertainty we will remove the subtypes and only take the total type\n",
    "- `d19_` attributes that ends with \"_datum\" is a repetitive pattern and therefore probably ordinal categories, that we retain as numeric feature\n",
    "- `firmendichte` is a density whose values 1-5 probably stands for ordered cluster with density intervals analogue to the feature `ewdichte`, that we therefore retain as numeric feature\n",
    "- `kba13_` attributes have similar ranges like the other kba13 features, which all have a perceived order, so we will keep these attributes as well as numeric features\n",
    "- the remaining 18 attributes will be left out due to uncertainty"
   ]
  },
  {
   "metadata": {},
   "cell_type": "code",
   "source": [
    "missing_meta_attributes = identify_missing_meta_attributes(population, meta)\n",
    "\n",
    "missing_meta_attributes"
   ],
   "outputs": [],
   "execution_count": null
  },
  {
   "metadata": {},
   "cell_type": "code",
   "source": "population.loc[:, list(set(population.columns[population.nunique() <= 2]).intersection(missing_meta_attributes))].describe()",
   "outputs": [],
   "execution_count": null
  },
  {
   "metadata": {},
   "cell_type": "code",
   "source": "population[\"arbeit\"].value_counts()",
   "outputs": [],
   "execution_count": null
  },
  {
   "metadata": {},
   "cell_type": "code",
   "source": "population[[col for col in missing_meta_attributes if \"cjt_\" in col]].describe()",
   "outputs": [],
   "execution_count": null
  },
  {
   "metadata": {},
   "cell_type": "code",
   "source": "population[[col for col in missing_meta_attributes if \"d19_\" in col]].describe()",
   "outputs": [],
   "execution_count": null
  },
  {
   "metadata": {},
   "cell_type": "code",
   "source": "population[[col for col in missing_meta_attributes if \"kba13_\" in col]].describe()",
   "outputs": [],
   "execution_count": null
  },
  {
   "metadata": {
    "ExecuteTime": {
     "end_time": "2025-04-15T20:38:47.046088Z",
     "start_time": "2025-04-15T20:38:47.008562Z"
    }
   },
   "cell_type": "markdown",
   "source": [
    "### Encode Binary Features\n",
    "Convert binary features if their values are not already 0 or 1."
   ]
  },
  {
   "metadata": {},
   "cell_type": "code",
   "source": [
    "binary_features = feature_config[\"binary\"]\n",
    "\n",
    "population = preprocessing.encode_binary_features(population, binary_features)"
   ],
   "outputs": [],
   "execution_count": null
  },
  {
   "metadata": {},
   "cell_type": "code",
   "source": "population[binary_features].agg([\"min\", \"max\"])",
   "outputs": [],
   "execution_count": null
  },
  {
   "metadata": {},
   "cell_type": "code",
   "source": "population[binary_features].dtypes",
   "outputs": [],
   "execution_count": null
  },
  {
   "metadata": {
    "ExecuteTime": {
     "end_time": "2025-04-15T20:38:48.838237Z",
     "start_time": "2025-04-15T20:38:48.801447Z"
    }
   },
   "cell_type": "markdown",
   "source": [
    "### Encode Categorical Features\n",
    "One column of each one-hot-encoded categorical feature will be dropped to remove redundancy. This is necessary because it could skew PCA (Principal Component Analysis) that we will use to reduce dimensionality."
   ]
  },
  {
   "metadata": {},
   "cell_type": "code",
   "source": "population, dummy_variables = preprocessing.encode_categorical_features(population, feature_config[\"categorical\"])",
   "outputs": [],
   "execution_count": null
  },
  {
   "metadata": {},
   "cell_type": "markdown",
   "source": "After the encoding of the categorical features we check again if there are new high correlations, because some string values were converted to numeric variables. And indeed, there is also a correlation between `green_avantgarde` and `youth_orientation`, so we will therefore remove `green_avantgarde`."
  },
  {
   "metadata": {},
   "cell_type": "code",
   "source": "_ = identify_highly_correlated_features(population, correlation_threshold=0.9)",
   "outputs": [],
   "execution_count": null
  },
  {
   "metadata": {
    "ExecuteTime": {
     "end_time": "2025-04-15T20:38:49.366422Z",
     "start_time": "2025-04-15T20:38:49.360999Z"
    }
   },
   "cell_type": "markdown",
   "source": [
    "### Remove Uncertain Features\n",
    "As stated out before, we have no meta information for some features and their attributes name as well as their distribution makes not clear, if it should be a categorical or numeric feature."
   ]
  },
  {
   "metadata": {},
   "cell_type": "code",
   "source": "feature_config[\"uncertain\"]",
   "outputs": [],
   "execution_count": null
  },
  {
   "metadata": {},
   "cell_type": "code",
   "source": "population = preprocessing.remove_features(population, feature_config, [\"uncertain\"])",
   "outputs": [],
   "execution_count": null
  },
  {
   "metadata": {
    "ExecuteTime": {
     "end_time": "2025-04-15T20:38:50.002230Z",
     "start_time": "2025-04-15T20:38:49.994710Z"
    }
   },
   "cell_type": "markdown",
   "source": [
    "### Numeric Feature Scaling\n",
    "It is essential to standardize the range of our numeric variables to prevent features with larger values from dominating those with smaller values. Especially the K-Means clustering and Principal Component Analysis (which we will use for the customer segmentation) would be dominated from features with larger scales. This is why we bring all features to a similar scale with the Standard Scaler from sklearn. The Standard Scaler transforms data by removing the mean and scaling the spread/variance, so each feature has a mean of 0 and a standard deviation of 1."
   ]
  },
  {
   "metadata": {},
   "cell_type": "code",
   "source": [
    "non_numeric_features = set(dummy_variables) | set(binary_features)\n",
    "\n",
    "numeric_features = [feature for feature in population.columns if feature not in non_numeric_features]"
   ],
   "outputs": [],
   "execution_count": null
  },
  {
   "metadata": {},
   "cell_type": "code",
   "source": "population, scaler = preprocessing.scale_numeric_features(population, numeric_features, \"population\")",
   "outputs": [],
   "execution_count": null
  },
  {
   "metadata": {},
   "cell_type": "markdown",
   "source": "# Customer Data"
  },
  {
   "metadata": {
    "ExecuteTime": {
     "end_time": "2025-04-27T22:21:13.266369Z",
     "start_time": "2025-04-27T22:20:37.259209Z"
    }
   },
   "cell_type": "code",
   "source": "population, customer = load_raw_population_datasets()",
   "outputs": [
    {
     "name": "stdout",
     "output_type": "stream",
     "text": [
      "Population datasets loaded.\n"
     ]
    }
   ],
   "execution_count": 2
  },
  {
   "metadata": {},
   "cell_type": "markdown",
   "source": [
    "## Column Differences\n",
    "In the customer dataset are 3 additional columns, we also had to remove in our preprocessing."
   ]
  },
  {
   "metadata": {
    "ExecuteTime": {
     "end_time": "2025-04-27T22:21:13.415196Z",
     "start_time": "2025-04-27T22:21:13.405045Z"
    }
   },
   "cell_type": "code",
   "source": "set(customer.columns) - set(population.columns)",
   "outputs": [
    {
     "data": {
      "text/plain": [
       "{'customer_group', 'online_purchase', 'product_group'}"
      ]
     },
     "execution_count": 3,
     "metadata": {},
     "output_type": "execute_result"
    }
   ],
   "execution_count": 3
  },
  {
   "metadata": {
    "ExecuteTime": {
     "end_time": "2025-04-27T22:21:13.968733Z",
     "start_time": "2025-04-27T22:21:13.743426Z"
    }
   },
   "cell_type": "code",
   "source": "customer = customer.drop(columns=[\"customer_group\", \"online_purchase\", \"product_group\"])",
   "outputs": [],
   "execution_count": 4
  },
  {
   "metadata": {},
   "cell_type": "markdown",
   "source": [
    "## Categorical Values\n",
    "There is one value in `gebaeudetyp`, that is only in the population dataset and therefore creates the corresponding dummy column only in the population dataset. To have a generally robust preprocessing, we have to make sure that the features between both datasets will be aligned."
   ]
  },
  {
   "metadata": {
    "ExecuteTime": {
     "end_time": "2025-04-27T22:21:42.214341Z",
     "start_time": "2025-04-27T22:21:42.011546Z"
    }
   },
   "cell_type": "code",
   "source": [
    "for feature in feature_config[\"categorical\"]:\n",
    "    customer_values = set(customer[feature].dropna().unique())\n",
    "    population_values = set(population[feature].dropna().unique())\n",
    "\n",
    "    if customer_values == population_values:\n",
    "        print(f\"{feature}: Same values.\")\n",
    "    else:\n",
    "        feature_delta = customer_values.difference(population_values) | population_values.difference(customer_values)\n",
    "        print(f\"{feature}: {feature_delta} are not in both datasets.\")"
   ],
   "outputs": [
    {
     "name": "stdout",
     "output_type": "stream",
     "text": [
      "ager_typ: Same values.\n",
      "alterskategorie_grob: Same values.\n",
      "cameo_deu_2015: Same values.\n",
      "cjt_gesamttyp: Same values.\n",
      "finanztyp: Same values.\n",
      "gebaeudetyp: {np.float64(5.0)} are not in both datasets.\n",
      "gfk_urlaubertyp: Same values.\n",
      "health_typ: Same values.\n",
      "lp_familie_fein: Same values.\n",
      "nationalitaet_kz: Same values.\n",
      "shopper_typ: Same values.\n"
     ]
    }
   ],
   "execution_count": 7
  },
  {
   "metadata": {},
   "cell_type": "markdown",
   "source": "## Missing Values"
  },
  {
   "metadata": {
    "ExecuteTime": {
     "end_time": "2025-04-27T22:22:15.794563Z",
     "start_time": "2025-04-27T22:22:07.044852Z"
    }
   },
   "cell_type": "code",
   "source": [
    "def preprocess_until_remove_or_impute_missing_values(df: pd.DataFrame, meta: pd.DataFrame, feature_config: Dict[str, List[str]]) -> pd.DataFrame:\n",
    "    df = preprocessing.remove_features(df, feature_config, [\"irrelevant\"])\n",
    "    df = preprocessing.convert_unknown_values_to_null(df, meta)\n",
    "    df = preprocessing.convert_invalid_values_to_null(df, meta)\n",
    "    return df\n",
    "\n",
    "customer = preprocess_until_remove_or_impute_missing_values(customer, meta, feature_config)\n",
    "print(\"\\n\")\n",
    "population = preprocess_until_remove_or_impute_missing_values(population, meta, feature_config)"
   ],
   "outputs": [
    {
     "name": "stdout",
     "output_type": "stream",
     "text": [
      "Removed 3 irrelevant features.\n",
      "Converted 324 unknown values from the meta information to null in the dataset.\n",
      "Converted 7 invalid values to null in the dataset.\n",
      "\n",
      "\n",
      "Removed 3 irrelevant features.\n",
      "Converted 324 unknown values from the meta information to null in the dataset.\n",
      "Converted 8 invalid values to null in the dataset.\n"
     ]
    }
   ],
   "execution_count": 10
  },
  {
   "metadata": {},
   "cell_type": "markdown",
   "source": [
    "### Records\n",
    "The share of records with more than one third of missing data is considerably higher in the customer dataset: 26.8% vs. 11.9%\n",
    "\n",
    "But as we can see in the distributions, the share of records with nearly complete data is higher in the customer dataset, e.g. less than 10 missing features: 59.9% vs. 48.6%"
   ]
  },
  {
   "metadata": {
    "ExecuteTime": {
     "end_time": "2025-04-27T22:22:18.829694Z",
     "start_time": "2025-04-27T22:22:15.831943Z"
    }
   },
   "cell_type": "code",
   "source": [
    "print(f\"Share of records with more than 33% missing data:\"\n",
    "      f\"\\nPopulation: {sum(population.isnull().sum(axis=1) / len(population.columns) >= .33) / len(population) * 100:.1f}%\"\n",
    "      f\"\\nCustomer: {sum(customer.isnull().sum(axis=1) / len(customer.columns) >= .33) / len(customer) * 100:.1f}%\")"
   ],
   "outputs": [
    {
     "name": "stdout",
     "output_type": "stream",
     "text": [
      "Share of records with more than 33% missing data:\n",
      "Population: 11.9%\n",
      "Customer: 26.8%\n"
     ]
    }
   ],
   "execution_count": 11
  },
  {
   "metadata": {
    "ExecuteTime": {
     "end_time": "2025-04-27T22:22:37.362698Z",
     "start_time": "2025-04-27T22:22:36.293192Z"
    }
   },
   "cell_type": "code",
   "source": "plot_histogram_missing_value_counts_per_record(population)",
   "outputs": [
    {
     "data": {
      "text/plain": [
       "<Figure size 1500x400 with 1 Axes>"
      ],
      "image/png": "[encoded data removed]"
     },
     "metadata": {},
     "output_type": "display_data"
    }
   ],
   "execution_count": 14
  },
  {
   "metadata": {
    "ExecuteTime": {
     "end_time": "2025-04-27T22:22:38.207351Z",
     "start_time": "2025-04-27T22:22:37.403018Z"
    }
   },
   "cell_type": "code",
   "source": "plot_histogram_missing_value_counts_per_record(customer)",
   "outputs": [
    {
     "data": {
      "text/plain": [
       "<Figure size 1500x400 with 1 Axes>"
      ],
      "image/png": "[encoded data removed]"
     },
     "metadata": {},
     "output_type": "display_data"
    }
   ],
   "execution_count": 15
  },
  {
   "metadata": {
    "ExecuteTime": {
     "end_time": "2025-04-27T22:22:40.122202Z",
     "start_time": "2025-04-27T22:22:38.326465Z"
    }
   },
   "cell_type": "code",
   "source": [
    "print(f\"Share of records with less than 10 missing values:\"\n",
    "      f\"\\nPopulation: {sum(population.isnull().sum(axis=1) < 10) / len(population) * 100:.1f}%\"\n",
    "      f\"\\nCustomer: {sum(customer.isnull().sum(axis=1) < 10) / len(customer) * 100:.1f}%\")"
   ],
   "outputs": [
    {
     "name": "stdout",
     "output_type": "stream",
     "text": [
      "Share of records with less than 10 missing values:\n",
      "Population: 48.6%\n",
      "Customer: 59.9%\n"
     ]
    }
   ],
   "execution_count": 16
  },
  {
   "metadata": {},
   "cell_type": "markdown",
   "source": [
    "### Features\n",
    "The customer data has a slightly lower share of features that contain more than 20% missing values: 2.8% vs. 5.5%\n",
    "\n",
    "When comparing the missing ratios between both datasets, it is noticeable that:\n",
    "- `ager_typ` is far more missing in the population dataset which is a hint, that the proportion of older age groups among our customers is higher than in the general population\n",
    "- the missing rate for various `d19_` features are constantly 22.3% in the population dataset and only 0.7% in our customer dataset\n",
    "- the correlation between them is with 0.94 very high, so the missing ratios per feature are mostly quite close"
   ]
  },
  {
   "metadata": {
    "ExecuteTime": {
     "end_time": "2025-04-27T22:22:44.852067Z",
     "start_time": "2025-04-27T22:22:40.396785Z"
    }
   },
   "cell_type": "code",
   "source": [
    "population = preprocessing.remove_records_with_insufficient_data(population)\n",
    "customer = preprocessing.remove_records_with_insufficient_data(customer)"
   ],
   "outputs": [
    {
     "name": "stdout",
     "output_type": "stream",
     "text": [
      "Removed 105801 records with over 33.0% missing feature values.\n",
      "Removed 51281 records with over 33.0% missing feature values.\n"
     ]
    }
   ],
   "execution_count": 17
  },
  {
   "metadata": {
    "ExecuteTime": {
     "end_time": "2025-04-27T22:22:45.821770Z",
     "start_time": "2025-04-27T22:22:44.914504Z"
    }
   },
   "cell_type": "code",
   "source": [
    "customer_missing_ratios = pd.Series(round(customer.isnull().sum() / len(customer) * 100, 1).sort_values(ascending=False), name=\"customer_missing_ratios\")\n",
    "population_missing_ratios = pd.Series(round(population.isnull().sum() / len(population) * 100, 1).sort_values(ascending=False), name=\"population_missing_ratios\")\n",
    "\n",
    "print(f\"Share of features with more than 20% missing data:\"\n",
    "      f\"\\nPopulation: {sum(population_missing_ratios >= 20) / len(population.columns) * 100:.1f}%\"\n",
    "      f\"\\nCustomer: {sum(customer_missing_ratios >= 20) / len(customer.columns) * 100:.1f}%\")"
   ],
   "outputs": [
    {
     "name": "stdout",
     "output_type": "stream",
     "text": [
      "Share of features with more than 20% missing data:\n",
      "Population: 5.5%\n",
      "Customer: 2.8%\n"
     ]
    }
   ],
   "execution_count": 18
  },
  {
   "metadata": {
    "ExecuteTime": {
     "end_time": "2025-04-27T22:22:45.991483Z",
     "start_time": "2025-04-27T22:22:45.947058Z"
    }
   },
   "cell_type": "code",
   "source": [
    "missing_ratios_delta = customer_missing_ratios.reset_index().merge(population_missing_ratios.reset_index(), how=\"inner\", on=\"index\")\n",
    "missing_ratios_delta[\"delta_abs\"] = round(abs(missing_ratios_delta[\"customer_missing_ratios\"] - missing_ratios_delta[\"population_missing_ratios\"]), 1)\n",
    "missing_ratios_delta.sort_values(\"delta_abs\", ascending=False).head(15)"
   ],
   "outputs": [
    {
     "data": {
      "text/plain": [
       "                           index  customer_missing_ratios  \\\n",
       "9                      extsel992                     26.4   \n",
       "8                       ager_typ                     31.1   \n",
       "123                d19_konsumtyp                      0.7   \n",
       "122    d19_telko_online_quote_12                      0.7   \n",
       "121                 d19_soziales                      0.7   \n",
       "120    d19_versi_online_quote_12                      0.7   \n",
       "119   d19_gesamt_online_quote_12                      0.7   \n",
       "118   d19_banken_online_quote_12                      0.7   \n",
       "125                    d19_lotto                      0.7   \n",
       "124  d19_versand_online_quote_12                      0.7   \n",
       "83          alterskategorie_fein                      3.5   \n",
       "5                   kk_kundentyp                     45.0   \n",
       "10                      alter_hh                     15.2   \n",
       "7                    geburtsjahr                     32.0   \n",
       "6                   kba05_baumax                     41.6   \n",
       "\n",
       "     population_missing_ratios  delta_abs  \n",
       "9                         70.7       44.3  \n",
       "8                         73.7       42.6  \n",
       "123                       22.3       21.6  \n",
       "122                       22.3       21.6  \n",
       "121                       22.3       21.6  \n",
       "120                       22.3       21.6  \n",
       "119                       22.3       21.6  \n",
       "118                       22.3       21.6  \n",
       "125                       22.3       21.6  \n",
       "124                       22.3       21.6  \n",
       "83                        22.9       19.4  \n",
       "5                         62.5       17.5  \n",
       "10                        28.7       13.5  \n",
       "7                         38.8        6.8  \n",
       "6                         47.5        5.9  "
      ],
      "text/html": [
       "<div>\n",
       "<style scoped>\n",
       "    .dataframe tbody tr th:only-of-type {\n",
       "        vertical-align: middle;\n",
       "    }\n",
       "\n",
       "    .dataframe tbody tr th {\n",
       "        vertical-align: top;\n",
       "    }\n",
       "\n",
       "    .dataframe thead th {\n",
       "        text-align: right;\n",
       "    }\n",
       "</style>\n",
       "<table border=\"1\" class=\"dataframe\">\n",
       "  <thead>\n",
       "    <tr style=\"text-align: right;\">\n",
       "      <th></th>\n",
       "      <th>index</th>\n",
       "      <th>customer_missing_ratios</th>\n",
       "      <th>population_missing_ratios</th>\n",
       "      <th>delta_abs</th>\n",
       "    </tr>\n",
       "  </thead>\n",
       "  <tbody>\n",
       "    <tr>\n",
       "      <th>9</th>\n",
       "      <td>extsel992</td>\n",
       "      <td>26.4</td>\n",
       "      <td>70.7</td>\n",
       "      <td>44.3</td>\n",
       "    </tr>\n",
       "    <tr>\n",
       "      <th>8</th>\n",
       "      <td>ager_typ</td>\n",
       "      <td>31.1</td>\n",
       "      <td>73.7</td>\n",
       "      <td>42.6</td>\n",
       "    </tr>\n",
       "    <tr>\n",
       "      <th>123</th>\n",
       "      <td>d19_konsumtyp</td>\n",
       "      <td>0.7</td>\n",
       "      <td>22.3</td>\n",
       "      <td>21.6</td>\n",
       "    </tr>\n",
       "    <tr>\n",
       "      <th>122</th>\n",
       "      <td>d19_telko_online_quote_12</td>\n",
       "      <td>0.7</td>\n",
       "      <td>22.3</td>\n",
       "      <td>21.6</td>\n",
       "    </tr>\n",
       "    <tr>\n",
       "      <th>121</th>\n",
       "      <td>d19_soziales</td>\n",
       "      <td>0.7</td>\n",
       "      <td>22.3</td>\n",
       "      <td>21.6</td>\n",
       "    </tr>\n",
       "    <tr>\n",
       "      <th>120</th>\n",
       "      <td>d19_versi_online_quote_12</td>\n",
       "      <td>0.7</td>\n",
       "      <td>22.3</td>\n",
       "      <td>21.6</td>\n",
       "    </tr>\n",
       "    <tr>\n",
       "      <th>119</th>\n",
       "      <td>d19_gesamt_online_quote_12</td>\n",
       "      <td>0.7</td>\n",
       "      <td>22.3</td>\n",
       "      <td>21.6</td>\n",
       "    </tr>\n",
       "    <tr>\n",
       "      <th>118</th>\n",
       "      <td>d19_banken_online_quote_12</td>\n",
       "      <td>0.7</td>\n",
       "      <td>22.3</td>\n",
       "      <td>21.6</td>\n",
       "    </tr>\n",
       "    <tr>\n",
       "      <th>125</th>\n",
       "      <td>d19_lotto</td>\n",
       "      <td>0.7</td>\n",
       "      <td>22.3</td>\n",
       "      <td>21.6</td>\n",
       "    </tr>\n",
       "    <tr>\n",
       "      <th>124</th>\n",
       "      <td>d19_versand_online_quote_12</td>\n",
       "      <td>0.7</td>\n",
       "      <td>22.3</td>\n",
       "      <td>21.6</td>\n",
       "    </tr>\n",
       "    <tr>\n",
       "      <th>83</th>\n",
       "      <td>alterskategorie_fein</td>\n",
       "      <td>3.5</td>\n",
       "      <td>22.9</td>\n",
       "      <td>19.4</td>\n",
       "    </tr>\n",
       "    <tr>\n",
       "      <th>5</th>\n",
       "      <td>kk_kundentyp</td>\n",
       "      <td>45.0</td>\n",
       "      <td>62.5</td>\n",
       "      <td>17.5</td>\n",
       "    </tr>\n",
       "    <tr>\n",
       "      <th>10</th>\n",
       "      <td>alter_hh</td>\n",
       "      <td>15.2</td>\n",
       "      <td>28.7</td>\n",
       "      <td>13.5</td>\n",
       "    </tr>\n",
       "    <tr>\n",
       "      <th>7</th>\n",
       "      <td>geburtsjahr</td>\n",
       "      <td>32.0</td>\n",
       "      <td>38.8</td>\n",
       "      <td>6.8</td>\n",
       "    </tr>\n",
       "    <tr>\n",
       "      <th>6</th>\n",
       "      <td>kba05_baumax</td>\n",
       "      <td>41.6</td>\n",
       "      <td>47.5</td>\n",
       "      <td>5.9</td>\n",
       "    </tr>\n",
       "  </tbody>\n",
       "</table>\n",
       "</div>"
      ]
     },
     "execution_count": 19,
     "metadata": {},
     "output_type": "execute_result"
    }
   ],
   "execution_count": 19
  },
  {
   "metadata": {
    "ExecuteTime": {
     "end_time": "2025-04-27T22:22:46.765167Z",
     "start_time": "2025-04-27T22:22:46.743810Z"
    }
   },
   "cell_type": "code",
   "source": [
    "print(f\"Correlation for the missing value ratios per feature between both datasets: \"\n",
    "      f\"{missing_ratios_delta[[\"customer_missing_ratios\", \"population_missing_ratios\"]].corr().iloc[0, 1]:.2f}\")"
   ],
   "outputs": [
    {
     "name": "stdout",
     "output_type": "stream",
     "text": [
      "Correlation for the missing value ratios per feature between both datasets: 0.94\n"
     ]
    }
   ],
   "execution_count": 20
  },
  {
   "metadata": {
    "ExecuteTime": {
     "end_time": "2025-04-27T22:52:20.553209Z",
     "start_time": "2025-04-27T22:52:20.037340Z"
    }
   },
   "cell_type": "code",
   "source": [
    "def plot_missing_values_per_feature(df: pd.DataFrame):\n",
    "    df = df.set_index(\"index\")\n",
    "\n",
    "    df = df[df[\"delta_abs\"] > 0]\n",
    "    df = df.drop(columns=[\"delta_abs\"])\n",
    "\n",
    "    ax = df.plot(kind=\"bar\", stacked=True, figsize=(15, 4), color=[\"royalblue\", \"indianred\"])\n",
    "\n",
    "    ax.set_xticklabels([])\n",
    "    ax.legend([\"Customer Dataset\", \"Population Dataset\"])\n",
    "\n",
    "    plt.xlabel(\"Features w/ Missing Values\")\n",
    "    plt.ylabel(\"Missing Values in %\")\n",
    "    plt.title(\"Missing Values Ratio Per Feature\")\n",
    "    plt.suptitle(\"Customer vs. Population\", fontsize=8)\n",
    "\n",
    "    plt.show()\n",
    "\n",
    "\n",
    "plot_missing_values_per_feature(missing_ratios_delta)"
   ],
   "outputs": [
    {
     "data": {
      "text/plain": [
       "<Figure size 1500x400 with 1 Axes>"
      ],
      "image/png": "[encoded data removed]"
     },
     "metadata": {},
     "output_type": "display_data"
    }
   ],
   "execution_count": 53
  }
 ],
 "metadata": {
  "kernelspec": {
   "display_name": "Python 3 (ipykernel)",
   "language": "python",
   "name": "python3"
  },
  "language_info": {
   "codemirror_mode": {
    "name": "ipython",
    "version": 3
   },
   "file_extension": ".py",
   "mimetype": "text/x-python",
   "name": "python",
   "nbconvert_exporter": "python",
   "pygments_lexer": "ipython3",
   "version": "3.10.13"
  }
 },
 "nbformat": 4,
 "nbformat_minor": 2
}
