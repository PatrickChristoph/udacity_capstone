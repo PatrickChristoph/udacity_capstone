{
 "cells": [
  {
   "metadata": {
    "ExecuteTime": {
     "end_time": "2025-04-27T22:58:58.113153Z",
     "start_time": "2025-04-27T22:58:56.251404Z"
    }
   },
   "cell_type": "code",
   "source": [
    "import json\n",
    "from typing import List, Dict\n",
    "\n",
    "import matplotlib.pyplot as plt\n",
    "import pandas as pd\n",
    "import seaborn as sns\n",
    "\n",
    "import src.preprocessing as preprocessing\n",
    "from src.files_io import download_and_extract_raw_datasets, load_raw_population_datasets"
   ],
   "outputs": [],
   "execution_count": 1
  },
  {
   "metadata": {
    "ExecuteTime": {
     "end_time": "2025-04-27T22:58:58.261160Z",
     "start_time": "2025-04-27T22:58:58.255239Z"
    }
   },
   "cell_type": "code",
   "source": "download_and_extract_raw_datasets()",
   "outputs": [
    {
     "name": "stdout",
     "output_type": "stream",
     "text": [
      "Raw Datasets already exists.\n"
     ]
    }
   ],
   "execution_count": 2
  },
  {
   "cell_type": "markdown",
   "metadata": {},
   "source": [
    "# Population Data\n",
    "We start by analyzing the general population dataset and then apply the pre-processing on the customer dataset."
   ]
  },
  {
   "cell_type": "code",
   "metadata": {
    "ExecuteTime": {
     "end_time": "2025-04-27T22:59:29.050430Z",
     "start_time": "2025-04-27T22:58:58.343576Z"
    }
   },
   "source": "population, _ = load_raw_population_datasets()",
   "outputs": [
    {
     "name": "stdout",
     "output_type": "stream",
     "text": [
      "Population datasets loaded.\n"
     ]
    }
   ],
   "execution_count": 3
  },
  {
   "metadata": {
    "ExecuteTime": {
     "end_time": "2025-04-27T22:59:29.780322Z",
     "start_time": "2025-04-27T22:59:29.141496Z"
    }
   },
   "cell_type": "code",
   "source": "meta = preprocessing.load_meta_data(raw_file_path=\"./data/meta/dias_values.xlsx\")",
   "outputs": [
    {
     "name": "stdout",
     "output_type": "stream",
     "text": [
      "Metadata loaded.\n"
     ]
    }
   ],
   "execution_count": 4
  },
  {
   "metadata": {},
   "cell_type": "markdown",
   "source": "## Data Types"
  },
  {
   "cell_type": "code",
   "metadata": {
    "ExecuteTime": {
     "end_time": "2025-04-27T22:59:29.908174Z",
     "start_time": "2025-04-27T22:59:29.887880Z"
    }
   },
   "source": "population.dtypes.value_counts()",
   "outputs": [
    {
     "data": {
      "text/plain": [
       "float64    267\n",
       "int64       93\n",
       "object       6\n",
       "Name: count, dtype: int64"
      ]
     },
     "execution_count": 5,
     "metadata": {},
     "output_type": "execute_result"
    }
   ],
   "execution_count": 5
  },
  {
   "metadata": {},
   "cell_type": "markdown",
   "source": [
    "### String Types\n",
    "Besides numeric values there are strings in the datasets which need a separate preprocessing:\n",
    "- `cameo_deu_2015`, `cameo_deug_2015` and `cameo_intl_2015`\n",
    "  - have `X` or `XX` values that should be treated as null values\n",
    "  - partially have numeric values as strings that should be unified\n",
    "- `d19_letzter_kauf_branche` shows the sector of the last purchase which is probably ineligible for our segmentation report and prediction model\n",
    "- `eingefuegt_am` is the timestamp where the data was created in the database and also unnecessary\n",
    "- `ost_west_kz` is a flag labeled as `W` or `O` that should be converted to a binary numeric value 0/1"
   ]
  },
  {
   "metadata": {
    "ExecuteTime": {
     "end_time": "2025-04-27T22:59:30.221823Z",
     "start_time": "2025-04-27T22:59:30.166478Z"
    }
   },
   "cell_type": "code",
   "source": "population.select_dtypes(include=\"object\").head()",
   "outputs": [
    {
     "data": {
      "text/plain": [
       "  cameo_deu_2015 cameo_deug_2015 cameo_intl_2015 d19_letzter_kauf_branche  \\\n",
       "0            NaN             NaN             NaN                      NaN   \n",
       "1             8A             8.0            51.0                      NaN   \n",
       "2             4C             4.0            24.0            D19_UNBEKANNT   \n",
       "3             2A             2.0            12.0            D19_UNBEKANNT   \n",
       "4             6B             6.0            43.0               D19_SCHUHE   \n",
       "\n",
       "         eingefuegt_am ost_west_kz  \n",
       "0                  NaN         NaN  \n",
       "1  1992-02-10 00:00:00           W  \n",
       "2  1992-02-12 00:00:00           W  \n",
       "3  1997-04-21 00:00:00           W  \n",
       "4  1992-02-12 00:00:00           W  "
      ],
      "text/html": [
       "<div>\n",
       "<style scoped>\n",
       "    .dataframe tbody tr th:only-of-type {\n",
       "        vertical-align: middle;\n",
       "    }\n",
       "\n",
       "    .dataframe tbody tr th {\n",
       "        vertical-align: top;\n",
       "    }\n",
       "\n",
       "    .dataframe thead th {\n",
       "        text-align: right;\n",
       "    }\n",
       "</style>\n",
       "<table border=\"1\" class=\"dataframe\">\n",
       "  <thead>\n",
       "    <tr style=\"text-align: right;\">\n",
       "      <th></th>\n",
       "      <th>cameo_deu_2015</th>\n",
       "      <th>cameo_deug_2015</th>\n",
       "      <th>cameo_intl_2015</th>\n",
       "      <th>d19_letzter_kauf_branche</th>\n",
       "      <th>eingefuegt_am</th>\n",
       "      <th>ost_west_kz</th>\n",
       "    </tr>\n",
       "  </thead>\n",
       "  <tbody>\n",
       "    <tr>\n",
       "      <th>0</th>\n",
       "      <td>NaN</td>\n",
       "      <td>NaN</td>\n",
       "      <td>NaN</td>\n",
       "      <td>NaN</td>\n",
       "      <td>NaN</td>\n",
       "      <td>NaN</td>\n",
       "    </tr>\n",
       "    <tr>\n",
       "      <th>1</th>\n",
       "      <td>8A</td>\n",
       "      <td>8.0</td>\n",
       "      <td>51.0</td>\n",
       "      <td>NaN</td>\n",
       "      <td>1992-02-10 00:00:00</td>\n",
       "      <td>W</td>\n",
       "    </tr>\n",
       "    <tr>\n",
       "      <th>2</th>\n",
       "      <td>4C</td>\n",
       "      <td>4.0</td>\n",
       "      <td>24.0</td>\n",
       "      <td>D19_UNBEKANNT</td>\n",
       "      <td>1992-02-12 00:00:00</td>\n",
       "      <td>W</td>\n",
       "    </tr>\n",
       "    <tr>\n",
       "      <th>3</th>\n",
       "      <td>2A</td>\n",
       "      <td>2.0</td>\n",
       "      <td>12.0</td>\n",
       "      <td>D19_UNBEKANNT</td>\n",
       "      <td>1997-04-21 00:00:00</td>\n",
       "      <td>W</td>\n",
       "    </tr>\n",
       "    <tr>\n",
       "      <th>4</th>\n",
       "      <td>6B</td>\n",
       "      <td>6.0</td>\n",
       "      <td>43.0</td>\n",
       "      <td>D19_SCHUHE</td>\n",
       "      <td>1992-02-12 00:00:00</td>\n",
       "      <td>W</td>\n",
       "    </tr>\n",
       "  </tbody>\n",
       "</table>\n",
       "</div>"
      ]
     },
     "execution_count": 6,
     "metadata": {},
     "output_type": "execute_result"
    }
   ],
   "execution_count": 6
  },
  {
   "metadata": {
    "ExecuteTime": {
     "end_time": "2025-04-27T22:59:30.814159Z",
     "start_time": "2025-04-27T22:59:30.743792Z"
    }
   },
   "cell_type": "code",
   "source": "population[\"cameo_deu_2015\"].unique()",
   "outputs": [
    {
     "data": {
      "text/plain": [
       "array([nan, '8A', '4C', '2A', '6B', '8C', '4A', '2D', '1A', '1E', '9D',\n",
       "       '5C', '8B', '7A', '5D', '9E', '9B', '1B', '3D', '4E', '4B', '3C',\n",
       "       '5A', '7B', '9A', '6D', '6E', '2C', '7C', '9C', '7D', '5E', '1D',\n",
       "       '8D', '6C', '6A', '5B', '4D', '3A', '2B', '7E', '3B', '6F', '5F',\n",
       "       '1C', 'XX'], dtype=object)"
      ]
     },
     "execution_count": 7,
     "metadata": {},
     "output_type": "execute_result"
    }
   ],
   "execution_count": 7
  },
  {
   "metadata": {
    "ExecuteTime": {
     "end_time": "2025-04-27T22:59:31.694674Z",
     "start_time": "2025-04-27T22:59:31.633496Z"
    }
   },
   "cell_type": "code",
   "source": "population[\"cameo_deug_2015\"].unique()",
   "outputs": [
    {
     "data": {
      "text/plain": [
       "array([nan, 8.0, 4.0, 2.0, 6.0, 1.0, 9.0, 5.0, 7.0, 3.0, '4', '3', '7',\n",
       "       '2', '8', '9', '6', '5', '1', 'X'], dtype=object)"
      ]
     },
     "execution_count": 8,
     "metadata": {},
     "output_type": "execute_result"
    }
   ],
   "execution_count": 8
  },
  {
   "metadata": {
    "ExecuteTime": {
     "end_time": "2025-04-27T22:59:32.236079Z",
     "start_time": "2025-04-27T22:59:32.082298Z"
    }
   },
   "cell_type": "code",
   "source": "population[\"cameo_intl_2015\"].unique()",
   "outputs": [
    {
     "data": {
      "text/plain": [
       "array([nan, 51.0, 24.0, 12.0, 43.0, 54.0, 22.0, 14.0, 13.0, 15.0, 33.0,\n",
       "       41.0, 34.0, 55.0, 25.0, 23.0, 31.0, 52.0, 35.0, 45.0, 44.0, 32.0,\n",
       "       '22', '24', '41', '12', '54', '51', '44', '35', '23', '25', '14',\n",
       "       '34', '52', '55', '31', '32', '15', '13', '43', '33', '45', 'XX'],\n",
       "      dtype=object)"
      ]
     },
     "execution_count": 9,
     "metadata": {},
     "output_type": "execute_result"
    }
   ],
   "execution_count": 9
  },
  {
   "metadata": {
    "ExecuteTime": {
     "end_time": "2025-04-27T22:59:32.543077Z",
     "start_time": "2025-04-27T22:59:32.507372Z"
    }
   },
   "cell_type": "code",
   "source": "population[\"ost_west_kz\"].unique()",
   "outputs": [
    {
     "data": {
      "text/plain": [
       "array([nan, 'W', 'O'], dtype=object)"
      ]
     },
     "execution_count": 10,
     "metadata": {},
     "output_type": "execute_result"
    }
   ],
   "execution_count": 10
  },
  {
   "metadata": {
    "ExecuteTime": {
     "end_time": "2025-04-27T22:59:37.219314Z",
     "start_time": "2025-04-27T22:59:32.779893Z"
    }
   },
   "cell_type": "code",
   "source": "population = population.drop(columns=[\"d19_letzter_kauf_branche\", \"eingefuegt_am\"])",
   "outputs": [],
   "execution_count": 11
  },
  {
   "metadata": {},
   "cell_type": "markdown",
   "source": [
    "### Unified Numerical Types\n",
    "All numerical values in the dataset are actually integers, but Pandas converted most of them to float to be able to handle null values.\n",
    "\n",
    "Furthermore, many of the numerical columns are actually categorical variables, which will be addressed with one-hot-encoding at the end of the pre-processing. However, we will start by converting all integer values to floats, because it simplifies the initial preprocessing."
   ]
  },
  {
   "metadata": {
    "ExecuteTime": {
     "end_time": "2025-04-27T22:59:37.731056Z",
     "start_time": "2025-04-27T22:59:37.243385Z"
    }
   },
   "cell_type": "code",
   "source": [
    "int_cols = population.select_dtypes(include=int).columns\n",
    "population[int_cols] = population[int_cols].astype(float)"
   ],
   "outputs": [],
   "execution_count": 12
  },
  {
   "metadata": {},
   "cell_type": "markdown",
   "source": [
    "## Missing Values\n",
    "Before analyzing the missing values we start by converting unknown and invalid values to null in order to be able to handle them as missing data.\n",
    "\n",
    "### Unknown Values\n",
    "The provided meta information list that explains the meanings of the numeric attribute values can be used to identify unknown values.\n",
    "\n",
    "#### Missing Population Attributes\n",
    "- some attribute names have to be rectified to map them with the population dataset\n",
    "- but these attributes from the meta list couldn't be assigned/found in the population dataset: `bip_flag`, `geoscore_kls7`, `haushaltsstruktur`, `wachstumsgebiet_nb`\n"
   ]
  },
  {
   "metadata": {
    "ExecuteTime": {
     "end_time": "2025-04-27T22:59:37.766285Z",
     "start_time": "2025-04-27T22:59:37.755861Z"
    }
   },
   "cell_type": "code",
   "source": "meta[meta[\"meaning\"].str.contains(\"unknown\")]",
   "outputs": [
    {
     "data": {
      "text/plain": [
       "                 attribute                                        description  \\\n",
       "0                 ager_typ                                 best-ager typology   \n",
       "5     alterskategorie_grob       age classification through prename analysis    \n",
       "5     alterskategorie_grob       age classification through prename analysis    \n",
       "11                alter_hh                      main age within the household   \n",
       "33               anrede_kz                                             gender   \n",
       "...                    ...                                                ...   \n",
       "2238    wachstumsgebiet_nb  growing area (population growth in the last 5 ...   \n",
       "2244        w_keit_kind_hh    likelihood of a child present in this household   \n",
       "2244        w_keit_kind_hh    likelihood of a child present in this household   \n",
       "2251              zabeotyp                   typification of energy consumers   \n",
       "2251              zabeotyp                   typification of energy consumers   \n",
       "\n",
       "     value                           meaning  \n",
       "0       -1                           unknown  \n",
       "5       -1                           unknown  \n",
       "5        0                           unknown  \n",
       "11       0  unknown / no main age detectable  \n",
       "33      -1                           unknown  \n",
       "...    ...                               ...  \n",
       "2238     0                           unknown  \n",
       "2244    -1                           unknown  \n",
       "2244     0                           unknown  \n",
       "2251    -1                           unknown  \n",
       "2251     9                           unknown  \n",
       "\n",
       "[324 rows x 4 columns]"
      ],
      "text/html": [
       "<div>\n",
       "<style scoped>\n",
       "    .dataframe tbody tr th:only-of-type {\n",
       "        vertical-align: middle;\n",
       "    }\n",
       "\n",
       "    .dataframe tbody tr th {\n",
       "        vertical-align: top;\n",
       "    }\n",
       "\n",
       "    .dataframe thead th {\n",
       "        text-align: right;\n",
       "    }\n",
       "</style>\n",
       "<table border=\"1\" class=\"dataframe\">\n",
       "  <thead>\n",
       "    <tr style=\"text-align: right;\">\n",
       "      <th></th>\n",
       "      <th>attribute</th>\n",
       "      <th>description</th>\n",
       "      <th>value</th>\n",
       "      <th>meaning</th>\n",
       "    </tr>\n",
       "  </thead>\n",
       "  <tbody>\n",
       "    <tr>\n",
       "      <th>0</th>\n",
       "      <td>ager_typ</td>\n",
       "      <td>best-ager typology</td>\n",
       "      <td>-1</td>\n",
       "      <td>unknown</td>\n",
       "    </tr>\n",
       "    <tr>\n",
       "      <th>5</th>\n",
       "      <td>alterskategorie_grob</td>\n",
       "      <td>age classification through prename analysis</td>\n",
       "      <td>-1</td>\n",
       "      <td>unknown</td>\n",
       "    </tr>\n",
       "    <tr>\n",
       "      <th>5</th>\n",
       "      <td>alterskategorie_grob</td>\n",
       "      <td>age classification through prename analysis</td>\n",
       "      <td>0</td>\n",
       "      <td>unknown</td>\n",
       "    </tr>\n",
       "    <tr>\n",
       "      <th>11</th>\n",
       "      <td>alter_hh</td>\n",
       "      <td>main age within the household</td>\n",
       "      <td>0</td>\n",
       "      <td>unknown / no main age detectable</td>\n",
       "    </tr>\n",
       "    <tr>\n",
       "      <th>33</th>\n",
       "      <td>anrede_kz</td>\n",
       "      <td>gender</td>\n",
       "      <td>-1</td>\n",
       "      <td>unknown</td>\n",
       "    </tr>\n",
       "    <tr>\n",
       "      <th>...</th>\n",
       "      <td>...</td>\n",
       "      <td>...</td>\n",
       "      <td>...</td>\n",
       "      <td>...</td>\n",
       "    </tr>\n",
       "    <tr>\n",
       "      <th>2238</th>\n",
       "      <td>wachstumsgebiet_nb</td>\n",
       "      <td>growing area (population growth in the last 5 ...</td>\n",
       "      <td>0</td>\n",
       "      <td>unknown</td>\n",
       "    </tr>\n",
       "    <tr>\n",
       "      <th>2244</th>\n",
       "      <td>w_keit_kind_hh</td>\n",
       "      <td>likelihood of a child present in this household</td>\n",
       "      <td>-1</td>\n",
       "      <td>unknown</td>\n",
       "    </tr>\n",
       "    <tr>\n",
       "      <th>2244</th>\n",
       "      <td>w_keit_kind_hh</td>\n",
       "      <td>likelihood of a child present in this household</td>\n",
       "      <td>0</td>\n",
       "      <td>unknown</td>\n",
       "    </tr>\n",
       "    <tr>\n",
       "      <th>2251</th>\n",
       "      <td>zabeotyp</td>\n",
       "      <td>typification of energy consumers</td>\n",
       "      <td>-1</td>\n",
       "      <td>unknown</td>\n",
       "    </tr>\n",
       "    <tr>\n",
       "      <th>2251</th>\n",
       "      <td>zabeotyp</td>\n",
       "      <td>typification of energy consumers</td>\n",
       "      <td>9</td>\n",
       "      <td>unknown</td>\n",
       "    </tr>\n",
       "  </tbody>\n",
       "</table>\n",
       "<p>324 rows × 4 columns</p>\n",
       "</div>"
      ]
     },
     "execution_count": 13,
     "metadata": {},
     "output_type": "execute_result"
    }
   ],
   "execution_count": 13
  },
  {
   "metadata": {
    "ExecuteTime": {
     "end_time": "2025-04-27T22:59:37.914842Z",
     "start_time": "2025-04-27T22:59:37.906684Z"
    }
   },
   "cell_type": "code",
   "source": [
    "def identify_missing_population_attributes(meta: pd.DataFrame, df: pd.DataFrame) -> pd.DataFrame:\n",
    "    missing_population_attributes = list(set(meta[\"attribute\"].unique()).difference(df.columns))\n",
    "    missing_population_attributes.sort()\n",
    "    return missing_population_attributes\n",
    "\n",
    "identify_missing_population_attributes(meta, population)"
   ],
   "outputs": [
    {
     "data": {
      "text/plain": [
       "['bip_flag',\n",
       " 'd19_banken_direkt_rz',\n",
       " 'd19_banken_gross_rz',\n",
       " 'd19_banken_lokal_rz',\n",
       " 'd19_banken_rest_rz',\n",
       " 'd19_bekleidung_geh_rz',\n",
       " 'd19_bekleidung_rest_rz',\n",
       " 'd19_bildung_rz',\n",
       " 'd19_bio_oeko_rz',\n",
       " 'd19_buch_rz',\n",
       " 'd19_digit_serv_rz',\n",
       " 'd19_drogerieartikel_rz',\n",
       " 'd19_energie_rz',\n",
       " 'd19_freizeit_rz',\n",
       " 'd19_garten_rz',\n",
       " 'd19_handwerk_rz',\n",
       " 'd19_haus_deko_rz',\n",
       " 'd19_kinderartikel_rz',\n",
       " 'd19_kk_kundentyp',\n",
       " 'd19_kosmetik_rz',\n",
       " 'd19_lebensmittel_rz',\n",
       " 'd19_lotto_rz',\n",
       " 'd19_nahrungsergaenzung_rz',\n",
       " 'd19_ratgeber_rz',\n",
       " 'd19_reisen_rz',\n",
       " 'd19_sammelartikel_rz',\n",
       " 'd19_schuhe_rz',\n",
       " 'd19_sonstige_rz',\n",
       " 'd19_technik_rz',\n",
       " 'd19_telko_mobile_rz',\n",
       " 'd19_telko_rest_rz',\n",
       " 'd19_tierartikel_rz',\n",
       " 'd19_versand_rest_rz',\n",
       " 'd19_versicherungen_rz',\n",
       " 'd19_vollsortiment_rz',\n",
       " 'd19_wein_feinkost_rz',\n",
       " 'geoscore_kls7',\n",
       " 'haushaltsstruktur',\n",
       " 'kba13_ccm_1400_2500',\n",
       " 'soho_flag',\n",
       " 'wachstumsgebiet_nb']"
      ]
     },
     "execution_count": 14,
     "metadata": {},
     "output_type": "execute_result"
    }
   ],
   "execution_count": 14
  },
  {
   "metadata": {
    "ExecuteTime": {
     "end_time": "2025-04-27T22:59:38.245752Z",
     "start_time": "2025-04-27T22:59:38.234018Z"
    }
   },
   "cell_type": "code",
   "source": "meta = preprocessing.rectify_meta_attributes(meta)",
   "outputs": [
    {
     "name": "stdout",
     "output_type": "stream",
     "text": [
      "Metadata rectified.\n"
     ]
    }
   ],
   "execution_count": 15
  },
  {
   "metadata": {
    "ExecuteTime": {
     "end_time": "2025-04-27T22:59:38.477351Z",
     "start_time": "2025-04-27T22:59:38.469626Z"
    }
   },
   "cell_type": "code",
   "source": "identify_missing_population_attributes(meta, population)",
   "outputs": [
    {
     "data": {
      "text/plain": [
       "['bip_flag', 'geoscore_kls7', 'haushaltsstruktur', 'wachstumsgebiet_nb']"
      ]
     },
     "execution_count": 16,
     "metadata": {},
     "output_type": "execute_result"
    }
   ],
   "execution_count": 16
  },
  {
   "metadata": {
    "ExecuteTime": {
     "end_time": "2025-04-27T22:59:40.104650Z",
     "start_time": "2025-04-27T22:59:38.657916Z"
    }
   },
   "cell_type": "code",
   "source": "population = preprocessing.convert_unknown_values_to_null(population, meta)",
   "outputs": [
    {
     "name": "stdout",
     "output_type": "stream",
     "text": [
      "Converted 324 unknown values from the meta information to null in the dataset.\n"
     ]
    }
   ],
   "execution_count": 17
  },
  {
   "metadata": {},
   "cell_type": "markdown",
   "source": [
    "#### Population Attributes without Meta Information\n",
    "- 54 columns from the population dataset are not included in the provided meta information\n",
    "- there are no remaining -1 values found, where the chance is high that they represent unknown values\n",
    "- `lnr` is an identifier for the dataset records and should be removed"
   ]
  },
  {
   "metadata": {
    "ExecuteTime": {
     "end_time": "2025-04-27T22:59:42.863464Z",
     "start_time": "2025-04-27T22:59:40.120172Z"
    }
   },
   "cell_type": "code",
   "source": [
    "def identify_missing_meta_attributes(df: pd.DataFrame, meta: pd.DataFrame) -> pd.DataFrame:\n",
    "    missing_meta_attributes = list(set(df.columns).difference(meta[\"attribute\"].unique()))\n",
    "\n",
    "    missing_meta_attributes.sort()\n",
    "\n",
    "    excluded_attributes = [\n",
    "        \"cameo_wealth\",\n",
    "        \"cameo_life_phase\",\n",
    "        \"youth_decade\",\n",
    "        \"youth_orientation\",\n",
    "    ]\n",
    "\n",
    "    for exclude_attribute in excluded_attributes:\n",
    "        if exclude_attribute in missing_meta_attributes:\n",
    "            missing_meta_attributes.remove(exclude_attribute)\n",
    "\n",
    "    return missing_meta_attributes\n",
    "\n",
    "missing_meta_attributes = identify_missing_meta_attributes(population, meta)\n",
    "\n",
    "population[missing_meta_attributes].describe()"
   ],
   "outputs": [
    {
     "data": {
      "text/plain": [
       "          akt_dat_kl   alter_kind1   alter_kind2  alter_kind3  alter_kind4  \\\n",
       "count  817722.000000  81058.000000  29499.000000  6170.000000  1205.000000   \n",
       "mean        4.421928     11.745392     13.402658    14.476013    15.089627   \n",
       "std         3.638805      4.097660      3.243300     2.712427     2.452932   \n",
       "min         1.000000      2.000000      2.000000     4.000000     7.000000   \n",
       "25%         1.000000      8.000000     11.000000    13.000000    14.000000   \n",
       "50%         3.000000     12.000000     14.000000    15.000000    15.000000   \n",
       "75%         9.000000     15.000000     16.000000    17.000000    17.000000   \n",
       "max         9.000000     18.000000     18.000000    18.000000    18.000000   \n",
       "\n",
       "       alterskategorie_fein     anz_kinder  anz_statistische_haushalte  \\\n",
       "count         628274.000000  817722.000000               798073.000000   \n",
       "mean              13.700717       0.154018                    7.599356   \n",
       "std                5.079849       0.502389                   14.332201   \n",
       "min                0.000000       0.000000                    0.000000   \n",
       "25%               11.000000       0.000000                    1.000000   \n",
       "50%               14.000000       0.000000                    3.000000   \n",
       "75%               17.000000       0.000000                    9.000000   \n",
       "max               25.000000      11.000000                  449.000000   \n",
       "\n",
       "              arbeit  cjt_katalognutzer  ...    strukturtyp     umfeld_alt  \\\n",
       "count  794005.000000      886367.000000  ...  793947.000000  793435.000000   \n",
       "mean        3.167854           3.335264  ...       2.539212       3.223125   \n",
       "std         1.002376           1.493633  ...       0.754926       1.255785   \n",
       "min         1.000000           1.000000  ...       1.000000       1.000000   \n",
       "25%         3.000000           2.000000  ...       2.000000       2.000000   \n",
       "50%         3.000000           4.000000  ...       3.000000       3.000000   \n",
       "75%         4.000000           5.000000  ...       3.000000       4.000000   \n",
       "max         9.000000           5.000000  ...       3.000000       5.000000   \n",
       "\n",
       "         umfeld_jung  ungleichenn_flag  verdichtungsraum           vha  \\\n",
       "count  793435.000000     817722.000000      793947.00000  817722.00000   \n",
       "mean        4.017526          0.090067           4.58576       0.43882   \n",
       "std         1.118399          0.286278           8.47152       1.14329   \n",
       "min         1.000000          0.000000           0.00000       0.00000   \n",
       "25%         3.000000          0.000000           0.00000       0.00000   \n",
       "50%         4.000000          0.000000           1.00000       0.00000   \n",
       "75%         5.000000          0.000000           5.00000       0.00000   \n",
       "max         5.000000          1.000000          45.00000       5.00000   \n",
       "\n",
       "                 vhn       vk_dht4a     vk_distanz        vk_zg11  \n",
       "count  770025.000000  815304.000000  815304.000000  815304.000000  \n",
       "mean        2.417322       6.001214       7.532130       5.945972  \n",
       "std         1.166572       2.856091       3.247789       2.771464  \n",
       "min         0.000000       1.000000       1.000000       1.000000  \n",
       "25%         2.000000       3.000000       5.000000       4.000000  \n",
       "50%         2.000000       6.000000       8.000000       6.000000  \n",
       "75%         3.000000       9.000000      10.000000       8.000000  \n",
       "max         4.000000      11.000000      13.000000      11.000000  \n",
       "\n",
       "[8 rows x 54 columns]"
      ],
      "text/html": [
       "<div>\n",
       "<style scoped>\n",
       "    .dataframe tbody tr th:only-of-type {\n",
       "        vertical-align: middle;\n",
       "    }\n",
       "\n",
       "    .dataframe tbody tr th {\n",
       "        vertical-align: top;\n",
       "    }\n",
       "\n",
       "    .dataframe thead th {\n",
       "        text-align: right;\n",
       "    }\n",
       "</style>\n",
       "<table border=\"1\" class=\"dataframe\">\n",
       "  <thead>\n",
       "    <tr style=\"text-align: right;\">\n",
       "      <th></th>\n",
       "      <th>akt_dat_kl</th>\n",
       "      <th>alter_kind1</th>\n",
       "      <th>alter_kind2</th>\n",
       "      <th>alter_kind3</th>\n",
       "      <th>alter_kind4</th>\n",
       "      <th>alterskategorie_fein</th>\n",
       "      <th>anz_kinder</th>\n",
       "      <th>anz_statistische_haushalte</th>\n",
       "      <th>arbeit</th>\n",
       "      <th>cjt_katalognutzer</th>\n",
       "      <th>...</th>\n",
       "      <th>strukturtyp</th>\n",
       "      <th>umfeld_alt</th>\n",
       "      <th>umfeld_jung</th>\n",
       "      <th>ungleichenn_flag</th>\n",
       "      <th>verdichtungsraum</th>\n",
       "      <th>vha</th>\n",
       "      <th>vhn</th>\n",
       "      <th>vk_dht4a</th>\n",
       "      <th>vk_distanz</th>\n",
       "      <th>vk_zg11</th>\n",
       "    </tr>\n",
       "  </thead>\n",
       "  <tbody>\n",
       "    <tr>\n",
       "      <th>count</th>\n",
       "      <td>817722.000000</td>\n",
       "      <td>81058.000000</td>\n",
       "      <td>29499.000000</td>\n",
       "      <td>6170.000000</td>\n",
       "      <td>1205.000000</td>\n",
       "      <td>628274.000000</td>\n",
       "      <td>817722.000000</td>\n",
       "      <td>798073.000000</td>\n",
       "      <td>794005.000000</td>\n",
       "      <td>886367.000000</td>\n",
       "      <td>...</td>\n",
       "      <td>793947.000000</td>\n",
       "      <td>793435.000000</td>\n",
       "      <td>793435.000000</td>\n",
       "      <td>817722.000000</td>\n",
       "      <td>793947.00000</td>\n",
       "      <td>817722.00000</td>\n",
       "      <td>770025.000000</td>\n",
       "      <td>815304.000000</td>\n",
       "      <td>815304.000000</td>\n",
       "      <td>815304.000000</td>\n",
       "    </tr>\n",
       "    <tr>\n",
       "      <th>mean</th>\n",
       "      <td>4.421928</td>\n",
       "      <td>11.745392</td>\n",
       "      <td>13.402658</td>\n",
       "      <td>14.476013</td>\n",
       "      <td>15.089627</td>\n",
       "      <td>13.700717</td>\n",
       "      <td>0.154018</td>\n",
       "      <td>7.599356</td>\n",
       "      <td>3.167854</td>\n",
       "      <td>3.335264</td>\n",
       "      <td>...</td>\n",
       "      <td>2.539212</td>\n",
       "      <td>3.223125</td>\n",
       "      <td>4.017526</td>\n",
       "      <td>0.090067</td>\n",
       "      <td>4.58576</td>\n",
       "      <td>0.43882</td>\n",
       "      <td>2.417322</td>\n",
       "      <td>6.001214</td>\n",
       "      <td>7.532130</td>\n",
       "      <td>5.945972</td>\n",
       "    </tr>\n",
       "    <tr>\n",
       "      <th>std</th>\n",
       "      <td>3.638805</td>\n",
       "      <td>4.097660</td>\n",
       "      <td>3.243300</td>\n",
       "      <td>2.712427</td>\n",
       "      <td>2.452932</td>\n",
       "      <td>5.079849</td>\n",
       "      <td>0.502389</td>\n",
       "      <td>14.332201</td>\n",
       "      <td>1.002376</td>\n",
       "      <td>1.493633</td>\n",
       "      <td>...</td>\n",
       "      <td>0.754926</td>\n",
       "      <td>1.255785</td>\n",
       "      <td>1.118399</td>\n",
       "      <td>0.286278</td>\n",
       "      <td>8.47152</td>\n",
       "      <td>1.14329</td>\n",
       "      <td>1.166572</td>\n",
       "      <td>2.856091</td>\n",
       "      <td>3.247789</td>\n",
       "      <td>2.771464</td>\n",
       "    </tr>\n",
       "    <tr>\n",
       "      <th>min</th>\n",
       "      <td>1.000000</td>\n",
       "      <td>2.000000</td>\n",
       "      <td>2.000000</td>\n",
       "      <td>4.000000</td>\n",
       "      <td>7.000000</td>\n",
       "      <td>0.000000</td>\n",
       "      <td>0.000000</td>\n",
       "      <td>0.000000</td>\n",
       "      <td>1.000000</td>\n",
       "      <td>1.000000</td>\n",
       "      <td>...</td>\n",
       "      <td>1.000000</td>\n",
       "      <td>1.000000</td>\n",
       "      <td>1.000000</td>\n",
       "      <td>0.000000</td>\n",
       "      <td>0.00000</td>\n",
       "      <td>0.00000</td>\n",
       "      <td>0.000000</td>\n",
       "      <td>1.000000</td>\n",
       "      <td>1.000000</td>\n",
       "      <td>1.000000</td>\n",
       "    </tr>\n",
       "    <tr>\n",
       "      <th>25%</th>\n",
       "      <td>1.000000</td>\n",
       "      <td>8.000000</td>\n",
       "      <td>11.000000</td>\n",
       "      <td>13.000000</td>\n",
       "      <td>14.000000</td>\n",
       "      <td>11.000000</td>\n",
       "      <td>0.000000</td>\n",
       "      <td>1.000000</td>\n",
       "      <td>3.000000</td>\n",
       "      <td>2.000000</td>\n",
       "      <td>...</td>\n",
       "      <td>2.000000</td>\n",
       "      <td>2.000000</td>\n",
       "      <td>3.000000</td>\n",
       "      <td>0.000000</td>\n",
       "      <td>0.00000</td>\n",
       "      <td>0.00000</td>\n",
       "      <td>2.000000</td>\n",
       "      <td>3.000000</td>\n",
       "      <td>5.000000</td>\n",
       "      <td>4.000000</td>\n",
       "    </tr>\n",
       "    <tr>\n",
       "      <th>50%</th>\n",
       "      <td>3.000000</td>\n",
       "      <td>12.000000</td>\n",
       "      <td>14.000000</td>\n",
       "      <td>15.000000</td>\n",
       "      <td>15.000000</td>\n",
       "      <td>14.000000</td>\n",
       "      <td>0.000000</td>\n",
       "      <td>3.000000</td>\n",
       "      <td>3.000000</td>\n",
       "      <td>4.000000</td>\n",
       "      <td>...</td>\n",
       "      <td>3.000000</td>\n",
       "      <td>3.000000</td>\n",
       "      <td>4.000000</td>\n",
       "      <td>0.000000</td>\n",
       "      <td>1.00000</td>\n",
       "      <td>0.00000</td>\n",
       "      <td>2.000000</td>\n",
       "      <td>6.000000</td>\n",
       "      <td>8.000000</td>\n",
       "      <td>6.000000</td>\n",
       "    </tr>\n",
       "    <tr>\n",
       "      <th>75%</th>\n",
       "      <td>9.000000</td>\n",
       "      <td>15.000000</td>\n",
       "      <td>16.000000</td>\n",
       "      <td>17.000000</td>\n",
       "      <td>17.000000</td>\n",
       "      <td>17.000000</td>\n",
       "      <td>0.000000</td>\n",
       "      <td>9.000000</td>\n",
       "      <td>4.000000</td>\n",
       "      <td>5.000000</td>\n",
       "      <td>...</td>\n",
       "      <td>3.000000</td>\n",
       "      <td>4.000000</td>\n",
       "      <td>5.000000</td>\n",
       "      <td>0.000000</td>\n",
       "      <td>5.00000</td>\n",
       "      <td>0.00000</td>\n",
       "      <td>3.000000</td>\n",
       "      <td>9.000000</td>\n",
       "      <td>10.000000</td>\n",
       "      <td>8.000000</td>\n",
       "    </tr>\n",
       "    <tr>\n",
       "      <th>max</th>\n",
       "      <td>9.000000</td>\n",
       "      <td>18.000000</td>\n",
       "      <td>18.000000</td>\n",
       "      <td>18.000000</td>\n",
       "      <td>18.000000</td>\n",
       "      <td>25.000000</td>\n",
       "      <td>11.000000</td>\n",
       "      <td>449.000000</td>\n",
       "      <td>9.000000</td>\n",
       "      <td>5.000000</td>\n",
       "      <td>...</td>\n",
       "      <td>3.000000</td>\n",
       "      <td>5.000000</td>\n",
       "      <td>5.000000</td>\n",
       "      <td>1.000000</td>\n",
       "      <td>45.00000</td>\n",
       "      <td>5.00000</td>\n",
       "      <td>4.000000</td>\n",
       "      <td>11.000000</td>\n",
       "      <td>13.000000</td>\n",
       "      <td>11.000000</td>\n",
       "    </tr>\n",
       "  </tbody>\n",
       "</table>\n",
       "<p>8 rows × 54 columns</p>\n",
       "</div>"
      ]
     },
     "execution_count": 18,
     "metadata": {},
     "output_type": "execute_result"
    }
   ],
   "execution_count": 18
  },
  {
   "metadata": {
    "ExecuteTime": {
     "end_time": "2025-04-27T23:00:21.166301Z",
     "start_time": "2025-04-27T22:59:42.952233Z"
    }
   },
   "cell_type": "code",
   "source": "assert sum(sum(population.values == -1)) == 0",
   "outputs": [],
   "execution_count": 19
  },
  {
   "metadata": {
    "ExecuteTime": {
     "end_time": "2025-04-27T23:00:43.569913Z",
     "start_time": "2025-04-27T23:00:22.800915Z"
    }
   },
   "cell_type": "code",
   "source": "population = population.drop(columns=[\"lnr\"])",
   "outputs": [],
   "execution_count": 20
  },
  {
   "metadata": {},
   "cell_type": "markdown",
   "source": [
    "### Invalid Values\n",
    "#### Counts & Dates\n",
    "Some counts and dates are logically invalid and should be replaced with null values:\n",
    "- `geburtsjahr` is the year of birth and has invalid 0 values\n",
    "- `anz_personen` are the number of adult persons in the household and has invalid 0 values although e.g. the year of birth shows that there are indeed adults"
   ]
  },
  {
   "metadata": {
    "ExecuteTime": {
     "end_time": "2025-04-27T23:00:43.725755Z",
     "start_time": "2025-04-27T23:00:43.644502Z"
    }
   },
   "cell_type": "code",
   "source": "meta[meta[\"meaning\"].str.contains(\"numeric\")]",
   "outputs": [
    {
     "data": {
      "text/plain": [
       "                attribute                                        description  \\\n",
       "36    anz_haushalte_aktiv               number of households in the building   \n",
       "37           anz_hh_titel        number of academic title holder in building   \n",
       "38           anz_personen           number of adult persons in the household   \n",
       "39              anz_titel  number of professional title holder in household    \n",
       "711           geburtsjahr                                      year of birth   \n",
       "1167     kba13_anzahl_pkw                         number of cars in the PLZ8   \n",
       "1986     min_gebaeudejahr  year the building was first mentioned in our d...   \n",
       "\n",
       "     value                                    meaning  \n",
       "36       …  numeric value (typically coded from 1-10)  \n",
       "37       …  numeric value (typically coded from 1-10)  \n",
       "38       …   numeric value (typically coded from 1-3)  \n",
       "39       …  numeric value (typically coded from 1-10)  \n",
       "711      …                              numeric value  \n",
       "1167     …                              numeric value  \n",
       "1986     …                              numeric value  "
      ],
      "text/html": [
       "<div>\n",
       "<style scoped>\n",
       "    .dataframe tbody tr th:only-of-type {\n",
       "        vertical-align: middle;\n",
       "    }\n",
       "\n",
       "    .dataframe tbody tr th {\n",
       "        vertical-align: top;\n",
       "    }\n",
       "\n",
       "    .dataframe thead th {\n",
       "        text-align: right;\n",
       "    }\n",
       "</style>\n",
       "<table border=\"1\" class=\"dataframe\">\n",
       "  <thead>\n",
       "    <tr style=\"text-align: right;\">\n",
       "      <th></th>\n",
       "      <th>attribute</th>\n",
       "      <th>description</th>\n",
       "      <th>value</th>\n",
       "      <th>meaning</th>\n",
       "    </tr>\n",
       "  </thead>\n",
       "  <tbody>\n",
       "    <tr>\n",
       "      <th>36</th>\n",
       "      <td>anz_haushalte_aktiv</td>\n",
       "      <td>number of households in the building</td>\n",
       "      <td>…</td>\n",
       "      <td>numeric value (typically coded from 1-10)</td>\n",
       "    </tr>\n",
       "    <tr>\n",
       "      <th>37</th>\n",
       "      <td>anz_hh_titel</td>\n",
       "      <td>number of academic title holder in building</td>\n",
       "      <td>…</td>\n",
       "      <td>numeric value (typically coded from 1-10)</td>\n",
       "    </tr>\n",
       "    <tr>\n",
       "      <th>38</th>\n",
       "      <td>anz_personen</td>\n",
       "      <td>number of adult persons in the household</td>\n",
       "      <td>…</td>\n",
       "      <td>numeric value (typically coded from 1-3)</td>\n",
       "    </tr>\n",
       "    <tr>\n",
       "      <th>39</th>\n",
       "      <td>anz_titel</td>\n",
       "      <td>number of professional title holder in household</td>\n",
       "      <td>…</td>\n",
       "      <td>numeric value (typically coded from 1-10)</td>\n",
       "    </tr>\n",
       "    <tr>\n",
       "      <th>711</th>\n",
       "      <td>geburtsjahr</td>\n",
       "      <td>year of birth</td>\n",
       "      <td>…</td>\n",
       "      <td>numeric value</td>\n",
       "    </tr>\n",
       "    <tr>\n",
       "      <th>1167</th>\n",
       "      <td>kba13_anzahl_pkw</td>\n",
       "      <td>number of cars in the PLZ8</td>\n",
       "      <td>…</td>\n",
       "      <td>numeric value</td>\n",
       "    </tr>\n",
       "    <tr>\n",
       "      <th>1986</th>\n",
       "      <td>min_gebaeudejahr</td>\n",
       "      <td>year the building was first mentioned in our d...</td>\n",
       "      <td>…</td>\n",
       "      <td>numeric value</td>\n",
       "    </tr>\n",
       "  </tbody>\n",
       "</table>\n",
       "</div>"
      ]
     },
     "execution_count": 21,
     "metadata": {},
     "output_type": "execute_result"
    }
   ],
   "execution_count": 21
  },
  {
   "metadata": {
    "ExecuteTime": {
     "end_time": "2025-04-27T23:00:44.505540Z",
     "start_time": "2025-04-27T23:00:43.844420Z"
    }
   },
   "cell_type": "code",
   "source": [
    "year_columns = population.columns[population.columns.str.contains(\"jahr\")]\n",
    "\n",
    "population[year_columns].describe()"
   ],
   "outputs": [
    {
     "data": {
      "text/plain": [
       "       eingezogenam_hh_jahr    geburtsjahr  min_gebaeudejahr  \\\n",
       "count         817722.000000  891221.000000     798073.000000   \n",
       "mean            2003.729061    1101.178533       1993.277011   \n",
       "std                7.058204     976.583551          3.332739   \n",
       "min             1900.000000       0.000000       1985.000000   \n",
       "25%             1997.000000       0.000000       1992.000000   \n",
       "50%             2003.000000    1943.000000       1992.000000   \n",
       "75%             2010.000000    1970.000000       1993.000000   \n",
       "max             2018.000000    2017.000000       2016.000000   \n",
       "\n",
       "       praegende_jugendjahre  \n",
       "count          783057.000000  \n",
       "mean                9.280709  \n",
       "std                 4.032107  \n",
       "min                 1.000000  \n",
       "25%                 6.000000  \n",
       "50%                 9.000000  \n",
       "75%                14.000000  \n",
       "max                15.000000  "
      ],
      "text/html": [
       "<div>\n",
       "<style scoped>\n",
       "    .dataframe tbody tr th:only-of-type {\n",
       "        vertical-align: middle;\n",
       "    }\n",
       "\n",
       "    .dataframe tbody tr th {\n",
       "        vertical-align: top;\n",
       "    }\n",
       "\n",
       "    .dataframe thead th {\n",
       "        text-align: right;\n",
       "    }\n",
       "</style>\n",
       "<table border=\"1\" class=\"dataframe\">\n",
       "  <thead>\n",
       "    <tr style=\"text-align: right;\">\n",
       "      <th></th>\n",
       "      <th>eingezogenam_hh_jahr</th>\n",
       "      <th>geburtsjahr</th>\n",
       "      <th>min_gebaeudejahr</th>\n",
       "      <th>praegende_jugendjahre</th>\n",
       "    </tr>\n",
       "  </thead>\n",
       "  <tbody>\n",
       "    <tr>\n",
       "      <th>count</th>\n",
       "      <td>817722.000000</td>\n",
       "      <td>891221.000000</td>\n",
       "      <td>798073.000000</td>\n",
       "      <td>783057.000000</td>\n",
       "    </tr>\n",
       "    <tr>\n",
       "      <th>mean</th>\n",
       "      <td>2003.729061</td>\n",
       "      <td>1101.178533</td>\n",
       "      <td>1993.277011</td>\n",
       "      <td>9.280709</td>\n",
       "    </tr>\n",
       "    <tr>\n",
       "      <th>std</th>\n",
       "      <td>7.058204</td>\n",
       "      <td>976.583551</td>\n",
       "      <td>3.332739</td>\n",
       "      <td>4.032107</td>\n",
       "    </tr>\n",
       "    <tr>\n",
       "      <th>min</th>\n",
       "      <td>1900.000000</td>\n",
       "      <td>0.000000</td>\n",
       "      <td>1985.000000</td>\n",
       "      <td>1.000000</td>\n",
       "    </tr>\n",
       "    <tr>\n",
       "      <th>25%</th>\n",
       "      <td>1997.000000</td>\n",
       "      <td>0.000000</td>\n",
       "      <td>1992.000000</td>\n",
       "      <td>6.000000</td>\n",
       "    </tr>\n",
       "    <tr>\n",
       "      <th>50%</th>\n",
       "      <td>2003.000000</td>\n",
       "      <td>1943.000000</td>\n",
       "      <td>1992.000000</td>\n",
       "      <td>9.000000</td>\n",
       "    </tr>\n",
       "    <tr>\n",
       "      <th>75%</th>\n",
       "      <td>2010.000000</td>\n",
       "      <td>1970.000000</td>\n",
       "      <td>1993.000000</td>\n",
       "      <td>14.000000</td>\n",
       "    </tr>\n",
       "    <tr>\n",
       "      <th>max</th>\n",
       "      <td>2018.000000</td>\n",
       "      <td>2017.000000</td>\n",
       "      <td>2016.000000</td>\n",
       "      <td>15.000000</td>\n",
       "    </tr>\n",
       "  </tbody>\n",
       "</table>\n",
       "</div>"
      ]
     },
     "execution_count": 22,
     "metadata": {},
     "output_type": "execute_result"
    }
   ],
   "execution_count": 22
  },
  {
   "metadata": {
    "ExecuteTime": {
     "end_time": "2025-04-27T23:00:45.512783Z",
     "start_time": "2025-04-27T23:00:45.396456Z"
    }
   },
   "cell_type": "code",
   "source": "population[\"geburtsjahr\"].value_counts()",
   "outputs": [
    {
     "data": {
      "text/plain": [
       "geburtsjahr\n",
       "0.0       392318\n",
       "1967.0     11183\n",
       "1965.0     11090\n",
       "1966.0     10933\n",
       "1970.0     10883\n",
       "           ...  \n",
       "1909.0         7\n",
       "1904.0         5\n",
       "1900.0         4\n",
       "1907.0         4\n",
       "1902.0         1\n",
       "Name: count, Length: 117, dtype: int64"
      ]
     },
     "execution_count": 23,
     "metadata": {},
     "output_type": "execute_result"
    }
   ],
   "execution_count": 23
  },
  {
   "metadata": {
    "ExecuteTime": {
     "end_time": "2025-04-27T23:00:47.290277Z",
     "start_time": "2025-04-27T23:00:46.458948Z"
    }
   },
   "cell_type": "code",
   "source": [
    "count_columns = population.columns[population.columns.str.startswith(\"anz_\") | population.columns.str.contains(\"anzahl\")]\n",
    "\n",
    "population[count_columns].describe()"
   ],
   "outputs": [
    {
     "data": {
      "text/plain": [
       "       anz_haushalte_aktiv   anz_hh_titel     anz_kinder   anz_personen  \\\n",
       "count        798073.000000  794213.000000  817722.000000  817722.000000   \n",
       "mean              8.287263       0.040647       0.154018       1.727637   \n",
       "std              15.628087       0.324028       0.502389       1.155849   \n",
       "min               0.000000       0.000000       0.000000       0.000000   \n",
       "25%               1.000000       0.000000       0.000000       1.000000   \n",
       "50%               4.000000       0.000000       0.000000       1.000000   \n",
       "75%               9.000000       0.000000       0.000000       2.000000   \n",
       "max             595.000000      23.000000      11.000000      45.000000   \n",
       "\n",
       "       anz_statistische_haushalte      anz_titel  kba13_anzahl_pkw  \n",
       "count               798073.000000  817722.000000     785421.000000  \n",
       "mean                     7.599356       0.004162        619.701439  \n",
       "std                     14.332201       0.068855        340.034318  \n",
       "min                      0.000000       0.000000          0.000000  \n",
       "25%                      1.000000       0.000000        384.000000  \n",
       "50%                      3.000000       0.000000        549.000000  \n",
       "75%                      9.000000       0.000000        778.000000  \n",
       "max                    449.000000       6.000000       2300.000000  "
      ],
      "text/html": [
       "<div>\n",
       "<style scoped>\n",
       "    .dataframe tbody tr th:only-of-type {\n",
       "        vertical-align: middle;\n",
       "    }\n",
       "\n",
       "    .dataframe tbody tr th {\n",
       "        vertical-align: top;\n",
       "    }\n",
       "\n",
       "    .dataframe thead th {\n",
       "        text-align: right;\n",
       "    }\n",
       "</style>\n",
       "<table border=\"1\" class=\"dataframe\">\n",
       "  <thead>\n",
       "    <tr style=\"text-align: right;\">\n",
       "      <th></th>\n",
       "      <th>anz_haushalte_aktiv</th>\n",
       "      <th>anz_hh_titel</th>\n",
       "      <th>anz_kinder</th>\n",
       "      <th>anz_personen</th>\n",
       "      <th>anz_statistische_haushalte</th>\n",
       "      <th>anz_titel</th>\n",
       "      <th>kba13_anzahl_pkw</th>\n",
       "    </tr>\n",
       "  </thead>\n",
       "  <tbody>\n",
       "    <tr>\n",
       "      <th>count</th>\n",
       "      <td>798073.000000</td>\n",
       "      <td>794213.000000</td>\n",
       "      <td>817722.000000</td>\n",
       "      <td>817722.000000</td>\n",
       "      <td>798073.000000</td>\n",
       "      <td>817722.000000</td>\n",
       "      <td>785421.000000</td>\n",
       "    </tr>\n",
       "    <tr>\n",
       "      <th>mean</th>\n",
       "      <td>8.287263</td>\n",
       "      <td>0.040647</td>\n",
       "      <td>0.154018</td>\n",
       "      <td>1.727637</td>\n",
       "      <td>7.599356</td>\n",
       "      <td>0.004162</td>\n",
       "      <td>619.701439</td>\n",
       "    </tr>\n",
       "    <tr>\n",
       "      <th>std</th>\n",
       "      <td>15.628087</td>\n",
       "      <td>0.324028</td>\n",
       "      <td>0.502389</td>\n",
       "      <td>1.155849</td>\n",
       "      <td>14.332201</td>\n",
       "      <td>0.068855</td>\n",
       "      <td>340.034318</td>\n",
       "    </tr>\n",
       "    <tr>\n",
       "      <th>min</th>\n",
       "      <td>0.000000</td>\n",
       "      <td>0.000000</td>\n",
       "      <td>0.000000</td>\n",
       "      <td>0.000000</td>\n",
       "      <td>0.000000</td>\n",
       "      <td>0.000000</td>\n",
       "      <td>0.000000</td>\n",
       "    </tr>\n",
       "    <tr>\n",
       "      <th>25%</th>\n",
       "      <td>1.000000</td>\n",
       "      <td>0.000000</td>\n",
       "      <td>0.000000</td>\n",
       "      <td>1.000000</td>\n",
       "      <td>1.000000</td>\n",
       "      <td>0.000000</td>\n",
       "      <td>384.000000</td>\n",
       "    </tr>\n",
       "    <tr>\n",
       "      <th>50%</th>\n",
       "      <td>4.000000</td>\n",
       "      <td>0.000000</td>\n",
       "      <td>0.000000</td>\n",
       "      <td>1.000000</td>\n",
       "      <td>3.000000</td>\n",
       "      <td>0.000000</td>\n",
       "      <td>549.000000</td>\n",
       "    </tr>\n",
       "    <tr>\n",
       "      <th>75%</th>\n",
       "      <td>9.000000</td>\n",
       "      <td>0.000000</td>\n",
       "      <td>0.000000</td>\n",
       "      <td>2.000000</td>\n",
       "      <td>9.000000</td>\n",
       "      <td>0.000000</td>\n",
       "      <td>778.000000</td>\n",
       "    </tr>\n",
       "    <tr>\n",
       "      <th>max</th>\n",
       "      <td>595.000000</td>\n",
       "      <td>23.000000</td>\n",
       "      <td>11.000000</td>\n",
       "      <td>45.000000</td>\n",
       "      <td>449.000000</td>\n",
       "      <td>6.000000</td>\n",
       "      <td>2300.000000</td>\n",
       "    </tr>\n",
       "  </tbody>\n",
       "</table>\n",
       "</div>"
      ]
     },
     "execution_count": 24,
     "metadata": {},
     "output_type": "execute_result"
    }
   ],
   "execution_count": 24
  },
  {
   "metadata": {
    "ExecuteTime": {
     "end_time": "2025-04-27T23:00:48.516826Z",
     "start_time": "2025-04-27T23:00:47.707146Z"
    }
   },
   "cell_type": "code",
   "source": "population[population[\"anz_personen\"] == 0][\"geburtsjahr\"]",
   "outputs": [
    {
     "data": {
      "text/plain": [
       "3         1957.0\n",
       "16        1988.0\n",
       "25        1991.0\n",
       "64        1975.0\n",
       "80        1974.0\n",
       "           ...  \n",
       "891128    1963.0\n",
       "891154       0.0\n",
       "891169       0.0\n",
       "891203       0.0\n",
       "891218    1976.0\n",
       "Name: geburtsjahr, Length: 34103, dtype: float64"
      ]
     },
     "execution_count": 25,
     "metadata": {},
     "output_type": "execute_result"
    }
   ],
   "execution_count": 25
  },
  {
   "metadata": {},
   "cell_type": "markdown",
   "source": [
    "#### Out of Meta Information Range\n",
    "Some values are not included in the ranges from the given meta information, we will therefore handle them as null values."
   ]
  },
  {
   "metadata": {
    "ExecuteTime": {
     "end_time": "2025-04-27T23:00:54.982695Z",
     "start_time": "2025-04-27T23:00:48.766174Z"
    }
   },
   "cell_type": "code",
   "source": "_ = preprocessing.identify_invalid_out_of_range_values(meta, population, log_details=True)",
   "outputs": [
    {
     "name": "stdout",
     "output_type": "stream",
     "text": [
      "attribute: kba05_modtemp, invalid value: 6.0, affected rows: 9549\n",
      "attribute: lp_familie_fein, invalid value: 0.0, affected rows: 72938\n",
      "attribute: lp_familie_grob, invalid value: 0.0, affected rows: 72938\n",
      "attribute: lp_lebensphase_fein, invalid value: 0.0, affected rows: 92778\n",
      "attribute: lp_lebensphase_grob, invalid value: 0.0, affected rows: 89718\n",
      "attribute: ortsgr_kls9, invalid value: 0.0, affected rows: 58\n"
     ]
    }
   ],
   "execution_count": 26
  },
  {
   "metadata": {
    "ExecuteTime": {
     "end_time": "2025-04-27T23:01:05.223665Z",
     "start_time": "2025-04-27T23:00:59.497654Z"
    }
   },
   "cell_type": "code",
   "source": "population = preprocessing.convert_invalid_values_to_null(population, meta)",
   "outputs": [
    {
     "name": "stdout",
     "output_type": "stream",
     "text": [
      "Converted 8 invalid values to null in the dataset.\n"
     ]
    }
   ],
   "execution_count": 27
  },
  {
   "metadata": {},
   "cell_type": "markdown",
   "source": [
    "### Remove Rows\n",
    "Around 12% of all data records have more than 120 missing attributes (so over one third of the features), which will be removed due to the lack of information."
   ]
  },
  {
   "metadata": {
    "ExecuteTime": {
     "end_time": "2025-04-27T23:01:06.795056Z",
     "start_time": "2025-04-27T23:01:05.342725Z"
    }
   },
   "cell_type": "code",
   "source": [
    "print(f\"Share of records with more than 33% missing data:\"\n",
    "      f\"\\nPopulation: {sum(population.isnull().sum(axis=1) / len(population.columns) >= .33) / len(population) * 100:.1f}%\")"
   ],
   "outputs": [
    {
     "name": "stdout",
     "output_type": "stream",
     "text": [
      "Share of records with more than 33% missing data:\n",
      "Population: 11.9%\n"
     ]
    }
   ],
   "execution_count": 28
  },
  {
   "metadata": {
    "ExecuteTime": {
     "end_time": "2025-04-27T23:01:06.848370Z",
     "start_time": "2025-04-27T23:01:06.836324Z"
    }
   },
   "cell_type": "code",
   "source": [
    "def plot_histogram_missing_value_counts_per_record(df: pd.DataFrame) -> None:\n",
    "    \"\"\"\n",
    "    Plots histogram of missing value counts per record.\n",
    "\n",
    "    :param df: Dataset with missing value counts.\n",
    "    \"\"\"\n",
    "    missing_value_counts = df.isnull().sum(axis=1).value_counts().reset_index()\n",
    "    missing_value_counts.columns = [\"count_missing_values\", \"data_records\"]\n",
    "\n",
    "    plt.figure(figsize=(15, 4))\n",
    "    plt.bar(missing_value_counts[\"count_missing_values\"], missing_value_counts[\"data_records\"], width=0.8, color=\"royalblue\")\n",
    "\n",
    "    plt.title(\"Distribution of Missing Value Counts Per Record\")\n",
    "    plt.xlabel(\"Count of Missing Values\")\n",
    "    plt.ylabel(\"Data Records\")\n",
    "\n",
    "    plt.show()"
   ],
   "outputs": [],
   "execution_count": 29
  },
  {
   "metadata": {
    "ExecuteTime": {
     "end_time": "2025-04-27T23:01:08.272100Z",
     "start_time": "2025-04-27T23:01:06.938062Z"
    }
   },
   "cell_type": "code",
   "source": "plot_histogram_missing_value_counts_per_record(population)",
   "outputs": [
    {
     "data": {
      "text/plain": [
       "<Figure size 1500x400 with 1 Axes>"
      ],
      "image/png": "[encoded data removed]"
     },
     "metadata": {},
     "output_type": "display_data"
    }
   ],
   "execution_count": 30
  },
  {
   "metadata": {
    "ExecuteTime": {
     "end_time": "2025-04-27T23:01:12.783432Z",
     "start_time": "2025-04-27T23:01:08.407344Z"
    }
   },
   "cell_type": "code",
   "source": "population = preprocessing.remove_records_with_insufficient_data(population)",
   "outputs": [
    {
     "name": "stdout",
     "output_type": "stream",
     "text": [
      "Removed 105801 records with over 33.0% missing feature values.\n"
     ]
    }
   ],
   "execution_count": 31
  },
  {
   "metadata": {},
   "cell_type": "markdown",
   "source": [
    "### Impute or Remove Columns\n",
    "- `alter_kind1` to `alter_kind4` are largely null because most of the persons in the dataset haven't kids\n",
    "  - nevertheless the age of the kids can provide useful information\n",
    "  - we will remove `alter_kind3` and `alter_kind4` which have over 99% missing values\n",
    "  - null values for `alter_kind1` and `alter_kind2` will be imputed with 0\n",
    "- `titel_kz` is a flag for an academic title, so the high ratio of over 99% missing values is probably correct\n",
    "  - the data differentiates between various academic titles, which we will simplify to a binary flag (academic title yes or no) to limit the dimensionality\n",
    "- `ager_typ` is a classification for older people, so the high ratio of missing values (~74%) is reasonable\n",
    "  - the max birth year for all records with an ager classification is 1959\n",
    "  - we impute all missing `ager_typ` with its median if the `geburtsjahr` is lower or equal 1959\n",
    "  - all other null values will be replaced with -1, which represents an own class in the one-hot-encoding\n",
    "- all attributes with a ratio over 20% missing values (14 attributes) will be completely dropped, because there is no logical reason for the missing data and an uncertain imputation for that amount of data will possibly create too much bias\n",
    "- the remaining attributes have a max ratio of 7.5%, which we will keep in the dataset and impute the null values with its median for numeric types and mode for strings"
   ]
  },
  {
   "metadata": {
    "ExecuteTime": {
     "end_time": "2025-04-27T23:01:13.444816Z",
     "start_time": "2025-04-27T23:01:12.821675Z"
    }
   },
   "cell_type": "code",
   "source": [
    "missing_values_ratio = pd.Series(round(population.isnull().sum() / len(population) * 100, 1).sort_values(ascending=False), name=\"missing_values_ratio\")\n",
    "missing_values_ratio"
   ],
   "outputs": [
    {
     "data": {
      "text/plain": [
       "alter_kind4          99.9\n",
       "titel_kz             99.7\n",
       "alter_kind3          99.2\n",
       "alter_kind2          96.4\n",
       "alter_kind1          90.0\n",
       "                     ... \n",
       "kba13_bj_2006         0.0\n",
       "kba13_bj_2004         0.0\n",
       "kba13_bj_2000         0.0\n",
       "kba13_bj_1999         0.0\n",
       "d19_banken_anz_12     0.0\n",
       "Name: missing_values_ratio, Length: 363, dtype: float64"
      ]
     },
     "execution_count": 32,
     "metadata": {},
     "output_type": "execute_result"
    }
   ],
   "execution_count": 32
  },
  {
   "metadata": {
    "ExecuteTime": {
     "end_time": "2025-04-27T23:01:14.646281Z",
     "start_time": "2025-04-27T23:01:13.609746Z"
    }
   },
   "cell_type": "code",
   "source": "population[missing_values_ratio[missing_values_ratio >= 20.0].index].describe()",
   "outputs": [
    {
     "data": {
      "text/plain": [
       "       alter_kind4     titel_kz  alter_kind3   alter_kind2   alter_kind1  \\\n",
       "count  1165.000000  2048.000000  5985.000000  28519.000000  78157.000000   \n",
       "mean     15.094421     1.315918    14.476358     13.415512     11.766700   \n",
       "std       2.451526     0.996477     2.713507      3.238147      4.085296   \n",
       "min       7.000000     1.000000     4.000000      2.000000      2.000000   \n",
       "25%      14.000000     1.000000    13.000000     11.000000      8.000000   \n",
       "50%      15.000000     1.000000    15.000000     14.000000     12.000000   \n",
       "75%      17.000000     1.000000    17.000000     16.000000     15.000000   \n",
       "max      18.000000     5.000000    18.000000     18.000000     18.000000   \n",
       "\n",
       "            ager_typ      extsel992   kk_kundentyp   kba05_baumax  \\\n",
       "count  206683.000000  229801.000000  294880.000000  412001.000000   \n",
       "mean        1.662183      33.357753       3.410550       2.531436   \n",
       "std         0.743813      14.530266       1.628902       1.690418   \n",
       "min         0.000000       1.000000       1.000000       1.000000   \n",
       "25%         1.000000      23.000000       2.000000       1.000000   \n",
       "50%         2.000000      34.000000       3.000000       1.000000   \n",
       "75%         2.000000      43.000000       5.000000       4.000000   \n",
       "max         3.000000      56.000000       6.000000       5.000000   \n",
       "\n",
       "         geburtsjahr       alter_hh  alterskategorie_fein  d19_konsumtyp  \\\n",
       "count  480658.000000  560062.000000         605811.000000  610264.000000   \n",
       "mean     1967.060810      15.291193             13.690420       5.424528   \n",
       "std        17.797858       3.804053              5.079973       3.234337   \n",
       "min      1900.000000       1.000000              0.000000       1.000000   \n",
       "25%      1955.000000      13.000000             11.000000       2.000000   \n",
       "50%      1967.000000      16.000000             14.000000       5.000000   \n",
       "75%      1981.000000      18.000000             17.000000       9.000000   \n",
       "max      2017.000000      21.000000             25.000000       9.000000   \n",
       "\n",
       "       d19_banken_online_quote_12  d19_gesamt_online_quote_12  \\\n",
       "count               610264.000000               610264.000000   \n",
       "mean                     0.705817                    3.556028   \n",
       "std                      2.553706                    4.656783   \n",
       "min                      0.000000                    0.000000   \n",
       "25%                      0.000000                    0.000000   \n",
       "50%                      0.000000                    0.000000   \n",
       "75%                      0.000000                   10.000000   \n",
       "max                     10.000000                   10.000000   \n",
       "\n",
       "       d19_telko_online_quote_12  d19_versi_online_quote_12   d19_soziales  \\\n",
       "count              610264.000000              610264.000000  610264.000000   \n",
       "mean                    0.012367                   0.025279       0.664235   \n",
       "std                     0.350347                   0.498384       1.462815   \n",
       "min                     0.000000                   0.000000       0.000000   \n",
       "25%                     0.000000                   0.000000       0.000000   \n",
       "50%                     0.000000                   0.000000       0.000000   \n",
       "75%                     0.000000                   0.000000       0.000000   \n",
       "max                    10.000000                  10.000000       5.000000   \n",
       "\n",
       "       d19_versand_online_quote_12      d19_lotto  \n",
       "count                610264.000000  610264.000000  \n",
       "mean                      3.239123       1.534826  \n",
       "std                       4.584298       2.841457  \n",
       "min                       0.000000       0.000000  \n",
       "25%                       0.000000       0.000000  \n",
       "50%                       0.000000       0.000000  \n",
       "75%                      10.000000       0.000000  \n",
       "max                      10.000000       7.000000  "
      ],
      "text/html": [
       "<div>\n",
       "<style scoped>\n",
       "    .dataframe tbody tr th:only-of-type {\n",
       "        vertical-align: middle;\n",
       "    }\n",
       "\n",
       "    .dataframe tbody tr th {\n",
       "        vertical-align: top;\n",
       "    }\n",
       "\n",
       "    .dataframe thead th {\n",
       "        text-align: right;\n",
       "    }\n",
       "</style>\n",
       "<table border=\"1\" class=\"dataframe\">\n",
       "  <thead>\n",
       "    <tr style=\"text-align: right;\">\n",
       "      <th></th>\n",
       "      <th>alter_kind4</th>\n",
       "      <th>titel_kz</th>\n",
       "      <th>alter_kind3</th>\n",
       "      <th>alter_kind2</th>\n",
       "      <th>alter_kind1</th>\n",
       "      <th>ager_typ</th>\n",
       "      <th>extsel992</th>\n",
       "      <th>kk_kundentyp</th>\n",
       "      <th>kba05_baumax</th>\n",
       "      <th>geburtsjahr</th>\n",
       "      <th>alter_hh</th>\n",
       "      <th>alterskategorie_fein</th>\n",
       "      <th>d19_konsumtyp</th>\n",
       "      <th>d19_banken_online_quote_12</th>\n",
       "      <th>d19_gesamt_online_quote_12</th>\n",
       "      <th>d19_telko_online_quote_12</th>\n",
       "      <th>d19_versi_online_quote_12</th>\n",
       "      <th>d19_soziales</th>\n",
       "      <th>d19_versand_online_quote_12</th>\n",
       "      <th>d19_lotto</th>\n",
       "    </tr>\n",
       "  </thead>\n",
       "  <tbody>\n",
       "    <tr>\n",
       "      <th>count</th>\n",
       "      <td>1165.000000</td>\n",
       "      <td>2048.000000</td>\n",
       "      <td>5985.000000</td>\n",
       "      <td>28519.000000</td>\n",
       "      <td>78157.000000</td>\n",
       "      <td>206683.000000</td>\n",
       "      <td>229801.000000</td>\n",
       "      <td>294880.000000</td>\n",
       "      <td>412001.000000</td>\n",
       "      <td>480658.000000</td>\n",
       "      <td>560062.000000</td>\n",
       "      <td>605811.000000</td>\n",
       "      <td>610264.000000</td>\n",
       "      <td>610264.000000</td>\n",
       "      <td>610264.000000</td>\n",
       "      <td>610264.000000</td>\n",
       "      <td>610264.000000</td>\n",
       "      <td>610264.000000</td>\n",
       "      <td>610264.000000</td>\n",
       "      <td>610264.000000</td>\n",
       "    </tr>\n",
       "    <tr>\n",
       "      <th>mean</th>\n",
       "      <td>15.094421</td>\n",
       "      <td>1.315918</td>\n",
       "      <td>14.476358</td>\n",
       "      <td>13.415512</td>\n",
       "      <td>11.766700</td>\n",
       "      <td>1.662183</td>\n",
       "      <td>33.357753</td>\n",
       "      <td>3.410550</td>\n",
       "      <td>2.531436</td>\n",
       "      <td>1967.060810</td>\n",
       "      <td>15.291193</td>\n",
       "      <td>13.690420</td>\n",
       "      <td>5.424528</td>\n",
       "      <td>0.705817</td>\n",
       "      <td>3.556028</td>\n",
       "      <td>0.012367</td>\n",
       "      <td>0.025279</td>\n",
       "      <td>0.664235</td>\n",
       "      <td>3.239123</td>\n",
       "      <td>1.534826</td>\n",
       "    </tr>\n",
       "    <tr>\n",
       "      <th>std</th>\n",
       "      <td>2.451526</td>\n",
       "      <td>0.996477</td>\n",
       "      <td>2.713507</td>\n",
       "      <td>3.238147</td>\n",
       "      <td>4.085296</td>\n",
       "      <td>0.743813</td>\n",
       "      <td>14.530266</td>\n",
       "      <td>1.628902</td>\n",
       "      <td>1.690418</td>\n",
       "      <td>17.797858</td>\n",
       "      <td>3.804053</td>\n",
       "      <td>5.079973</td>\n",
       "      <td>3.234337</td>\n",
       "      <td>2.553706</td>\n",
       "      <td>4.656783</td>\n",
       "      <td>0.350347</td>\n",
       "      <td>0.498384</td>\n",
       "      <td>1.462815</td>\n",
       "      <td>4.584298</td>\n",
       "      <td>2.841457</td>\n",
       "    </tr>\n",
       "    <tr>\n",
       "      <th>min</th>\n",
       "      <td>7.000000</td>\n",
       "      <td>1.000000</td>\n",
       "      <td>4.000000</td>\n",
       "      <td>2.000000</td>\n",
       "      <td>2.000000</td>\n",
       "      <td>0.000000</td>\n",
       "      <td>1.000000</td>\n",
       "      <td>1.000000</td>\n",
       "      <td>1.000000</td>\n",
       "      <td>1900.000000</td>\n",
       "      <td>1.000000</td>\n",
       "      <td>0.000000</td>\n",
       "      <td>1.000000</td>\n",
       "      <td>0.000000</td>\n",
       "      <td>0.000000</td>\n",
       "      <td>0.000000</td>\n",
       "      <td>0.000000</td>\n",
       "      <td>0.000000</td>\n",
       "      <td>0.000000</td>\n",
       "      <td>0.000000</td>\n",
       "    </tr>\n",
       "    <tr>\n",
       "      <th>25%</th>\n",
       "      <td>14.000000</td>\n",
       "      <td>1.000000</td>\n",
       "      <td>13.000000</td>\n",
       "      <td>11.000000</td>\n",
       "      <td>8.000000</td>\n",
       "      <td>1.000000</td>\n",
       "      <td>23.000000</td>\n",
       "      <td>2.000000</td>\n",
       "      <td>1.000000</td>\n",
       "      <td>1955.000000</td>\n",
       "      <td>13.000000</td>\n",
       "      <td>11.000000</td>\n",
       "      <td>2.000000</td>\n",
       "      <td>0.000000</td>\n",
       "      <td>0.000000</td>\n",
       "      <td>0.000000</td>\n",
       "      <td>0.000000</td>\n",
       "      <td>0.000000</td>\n",
       "      <td>0.000000</td>\n",
       "      <td>0.000000</td>\n",
       "    </tr>\n",
       "    <tr>\n",
       "      <th>50%</th>\n",
       "      <td>15.000000</td>\n",
       "      <td>1.000000</td>\n",
       "      <td>15.000000</td>\n",
       "      <td>14.000000</td>\n",
       "      <td>12.000000</td>\n",
       "      <td>2.000000</td>\n",
       "      <td>34.000000</td>\n",
       "      <td>3.000000</td>\n",
       "      <td>1.000000</td>\n",
       "      <td>1967.000000</td>\n",
       "      <td>16.000000</td>\n",
       "      <td>14.000000</td>\n",
       "      <td>5.000000</td>\n",
       "      <td>0.000000</td>\n",
       "      <td>0.000000</td>\n",
       "      <td>0.000000</td>\n",
       "      <td>0.000000</td>\n",
       "      <td>0.000000</td>\n",
       "      <td>0.000000</td>\n",
       "      <td>0.000000</td>\n",
       "    </tr>\n",
       "    <tr>\n",
       "      <th>75%</th>\n",
       "      <td>17.000000</td>\n",
       "      <td>1.000000</td>\n",
       "      <td>17.000000</td>\n",
       "      <td>16.000000</td>\n",
       "      <td>15.000000</td>\n",
       "      <td>2.000000</td>\n",
       "      <td>43.000000</td>\n",
       "      <td>5.000000</td>\n",
       "      <td>4.000000</td>\n",
       "      <td>1981.000000</td>\n",
       "      <td>18.000000</td>\n",
       "      <td>17.000000</td>\n",
       "      <td>9.000000</td>\n",
       "      <td>0.000000</td>\n",
       "      <td>10.000000</td>\n",
       "      <td>0.000000</td>\n",
       "      <td>0.000000</td>\n",
       "      <td>0.000000</td>\n",
       "      <td>10.000000</td>\n",
       "      <td>0.000000</td>\n",
       "    </tr>\n",
       "    <tr>\n",
       "      <th>max</th>\n",
       "      <td>18.000000</td>\n",
       "      <td>5.000000</td>\n",
       "      <td>18.000000</td>\n",
       "      <td>18.000000</td>\n",
       "      <td>18.000000</td>\n",
       "      <td>3.000000</td>\n",
       "      <td>56.000000</td>\n",
       "      <td>6.000000</td>\n",
       "      <td>5.000000</td>\n",
       "      <td>2017.000000</td>\n",
       "      <td>21.000000</td>\n",
       "      <td>25.000000</td>\n",
       "      <td>9.000000</td>\n",
       "      <td>10.000000</td>\n",
       "      <td>10.000000</td>\n",
       "      <td>10.000000</td>\n",
       "      <td>10.000000</td>\n",
       "      <td>5.000000</td>\n",
       "      <td>10.000000</td>\n",
       "      <td>7.000000</td>\n",
       "    </tr>\n",
       "  </tbody>\n",
       "</table>\n",
       "</div>"
      ]
     },
     "execution_count": 33,
     "metadata": {},
     "output_type": "execute_result"
    }
   ],
   "execution_count": 33
  },
  {
   "metadata": {
    "ExecuteTime": {
     "end_time": "2025-04-27T23:01:15.278434Z",
     "start_time": "2025-04-27T23:01:14.743096Z"
    }
   },
   "cell_type": "code",
   "source": "population[population[\"ager_typ\"].notnull()][\"geburtsjahr\"].max()",
   "outputs": [
    {
     "data": {
      "text/plain": [
       "np.float64(1959.0)"
      ]
     },
     "execution_count": 34,
     "metadata": {},
     "output_type": "execute_result"
    }
   ],
   "execution_count": 34
  },
  {
   "metadata": {
    "ExecuteTime": {
     "end_time": "2025-04-27T23:01:20.558567Z",
     "start_time": "2025-04-27T23:01:15.444727Z"
    }
   },
   "cell_type": "code",
   "source": "population = preprocessing.impute_or_remove_features_with_missing_values(population)",
   "outputs": [
    {
     "name": "stdout",
     "output_type": "stream",
     "text": [
      "Removed 16 features with over 20.0% missing values:\n",
      "alter_hh, alter_kind3, alter_kind4, alterskategorie_fein, d19_banken_online_quote_12, d19_gesamt_online_quote_12, d19_konsumtyp, d19_lotto, d19_soziales, d19_telko_online_quote_12, d19_versand_online_quote_12, d19_versi_online_quote_12, extsel992, geburtsjahr, kba05_baumax, kk_kundentyp\n",
      "Replaced missing values in 129 features.\n"
     ]
    }
   ],
   "execution_count": 35
  },
  {
   "metadata": {},
   "cell_type": "markdown",
   "source": [
    "## Feature Extraction\n",
    "### Formative Youth Years\n",
    "The attribute `praegende_jungendjahre` (formative youth years) contains multiple information that could be worth to split into multiple youth features:\n",
    "- `youth_decade`: the decade represented as 40 for '40ies', 50 for '50ies' and so on\n",
    "- `youth_orientation`: mainstream or avantgarde"
   ]
  },
  {
   "metadata": {
    "ExecuteTime": {
     "end_time": "2025-04-27T23:01:22.786411Z",
     "start_time": "2025-04-27T23:01:20.650702Z"
    }
   },
   "cell_type": "code",
   "source": "population = preprocessing.split_formative_youth_years(population, meta)",
   "outputs": [
    {
     "name": "stdout",
     "output_type": "stream",
     "text": [
      "Extracted decade and cultural orientation as separate features.\n"
     ]
    }
   ],
   "execution_count": 36
  },
  {
   "metadata": {},
   "cell_type": "markdown",
   "source": [
    "### Wealth & Life Phase\n",
    "The attribute `cameo_intl_2015` is a composition of wealth and life phase and should be separated:\n",
    "- `cameo_wealth`: the first digit represents the wealth (from wealthy to poor households)\n",
    "- `cameo_life_phase`: the second digit stands for the life phase (from pre-family singles to elders in retirement)"
   ]
  },
  {
   "metadata": {
    "ExecuteTime": {
     "end_time": "2025-04-27T23:01:24.698592Z",
     "start_time": "2025-04-27T23:01:22.909886Z"
    }
   },
   "cell_type": "code",
   "source": "population = preprocessing.split_international_cameo(population)",
   "outputs": [
    {
     "name": "stdout",
     "output_type": "stream",
     "text": [
      "Extracted wealth and life phase as separate features.\n"
     ]
    }
   ],
   "execution_count": 37
  },
  {
   "metadata": {},
   "cell_type": "markdown",
   "source": [
    "## Dimensionality Reduction\n",
    "It is useful to drop redundant features to improve the model performance and reduce overfitting. We can identify them with a feature correlation analysis, where highly correlated features indicates that there is redundancy.\n",
    "\n",
    "These features have a strong correlation of over 0.9, so we will drop one of them:\n",
    "- `anz_haushalte_aktiv` and `anz_statistische_haushalte` have also quite similar names\n",
    "- `cameo_deug_2015` and the extracted wealth from `cameo_intl_2015`, whereby `cameo_deug_2015` have more detailed social classes\n",
    "- `gemeindetyp`, `ewdichte` and `ortsgr_kls9` - we only retain `ortsgr_kls9`\n",
    "- `lp_familie_fein`, `lp_familie_grob`, `lp_lebensphase_fein` and `lp_lebensphase_grob` are all correlated by each other - we will only keep `lp_familie_fein` (= accurate family type)\n",
    "- `lp_status_fein` and `lp_status_grob`, whereby `lp_status_fein` have a more detailed social\n",
    "- all `plz8_` features are already covered by `kba13_` (both representing data from postal area code 8xxxx)\n",
    "- between the transactional activities and actuality of the last transaction from the `d19_` attributes exists a redundancy\n",
    "  - we prefer the more general columns over specific ones, e.g. `gesamt` over `versand` or `telko`\n",
    "  - we prefer the 24-month over the 12-month features to have a more complete picture\n",
    "- there is a surprising correlation between the gender feature `anrede_kz` and `semio_kaem` (= affinity to fightfull attitude) as well as `semio_vert` (affinity to be dreamily) - but we will keep the gender feature anyway"
   ]
  },
  {
   "metadata": {
    "ExecuteTime": {
     "end_time": "2025-04-27T23:05:54.562783Z",
     "start_time": "2025-04-27T23:01:24.741430Z"
    }
   },
   "cell_type": "code",
   "source": [
    "def identify_highly_correlated_features(df: pd.DataFrame, correlation_threshold: float) -> pd.DataFrame:\n",
    "    corr_matrix = df.select_dtypes([float, int]).corr().abs()\n",
    "\n",
    "    highly_correlated_features = []\n",
    "\n",
    "    for f1 in range(corr_matrix.shape[1]):\n",
    "        for f2 in range(f1 + 1, corr_matrix.shape[1]):\n",
    "            if corr_matrix.iloc[f1, f2] >= correlation_threshold:\n",
    "                feature_1 = corr_matrix.columns[f1]\n",
    "                feature_2 = corr_matrix.columns[f2]\n",
    "                highly_correlated_features.append((feature_1, feature_2, corr_matrix.iloc[f1, f2]))\n",
    "\n",
    "    if highly_correlated_features:\n",
    "        print(f\"Feature pairs with a correlation of {correlation_threshold} or higher:\")\n",
    "        for pair in highly_correlated_features:\n",
    "            print(f\"({pair[0]}, {pair[1]}): {pair[2]:.2f}\")\n",
    "    else:\n",
    "        print(f\"No feature pairs found with a correlation of {correlation_threshold} or higher.\")\n",
    "\n",
    "    return corr_matrix\n",
    "\n",
    "\n",
    "corr_matrix = identify_highly_correlated_features(population, correlation_threshold=0.8)"
   ],
   "outputs": [
    {
     "name": "stdout",
     "output_type": "stream",
     "text": [
      "Feature pairs with a correlation of 0.8 or higher:\n",
      "(anz_haushalte_aktiv, anz_statistische_haushalte): 0.98\n",
      "(cameo_deug_2015, cameo_wealth): 0.97\n",
      "(cjt_typ_1, cjt_typ_2): 0.89\n",
      "(cjt_typ_1, cjt_typ_5): 0.80\n",
      "(d19_banken_anz_12, d19_banken_anz_24): 0.82\n",
      "(d19_banken_anz_24, d19_banken_datum): 0.81\n",
      "(d19_banken_datum, d19_banken_online_datum): 0.89\n",
      "(d19_gesamt_anz_12, d19_gesamt_anz_24): 0.90\n",
      "(d19_gesamt_anz_12, d19_gesamt_datum): 0.82\n",
      "(d19_gesamt_anz_12, d19_versand_anz_12): 0.90\n",
      "(d19_gesamt_anz_12, d19_versand_anz_24): 0.85\n",
      "(d19_gesamt_anz_24, d19_gesamt_datum): 0.86\n",
      "(d19_gesamt_anz_24, d19_gesamt_online_datum): 0.84\n",
      "(d19_gesamt_anz_24, d19_versand_anz_12): 0.83\n",
      "(d19_gesamt_anz_24, d19_versand_anz_24): 0.92\n",
      "(d19_gesamt_anz_24, d19_versand_datum): 0.82\n",
      "(d19_gesamt_anz_24, d19_versand_online_datum): 0.81\n",
      "(d19_gesamt_datum, d19_gesamt_online_datum): 0.89\n",
      "(d19_gesamt_datum, d19_konsumtyp_max): 0.82\n",
      "(d19_gesamt_datum, d19_versand_datum): 0.87\n",
      "(d19_gesamt_datum, d19_versand_online_datum): 0.83\n",
      "(d19_gesamt_online_datum, d19_versand_anz_24): 0.81\n",
      "(d19_gesamt_online_datum, d19_versand_datum): 0.91\n",
      "(d19_gesamt_online_datum, d19_versand_online_datum): 0.94\n",
      "(d19_telko_anz_24, d19_telko_datum): 0.80\n",
      "(d19_versand_anz_12, d19_versand_anz_24): 0.91\n",
      "(d19_versand_anz_12, d19_versand_datum): 0.82\n",
      "(d19_versand_anz_12, d19_versand_online_datum): 0.81\n",
      "(d19_versand_anz_24, d19_versand_datum): 0.86\n",
      "(d19_versand_anz_24, d19_versand_online_datum): 0.84\n",
      "(d19_versand_datum, d19_versand_online_datum): 0.96\n",
      "(d19_versi_anz_12, d19_versi_anz_24): 0.80\n",
      "(d19_versi_anz_24, d19_versi_datum): 0.83\n",
      "(ewdichte, gemeindetyp): 0.81\n",
      "(ewdichte, ortsgr_kls9): 0.83\n",
      "(finanz_sparer, finanz_vorsorger): 0.82\n",
      "(finanz_sparer, youth_decade): 0.81\n",
      "(gemeindetyp, ortsgr_kls9): 0.93\n",
      "(kba05_antg1, mobi_regio): 0.80\n",
      "(kba05_gbz, mobi_regio): 0.82\n",
      "(kba05_herst1, kba05_krsherst1): 0.83\n",
      "(kba05_herst2, kba05_krsherst2): 0.84\n",
      "(kba05_herst3, kba05_krsherst3): 0.88\n",
      "(kba05_krsklein, kba05_seg2): 0.85\n",
      "(kba05_krsober, kba05_seg5): 0.81\n",
      "(kba05_krszul, kba05_zul4): 0.88\n",
      "(kba13_alterhalter_30, kba13_halter_30): 0.85\n",
      "(kba13_alterhalter_45, kba13_halter_40): 0.86\n",
      "(kba13_alterhalter_60, kba13_halter_55): 0.87\n",
      "(kba13_alterhalter_61, kba13_halter_66): 0.93\n",
      "(kba13_antg1, plz8_antg1): 0.91\n",
      "(kba13_antg3, plz8_antg3): 0.90\n",
      "(kba13_antg4, plz8_antg4): 0.89\n",
      "(kba13_baumax, plz8_baumax): 0.95\n",
      "(kba13_fab_sonstige, kba13_herst_sonst): 1.00\n",
      "(kba13_gbz, plz8_gbz): 0.97\n",
      "(kba13_herst_audi_vw, kba13_vw): 0.87\n",
      "(kba13_herst_bmw_benz, kba13_mercedes): 0.81\n",
      "(kba13_hhz, plz8_hhz): 0.96\n",
      "(kba13_kmh_0_140, kba13_kmh_140): 0.82\n",
      "(kba13_kmh_211, kba13_kmh_250): 0.96\n",
      "(kba13_seg_grossraumvans, kba13_seg_van): 0.85\n",
      "(kba13_seg_kleinst, kba13_seg_kleinwagen): 0.81\n",
      "(kba13_seg_minivans, kba13_seg_van): 0.82\n",
      "(kba13_sitze_4, kba13_sitze_5): 0.87\n",
      "(lp_familie_fein, lp_familie_grob): 0.99\n",
      "(lp_familie_fein, lp_lebensphase_fein): 0.92\n",
      "(lp_familie_fein, lp_lebensphase_grob): 0.95\n",
      "(lp_familie_grob, lp_lebensphase_fein): 0.94\n",
      "(lp_familie_grob, lp_lebensphase_grob): 0.96\n",
      "(lp_lebensphase_fein, lp_lebensphase_grob): 0.99\n",
      "(lp_status_fein, lp_status_grob): 0.99\n",
      "(semio_kaem, anrede_kz): 0.87\n",
      "(semio_vert, anrede_kz): 0.85\n",
      "(vk_dht4a, vk_distanz): 0.86\n",
      "(vk_distanz, vk_zg11): 0.86\n"
     ]
    }
   ],
   "execution_count": 38
  },
  {
   "metadata": {
    "ExecuteTime": {
     "end_time": "2025-04-27T23:28:28.593394Z",
     "start_time": "2025-04-27T23:28:26.568502Z"
    }
   },
   "cell_type": "code",
   "source": [
    "def plot_correlation_matrix(matrix: pd.DataFrame, correlation_threshold: float) -> None:\n",
    "    matrix_gt_threshold = set()\n",
    "\n",
    "    for f1 in range(matrix.shape[1]):\n",
    "        for f2 in range(f1 + 1, matrix.shape[1]):\n",
    "            if matrix.iloc[f1, f2] > correlation_threshold:\n",
    "                feature_1 = matrix.columns[f1]\n",
    "                feature_2 = matrix.columns[f2]\n",
    "                matrix_gt_threshold.add(feature_1)\n",
    "                matrix_gt_threshold.add(feature_2)\n",
    "\n",
    "    matrix_gt_threshold = sorted(list(matrix_gt_threshold))\n",
    "    matrix = matrix.loc[matrix_gt_threshold, matrix_gt_threshold]\n",
    "\n",
    "    plt.figure(figsize=(10, 10))\n",
    "    sns.heatmap(matrix, annot=False, cmap=\"coolwarm\", square=True, cbar_kws={\"shrink\": .8})\n",
    "\n",
    "    plt.title(f\"Correlation Matrix (only features with at least one correlation > {correlation_threshold})\", pad=15)\n",
    "    plt.xticks(rotation=90, fontsize=8)\n",
    "    plt.yticks(rotation=0, fontsize=8)\n",
    "\n",
    "    plt.show()\n",
    "\n",
    "plot_correlation_matrix(corr_matrix, 0.9)"
   ],
   "outputs": [
    {
     "data": {
      "text/plain": [
       "<Figure size 1000x1000 with 2 Axes>"
      ],
      "image/png": "[encoded data removed]"
     },
     "metadata": {},
     "output_type": "display_data"
    }
   ],
   "execution_count": 67
  },
  {
   "metadata": {
    "ExecuteTime": {
     "end_time": "2025-04-27T23:29:18.900737Z",
     "start_time": "2025-04-27T23:29:18.888192Z"
    }
   },
   "cell_type": "code",
   "source": [
    "with open(\"./src/feature_config.json\", \"r\") as f:\n",
    "    feature_config = json.load(f)"
   ],
   "outputs": [],
   "execution_count": 68
  },
  {
   "metadata": {
    "ExecuteTime": {
     "end_time": "2025-04-27T23:29:24.485730Z",
     "start_time": "2025-04-27T23:29:24.480176Z"
    }
   },
   "cell_type": "code",
   "source": "feature_config[\"redundant\"]",
   "outputs": [
    {
     "data": {
      "text/plain": [
       "['anz_statistische_haushalte',\n",
       " 'cameo_wealth',\n",
       " 'd19_banken_anz_12',\n",
       " 'd19_banken_datum',\n",
       " 'd19_gesamt_anz_12',\n",
       " 'd19_gesamt_datum',\n",
       " 'd19_gesamt_offline_datum',\n",
       " 'd19_gesamt_online_datum',\n",
       " 'd19_versand_anz_12',\n",
       " 'd19_versand_anz_24',\n",
       " 'd19_versand_datum',\n",
       " 'd19_versand_offline_datum',\n",
       " 'd19_versand_online_datum',\n",
       " 'd19_telko_datum',\n",
       " 'd19_versi_anz_12',\n",
       " 'd19_versi_datum',\n",
       " 'ewdichte',\n",
       " 'finanz_sparer',\n",
       " 'gemeindetyp',\n",
       " 'green_avantgarde',\n",
       " 'kba05_gbz',\n",
       " 'kba05_krsherst1',\n",
       " 'kba05_krsherst2',\n",
       " 'kba05_krsherst3',\n",
       " 'kba05_krsklein',\n",
       " 'kba05_krsober',\n",
       " 'kba05_krszul',\n",
       " 'kba13_alterhalter_30',\n",
       " 'kba13_alterhalter_45',\n",
       " 'kba13_alterhalter_60',\n",
       " 'kba13_alterhalter_61',\n",
       " 'kba13_antg1',\n",
       " 'kba13_antg2',\n",
       " 'kba13_antg3',\n",
       " 'kba13_antg4',\n",
       " 'kba13_baumax',\n",
       " 'kba13_gbz',\n",
       " 'kba13_herst_sonst',\n",
       " 'kba13_hhz',\n",
       " 'kba13_vw',\n",
       " 'kba13_mercedes',\n",
       " 'kba13_kmh_140',\n",
       " 'kba13_kmh_250',\n",
       " 'kba13_seg_grossraumvans',\n",
       " 'kba13_seg_kleinst',\n",
       " 'kba13_seg_minivans',\n",
       " 'kba13_sitze_4',\n",
       " 'lp_familie_grob',\n",
       " 'lp_lebensphase_grob',\n",
       " 'lp_lebensphase_fein',\n",
       " 'lp_status_grob']"
      ]
     },
     "execution_count": 69,
     "metadata": {},
     "output_type": "execute_result"
    }
   ],
   "execution_count": 69
  },
  {
   "metadata": {
    "ExecuteTime": {
     "end_time": "2025-04-27T23:29:24.552346Z",
     "start_time": "2025-04-27T23:29:24.548775Z"
    }
   },
   "cell_type": "code",
   "source": [
    "# for demonstration purposes we remove \"green_avantgarde\" from the config, because we identified that redundant feature later\n",
    "feature_config[\"redundant\"].remove(\"green_avantgarde\")"
   ],
   "outputs": [],
   "execution_count": 70
  },
  {
   "metadata": {
    "ExecuteTime": {
     "end_time": "2025-04-27T23:29:25.205888Z",
     "start_time": "2025-04-27T23:29:24.662094Z"
    }
   },
   "cell_type": "code",
   "source": "population = preprocessing.remove_features(population, feature_config, [\"redundant\"])",
   "outputs": [
    {
     "name": "stdout",
     "output_type": "stream",
     "text": [
      "Removed 50 redundant features.\n"
     ]
    }
   ],
   "execution_count": 71
  },
  {
   "metadata": {
    "ExecuteTime": {
     "end_time": "2025-04-15T20:38:44.395531Z",
     "start_time": "2025-04-15T20:38:44.390495Z"
    }
   },
   "cell_type": "markdown",
   "source": [
    "## Feature Transformation\n",
    "### Classification based on Meta Information\n",
    "\n",
    "The meta information to each attributes value is crucial to decide how to handle and transform a feature.\n",
    "\n",
    "- if the values are not ordinal (no perceived order), we will classify it as a categorical feature, e.g. `finanztyp` or `gfk_urlaubertyp`\n",
    "  - except binary features, because one-hot-encoding would only add a dimension without adding new information, e.g. `soho_kz`\n",
    "  - so binary features only need to be converted if they are not yet present as 0 and 1, e.g. `ost_west_kz`\n",
    "- if the values are obviously ordinal but the distances between are not perfectly equal or not clearly assessable, we will retain it as a numerical feature to limit the dimensionality, e.g. `regiotyp` or `cameo_deug_2015`\n",
    "- unambiguous numerical features will of course be retained as they are, e.g. `anz_personen` or `min_gebaeudejahr`\n",
    "meta[meta[\"attribute\"] == \"gfk_urlaubertyp\"]"
   ]
  },
  {
   "metadata": {
    "ExecuteTime": {
     "end_time": "2025-04-27T23:29:25.306414Z",
     "start_time": "2025-04-27T23:29:25.296803Z"
    }
   },
   "cell_type": "code",
   "source": "meta[meta[\"attribute\"] == \"soho_kz\"]",
   "outputs": [
    {
     "data": {
      "text/plain": [
       "     attribute                    description value  \\\n",
       "2207   soho_kz  small office/home office flag    -1   \n",
       "2208   soho_kz  small office/home office flag     0   \n",
       "2209   soho_kz  small office/home office flag     1   \n",
       "\n",
       "                          meaning  \n",
       "2207                      unknown  \n",
       "2208  no small office/home office  \n",
       "2209     small office/home office  "
      ],
      "text/html": [
       "<div>\n",
       "<style scoped>\n",
       "    .dataframe tbody tr th:only-of-type {\n",
       "        vertical-align: middle;\n",
       "    }\n",
       "\n",
       "    .dataframe tbody tr th {\n",
       "        vertical-align: top;\n",
       "    }\n",
       "\n",
       "    .dataframe thead th {\n",
       "        text-align: right;\n",
       "    }\n",
       "</style>\n",
       "<table border=\"1\" class=\"dataframe\">\n",
       "  <thead>\n",
       "    <tr style=\"text-align: right;\">\n",
       "      <th></th>\n",
       "      <th>attribute</th>\n",
       "      <th>description</th>\n",
       "      <th>value</th>\n",
       "      <th>meaning</th>\n",
       "    </tr>\n",
       "  </thead>\n",
       "  <tbody>\n",
       "    <tr>\n",
       "      <th>2207</th>\n",
       "      <td>soho_kz</td>\n",
       "      <td>small office/home office flag</td>\n",
       "      <td>-1</td>\n",
       "      <td>unknown</td>\n",
       "    </tr>\n",
       "    <tr>\n",
       "      <th>2208</th>\n",
       "      <td>soho_kz</td>\n",
       "      <td>small office/home office flag</td>\n",
       "      <td>0</td>\n",
       "      <td>no small office/home office</td>\n",
       "    </tr>\n",
       "    <tr>\n",
       "      <th>2209</th>\n",
       "      <td>soho_kz</td>\n",
       "      <td>small office/home office flag</td>\n",
       "      <td>1</td>\n",
       "      <td>small office/home office</td>\n",
       "    </tr>\n",
       "  </tbody>\n",
       "</table>\n",
       "</div>"
      ]
     },
     "execution_count": 72,
     "metadata": {},
     "output_type": "execute_result"
    }
   ],
   "execution_count": 72
  },
  {
   "metadata": {
    "ExecuteTime": {
     "end_time": "2025-04-27T23:29:25.418531Z",
     "start_time": "2025-04-27T23:29:25.411134Z"
    }
   },
   "cell_type": "code",
   "source": "meta[meta[\"attribute\"] == \"regiotyp\"]",
   "outputs": [
    {
     "data": {
      "text/plain": [
       "     attribute     description value              meaning\n",
       "2070  regiotyp  neighbourhood     -1              unknown\n",
       "2070  regiotyp  neighbourhood      0              unknown\n",
       "2071  regiotyp  neighbourhood      1          upper class\n",
       "2072  regiotyp  neighbourhood      2        conservatives\n",
       "2073  regiotyp  neighbourhood      3   upper middle class\n",
       "2074  regiotyp  neighbourhood      4         middle class\n",
       "2075  regiotyp  neighbourhood      5   lower middle class\n",
       "2076  regiotyp  neighbourhood      6  traditional workers\n",
       "2077  regiotyp  neighbourhood      7      marginal groups"
      ],
      "text/html": [
       "<div>\n",
       "<style scoped>\n",
       "    .dataframe tbody tr th:only-of-type {\n",
       "        vertical-align: middle;\n",
       "    }\n",
       "\n",
       "    .dataframe tbody tr th {\n",
       "        vertical-align: top;\n",
       "    }\n",
       "\n",
       "    .dataframe thead th {\n",
       "        text-align: right;\n",
       "    }\n",
       "</style>\n",
       "<table border=\"1\" class=\"dataframe\">\n",
       "  <thead>\n",
       "    <tr style=\"text-align: right;\">\n",
       "      <th></th>\n",
       "      <th>attribute</th>\n",
       "      <th>description</th>\n",
       "      <th>value</th>\n",
       "      <th>meaning</th>\n",
       "    </tr>\n",
       "  </thead>\n",
       "  <tbody>\n",
       "    <tr>\n",
       "      <th>2070</th>\n",
       "      <td>regiotyp</td>\n",
       "      <td>neighbourhood</td>\n",
       "      <td>-1</td>\n",
       "      <td>unknown</td>\n",
       "    </tr>\n",
       "    <tr>\n",
       "      <th>2070</th>\n",
       "      <td>regiotyp</td>\n",
       "      <td>neighbourhood</td>\n",
       "      <td>0</td>\n",
       "      <td>unknown</td>\n",
       "    </tr>\n",
       "    <tr>\n",
       "      <th>2071</th>\n",
       "      <td>regiotyp</td>\n",
       "      <td>neighbourhood</td>\n",
       "      <td>1</td>\n",
       "      <td>upper class</td>\n",
       "    </tr>\n",
       "    <tr>\n",
       "      <th>2072</th>\n",
       "      <td>regiotyp</td>\n",
       "      <td>neighbourhood</td>\n",
       "      <td>2</td>\n",
       "      <td>conservatives</td>\n",
       "    </tr>\n",
       "    <tr>\n",
       "      <th>2073</th>\n",
       "      <td>regiotyp</td>\n",
       "      <td>neighbourhood</td>\n",
       "      <td>3</td>\n",
       "      <td>upper middle class</td>\n",
       "    </tr>\n",
       "    <tr>\n",
       "      <th>2074</th>\n",
       "      <td>regiotyp</td>\n",
       "      <td>neighbourhood</td>\n",
       "      <td>4</td>\n",
       "      <td>middle class</td>\n",
       "    </tr>\n",
       "    <tr>\n",
       "      <th>2075</th>\n",
       "      <td>regiotyp</td>\n",
       "      <td>neighbourhood</td>\n",
       "      <td>5</td>\n",
       "      <td>lower middle class</td>\n",
       "    </tr>\n",
       "    <tr>\n",
       "      <th>2076</th>\n",
       "      <td>regiotyp</td>\n",
       "      <td>neighbourhood</td>\n",
       "      <td>6</td>\n",
       "      <td>traditional workers</td>\n",
       "    </tr>\n",
       "    <tr>\n",
       "      <th>2077</th>\n",
       "      <td>regiotyp</td>\n",
       "      <td>neighbourhood</td>\n",
       "      <td>7</td>\n",
       "      <td>marginal groups</td>\n",
       "    </tr>\n",
       "  </tbody>\n",
       "</table>\n",
       "</div>"
      ]
     },
     "execution_count": 73,
     "metadata": {},
     "output_type": "execute_result"
    }
   ],
   "execution_count": 73
  },
  {
   "metadata": {
    "ExecuteTime": {
     "end_time": "2025-04-15T20:38:44.679042Z",
     "start_time": "2025-04-15T20:38:44.667428Z"
    }
   },
   "cell_type": "markdown",
   "source": [
    "### Classification without Meta Information\n",
    "\n",
    "Attributes without meta information are more difficult to decide how to appropriately handle them. These rules have been applied:\n",
    "- if an attribute has only two values then it is handled as a binary categorical feature\n",
    "  - 3 of 4 have the suffix \"flag\" and they have only 0/1 values, which supports the assumption\n",
    "- attributes with \"anz_\" (= count) or \"alter_\" (= age) prefix a clearly numeric features\n",
    "- `eingezogenam_hh_jahr` has year values and also clearly numeric\n",
    "- `cjt_` attributes are subtypes of `cjt_gesamttyp` (= total type of customer journey typology)\n",
    "  - because of the uncertainty we will remove the subtypes and only take the total type\n",
    "- `d19_` attributes that ends with \"_datum\" is a repetitive pattern and therefore probably ordinal categories, that we retain as numeric feature\n",
    "- `firmendichte` is a density whose values 1-5 probably stands for ordered cluster with density intervals analogue to the feature `ewdichte`, that we therefore retain as numeric feature\n",
    "- `kba13_` attributes have similar ranges like the other kba13 features, which all have a perceived order, so we will keep these attributes as well as numeric features\n",
    "- the remaining 18 attributes will be left out due to uncertainty"
   ]
  },
  {
   "metadata": {
    "ExecuteTime": {
     "end_time": "2025-04-27T23:29:25.547794Z",
     "start_time": "2025-04-27T23:29:25.542666Z"
    }
   },
   "cell_type": "code",
   "source": [
    "missing_meta_attributes = identify_missing_meta_attributes(population, meta)\n",
    "\n",
    "missing_meta_attributes"
   ],
   "outputs": [
    {
     "data": {
      "text/plain": [
       "['akt_dat_kl',\n",
       " 'alter_kind1',\n",
       " 'alter_kind2',\n",
       " 'anz_kinder',\n",
       " 'arbeit',\n",
       " 'cjt_katalognutzer',\n",
       " 'cjt_typ_1',\n",
       " 'cjt_typ_2',\n",
       " 'cjt_typ_3',\n",
       " 'cjt_typ_4',\n",
       " 'cjt_typ_5',\n",
       " 'cjt_typ_6',\n",
       " 'd19_konsumtyp_max',\n",
       " 'd19_versi_offline_datum',\n",
       " 'd19_versi_online_datum',\n",
       " 'dsl_flag',\n",
       " 'eingezogenam_hh_jahr',\n",
       " 'firmendichte',\n",
       " 'hh_delta_flag',\n",
       " 'kba13_kmh_210',\n",
       " 'kombialter',\n",
       " 'konsumzelle',\n",
       " 'mobi_raster',\n",
       " 'rt_kein_anreiz',\n",
       " 'rt_schnaeppchen',\n",
       " 'rt_uebergroesse',\n",
       " 'strukturtyp',\n",
       " 'umfeld_alt',\n",
       " 'umfeld_jung',\n",
       " 'ungleichenn_flag',\n",
       " 'verdichtungsraum',\n",
       " 'vha',\n",
       " 'vhn',\n",
       " 'vk_dht4a',\n",
       " 'vk_distanz',\n",
       " 'vk_zg11']"
      ]
     },
     "execution_count": 74,
     "metadata": {},
     "output_type": "execute_result"
    }
   ],
   "execution_count": 74
  },
  {
   "metadata": {
    "ExecuteTime": {
     "end_time": "2025-04-27T23:29:27.980099Z",
     "start_time": "2025-04-27T23:29:25.914386Z"
    }
   },
   "cell_type": "code",
   "source": "population.loc[:, list(set(population.columns[population.nunique() <= 2]).intersection(missing_meta_attributes))].describe()",
   "outputs": [
    {
     "data": {
      "text/plain": [
       "         konsumzelle       dsl_flag  hh_delta_flag  ungleichenn_flag\n",
       "count  785420.000000  785420.000000  785420.000000     785420.000000\n",
       "mean        0.235073       0.974089       0.089567          0.089709\n",
       "std         0.424045       0.158870       0.285561          0.285764\n",
       "min         0.000000       0.000000       0.000000          0.000000\n",
       "25%         0.000000       1.000000       0.000000          0.000000\n",
       "50%         0.000000       1.000000       0.000000          0.000000\n",
       "75%         0.000000       1.000000       0.000000          0.000000\n",
       "max         1.000000       1.000000       1.000000          1.000000"
      ],
      "text/html": [
       "<div>\n",
       "<style scoped>\n",
       "    .dataframe tbody tr th:only-of-type {\n",
       "        vertical-align: middle;\n",
       "    }\n",
       "\n",
       "    .dataframe tbody tr th {\n",
       "        vertical-align: top;\n",
       "    }\n",
       "\n",
       "    .dataframe thead th {\n",
       "        text-align: right;\n",
       "    }\n",
       "</style>\n",
       "<table border=\"1\" class=\"dataframe\">\n",
       "  <thead>\n",
       "    <tr style=\"text-align: right;\">\n",
       "      <th></th>\n",
       "      <th>konsumzelle</th>\n",
       "      <th>dsl_flag</th>\n",
       "      <th>hh_delta_flag</th>\n",
       "      <th>ungleichenn_flag</th>\n",
       "    </tr>\n",
       "  </thead>\n",
       "  <tbody>\n",
       "    <tr>\n",
       "      <th>count</th>\n",
       "      <td>785420.000000</td>\n",
       "      <td>785420.000000</td>\n",
       "      <td>785420.000000</td>\n",
       "      <td>785420.000000</td>\n",
       "    </tr>\n",
       "    <tr>\n",
       "      <th>mean</th>\n",
       "      <td>0.235073</td>\n",
       "      <td>0.974089</td>\n",
       "      <td>0.089567</td>\n",
       "      <td>0.089709</td>\n",
       "    </tr>\n",
       "    <tr>\n",
       "      <th>std</th>\n",
       "      <td>0.424045</td>\n",
       "      <td>0.158870</td>\n",
       "      <td>0.285561</td>\n",
       "      <td>0.285764</td>\n",
       "    </tr>\n",
       "    <tr>\n",
       "      <th>min</th>\n",
       "      <td>0.000000</td>\n",
       "      <td>0.000000</td>\n",
       "      <td>0.000000</td>\n",
       "      <td>0.000000</td>\n",
       "    </tr>\n",
       "    <tr>\n",
       "      <th>25%</th>\n",
       "      <td>0.000000</td>\n",
       "      <td>1.000000</td>\n",
       "      <td>0.000000</td>\n",
       "      <td>0.000000</td>\n",
       "    </tr>\n",
       "    <tr>\n",
       "      <th>50%</th>\n",
       "      <td>0.000000</td>\n",
       "      <td>1.000000</td>\n",
       "      <td>0.000000</td>\n",
       "      <td>0.000000</td>\n",
       "    </tr>\n",
       "    <tr>\n",
       "      <th>75%</th>\n",
       "      <td>0.000000</td>\n",
       "      <td>1.000000</td>\n",
       "      <td>0.000000</td>\n",
       "      <td>0.000000</td>\n",
       "    </tr>\n",
       "    <tr>\n",
       "      <th>max</th>\n",
       "      <td>1.000000</td>\n",
       "      <td>1.000000</td>\n",
       "      <td>1.000000</td>\n",
       "      <td>1.000000</td>\n",
       "    </tr>\n",
       "  </tbody>\n",
       "</table>\n",
       "</div>"
      ]
     },
     "execution_count": 75,
     "metadata": {},
     "output_type": "execute_result"
    }
   ],
   "execution_count": 75
  },
  {
   "metadata": {
    "ExecuteTime": {
     "end_time": "2025-04-27T23:29:28.147701Z",
     "start_time": "2025-04-27T23:29:28.132536Z"
    }
   },
   "cell_type": "code",
   "source": "population[\"arbeit\"].value_counts()",
   "outputs": [
    {
     "data": {
      "text/plain": [
       "arbeit\n",
       "4.0    306818\n",
       "3.0    255126\n",
       "2.0    133104\n",
       "1.0     55520\n",
       "5.0     34698\n",
       "9.0       154\n",
       "Name: count, dtype: int64"
      ]
     },
     "execution_count": 76,
     "metadata": {},
     "output_type": "execute_result"
    }
   ],
   "execution_count": 76
  },
  {
   "metadata": {
    "ExecuteTime": {
     "end_time": "2025-04-27T23:29:28.625762Z",
     "start_time": "2025-04-27T23:29:28.374313Z"
    }
   },
   "cell_type": "code",
   "source": "population[[col for col in missing_meta_attributes if \"cjt_\" in col]].describe()",
   "outputs": [
    {
     "data": {
      "text/plain": [
       "       cjt_katalognutzer      cjt_typ_1      cjt_typ_2      cjt_typ_3  \\\n",
       "count      785420.000000  785420.000000  785420.000000  785420.000000   \n",
       "mean            3.229035       3.271834       3.088677       3.264977   \n",
       "std             1.479079       1.346265       1.371093       1.374899   \n",
       "min             1.000000       1.000000       1.000000       1.000000   \n",
       "25%             2.000000       2.000000       2.000000       2.000000   \n",
       "50%             3.000000       3.000000       3.000000       3.000000   \n",
       "75%             5.000000       5.000000       4.000000       5.000000   \n",
       "max             5.000000       5.000000       5.000000       5.000000   \n",
       "\n",
       "           cjt_typ_4      cjt_typ_5      cjt_typ_6  \n",
       "count  785420.000000  785420.000000  785420.000000  \n",
       "mean        3.248060       3.264374       3.389108  \n",
       "std         1.348528       1.357284       1.313104  \n",
       "min         1.000000       1.000000       1.000000  \n",
       "25%         2.000000       2.000000       2.000000  \n",
       "50%         3.000000       3.000000       4.000000  \n",
       "75%         4.000000       5.000000       5.000000  \n",
       "max         5.000000       5.000000       5.000000  "
      ],
      "text/html": [
       "<div>\n",
       "<style scoped>\n",
       "    .dataframe tbody tr th:only-of-type {\n",
       "        vertical-align: middle;\n",
       "    }\n",
       "\n",
       "    .dataframe tbody tr th {\n",
       "        vertical-align: top;\n",
       "    }\n",
       "\n",
       "    .dataframe thead th {\n",
       "        text-align: right;\n",
       "    }\n",
       "</style>\n",
       "<table border=\"1\" class=\"dataframe\">\n",
       "  <thead>\n",
       "    <tr style=\"text-align: right;\">\n",
       "      <th></th>\n",
       "      <th>cjt_katalognutzer</th>\n",
       "      <th>cjt_typ_1</th>\n",
       "      <th>cjt_typ_2</th>\n",
       "      <th>cjt_typ_3</th>\n",
       "      <th>cjt_typ_4</th>\n",
       "      <th>cjt_typ_5</th>\n",
       "      <th>cjt_typ_6</th>\n",
       "    </tr>\n",
       "  </thead>\n",
       "  <tbody>\n",
       "    <tr>\n",
       "      <th>count</th>\n",
       "      <td>785420.000000</td>\n",
       "      <td>785420.000000</td>\n",
       "      <td>785420.000000</td>\n",
       "      <td>785420.000000</td>\n",
       "      <td>785420.000000</td>\n",
       "      <td>785420.000000</td>\n",
       "      <td>785420.000000</td>\n",
       "    </tr>\n",
       "    <tr>\n",
       "      <th>mean</th>\n",
       "      <td>3.229035</td>\n",
       "      <td>3.271834</td>\n",
       "      <td>3.088677</td>\n",
       "      <td>3.264977</td>\n",
       "      <td>3.248060</td>\n",
       "      <td>3.264374</td>\n",
       "      <td>3.389108</td>\n",
       "    </tr>\n",
       "    <tr>\n",
       "      <th>std</th>\n",
       "      <td>1.479079</td>\n",
       "      <td>1.346265</td>\n",
       "      <td>1.371093</td>\n",
       "      <td>1.374899</td>\n",
       "      <td>1.348528</td>\n",
       "      <td>1.357284</td>\n",
       "      <td>1.313104</td>\n",
       "    </tr>\n",
       "    <tr>\n",
       "      <th>min</th>\n",
       "      <td>1.000000</td>\n",
       "      <td>1.000000</td>\n",
       "      <td>1.000000</td>\n",
       "      <td>1.000000</td>\n",
       "      <td>1.000000</td>\n",
       "      <td>1.000000</td>\n",
       "      <td>1.000000</td>\n",
       "    </tr>\n",
       "    <tr>\n",
       "      <th>25%</th>\n",
       "      <td>2.000000</td>\n",
       "      <td>2.000000</td>\n",
       "      <td>2.000000</td>\n",
       "      <td>2.000000</td>\n",
       "      <td>2.000000</td>\n",
       "      <td>2.000000</td>\n",
       "      <td>2.000000</td>\n",
       "    </tr>\n",
       "    <tr>\n",
       "      <th>50%</th>\n",
       "      <td>3.000000</td>\n",
       "      <td>3.000000</td>\n",
       "      <td>3.000000</td>\n",
       "      <td>3.000000</td>\n",
       "      <td>3.000000</td>\n",
       "      <td>3.000000</td>\n",
       "      <td>4.000000</td>\n",
       "    </tr>\n",
       "    <tr>\n",
       "      <th>75%</th>\n",
       "      <td>5.000000</td>\n",
       "      <td>5.000000</td>\n",
       "      <td>4.000000</td>\n",
       "      <td>5.000000</td>\n",
       "      <td>4.000000</td>\n",
       "      <td>5.000000</td>\n",
       "      <td>5.000000</td>\n",
       "    </tr>\n",
       "    <tr>\n",
       "      <th>max</th>\n",
       "      <td>5.000000</td>\n",
       "      <td>5.000000</td>\n",
       "      <td>5.000000</td>\n",
       "      <td>5.000000</td>\n",
       "      <td>5.000000</td>\n",
       "      <td>5.000000</td>\n",
       "      <td>5.000000</td>\n",
       "    </tr>\n",
       "  </tbody>\n",
       "</table>\n",
       "</div>"
      ]
     },
     "execution_count": 77,
     "metadata": {},
     "output_type": "execute_result"
    }
   ],
   "execution_count": 77
  },
  {
   "metadata": {
    "ExecuteTime": {
     "end_time": "2025-04-27T23:29:28.855796Z",
     "start_time": "2025-04-27T23:29:28.751758Z"
    }
   },
   "cell_type": "code",
   "source": "population[[col for col in missing_meta_attributes if \"d19_\" in col]].describe()",
   "outputs": [
    {
     "data": {
      "text/plain": [
       "       d19_konsumtyp_max  d19_versi_offline_datum  d19_versi_online_datum\n",
       "count      785420.000000            785420.000000           785420.000000\n",
       "mean            5.559611                 9.915123                9.974536\n",
       "std             3.219576                 0.526205                0.325291\n",
       "min             1.000000                 1.000000                1.000000\n",
       "25%             2.000000                10.000000               10.000000\n",
       "50%             8.000000                10.000000               10.000000\n",
       "75%             8.000000                10.000000               10.000000\n",
       "max             9.000000                10.000000               10.000000"
      ],
      "text/html": [
       "<div>\n",
       "<style scoped>\n",
       "    .dataframe tbody tr th:only-of-type {\n",
       "        vertical-align: middle;\n",
       "    }\n",
       "\n",
       "    .dataframe tbody tr th {\n",
       "        vertical-align: top;\n",
       "    }\n",
       "\n",
       "    .dataframe thead th {\n",
       "        text-align: right;\n",
       "    }\n",
       "</style>\n",
       "<table border=\"1\" class=\"dataframe\">\n",
       "  <thead>\n",
       "    <tr style=\"text-align: right;\">\n",
       "      <th></th>\n",
       "      <th>d19_konsumtyp_max</th>\n",
       "      <th>d19_versi_offline_datum</th>\n",
       "      <th>d19_versi_online_datum</th>\n",
       "    </tr>\n",
       "  </thead>\n",
       "  <tbody>\n",
       "    <tr>\n",
       "      <th>count</th>\n",
       "      <td>785420.000000</td>\n",
       "      <td>785420.000000</td>\n",
       "      <td>785420.000000</td>\n",
       "    </tr>\n",
       "    <tr>\n",
       "      <th>mean</th>\n",
       "      <td>5.559611</td>\n",
       "      <td>9.915123</td>\n",
       "      <td>9.974536</td>\n",
       "    </tr>\n",
       "    <tr>\n",
       "      <th>std</th>\n",
       "      <td>3.219576</td>\n",
       "      <td>0.526205</td>\n",
       "      <td>0.325291</td>\n",
       "    </tr>\n",
       "    <tr>\n",
       "      <th>min</th>\n",
       "      <td>1.000000</td>\n",
       "      <td>1.000000</td>\n",
       "      <td>1.000000</td>\n",
       "    </tr>\n",
       "    <tr>\n",
       "      <th>25%</th>\n",
       "      <td>2.000000</td>\n",
       "      <td>10.000000</td>\n",
       "      <td>10.000000</td>\n",
       "    </tr>\n",
       "    <tr>\n",
       "      <th>50%</th>\n",
       "      <td>8.000000</td>\n",
       "      <td>10.000000</td>\n",
       "      <td>10.000000</td>\n",
       "    </tr>\n",
       "    <tr>\n",
       "      <th>75%</th>\n",
       "      <td>8.000000</td>\n",
       "      <td>10.000000</td>\n",
       "      <td>10.000000</td>\n",
       "    </tr>\n",
       "    <tr>\n",
       "      <th>max</th>\n",
       "      <td>9.000000</td>\n",
       "      <td>10.000000</td>\n",
       "      <td>10.000000</td>\n",
       "    </tr>\n",
       "  </tbody>\n",
       "</table>\n",
       "</div>"
      ]
     },
     "execution_count": 78,
     "metadata": {},
     "output_type": "execute_result"
    }
   ],
   "execution_count": 78
  },
  {
   "metadata": {
    "ExecuteTime": {
     "end_time": "2025-04-27T23:29:29.277297Z",
     "start_time": "2025-04-27T23:29:29.237975Z"
    }
   },
   "cell_type": "code",
   "source": "population[[col for col in missing_meta_attributes if \"kba13_\" in col]].describe()",
   "outputs": [
    {
     "data": {
      "text/plain": [
       "       kba13_kmh_210\n",
       "count  785420.000000\n",
       "mean        3.037304\n",
       "std         0.955909\n",
       "min         1.000000\n",
       "25%         2.000000\n",
       "50%         3.000000\n",
       "75%         4.000000\n",
       "max         5.000000"
      ],
      "text/html": [
       "<div>\n",
       "<style scoped>\n",
       "    .dataframe tbody tr th:only-of-type {\n",
       "        vertical-align: middle;\n",
       "    }\n",
       "\n",
       "    .dataframe tbody tr th {\n",
       "        vertical-align: top;\n",
       "    }\n",
       "\n",
       "    .dataframe thead th {\n",
       "        text-align: right;\n",
       "    }\n",
       "</style>\n",
       "<table border=\"1\" class=\"dataframe\">\n",
       "  <thead>\n",
       "    <tr style=\"text-align: right;\">\n",
       "      <th></th>\n",
       "      <th>kba13_kmh_210</th>\n",
       "    </tr>\n",
       "  </thead>\n",
       "  <tbody>\n",
       "    <tr>\n",
       "      <th>count</th>\n",
       "      <td>785420.000000</td>\n",
       "    </tr>\n",
       "    <tr>\n",
       "      <th>mean</th>\n",
       "      <td>3.037304</td>\n",
       "    </tr>\n",
       "    <tr>\n",
       "      <th>std</th>\n",
       "      <td>0.955909</td>\n",
       "    </tr>\n",
       "    <tr>\n",
       "      <th>min</th>\n",
       "      <td>1.000000</td>\n",
       "    </tr>\n",
       "    <tr>\n",
       "      <th>25%</th>\n",
       "      <td>2.000000</td>\n",
       "    </tr>\n",
       "    <tr>\n",
       "      <th>50%</th>\n",
       "      <td>3.000000</td>\n",
       "    </tr>\n",
       "    <tr>\n",
       "      <th>75%</th>\n",
       "      <td>4.000000</td>\n",
       "    </tr>\n",
       "    <tr>\n",
       "      <th>max</th>\n",
       "      <td>5.000000</td>\n",
       "    </tr>\n",
       "  </tbody>\n",
       "</table>\n",
       "</div>"
      ]
     },
     "execution_count": 79,
     "metadata": {},
     "output_type": "execute_result"
    }
   ],
   "execution_count": 79
  },
  {
   "metadata": {
    "ExecuteTime": {
     "end_time": "2025-04-15T20:38:47.046088Z",
     "start_time": "2025-04-15T20:38:47.008562Z"
    }
   },
   "cell_type": "markdown",
   "source": [
    "### Encode Binary Features\n",
    "Convert binary features if their values are not already 0 or 1."
   ]
  },
  {
   "metadata": {
    "ExecuteTime": {
     "end_time": "2025-04-27T23:29:30.102176Z",
     "start_time": "2025-04-27T23:29:29.763151Z"
    }
   },
   "cell_type": "code",
   "source": [
    "binary_features = feature_config[\"binary\"]\n",
    "\n",
    "population = preprocessing.encode_binary_features(population, binary_features)"
   ],
   "outputs": [
    {
     "name": "stdout",
     "output_type": "stream",
     "text": [
      "Encoded 10 binary features.\n"
     ]
    }
   ],
   "execution_count": 80
  },
  {
   "metadata": {
    "ExecuteTime": {
     "end_time": "2025-04-27T23:29:30.400564Z",
     "start_time": "2025-04-27T23:29:30.329750Z"
    }
   },
   "cell_type": "code",
   "source": "population[binary_features].agg([\"min\", \"max\"])",
   "outputs": [
    {
     "data": {
      "text/plain": [
       "     anrede_kz  dsl_flag  hh_delta_flag  konsumzelle  ost_west_kz  \\\n",
       "min          0         0              0            0            0   \n",
       "max          1         1              1            1            1   \n",
       "\n",
       "     youth_orientation  soho_kz  titel_kz  ungleichenn_flag  vers_typ  \n",
       "min                  0        0         0                 0         0  \n",
       "max                  1        1         1                 1         1  "
      ],
      "text/html": [
       "<div>\n",
       "<style scoped>\n",
       "    .dataframe tbody tr th:only-of-type {\n",
       "        vertical-align: middle;\n",
       "    }\n",
       "\n",
       "    .dataframe tbody tr th {\n",
       "        vertical-align: top;\n",
       "    }\n",
       "\n",
       "    .dataframe thead th {\n",
       "        text-align: right;\n",
       "    }\n",
       "</style>\n",
       "<table border=\"1\" class=\"dataframe\">\n",
       "  <thead>\n",
       "    <tr style=\"text-align: right;\">\n",
       "      <th></th>\n",
       "      <th>anrede_kz</th>\n",
       "      <th>dsl_flag</th>\n",
       "      <th>hh_delta_flag</th>\n",
       "      <th>konsumzelle</th>\n",
       "      <th>ost_west_kz</th>\n",
       "      <th>youth_orientation</th>\n",
       "      <th>soho_kz</th>\n",
       "      <th>titel_kz</th>\n",
       "      <th>ungleichenn_flag</th>\n",
       "      <th>vers_typ</th>\n",
       "    </tr>\n",
       "  </thead>\n",
       "  <tbody>\n",
       "    <tr>\n",
       "      <th>min</th>\n",
       "      <td>0</td>\n",
       "      <td>0</td>\n",
       "      <td>0</td>\n",
       "      <td>0</td>\n",
       "      <td>0</td>\n",
       "      <td>0</td>\n",
       "      <td>0</td>\n",
       "      <td>0</td>\n",
       "      <td>0</td>\n",
       "      <td>0</td>\n",
       "    </tr>\n",
       "    <tr>\n",
       "      <th>max</th>\n",
       "      <td>1</td>\n",
       "      <td>1</td>\n",
       "      <td>1</td>\n",
       "      <td>1</td>\n",
       "      <td>1</td>\n",
       "      <td>1</td>\n",
       "      <td>1</td>\n",
       "      <td>1</td>\n",
       "      <td>1</td>\n",
       "      <td>1</td>\n",
       "    </tr>\n",
       "  </tbody>\n",
       "</table>\n",
       "</div>"
      ]
     },
     "execution_count": 81,
     "metadata": {},
     "output_type": "execute_result"
    }
   ],
   "execution_count": 81
  },
  {
   "metadata": {
    "ExecuteTime": {
     "end_time": "2025-04-27T23:29:30.619074Z",
     "start_time": "2025-04-27T23:29:30.578317Z"
    }
   },
   "cell_type": "code",
   "source": "population[binary_features].dtypes",
   "outputs": [
    {
     "data": {
      "text/plain": [
       "anrede_kz            int64\n",
       "dsl_flag             int64\n",
       "hh_delta_flag        int64\n",
       "konsumzelle          int64\n",
       "ost_west_kz          int64\n",
       "youth_orientation    int64\n",
       "soho_kz              int64\n",
       "titel_kz             int64\n",
       "ungleichenn_flag     int64\n",
       "vers_typ             int64\n",
       "dtype: object"
      ]
     },
     "execution_count": 82,
     "metadata": {},
     "output_type": "execute_result"
    }
   ],
   "execution_count": 82
  },
  {
   "metadata": {
    "ExecuteTime": {
     "end_time": "2025-04-15T20:38:48.838237Z",
     "start_time": "2025-04-15T20:38:48.801447Z"
    }
   },
   "cell_type": "markdown",
   "source": [
    "### Encode Categorical Features\n",
    "One column of each one-hot-encoded categorical feature will be dropped to remove redundancy. This is necessary because it could skew PCA (Principal Component Analysis) that we will use to reduce dimensionality."
   ]
  },
  {
   "metadata": {
    "ExecuteTime": {
     "end_time": "2025-04-27T23:29:35.636846Z",
     "start_time": "2025-04-27T23:29:30.996578Z"
    }
   },
   "cell_type": "code",
   "source": "population, dummy_variables = preprocessing.encode_categorical_features(population, feature_config[\"categorical\"])",
   "outputs": [
    {
     "name": "stdout",
     "output_type": "stream",
     "text": [
      "One-hot encoded 11 categorical features into 95 dummy variables.\n"
     ]
    }
   ],
   "execution_count": 83
  },
  {
   "metadata": {},
   "cell_type": "markdown",
   "source": "After the encoding of the categorical features we check again if there are new high correlations, because some string values were converted to numeric variables. And indeed, there is also a correlation between `green_avantgarde` and `youth_orientation`, so we will therefore remove `green_avantgarde`."
  },
  {
   "metadata": {
    "ExecuteTime": {
     "end_time": "2025-04-27T23:34:23.805817Z",
     "start_time": "2025-04-27T23:29:35.989231Z"
    }
   },
   "cell_type": "code",
   "source": "_ = identify_highly_correlated_features(population, correlation_threshold=0.9)",
   "outputs": [
    {
     "name": "stdout",
     "output_type": "stream",
     "text": [
      "Feature pairs with a correlation of 0.9 or higher:\n",
      "(green_avantgarde, youth_orientation): 0.91\n"
     ]
    }
   ],
   "execution_count": 84
  },
  {
   "metadata": {
    "ExecuteTime": {
     "end_time": "2025-04-15T20:38:49.366422Z",
     "start_time": "2025-04-15T20:38:49.360999Z"
    }
   },
   "cell_type": "markdown",
   "source": [
    "### Remove Uncertain Features\n",
    "As stated out before, we have no meta information for some features and their attributes name as well as their distribution makes not clear, if it should be a categorical or numeric feature."
   ]
  },
  {
   "metadata": {
    "ExecuteTime": {
     "end_time": "2025-04-27T23:34:23.844580Z",
     "start_time": "2025-04-27T23:34:23.839080Z"
    }
   },
   "cell_type": "code",
   "source": "feature_config[\"uncertain\"]",
   "outputs": [
    {
     "data": {
      "text/plain": [
       "['akt_dat_kl',\n",
       " 'arbeit',\n",
       " 'cjt_katalognutzer',\n",
       " 'cjt_typ_1',\n",
       " 'cjt_typ_2',\n",
       " 'cjt_typ_3',\n",
       " 'cjt_typ_4',\n",
       " 'cjt_typ_5',\n",
       " 'cjt_typ_6',\n",
       " 'd19_konsumtyp_max',\n",
       " 'kombialter',\n",
       " 'mobi_raster',\n",
       " 'rt_kein_anreiz',\n",
       " 'rt_schnaeppchen',\n",
       " 'rt_uebergroesse',\n",
       " 'strukturtyp',\n",
       " 'umfeld_alt',\n",
       " 'umfeld_jung',\n",
       " 'verdichtungsraum',\n",
       " 'vha',\n",
       " 'vhn',\n",
       " 'vk_dht4a',\n",
       " 'vk_distanz',\n",
       " 'vk_zg11']"
      ]
     },
     "execution_count": 85,
     "metadata": {},
     "output_type": "execute_result"
    }
   ],
   "execution_count": 85
  },
  {
   "metadata": {
    "ExecuteTime": {
     "end_time": "2025-04-27T23:34:24.528481Z",
     "start_time": "2025-04-27T23:34:23.986546Z"
    }
   },
   "cell_type": "code",
   "source": "population = preprocessing.remove_features(population, feature_config, [\"uncertain\"])",
   "outputs": [
    {
     "name": "stdout",
     "output_type": "stream",
     "text": [
      "Removed 24 uncertain features.\n"
     ]
    }
   ],
   "execution_count": 86
  },
  {
   "metadata": {
    "ExecuteTime": {
     "end_time": "2025-04-15T20:38:50.002230Z",
     "start_time": "2025-04-15T20:38:49.994710Z"
    }
   },
   "cell_type": "markdown",
   "source": [
    "### Numeric Feature Scaling\n",
    "It is essential to standardize the range of our numeric variables to prevent features with larger values from dominating those with smaller values. Especially the K-Means clustering and Principal Component Analysis (which we will use for the customer segmentation) would be dominated from features with larger scales. This is why we bring all features to a similar scale with the Standard Scaler from sklearn. The Standard Scaler transforms data by removing the mean and scaling the spread/variance, so each feature has a mean of 0 and a standard deviation of 1."
   ]
  },
  {
   "metadata": {
    "ExecuteTime": {
     "end_time": "2025-04-27T23:34:24.608455Z",
     "start_time": "2025-04-27T23:34:24.601889Z"
    }
   },
   "cell_type": "code",
   "source": [
    "non_numeric_features = set(dummy_variables) | set(binary_features)\n",
    "\n",
    "numeric_features = [feature for feature in population.columns if feature not in non_numeric_features]"
   ],
   "outputs": [],
   "execution_count": 87
  },
  {
   "metadata": {
    "ExecuteTime": {
     "end_time": "2025-04-27T23:34:29.444001Z",
     "start_time": "2025-04-27T23:34:24.695149Z"
    }
   },
   "cell_type": "code",
   "source": "population, scaler = preprocessing.scale_numeric_features(population, numeric_features, \"population\")",
   "outputs": [
    {
     "name": "stdout",
     "output_type": "stream",
     "text": [
      "Scaled 254 numeric features from population dataset.\n"
     ]
    }
   ],
   "execution_count": 88
  },
  {
   "metadata": {},
   "cell_type": "markdown",
   "source": "# Customer Data"
  },
  {
   "metadata": {
    "ExecuteTime": {
     "end_time": "2025-04-27T23:35:07.746620Z",
     "start_time": "2025-04-27T23:34:29.670340Z"
    }
   },
   "cell_type": "code",
   "source": "population, customer = load_raw_population_datasets()",
   "outputs": [
    {
     "name": "stdout",
     "output_type": "stream",
     "text": [
      "Population datasets loaded.\n"
     ]
    }
   ],
   "execution_count": 89
  },
  {
   "metadata": {},
   "cell_type": "markdown",
   "source": [
    "## Column Differences\n",
    "In the customer dataset are 3 additional columns, we also had to remove in our preprocessing."
   ]
  },
  {
   "metadata": {
    "ExecuteTime": {
     "end_time": "2025-04-27T23:35:07.898105Z",
     "start_time": "2025-04-27T23:35:07.883658Z"
    }
   },
   "cell_type": "code",
   "source": "set(customer.columns) - set(population.columns)",
   "outputs": [
    {
     "data": {
      "text/plain": [
       "{'customer_group', 'online_purchase', 'product_group'}"
      ]
     },
     "execution_count": 90,
     "metadata": {},
     "output_type": "execute_result"
    }
   ],
   "execution_count": 90
  },
  {
   "metadata": {
    "ExecuteTime": {
     "end_time": "2025-04-27T23:35:08.501698Z",
     "start_time": "2025-04-27T23:35:08.299370Z"
    }
   },
   "cell_type": "code",
   "source": "customer = customer.drop(columns=[\"customer_group\", \"online_purchase\", \"product_group\"])",
   "outputs": [],
   "execution_count": 91
  },
  {
   "metadata": {},
   "cell_type": "markdown",
   "source": [
    "## Categorical Values\n",
    "There is one value in `gebaeudetyp`, that is only in the population dataset and therefore creates the corresponding dummy column only in the population dataset. To have a generally robust preprocessing, we have to make sure that the features between both datasets will be aligned."
   ]
  },
  {
   "metadata": {
    "ExecuteTime": {
     "end_time": "2025-04-27T23:35:09.106225Z",
     "start_time": "2025-04-27T23:35:08.639495Z"
    }
   },
   "cell_type": "code",
   "source": [
    "for feature in feature_config[\"categorical\"]:\n",
    "    customer_values = set(customer[feature].dropna().unique())\n",
    "    population_values = set(population[feature].dropna().unique())\n",
    "\n",
    "    if customer_values == population_values:\n",
    "        print(f\"{feature}: Same values.\")\n",
    "    else:\n",
    "        feature_delta = customer_values.difference(population_values) | population_values.difference(customer_values)\n",
    "        print(f\"{feature}: {feature_delta} are not in both datasets.\")"
   ],
   "outputs": [
    {
     "name": "stdout",
     "output_type": "stream",
     "text": [
      "ager_typ: Same values.\n",
      "alterskategorie_grob: Same values.\n",
      "cameo_deu_2015: Same values.\n",
      "cjt_gesamttyp: Same values.\n",
      "finanztyp: Same values.\n",
      "gebaeudetyp: {np.float64(5.0)} are not in both datasets.\n",
      "gfk_urlaubertyp: Same values.\n",
      "health_typ: Same values.\n",
      "lp_familie_fein: Same values.\n",
      "nationalitaet_kz: Same values.\n",
      "shopper_typ: Same values.\n"
     ]
    }
   ],
   "execution_count": 92
  },
  {
   "metadata": {},
   "cell_type": "markdown",
   "source": "## Missing Values"
  },
  {
   "metadata": {
    "ExecuteTime": {
     "end_time": "2025-04-27T23:35:19.764742Z",
     "start_time": "2025-04-27T23:35:09.268207Z"
    }
   },
   "cell_type": "code",
   "source": [
    "def preprocess_until_remove_or_impute_missing_values(df: pd.DataFrame, meta: pd.DataFrame, feature_config: Dict[str, List[str]]) -> pd.DataFrame:\n",
    "    df = preprocessing.remove_features(df, feature_config, [\"irrelevant\"])\n",
    "    df = preprocessing.convert_unknown_values_to_null(df, meta)\n",
    "    df = preprocessing.convert_invalid_values_to_null(df, meta)\n",
    "    return df\n",
    "\n",
    "customer = preprocess_until_remove_or_impute_missing_values(customer, meta, feature_config)\n",
    "print(\"\\n\")\n",
    "population = preprocess_until_remove_or_impute_missing_values(population, meta, feature_config)"
   ],
   "outputs": [
    {
     "name": "stdout",
     "output_type": "stream",
     "text": [
      "Removed 3 irrelevant features.\n",
      "Converted 324 unknown values from the meta information to null in the dataset.\n",
      "Converted 7 invalid values to null in the dataset.\n",
      "\n",
      "\n",
      "Removed 3 irrelevant features.\n",
      "Converted 324 unknown values from the meta information to null in the dataset.\n",
      "Converted 8 invalid values to null in the dataset.\n"
     ]
    }
   ],
   "execution_count": 93
  },
  {
   "metadata": {},
   "cell_type": "markdown",
   "source": [
    "### Records\n",
    "The share of records with more than one third of missing data is considerably higher in the customer dataset: 26.8% vs. 11.9%\n",
    "\n",
    "But as we can see in the distributions, the share of records with nearly complete data is higher in the customer dataset, e.g. less than 10 missing features: 59.9% vs. 48.6%"
   ]
  },
  {
   "metadata": {
    "ExecuteTime": {
     "end_time": "2025-04-27T23:35:21.182851Z",
     "start_time": "2025-04-27T23:35:19.829829Z"
    }
   },
   "cell_type": "code",
   "source": [
    "print(f\"Share of records with more than 33% missing data:\"\n",
    "      f\"\\nPopulation: {sum(population.isnull().sum(axis=1) / len(population.columns) >= .33) / len(population) * 100:.1f}%\"\n",
    "      f\"\\nCustomer: {sum(customer.isnull().sum(axis=1) / len(customer.columns) >= .33) / len(customer) * 100:.1f}%\")"
   ],
   "outputs": [
    {
     "name": "stdout",
     "output_type": "stream",
     "text": [
      "Share of records with more than 33% missing data:\n",
      "Population: 11.9%\n",
      "Customer: 26.8%\n"
     ]
    }
   ],
   "execution_count": 94
  },
  {
   "metadata": {
    "ExecuteTime": {
     "end_time": "2025-04-27T23:35:23.215321Z",
     "start_time": "2025-04-27T23:35:21.309340Z"
    }
   },
   "cell_type": "code",
   "source": "plot_histogram_missing_value_counts_per_record(population)",
   "outputs": [
    {
     "data": {
      "text/plain": [
       "<Figure size 1500x400 with 1 Axes>"
      ],
      "image/png": "[encoded data removed]"
     },
     "metadata": {},
     "output_type": "display_data"
    }
   ],
   "execution_count": 95
  },
  {
   "metadata": {
    "ExecuteTime": {
     "end_time": "2025-04-27T23:35:24.180660Z",
     "start_time": "2025-04-27T23:35:23.395228Z"
    }
   },
   "cell_type": "code",
   "source": "plot_histogram_missing_value_counts_per_record(customer)",
   "outputs": [
    {
     "data": {
      "text/plain": [
       "<Figure size 1500x400 with 1 Axes>"
      ],
      "image/png": "[encoded data removed]"
     },
     "metadata": {},
     "output_type": "display_data"
    }
   ],
   "execution_count": 96
  },
  {
   "metadata": {
    "ExecuteTime": {
     "end_time": "2025-04-27T23:35:26.239867Z",
     "start_time": "2025-04-27T23:35:24.325803Z"
    }
   },
   "cell_type": "code",
   "source": [
    "print(f\"Share of records with less than 10 missing values:\"\n",
    "      f\"\\nPopulation: {sum(population.isnull().sum(axis=1) < 10) / len(population) * 100:.1f}%\"\n",
    "      f\"\\nCustomer: {sum(customer.isnull().sum(axis=1) < 10) / len(customer) * 100:.1f}%\")"
   ],
   "outputs": [
    {
     "name": "stdout",
     "output_type": "stream",
     "text": [
      "Share of records with less than 10 missing values:\n",
      "Population: 48.6%\n",
      "Customer: 59.9%\n"
     ]
    }
   ],
   "execution_count": 97
  },
  {
   "metadata": {},
   "cell_type": "markdown",
   "source": [
    "### Features\n",
    "The customer data has a slightly lower share of features that contain more than 20% missing values: 2.8% vs. 5.5%\n",
    "\n",
    "When comparing the missing ratios between both datasets, it is noticeable that:\n",
    "- `ager_typ` is far more missing in the population dataset which is a hint, that the proportion of older age groups among our customers is higher than in the general population\n",
    "- the missing rate for various `d19_` features are constantly 22.3% in the population dataset and only 0.7% in our customer dataset\n",
    "- the correlation between them is with 0.94 very high, so the missing ratios per feature are mostly quite close"
   ]
  },
  {
   "metadata": {
    "ExecuteTime": {
     "end_time": "2025-04-27T23:35:31.682091Z",
     "start_time": "2025-04-27T23:35:26.687928Z"
    }
   },
   "cell_type": "code",
   "source": [
    "population = preprocessing.remove_records_with_insufficient_data(population)\n",
    "customer = preprocessing.remove_records_with_insufficient_data(customer)"
   ],
   "outputs": [
    {
     "name": "stdout",
     "output_type": "stream",
     "text": [
      "Removed 105801 records with over 33.0% missing feature values.\n",
      "Removed 51281 records with over 33.0% missing feature values.\n"
     ]
    }
   ],
   "execution_count": 98
  },
  {
   "metadata": {
    "ExecuteTime": {
     "end_time": "2025-04-27T23:35:32.468889Z",
     "start_time": "2025-04-27T23:35:31.759284Z"
    }
   },
   "cell_type": "code",
   "source": [
    "customer_missing_ratios = pd.Series(round(customer.isnull().sum() / len(customer) * 100, 1).sort_values(ascending=False), name=\"customer_missing_ratios\")\n",
    "population_missing_ratios = pd.Series(round(population.isnull().sum() / len(population) * 100, 1).sort_values(ascending=False), name=\"population_missing_ratios\")\n",
    "\n",
    "print(f\"Share of features with more than 20% missing data:\"\n",
    "      f\"\\nPopulation: {sum(population_missing_ratios >= 20) / len(population.columns) * 100:.1f}%\"\n",
    "      f\"\\nCustomer: {sum(customer_missing_ratios >= 20) / len(customer.columns) * 100:.1f}%\")"
   ],
   "outputs": [
    {
     "name": "stdout",
     "output_type": "stream",
     "text": [
      "Share of features with more than 20% missing data:\n",
      "Population: 5.5%\n",
      "Customer: 2.8%\n"
     ]
    }
   ],
   "execution_count": 99
  },
  {
   "metadata": {
    "ExecuteTime": {
     "end_time": "2025-04-27T23:35:32.714579Z",
     "start_time": "2025-04-27T23:35:32.676481Z"
    }
   },
   "cell_type": "code",
   "source": [
    "missing_ratios_delta = customer_missing_ratios.reset_index().merge(population_missing_ratios.reset_index(), how=\"inner\", on=\"index\")\n",
    "missing_ratios_delta[\"delta_abs\"] = round(abs(missing_ratios_delta[\"customer_missing_ratios\"] - missing_ratios_delta[\"population_missing_ratios\"]), 1)\n",
    "missing_ratios_delta.sort_values(\"delta_abs\", ascending=False).head(15)"
   ],
   "outputs": [
    {
     "data": {
      "text/plain": [
       "                           index  customer_missing_ratios  \\\n",
       "9                      extsel992                     26.4   \n",
       "8                       ager_typ                     31.1   \n",
       "123                d19_konsumtyp                      0.7   \n",
       "122    d19_telko_online_quote_12                      0.7   \n",
       "121                 d19_soziales                      0.7   \n",
       "120    d19_versi_online_quote_12                      0.7   \n",
       "119   d19_gesamt_online_quote_12                      0.7   \n",
       "118   d19_banken_online_quote_12                      0.7   \n",
       "125                    d19_lotto                      0.7   \n",
       "124  d19_versand_online_quote_12                      0.7   \n",
       "83          alterskategorie_fein                      3.5   \n",
       "5                   kk_kundentyp                     45.0   \n",
       "10                      alter_hh                     15.2   \n",
       "7                    geburtsjahr                     32.0   \n",
       "6                   kba05_baumax                     41.6   \n",
       "\n",
       "     population_missing_ratios  delta_abs  \n",
       "9                         70.7       44.3  \n",
       "8                         73.7       42.6  \n",
       "123                       22.3       21.6  \n",
       "122                       22.3       21.6  \n",
       "121                       22.3       21.6  \n",
       "120                       22.3       21.6  \n",
       "119                       22.3       21.6  \n",
       "118                       22.3       21.6  \n",
       "125                       22.3       21.6  \n",
       "124                       22.3       21.6  \n",
       "83                        22.9       19.4  \n",
       "5                         62.5       17.5  \n",
       "10                        28.7       13.5  \n",
       "7                         38.8        6.8  \n",
       "6                         47.5        5.9  "
      ],
      "text/html": [
       "<div>\n",
       "<style scoped>\n",
       "    .dataframe tbody tr th:only-of-type {\n",
       "        vertical-align: middle;\n",
       "    }\n",
       "\n",
       "    .dataframe tbody tr th {\n",
       "        vertical-align: top;\n",
       "    }\n",
       "\n",
       "    .dataframe thead th {\n",
       "        text-align: right;\n",
       "    }\n",
       "</style>\n",
       "<table border=\"1\" class=\"dataframe\">\n",
       "  <thead>\n",
       "    <tr style=\"text-align: right;\">\n",
       "      <th></th>\n",
       "      <th>index</th>\n",
       "      <th>customer_missing_ratios</th>\n",
       "      <th>population_missing_ratios</th>\n",
       "      <th>delta_abs</th>\n",
       "    </tr>\n",
       "  </thead>\n",
       "  <tbody>\n",
       "    <tr>\n",
       "      <th>9</th>\n",
       "      <td>extsel992</td>\n",
       "      <td>26.4</td>\n",
       "      <td>70.7</td>\n",
       "      <td>44.3</td>\n",
       "    </tr>\n",
       "    <tr>\n",
       "      <th>8</th>\n",
       "      <td>ager_typ</td>\n",
       "      <td>31.1</td>\n",
       "      <td>73.7</td>\n",
       "      <td>42.6</td>\n",
       "    </tr>\n",
       "    <tr>\n",
       "      <th>123</th>\n",
       "      <td>d19_konsumtyp</td>\n",
       "      <td>0.7</td>\n",
       "      <td>22.3</td>\n",
       "      <td>21.6</td>\n",
       "    </tr>\n",
       "    <tr>\n",
       "      <th>122</th>\n",
       "      <td>d19_telko_online_quote_12</td>\n",
       "      <td>0.7</td>\n",
       "      <td>22.3</td>\n",
       "      <td>21.6</td>\n",
       "    </tr>\n",
       "    <tr>\n",
       "      <th>121</th>\n",
       "      <td>d19_soziales</td>\n",
       "      <td>0.7</td>\n",
       "      <td>22.3</td>\n",
       "      <td>21.6</td>\n",
       "    </tr>\n",
       "    <tr>\n",
       "      <th>120</th>\n",
       "      <td>d19_versi_online_quote_12</td>\n",
       "      <td>0.7</td>\n",
       "      <td>22.3</td>\n",
       "      <td>21.6</td>\n",
       "    </tr>\n",
       "    <tr>\n",
       "      <th>119</th>\n",
       "      <td>d19_gesamt_online_quote_12</td>\n",
       "      <td>0.7</td>\n",
       "      <td>22.3</td>\n",
       "      <td>21.6</td>\n",
       "    </tr>\n",
       "    <tr>\n",
       "      <th>118</th>\n",
       "      <td>d19_banken_online_quote_12</td>\n",
       "      <td>0.7</td>\n",
       "      <td>22.3</td>\n",
       "      <td>21.6</td>\n",
       "    </tr>\n",
       "    <tr>\n",
       "      <th>125</th>\n",
       "      <td>d19_lotto</td>\n",
       "      <td>0.7</td>\n",
       "      <td>22.3</td>\n",
       "      <td>21.6</td>\n",
       "    </tr>\n",
       "    <tr>\n",
       "      <th>124</th>\n",
       "      <td>d19_versand_online_quote_12</td>\n",
       "      <td>0.7</td>\n",
       "      <td>22.3</td>\n",
       "      <td>21.6</td>\n",
       "    </tr>\n",
       "    <tr>\n",
       "      <th>83</th>\n",
       "      <td>alterskategorie_fein</td>\n",
       "      <td>3.5</td>\n",
       "      <td>22.9</td>\n",
       "      <td>19.4</td>\n",
       "    </tr>\n",
       "    <tr>\n",
       "      <th>5</th>\n",
       "      <td>kk_kundentyp</td>\n",
       "      <td>45.0</td>\n",
       "      <td>62.5</td>\n",
       "      <td>17.5</td>\n",
       "    </tr>\n",
       "    <tr>\n",
       "      <th>10</th>\n",
       "      <td>alter_hh</td>\n",
       "      <td>15.2</td>\n",
       "      <td>28.7</td>\n",
       "      <td>13.5</td>\n",
       "    </tr>\n",
       "    <tr>\n",
       "      <th>7</th>\n",
       "      <td>geburtsjahr</td>\n",
       "      <td>32.0</td>\n",
       "      <td>38.8</td>\n",
       "      <td>6.8</td>\n",
       "    </tr>\n",
       "    <tr>\n",
       "      <th>6</th>\n",
       "      <td>kba05_baumax</td>\n",
       "      <td>41.6</td>\n",
       "      <td>47.5</td>\n",
       "      <td>5.9</td>\n",
       "    </tr>\n",
       "  </tbody>\n",
       "</table>\n",
       "</div>"
      ]
     },
     "execution_count": 100,
     "metadata": {},
     "output_type": "execute_result"
    }
   ],
   "execution_count": 100
  },
  {
   "metadata": {
    "ExecuteTime": {
     "end_time": "2025-04-27T23:35:32.931292Z",
     "start_time": "2025-04-27T23:35:32.922430Z"
    }
   },
   "cell_type": "code",
   "source": [
    "print(f\"Correlation for the missing value ratios per feature between both datasets: \"\n",
    "      f\"{missing_ratios_delta[[\"customer_missing_ratios\", \"population_missing_ratios\"]].corr().iloc[0, 1]:.2f}\")"
   ],
   "outputs": [
    {
     "name": "stdout",
     "output_type": "stream",
     "text": [
      "Correlation for the missing value ratios per feature between both datasets: 0.94\n"
     ]
    }
   ],
   "execution_count": 101
  },
  {
   "metadata": {
    "ExecuteTime": {
     "end_time": "2025-04-27T23:35:35.212802Z",
     "start_time": "2025-04-27T23:35:33.405901Z"
    }
   },
   "cell_type": "code",
   "source": [
    "def plot_missing_values_per_feature(df: pd.DataFrame):\n",
    "    df = df.set_index(\"index\")\n",
    "    df = df[df[\"delta_abs\"] > 0]\n",
    "    df = df.drop(columns=[\"delta_abs\"])\n",
    "\n",
    "    ax = df.plot(kind=\"bar\", stacked=True, figsize=(15, 4), color=[\"royalblue\", \"indianred\"])\n",
    "    ax.set_xticklabels([])\n",
    "    ax.legend([\"Customer Dataset\", \"Population Dataset\"])\n",
    "\n",
    "    plt.xlabel(\"Features w/ Missing Values\")\n",
    "    plt.ylabel(\"Missing Values in %\")\n",
    "    plt.title(\"Missing Values Ratio Per Feature\")\n",
    "    plt.suptitle(\"Customer vs. Population\", fontsize=8)\n",
    "\n",
    "    plt.show()\n",
    "\n",
    "\n",
    "plot_missing_values_per_feature(missing_ratios_delta)"
   ],
   "outputs": [
    {
     "data": {
      "text/plain": [
       "<Figure size 1500x400 with 1 Axes>"
      ],
      "image/png": "[encoded data removed]"
     },
     "metadata": {},
     "output_type": "display_data"
    }
   ],
   "execution_count": 102
  }
 ],
 "metadata": {
  "kernelspec": {
   "display_name": "Python 3 (ipykernel)",
   "language": "python",
   "name": "python3"
  },
  "language_info": {
   "codemirror_mode": {
    "name": "ipython",
    "version": 3
   },
   "file_extension": ".py",
   "mimetype": "text/x-python",
   "name": "python",
   "nbconvert_exporter": "python",
   "pygments_lexer": "ipython3",
   "version": "3.10.13"
  }
 },
 "nbformat": 4,
 "nbformat_minor": 2
}
